{
 "cells": [
  {
   "cell_type": "markdown",
   "id": "01ae3bad",
   "metadata": {},
   "source": [
    "# DAY 4\n",
    "## 과제 1\n",
    "+ 다음의 Series 데이터를 아래와 같이 변경해보세요\n",
    "    + 값이 2인 경우는 20, NaN(None) 은 5로 변경해보세요. 이 때 list를 사용해서 변경해보세요\n",
    "    + 값이 3인 경우는 30, Nan(None) 은 10으로 변경해보세요. 이 때 dict를 사용해서 변경해보세요"
   ]
  },
  {
   "cell_type": "code",
   "execution_count": 2,
   "id": "46c461e7",
   "metadata": {
    "ExecuteTime": {
     "end_time": "2022-02-01T12:15:00.085206Z",
     "start_time": "2022-02-01T12:14:59.579965Z"
    }
   },
   "outputs": [],
   "source": [
    "import pandas as pd\n",
    "import numpy as np\n",
    "ser = pd.Series([1, 2, 3, 4, np.nan])"
   ]
  },
  {
   "cell_type": "code",
   "execution_count": 7,
   "id": "bf3591ee",
   "metadata": {
    "ExecuteTime": {
     "end_time": "2022-02-01T12:15:39.753402Z",
     "start_time": "2022-02-01T12:15:39.744400Z"
    }
   },
   "outputs": [
    {
     "data": {
      "text/plain": [
       "0    1.0\n",
       "1    2.0\n",
       "2    3.0\n",
       "3    4.0\n",
       "4    NaN\n",
       "dtype: float64"
      ]
     },
     "execution_count": 7,
     "metadata": {},
     "output_type": "execute_result"
    }
   ],
   "source": [
    "ser"
   ]
  },
  {
   "cell_type": "markdown",
   "id": "6246f48f",
   "metadata": {},
   "source": [
    "\n",
    "(1) 결측값, 실측값을 다른 값으로 교체하기:  <span style=\"color:blue\">replace(old_val, new_val)</span>"
   ]
  },
  {
   "cell_type": "code",
   "execution_count": 8,
   "id": "ed38b55e",
   "metadata": {
    "ExecuteTime": {
     "end_time": "2022-02-01T12:15:55.745944Z",
     "start_time": "2022-02-01T12:15:55.728944Z"
    }
   },
   "outputs": [
    {
     "data": {
      "text/plain": [
       "0     1.0\n",
       "1    20.0\n",
       "2     3.0\n",
       "3     4.0\n",
       "4     5.0\n",
       "dtype: float64"
      ]
     },
     "execution_count": 8,
     "metadata": {},
     "output_type": "execute_result"
    }
   ],
   "source": [
    "#리스트 이용하기\n",
    "ser.replace([2, np.nan], [20, 5])"
   ]
  },
  {
   "cell_type": "markdown",
   "id": "5a8b1371",
   "metadata": {},
   "source": [
    "(3) mapping dict 로 원래 값, 교체할 값 매핑 : replace({old1 : new1, old2: new2})"
   ]
  },
  {
   "cell_type": "code",
   "execution_count": 9,
   "id": "1f770704",
   "metadata": {
    "ExecuteTime": {
     "end_time": "2022-02-01T12:16:43.012766Z",
     "start_time": "2022-02-01T12:16:42.992797Z"
    }
   },
   "outputs": [
    {
     "data": {
      "text/plain": [
       "0     1.0\n",
       "1    20.0\n",
       "2     3.0\n",
       "3     4.0\n",
       "4     5.0\n",
       "dtype: float64"
      ]
     },
     "execution_count": 9,
     "metadata": {},
     "output_type": "execute_result"
    }
   ],
   "source": [
    "#딕셔너리 이용하기\n",
    "ser.replace({2:20, np.nan:5})"
   ]
  },
  {
   "cell_type": "markdown",
   "id": "8e7d963b",
   "metadata": {},
   "source": [
    "- 다음의 dataFrame 데이터를 아래와 같이 변경해보세요\n",
    "    - C1 컬럼의 a_old 값은 a_new의 값으로 변경해보세요\n",
    "    - C3 칼럼의 np.nan 값은 C3 컬럼의 10으로 변경해보세요"
   ]
  },
  {
   "cell_type": "code",
   "execution_count": 10,
   "id": "9f108417",
   "metadata": {
    "ExecuteTime": {
     "end_time": "2022-02-01T12:17:50.639309Z",
     "start_time": "2022-02-01T12:17:50.630341Z"
    }
   },
   "outputs": [],
   "source": [
    "df = pd.DataFrame({'C1': ['a_old', 'b', 'c', 'd', 'e'],\n",
    "                   'C2': [1, 2, 3, 4, 5],\n",
    "                   'C3': [6, 7, 8, 9, np.nan]})"
   ]
  },
  {
   "cell_type": "code",
   "execution_count": 11,
   "id": "cabf9539",
   "metadata": {
    "ExecuteTime": {
     "end_time": "2022-02-01T12:18:09.539903Z",
     "start_time": "2022-02-01T12:18:09.510905Z"
    }
   },
   "outputs": [
    {
     "data": {
      "text/html": [
       "<div>\n",
       "<style scoped>\n",
       "    .dataframe tbody tr th:only-of-type {\n",
       "        vertical-align: middle;\n",
       "    }\n",
       "\n",
       "    .dataframe tbody tr th {\n",
       "        vertical-align: top;\n",
       "    }\n",
       "\n",
       "    .dataframe thead th {\n",
       "        text-align: right;\n",
       "    }\n",
       "</style>\n",
       "<table border=\"1\" class=\"dataframe\">\n",
       "  <thead>\n",
       "    <tr style=\"text-align: right;\">\n",
       "      <th></th>\n",
       "      <th>C1</th>\n",
       "      <th>C2</th>\n",
       "      <th>C3</th>\n",
       "    </tr>\n",
       "  </thead>\n",
       "  <tbody>\n",
       "    <tr>\n",
       "      <th>0</th>\n",
       "      <td>a_old</td>\n",
       "      <td>1</td>\n",
       "      <td>6.0</td>\n",
       "    </tr>\n",
       "    <tr>\n",
       "      <th>1</th>\n",
       "      <td>b</td>\n",
       "      <td>2</td>\n",
       "      <td>7.0</td>\n",
       "    </tr>\n",
       "    <tr>\n",
       "      <th>2</th>\n",
       "      <td>c</td>\n",
       "      <td>3</td>\n",
       "      <td>8.0</td>\n",
       "    </tr>\n",
       "    <tr>\n",
       "      <th>3</th>\n",
       "      <td>d</td>\n",
       "      <td>4</td>\n",
       "      <td>9.0</td>\n",
       "    </tr>\n",
       "    <tr>\n",
       "      <th>4</th>\n",
       "      <td>e</td>\n",
       "      <td>5</td>\n",
       "      <td>NaN</td>\n",
       "    </tr>\n",
       "  </tbody>\n",
       "</table>\n",
       "</div>"
      ],
      "text/plain": [
       "      C1  C2   C3\n",
       "0  a_old   1  6.0\n",
       "1      b   2  7.0\n",
       "2      c   3  8.0\n",
       "3      d   4  9.0\n",
       "4      e   5  NaN"
      ]
     },
     "execution_count": 11,
     "metadata": {},
     "output_type": "execute_result"
    }
   ],
   "source": [
    "df"
   ]
  },
  {
   "cell_type": "code",
   "execution_count": 12,
   "id": "43190cdd",
   "metadata": {
    "ExecuteTime": {
     "end_time": "2022-02-01T12:19:10.155919Z",
     "start_time": "2022-02-01T12:19:10.137948Z"
    }
   },
   "outputs": [
    {
     "data": {
      "text/html": [
       "<div>\n",
       "<style scoped>\n",
       "    .dataframe tbody tr th:only-of-type {\n",
       "        vertical-align: middle;\n",
       "    }\n",
       "\n",
       "    .dataframe tbody tr th {\n",
       "        vertical-align: top;\n",
       "    }\n",
       "\n",
       "    .dataframe thead th {\n",
       "        text-align: right;\n",
       "    }\n",
       "</style>\n",
       "<table border=\"1\" class=\"dataframe\">\n",
       "  <thead>\n",
       "    <tr style=\"text-align: right;\">\n",
       "      <th></th>\n",
       "      <th>C1</th>\n",
       "      <th>C2</th>\n",
       "      <th>C3</th>\n",
       "    </tr>\n",
       "  </thead>\n",
       "  <tbody>\n",
       "    <tr>\n",
       "      <th>0</th>\n",
       "      <td>a_new</td>\n",
       "      <td>1</td>\n",
       "      <td>6.0</td>\n",
       "    </tr>\n",
       "    <tr>\n",
       "      <th>1</th>\n",
       "      <td>b</td>\n",
       "      <td>2</td>\n",
       "      <td>7.0</td>\n",
       "    </tr>\n",
       "    <tr>\n",
       "      <th>2</th>\n",
       "      <td>c</td>\n",
       "      <td>3</td>\n",
       "      <td>8.0</td>\n",
       "    </tr>\n",
       "    <tr>\n",
       "      <th>3</th>\n",
       "      <td>d</td>\n",
       "      <td>4</td>\n",
       "      <td>9.0</td>\n",
       "    </tr>\n",
       "    <tr>\n",
       "      <th>4</th>\n",
       "      <td>e</td>\n",
       "      <td>5</td>\n",
       "      <td>NaN</td>\n",
       "    </tr>\n",
       "  </tbody>\n",
       "</table>\n",
       "</div>"
      ],
      "text/plain": [
       "      C1  C2   C3\n",
       "0  a_new   1  6.0\n",
       "1      b   2  7.0\n",
       "2      c   3  8.0\n",
       "3      d   4  9.0\n",
       "4      e   5  NaN"
      ]
     },
     "execution_count": 12,
     "metadata": {},
     "output_type": "execute_result"
    }
   ],
   "source": [
    "df.replace({'C1':'a_old'}, {'C1': 'a_new'})"
   ]
  },
  {
   "cell_type": "code",
   "execution_count": 14,
   "id": "6bc0c160",
   "metadata": {
    "ExecuteTime": {
     "end_time": "2022-02-01T12:19:56.675919Z",
     "start_time": "2022-02-01T12:19:56.659919Z"
    }
   },
   "outputs": [
    {
     "data": {
      "text/html": [
       "<div>\n",
       "<style scoped>\n",
       "    .dataframe tbody tr th:only-of-type {\n",
       "        vertical-align: middle;\n",
       "    }\n",
       "\n",
       "    .dataframe tbody tr th {\n",
       "        vertical-align: top;\n",
       "    }\n",
       "\n",
       "    .dataframe thead th {\n",
       "        text-align: right;\n",
       "    }\n",
       "</style>\n",
       "<table border=\"1\" class=\"dataframe\">\n",
       "  <thead>\n",
       "    <tr style=\"text-align: right;\">\n",
       "      <th></th>\n",
       "      <th>C1</th>\n",
       "      <th>C2</th>\n",
       "      <th>C3</th>\n",
       "    </tr>\n",
       "  </thead>\n",
       "  <tbody>\n",
       "    <tr>\n",
       "      <th>0</th>\n",
       "      <td>a_old</td>\n",
       "      <td>1</td>\n",
       "      <td>6.0</td>\n",
       "    </tr>\n",
       "    <tr>\n",
       "      <th>1</th>\n",
       "      <td>b</td>\n",
       "      <td>2</td>\n",
       "      <td>7.0</td>\n",
       "    </tr>\n",
       "    <tr>\n",
       "      <th>2</th>\n",
       "      <td>c</td>\n",
       "      <td>3</td>\n",
       "      <td>8.0</td>\n",
       "    </tr>\n",
       "    <tr>\n",
       "      <th>3</th>\n",
       "      <td>d</td>\n",
       "      <td>4</td>\n",
       "      <td>9.0</td>\n",
       "    </tr>\n",
       "    <tr>\n",
       "      <th>4</th>\n",
       "      <td>e</td>\n",
       "      <td>5</td>\n",
       "      <td>10.0</td>\n",
       "    </tr>\n",
       "  </tbody>\n",
       "</table>\n",
       "</div>"
      ],
      "text/plain": [
       "      C1  C2    C3\n",
       "0  a_old   1   6.0\n",
       "1      b   2   7.0\n",
       "2      c   3   8.0\n",
       "3      d   4   9.0\n",
       "4      e   5  10.0"
      ]
     },
     "execution_count": 14,
     "metadata": {},
     "output_type": "execute_result"
    }
   ],
   "source": [
    "df.replace({'C3': np.nan}, {'C3': 10})"
   ]
  },
  {
   "cell_type": "markdown",
   "id": "fbddb1c9",
   "metadata": {},
   "source": [
    "## 과제 2\n",
    "+ 다음의 데이터를 사용하여 아래와 같이 변경해보세요\n",
    "    + key1, key2의 중복 여부를 확인해보세요. 중복 데이터가 있을 때 첫 번째 값을 True로 반환해보세요\n",
    "    + key1, key2의 중복 여부를 확인해보세요. 중복 데이터가 있을 때 마지막 값을 True로 반환해보세요\n",
    "    + 중복값 처리(unique한 1개의 key만 남기고 나머지 중복은 제거)를 해보세요\n",
    "    + 이 때 중복값 중 첫 번째 값만 남기도록 해보세요\n",
    "    + 중복값 처리(unique한 1개의 key만 남기고 나머지 중복은 제거)\n",
    "    + 이 때 중복값 중 마지막 값만 남기도록 해보세요"
   ]
  },
  {
   "cell_type": "code",
   "execution_count": 15,
   "id": "fde08195",
   "metadata": {
    "ExecuteTime": {
     "end_time": "2022-02-01T12:21:07.556024Z",
     "start_time": "2022-02-01T12:21:07.538026Z"
    }
   },
   "outputs": [],
   "source": [
    "data = {'key1': ['a', 'b', 'b', 'c', 'c'],\n",
    "        'key2': ['v', 'w', 'w', 'x', 'y'],\n",
    "        'col': [1, 2, 3, 4, 5]}\n",
    "df = pd.DataFrame(data)"
   ]
  },
  {
   "cell_type": "code",
   "execution_count": 16,
   "id": "5bd2e389",
   "metadata": {
    "ExecuteTime": {
     "end_time": "2022-02-01T12:21:13.144485Z",
     "start_time": "2022-02-01T12:21:13.125522Z"
    }
   },
   "outputs": [
    {
     "data": {
      "text/html": [
       "<div>\n",
       "<style scoped>\n",
       "    .dataframe tbody tr th:only-of-type {\n",
       "        vertical-align: middle;\n",
       "    }\n",
       "\n",
       "    .dataframe tbody tr th {\n",
       "        vertical-align: top;\n",
       "    }\n",
       "\n",
       "    .dataframe thead th {\n",
       "        text-align: right;\n",
       "    }\n",
       "</style>\n",
       "<table border=\"1\" class=\"dataframe\">\n",
       "  <thead>\n",
       "    <tr style=\"text-align: right;\">\n",
       "      <th></th>\n",
       "      <th>key1</th>\n",
       "      <th>key2</th>\n",
       "      <th>col</th>\n",
       "    </tr>\n",
       "  </thead>\n",
       "  <tbody>\n",
       "    <tr>\n",
       "      <th>0</th>\n",
       "      <td>a</td>\n",
       "      <td>v</td>\n",
       "      <td>1</td>\n",
       "    </tr>\n",
       "    <tr>\n",
       "      <th>1</th>\n",
       "      <td>b</td>\n",
       "      <td>w</td>\n",
       "      <td>2</td>\n",
       "    </tr>\n",
       "    <tr>\n",
       "      <th>2</th>\n",
       "      <td>b</td>\n",
       "      <td>w</td>\n",
       "      <td>3</td>\n",
       "    </tr>\n",
       "    <tr>\n",
       "      <th>3</th>\n",
       "      <td>c</td>\n",
       "      <td>x</td>\n",
       "      <td>4</td>\n",
       "    </tr>\n",
       "    <tr>\n",
       "      <th>4</th>\n",
       "      <td>c</td>\n",
       "      <td>y</td>\n",
       "      <td>5</td>\n",
       "    </tr>\n",
       "  </tbody>\n",
       "</table>\n",
       "</div>"
      ],
      "text/plain": [
       "  key1 key2  col\n",
       "0    a    v    1\n",
       "1    b    w    2\n",
       "2    b    w    3\n",
       "3    c    x    4\n",
       "4    c    y    5"
      ]
     },
     "execution_count": 16,
     "metadata": {},
     "output_type": "execute_result"
    }
   ],
   "source": [
    "df"
   ]
  },
  {
   "cell_type": "code",
   "execution_count": 21,
   "id": "1c658e51",
   "metadata": {
    "ExecuteTime": {
     "end_time": "2022-02-01T12:22:51.924166Z",
     "start_time": "2022-02-01T12:22:51.907190Z"
    }
   },
   "outputs": [
    {
     "data": {
      "text/plain": [
       "0    False\n",
       "1    False\n",
       "2     True\n",
       "3    False\n",
       "4    False\n",
       "dtype: bool"
      ]
     },
     "execution_count": 21,
     "metadata": {},
     "output_type": "execute_result"
    }
   ],
   "source": [
    "#key1, key2 사이의 중복여부 확인, 첫번째 값 true\n",
    "df.duplicated(['key1', 'key2'], keep = 'first')"
   ]
  },
  {
   "cell_type": "code",
   "execution_count": 23,
   "id": "e5e8302a",
   "metadata": {
    "ExecuteTime": {
     "end_time": "2022-02-01T12:23:16.993710Z",
     "start_time": "2022-02-01T12:23:16.986742Z"
    }
   },
   "outputs": [
    {
     "data": {
      "text/plain": [
       "0    False\n",
       "1     True\n",
       "2    False\n",
       "3    False\n",
       "4    False\n",
       "dtype: bool"
      ]
     },
     "execution_count": 23,
     "metadata": {},
     "output_type": "execute_result"
    }
   ],
   "source": [
    "#key1, key2 사이의 중복여부 확인, 마지막 값 값 true\n",
    "df.duplicated(['key1', 'key2'], keep = 'last')"
   ]
  },
  {
   "cell_type": "code",
   "execution_count": 28,
   "id": "08a52ad8",
   "metadata": {
    "ExecuteTime": {
     "end_time": "2022-02-01T12:25:43.943572Z",
     "start_time": "2022-02-01T12:25:43.936543Z"
    }
   },
   "outputs": [
    {
     "data": {
      "text/html": [
       "<div>\n",
       "<style scoped>\n",
       "    .dataframe tbody tr th:only-of-type {\n",
       "        vertical-align: middle;\n",
       "    }\n",
       "\n",
       "    .dataframe tbody tr th {\n",
       "        vertical-align: top;\n",
       "    }\n",
       "\n",
       "    .dataframe thead th {\n",
       "        text-align: right;\n",
       "    }\n",
       "</style>\n",
       "<table border=\"1\" class=\"dataframe\">\n",
       "  <thead>\n",
       "    <tr style=\"text-align: right;\">\n",
       "      <th></th>\n",
       "      <th>key1</th>\n",
       "      <th>key2</th>\n",
       "      <th>col</th>\n",
       "    </tr>\n",
       "  </thead>\n",
       "  <tbody>\n",
       "    <tr>\n",
       "      <th>0</th>\n",
       "      <td>a</td>\n",
       "      <td>v</td>\n",
       "      <td>1</td>\n",
       "    </tr>\n",
       "    <tr>\n",
       "      <th>1</th>\n",
       "      <td>b</td>\n",
       "      <td>w</td>\n",
       "      <td>2</td>\n",
       "    </tr>\n",
       "    <tr>\n",
       "      <th>3</th>\n",
       "      <td>c</td>\n",
       "      <td>x</td>\n",
       "      <td>4</td>\n",
       "    </tr>\n",
       "  </tbody>\n",
       "</table>\n",
       "</div>"
      ],
      "text/plain": [
       "  key1 key2  col\n",
       "0    a    v    1\n",
       "1    b    w    2\n",
       "3    c    x    4"
      ]
     },
     "execution_count": 28,
     "metadata": {},
     "output_type": "execute_result"
    }
   ],
   "source": [
    "#중복제거하기 _ first\n",
    "df.drop_duplicates(['key1'], keep = 'first')"
   ]
  },
  {
   "cell_type": "code",
   "execution_count": 29,
   "id": "006b0907",
   "metadata": {
    "ExecuteTime": {
     "end_time": "2022-02-01T12:25:48.011165Z",
     "start_time": "2022-02-01T12:25:47.992145Z"
    }
   },
   "outputs": [
    {
     "data": {
      "text/html": [
       "<div>\n",
       "<style scoped>\n",
       "    .dataframe tbody tr th:only-of-type {\n",
       "        vertical-align: middle;\n",
       "    }\n",
       "\n",
       "    .dataframe tbody tr th {\n",
       "        vertical-align: top;\n",
       "    }\n",
       "\n",
       "    .dataframe thead th {\n",
       "        text-align: right;\n",
       "    }\n",
       "</style>\n",
       "<table border=\"1\" class=\"dataframe\">\n",
       "  <thead>\n",
       "    <tr style=\"text-align: right;\">\n",
       "      <th></th>\n",
       "      <th>key1</th>\n",
       "      <th>key2</th>\n",
       "      <th>col</th>\n",
       "    </tr>\n",
       "  </thead>\n",
       "  <tbody>\n",
       "    <tr>\n",
       "      <th>0</th>\n",
       "      <td>a</td>\n",
       "      <td>v</td>\n",
       "      <td>1</td>\n",
       "    </tr>\n",
       "    <tr>\n",
       "      <th>2</th>\n",
       "      <td>b</td>\n",
       "      <td>w</td>\n",
       "      <td>3</td>\n",
       "    </tr>\n",
       "    <tr>\n",
       "      <th>4</th>\n",
       "      <td>c</td>\n",
       "      <td>y</td>\n",
       "      <td>5</td>\n",
       "    </tr>\n",
       "  </tbody>\n",
       "</table>\n",
       "</div>"
      ],
      "text/plain": [
       "  key1 key2  col\n",
       "0    a    v    1\n",
       "2    b    w    3\n",
       "4    c    y    5"
      ]
     },
     "execution_count": 29,
     "metadata": {},
     "output_type": "execute_result"
    }
   ],
   "source": [
    "#중복제거하기 _ last\n",
    "df.drop_duplicates(['key1'], keep = 'last')"
   ]
  },
  {
   "cell_type": "markdown",
   "id": "a55ac0e8",
   "metadata": {},
   "source": [
    "## 과제 3\n",
    "다음의 데이터를 사용하여 아래와 같이 변경해보세요\n",
    "- A, B, C 컬럼의 유일한 값을 반환해보세요(오름차순 예시)\n",
    "- A, B, C 컬럼별 유일값에 대한 개수를 반환해보세요\n",
    "- 이 때, 결측값도 포함하여 반환하여야 합니다.\n",
    "- A, B, C 컬럼별 유일값에 대한 개수의 상대적 비율(A, B, C의 개수 / 전체 개수)을 반환해보세요"
   ]
  },
  {
   "cell_type": "code",
   "execution_count": 30,
   "id": "b2f3d06b",
   "metadata": {
    "ExecuteTime": {
     "end_time": "2022-02-01T12:26:29.631494Z",
     "start_time": "2022-02-01T12:26:29.626497Z"
    }
   },
   "outputs": [],
   "source": [
    "df = pd.DataFrame({'A': ['A1', 'A1', 'A2', 'A2', 'A3', 'A3'],\n",
    "                   'B': ['B1', 'B1', 'B1', 'B1', 'B2', np.nan],\n",
    "                   'C': [1, 1, 3, 4, 4, 4]})"
   ]
  },
  {
   "cell_type": "code",
   "execution_count": 31,
   "id": "b8fb2090",
   "metadata": {
    "ExecuteTime": {
     "end_time": "2022-02-01T12:26:31.699646Z",
     "start_time": "2022-02-01T12:26:31.679646Z"
    }
   },
   "outputs": [
    {
     "data": {
      "text/html": [
       "<div>\n",
       "<style scoped>\n",
       "    .dataframe tbody tr th:only-of-type {\n",
       "        vertical-align: middle;\n",
       "    }\n",
       "\n",
       "    .dataframe tbody tr th {\n",
       "        vertical-align: top;\n",
       "    }\n",
       "\n",
       "    .dataframe thead th {\n",
       "        text-align: right;\n",
       "    }\n",
       "</style>\n",
       "<table border=\"1\" class=\"dataframe\">\n",
       "  <thead>\n",
       "    <tr style=\"text-align: right;\">\n",
       "      <th></th>\n",
       "      <th>A</th>\n",
       "      <th>B</th>\n",
       "      <th>C</th>\n",
       "    </tr>\n",
       "  </thead>\n",
       "  <tbody>\n",
       "    <tr>\n",
       "      <th>0</th>\n",
       "      <td>A1</td>\n",
       "      <td>B1</td>\n",
       "      <td>1</td>\n",
       "    </tr>\n",
       "    <tr>\n",
       "      <th>1</th>\n",
       "      <td>A1</td>\n",
       "      <td>B1</td>\n",
       "      <td>1</td>\n",
       "    </tr>\n",
       "    <tr>\n",
       "      <th>2</th>\n",
       "      <td>A2</td>\n",
       "      <td>B1</td>\n",
       "      <td>3</td>\n",
       "    </tr>\n",
       "    <tr>\n",
       "      <th>3</th>\n",
       "      <td>A2</td>\n",
       "      <td>B1</td>\n",
       "      <td>4</td>\n",
       "    </tr>\n",
       "    <tr>\n",
       "      <th>4</th>\n",
       "      <td>A3</td>\n",
       "      <td>B2</td>\n",
       "      <td>4</td>\n",
       "    </tr>\n",
       "    <tr>\n",
       "      <th>5</th>\n",
       "      <td>A3</td>\n",
       "      <td>NaN</td>\n",
       "      <td>4</td>\n",
       "    </tr>\n",
       "  </tbody>\n",
       "</table>\n",
       "</div>"
      ],
      "text/plain": [
       "    A    B  C\n",
       "0  A1   B1  1\n",
       "1  A1   B1  1\n",
       "2  A2   B1  3\n",
       "3  A2   B1  4\n",
       "4  A3   B2  4\n",
       "5  A3  NaN  4"
      ]
     },
     "execution_count": 31,
     "metadata": {},
     "output_type": "execute_result"
    }
   ],
   "source": [
    "df"
   ]
  },
  {
   "cell_type": "code",
   "execution_count": 39,
   "id": "d67a08a9",
   "metadata": {
    "ExecuteTime": {
     "end_time": "2022-02-01T12:28:49.042014Z",
     "start_time": "2022-02-01T12:28:49.030988Z"
    }
   },
   "outputs": [
    {
     "name": "stdout",
     "output_type": "stream",
     "text": [
      " 'A' 의 유일한 값: ['A1' 'A2' 'A3']\n",
      " 'B' 의 유일한 값: ['B1' 'B2' nan]\n",
      " 'C' 의 유일한 값: [1 3 4]\n"
     ]
    }
   ],
   "source": [
    "print(\" 'A' 의 유일한 값:\", df['A'].unique())\n",
    "print(\" 'B' 의 유일한 값:\", df['B'].unique())\n",
    "print(\" 'C' 의 유일한 값:\", df['C'].unique())"
   ]
  },
  {
   "cell_type": "markdown",
   "id": "77226994",
   "metadata": {},
   "source": [
    "(2) 유일한 값별로 개수 세기 : pd.Series.value_counts()"
   ]
  },
  {
   "cell_type": "code",
   "execution_count": 44,
   "id": "11cedca2",
   "metadata": {
    "ExecuteTime": {
     "end_time": "2022-02-01T12:30:57.512505Z",
     "start_time": "2022-02-01T12:30:57.496481Z"
    }
   },
   "outputs": [
    {
     "name": "stdout",
     "output_type": "stream",
     "text": [
      " 'A' 의 유일한 값 개수: \n",
      " A1    2\n",
      "A2    2\n",
      "A3    2\n",
      "Name: A, dtype: int64\n",
      " 'B' 의 유일한 값 개수: \n",
      " B1    4\n",
      "B2    1\n",
      "Name: B, dtype: int64\n",
      " 'C' 의 유일한 값 개수: \n",
      " 4    3\n",
      "1    2\n",
      "3    1\n",
      "Name: C, dtype: int64\n"
     ]
    }
   ],
   "source": [
    "print(\" 'A' 의 유일한 값 개수: \\n\", df['A'].value_counts())\n",
    "print(\" 'B' 의 유일한 값 개수: \\n\", df['B'].value_counts())\n",
    "print(\" 'C' 의 유일한 값 개수: \\n\", df['C'].value_counts())"
   ]
  },
  {
   "cell_type": "markdown",
   "id": "6fbd6c17",
   "metadata": {},
   "source": [
    "A, B, C 컬럼별 유일값에 대한 개수의 상대적 비율(A, B, C의 개수 / 전체 개수)을 반환해보세요"
   ]
  },
  {
   "cell_type": "code",
   "execution_count": 45,
   "id": "1aab251c",
   "metadata": {
    "ExecuteTime": {
     "end_time": "2022-02-01T12:32:33.646153Z",
     "start_time": "2022-02-01T12:32:33.633153Z"
    }
   },
   "outputs": [
    {
     "name": "stdout",
     "output_type": "stream",
     "text": [
      " 'A' 의 유일한 값 비율: \n",
      " A1    0.333333\n",
      "A2    0.333333\n",
      "A3    0.333333\n",
      "Name: A, dtype: float64\n",
      " 'B' 의 유일한 값 비율: \n",
      " B1    0.8\n",
      "B2    0.2\n",
      "Name: B, dtype: float64\n",
      " 'C' 의 유일한 값 비율: \n",
      " 4    0.500000\n",
      "1    0.333333\n",
      "3    0.166667\n",
      "Name: C, dtype: float64\n"
     ]
    }
   ],
   "source": [
    "print(\" 'A' 의 유일한 값 비율: \\n\", df['A'].value_counts(normalize=True))\n",
    "print(\" 'B' 의 유일한 값 비율: \\n\", df['B'].value_counts(normalize=True))\n",
    "print(\" 'C' 의 유일한 값 비율: \\n\", df['C'].value_counts(normalize=True))"
   ]
  },
  {
   "cell_type": "markdown",
   "id": "b0ff9d19",
   "metadata": {},
   "source": [
    "## 과제 4\n",
    "- 다음의 데이터를 아래와 같은 제약조건으로 표준화를 진행해보세요\n",
    "- numpy를 이용하여 표준화를 진행해보세요(z = (x - mean() / std())\n",
    "- scipy.stats 를 이용하여 표준화를 진행해보세요\n",
    "- sklearn.preprocessing을 이용하여 포준화를 진행해보세요"
   ]
  },
  {
   "cell_type": "code",
   "execution_count": 46,
   "id": "898bb1e2",
   "metadata": {
    "ExecuteTime": {
     "end_time": "2022-02-01T12:33:15.105627Z",
     "start_time": "2022-02-01T12:33:15.086663Z"
    }
   },
   "outputs": [],
   "source": [
    "import numpy as np\n",
    "data = np.random.randint(30, size=(6, 5))"
   ]
  },
  {
   "cell_type": "code",
   "execution_count": 47,
   "id": "a7578588",
   "metadata": {
    "ExecuteTime": {
     "end_time": "2022-02-01T12:33:25.272334Z",
     "start_time": "2022-02-01T12:33:25.258336Z"
    }
   },
   "outputs": [
    {
     "data": {
      "text/plain": [
       "array([[ 6, 13, 29, 25, 21],\n",
       "       [ 6, 21, 22, 27, 18],\n",
       "       [10, 17,  7,  6,  8],\n",
       "       [12, 24,  6, 17, 29],\n",
       "       [28, 27,  3, 21, 20],\n",
       "       [27, 11, 21,  7, 24]])"
      ]
     },
     "execution_count": 47,
     "metadata": {},
     "output_type": "execute_result"
    }
   ],
   "source": [
    "data"
   ]
  },
  {
   "cell_type": "code",
   "execution_count": 57,
   "id": "6de661b7",
   "metadata": {
    "ExecuteTime": {
     "end_time": "2022-02-01T12:37:11.840826Z",
     "start_time": "2022-02-01T12:37:11.829792Z"
    }
   },
   "outputs": [
    {
     "data": {
      "text/plain": [
       "array([[-0.95920728, -1.01845793,  1.47142971,  0.95838568,  0.15617376],\n",
       "       [-0.95920728,  0.37828438,  0.7528245 ,  1.2030799 , -0.31234752],\n",
       "       [-0.52484927, -0.32008678, -0.7870438 , -1.36620938, -1.87408514],\n",
       "       [-0.30767026,  0.90206274, -0.88970168, -0.02039118,  1.40556386],\n",
       "       [ 1.4297618 ,  1.42584111, -1.19767534,  0.46899725,  0.        ],\n",
       "       [ 1.3211723 , -1.36764351,  0.65016662, -1.24386227,  0.62469505]])"
      ]
     },
     "execution_count": 57,
     "metadata": {},
     "output_type": "execute_result"
    }
   ],
   "source": [
    "#numpy 표준화\n",
    "data_std_by_np = (data - np.mean(data, axis = 0)) / np.std(data, axis=0)\n",
    "data_std_by_np"
   ]
  },
  {
   "cell_type": "code",
   "execution_count": 53,
   "id": "57c01aea",
   "metadata": {
    "ExecuteTime": {
     "end_time": "2022-02-01T12:35:58.676074Z",
     "start_time": "2022-02-01T12:35:57.861951Z"
    }
   },
   "outputs": [],
   "source": [
    "# scipy.stats\n",
    "import scipy.stats as ss"
   ]
  },
  {
   "cell_type": "code",
   "execution_count": 54,
   "id": "600a98a3",
   "metadata": {
    "ExecuteTime": {
     "end_time": "2022-02-01T12:36:21.671809Z",
     "start_time": "2022-02-01T12:36:21.657774Z"
    }
   },
   "outputs": [
    {
     "data": {
      "text/plain": [
       "array([[-0.95920728, -1.01845793,  1.47142971,  0.95838568,  0.15617376],\n",
       "       [-0.95920728,  0.37828438,  0.7528245 ,  1.2030799 , -0.31234752],\n",
       "       [-0.52484927, -0.32008678, -0.7870438 , -1.36620938, -1.87408514],\n",
       "       [-0.30767026,  0.90206274, -0.88970168, -0.02039118,  1.40556386],\n",
       "       [ 1.4297618 ,  1.42584111, -1.19767534,  0.46899725,  0.        ],\n",
       "       [ 1.3211723 , -1.36764351,  0.65016662, -1.24386227,  0.62469505]])"
      ]
     },
     "execution_count": 54,
     "metadata": {},
     "output_type": "execute_result"
    }
   ],
   "source": [
    "data_std_by_ss = ss.zscore(data)\n",
    "data_std_by_ss"
   ]
  },
  {
   "cell_type": "code",
   "execution_count": 58,
   "id": "812297f0",
   "metadata": {
    "ExecuteTime": {
     "end_time": "2022-02-01T12:38:04.049200Z",
     "start_time": "2022-02-01T12:38:03.862191Z"
    }
   },
   "outputs": [
    {
     "data": {
      "text/plain": [
       "array([[-0.95920728, -1.01845793,  1.47142971,  0.95838568,  0.15617376],\n",
       "       [-0.95920728,  0.37828438,  0.7528245 ,  1.2030799 , -0.31234752],\n",
       "       [-0.52484927, -0.32008678, -0.7870438 , -1.36620938, -1.87408514],\n",
       "       [-0.30767026,  0.90206274, -0.88970168, -0.02039118,  1.40556386],\n",
       "       [ 1.4297618 ,  1.42584111, -1.19767534,  0.46899725,  0.        ],\n",
       "       [ 1.3211723 , -1.36764351,  0.65016662, -1.24386227,  0.62469505]])"
      ]
     },
     "execution_count": 58,
     "metadata": {},
     "output_type": "execute_result"
    }
   ],
   "source": [
    "# sklearn 표준화\n",
    "from sklearn.preprocessing import StandardScaler\n",
    "data_std_by_skl = StandardScaler().fit_transform(data)\n",
    "data_std_by_skl"
   ]
  },
  {
   "cell_type": "markdown",
   "id": "40f8b5cb",
   "metadata": {},
   "source": [
    "## 과제 5\n",
    "- 다음의 데이터를 로드하는데, 다음의 조건을 충족시켜 주세요\n",
    "- numpy 내 숫자 소수점은 둘째자리까지 표현하도록 옵션을 수정하세요\n",
    "- np.random. 함수 수행시, 고정되도록 옵션을 수정하세요"
   ]
  },
  {
   "cell_type": "code",
   "execution_count": 90,
   "id": "bb2c5103",
   "metadata": {
    "ExecuteTime": {
     "end_time": "2022-02-01T12:46:54.589034Z",
     "start_time": "2022-02-01T12:46:54.583078Z"
    }
   },
   "outputs": [],
   "source": [
    "mu, sigma = 10, 2\n",
    "import random\n",
    "np.random.seed(1)\n",
    "x = mu + sigma * np.random.randn(100)\n",
    "x[98:100] = 100"
   ]
  },
  {
   "cell_type": "code",
   "execution_count": 91,
   "id": "a803a567",
   "metadata": {
    "ExecuteTime": {
     "end_time": "2022-02-01T12:46:57.898879Z",
     "start_time": "2022-02-01T12:46:57.883851Z"
    }
   },
   "outputs": [
    {
     "data": {
      "text/plain": [
       "array([ 13.25,   8.78,   8.94,   7.85,  11.73,   5.4 ,  13.49,   8.48,\n",
       "        10.64,   9.5 ,  12.92,   5.88,   9.36,   9.23,  12.27,   7.8 ,\n",
       "         9.66,   8.24,  10.08,  11.17,   7.8 ,  12.29,  11.8 ,  11.  ,\n",
       "        11.8 ,   8.63,   9.75,   8.13,   9.46,  11.06,   8.62,   9.21,\n",
       "         8.63,   8.31,   8.66,   9.97,   7.77,  10.47,  13.32,  11.48,\n",
       "         9.62,   8.22,   8.51,  13.38,  10.1 ,   8.73,  10.38,  14.2 ,\n",
       "        10.24,  11.23,  10.6 ,   9.3 ,   7.71,   9.3 ,   9.58,  11.17,\n",
       "        11.68,  11.86,  10.57,  11.77,   8.49,  12.51,  11.03,   9.4 ,\n",
       "        10.98,   9.85,  12.26,  13.04,  14.37,   7.21,   7.11,   8.99,\n",
       "        10.32,  11.75,  10.63,   5.96,   9.39,  11.66,  10.46,  11.52,\n",
       "         9.56,   9.6 ,  10.37,  10.82,  10.4 ,  10.24,   8.66,  10.76,\n",
       "        10.24,  12.26,  12.4 ,  10.37,   9.25,   8.72,  10.85,  10.15,\n",
       "         9.31,  10.09, 100.  , 100.  ])"
      ]
     },
     "execution_count": 91,
     "metadata": {},
     "output_type": "execute_result"
    }
   ],
   "source": [
    "data = np.round(x, 2)\n",
    "data"
   ]
  },
  {
   "cell_type": "markdown",
   "id": "0d8593a9",
   "metadata": {},
   "source": [
    "- 다음의 데이터를 편성하고, 이 데이터를 표준정규분포 기반으로 표준화를 수행하세요\n",
    "- 표준화된 데이터 중, 이상치를 제거하고 histogram을 그려보세요\n",
    "- 위의 초기 df 데이터를 가지고 RobustScaler 를 사용하여 데이터를 histogram 으로 확인해보고, 기존 표준화된 데이터와 비교해보세요"
   ]
  },
  {
   "cell_type": "code",
   "execution_count": 99,
   "id": "f1f1695e",
   "metadata": {
    "ExecuteTime": {
     "end_time": "2022-02-01T12:50:13.454351Z",
     "start_time": "2022-02-01T12:50:13.441359Z"
    }
   },
   "outputs": [],
   "source": [
    "data_std = StandardScaler().fit_transform(data.reshape(-1, 1))"
   ]
  },
  {
   "cell_type": "code",
   "execution_count": 100,
   "id": "4b6b39d1",
   "metadata": {
    "ExecuteTime": {
     "end_time": "2022-02-01T12:50:15.913297Z",
     "start_time": "2022-02-01T12:50:15.904338Z"
    }
   },
   "outputs": [
    {
     "data": {
      "text/plain": [
       "array([[ 1.04711288e-01],\n",
       "       [-2.47107305e-01],\n",
       "       [-2.34514246e-01],\n",
       "       [-3.20304462e-01],\n",
       "       [-1.49227752e-02],\n",
       "       [-5.13135682e-01],\n",
       "       [ 1.23600877e-01],\n",
       "       [-2.70719291e-01],\n",
       "       [-1.00712991e-01],\n",
       "       [-1.90438538e-01],\n",
       "       [ 7.87381029e-02],\n",
       "       [-4.75356504e-01],\n",
       "       [-2.01457465e-01],\n",
       "       [-2.11689326e-01],\n",
       "       [ 2.75787998e-02],\n",
       "       [-3.24239793e-01],\n",
       "       [-1.77845479e-01],\n",
       "       [-2.89608880e-01],\n",
       "       [-1.44788699e-01],\n",
       "       [-5.89984826e-02],\n",
       "       [-3.24239793e-01],\n",
       "       [ 2.91529322e-02],\n",
       "       [-9.41331179e-03],\n",
       "       [-7.23786080e-02],\n",
       "       [-9.41331179e-03],\n",
       "       [-2.58913298e-01],\n",
       "       [-1.70761883e-01],\n",
       "       [-2.98266608e-01],\n",
       "       [-1.93586803e-01],\n",
       "       [-6.76562108e-02],\n",
       "       [-2.59700364e-01],\n",
       "       [-2.13263458e-01],\n",
       "       [-2.58913298e-01],\n",
       "       [-2.84099417e-01],\n",
       "       [-2.56552100e-01],\n",
       "       [-1.53446427e-01],\n",
       "       [-3.26600992e-01],\n",
       "       [-1.14093117e-01],\n",
       "       [ 1.10220751e-01],\n",
       "       [-3.45994303e-02],\n",
       "       [-1.80993744e-01],\n",
       "       [-2.91183012e-01],\n",
       "       [-2.68358093e-01],\n",
       "       [ 1.14943148e-01],\n",
       "       [-1.43214566e-01],\n",
       "       [-2.51042636e-01],\n",
       "       [-1.21176713e-01],\n",
       "       [ 1.79482577e-01],\n",
       "       [-1.32195639e-01],\n",
       "       [-5.42760854e-02],\n",
       "       [-1.03861256e-01],\n",
       "       [-2.06179863e-01],\n",
       "       [-3.31323389e-01],\n",
       "       [-2.06179863e-01],\n",
       "       [-1.84142009e-01],\n",
       "       [-5.89984826e-02],\n",
       "       [-1.88581062e-02],\n",
       "       [-4.69091457e-03],\n",
       "       [-1.06222455e-01],\n",
       "       [-1.17745104e-02],\n",
       "       [-2.69932225e-01],\n",
       "       [ 4.64683886e-02],\n",
       "       [-7.00174094e-02],\n",
       "       [-1.98309200e-01],\n",
       "       [-7.39527404e-02],\n",
       "       [-1.62891221e-01],\n",
       "       [ 2.67917335e-02],\n",
       "       [ 8.81828974e-02],\n",
       "       [ 1.92862702e-01],\n",
       "       [-3.70676699e-01],\n",
       "       [-3.78547361e-01],\n",
       "       [-2.30578915e-01],\n",
       "       [-1.25899110e-01],\n",
       "       [-1.33486428e-02],\n",
       "       [-1.01500058e-01],\n",
       "       [-4.69059974e-01],\n",
       "       [-1.99096267e-01],\n",
       "       [-2.04322386e-02],\n",
       "       [-1.14880183e-01],\n",
       "       [-3.14511655e-02],\n",
       "       [-1.85716141e-01],\n",
       "       [-1.82567876e-01],\n",
       "       [-1.21963779e-01],\n",
       "       [-8.65457997e-02],\n",
       "       [-1.19602580e-01],\n",
       "       [-1.32195639e-01],\n",
       "       [-2.56552100e-01],\n",
       "       [-9.12681969e-02],\n",
       "       [-1.32195639e-01],\n",
       "       [ 2.67917335e-02],\n",
       "       [ 3.78106604e-02],\n",
       "       [-1.21963779e-01],\n",
       "       [-2.10115194e-01],\n",
       "       [-2.51829702e-01],\n",
       "       [-8.41846011e-02],\n",
       "       [-1.39279235e-01],\n",
       "       [-2.05392796e-01],\n",
       "       [-1.44001632e-01],\n",
       "       [ 6.93251060e+00],\n",
       "       [ 6.93251060e+00]])"
      ]
     },
     "execution_count": 100,
     "metadata": {},
     "output_type": "execute_result"
    }
   ],
   "source": [
    "data_std"
   ]
  },
  {
   "cell_type": "code",
   "execution_count": 104,
   "id": "7d1fef72",
   "metadata": {
    "ExecuteTime": {
     "end_time": "2022-02-01T12:51:09.305250Z",
     "start_time": "2022-02-01T12:51:09.296223Z"
    }
   },
   "outputs": [],
   "source": [
    "import matplotlib.pyplot as plt"
   ]
  },
  {
   "cell_type": "code",
   "execution_count": 105,
   "id": "64e16e04",
   "metadata": {
    "ExecuteTime": {
     "end_time": "2022-02-01T12:51:15.537258Z",
     "start_time": "2022-02-01T12:51:15.344884Z"
    }
   },
   "outputs": [
    {
     "data": {
      "text/plain": [
       "(array([98.,  0.,  0.,  0.,  0.,  0.,  0.,  0.,  0.,  2.]),\n",
       " array([-0.51313568,  0.23142895,  0.97599357,  1.7205582 ,  2.46512283,\n",
       "         3.20968746,  3.95425209,  4.69881671,  5.44338134,  6.18794597,\n",
       "         6.9325106 ]),\n",
       " <BarContainer object of 10 artists>)"
      ]
     },
     "execution_count": 105,
     "metadata": {},
     "output_type": "execute_result"
    },
    {
     "data": {
      "image/png": "[encoded data removed]",
      "text/plain": [
       "<Figure size 432x288 with 1 Axes>"
      ]
     },
     "metadata": {
      "needs_background": "light"
     },
     "output_type": "display_data"
    }
   ],
   "source": [
    "plt.hist(data_std)"
   ]
  },
  {
   "cell_type": "code",
   "execution_count": 108,
   "id": "112f2e18",
   "metadata": {
    "ExecuteTime": {
     "end_time": "2022-02-01T12:54:32.572659Z",
     "start_time": "2022-02-01T12:54:32.436656Z"
    }
   },
   "outputs": [
    {
     "data": {
      "text/plain": [
       "(array([ 0.,  0.,  0.,  0.,  0.,  0.,  0.,  0.,  0.,  0.,  0.,  0.,  3.,\n",
       "        31., 50., 14.,  0.,  0.,  0.,  0.,  0.,  0.,  0.,  0.,  0.,  0.,\n",
       "         0.,  0.,  0.]),\n",
       " array([-3.00000000e+00, -2.80000000e+00, -2.60000000e+00, -2.40000000e+00,\n",
       "        -2.20000000e+00, -2.00000000e+00, -1.80000000e+00, -1.60000000e+00,\n",
       "        -1.40000000e+00, -1.20000000e+00, -1.00000000e+00, -8.00000000e-01,\n",
       "        -6.00000000e-01, -4.00000000e-01, -2.00000000e-01,  2.66453526e-15,\n",
       "         2.00000000e-01,  4.00000000e-01,  6.00000000e-01,  8.00000000e-01,\n",
       "         1.00000000e+00,  1.20000000e+00,  1.40000000e+00,  1.60000000e+00,\n",
       "         1.80000000e+00,  2.00000000e+00,  2.20000000e+00,  2.40000000e+00,\n",
       "         2.60000000e+00,  2.80000000e+00]),\n",
       " <BarContainer object of 29 artists>)"
      ]
     },
     "execution_count": 108,
     "metadata": {},
     "output_type": "execute_result"
    },
    {
     "data": {
      "image/png": "[encoded data removed]",
      "text/plain": [
       "<Figure size 432x288 with 1 Axes>"
      ]
     },
     "metadata": {
      "needs_background": "light"
     },
     "output_type": "display_data"
    }
   ],
   "source": [
    "# 표준화된 데이터 중, 이상치를 제거하고 histogram을 그려보세요\n",
    "x_StandardScaler_zoonin = data_std[data_std < 5]\n",
    "plt.hist(x_StandardScaler_zoonin, bins = np.arange(-3, 3, 0.2))"
   ]
  },
  {
   "cell_type": "code",
   "execution_count": 112,
   "id": "936a3b4a",
   "metadata": {
    "ExecuteTime": {
     "end_time": "2022-02-01T12:57:01.496838Z",
     "start_time": "2022-02-01T12:57:01.492837Z"
    }
   },
   "outputs": [],
   "source": [
    "from sklearn.preprocessing import RobustScaler"
   ]
  },
  {
   "cell_type": "code",
   "execution_count": 114,
   "id": "d4475c49",
   "metadata": {
    "ExecuteTime": {
     "end_time": "2022-02-01T12:57:29.646468Z",
     "start_time": "2022-02-01T12:57:29.634468Z"
    }
   },
   "outputs": [
    {
     "data": {
      "text/plain": [
       "array([[ 1.17953668e+00],\n",
       "       [-5.46332046e-01],\n",
       "       [-4.84555985e-01],\n",
       "       [-9.05405405e-01],\n",
       "       [ 5.92664093e-01],\n",
       "       [-1.85135135e+00],\n",
       "       [ 1.27220077e+00],\n",
       "       [-6.62162162e-01],\n",
       "       [ 1.71814672e-01],\n",
       "       [-2.68339768e-01],\n",
       "       [ 1.05212355e+00],\n",
       "       [-1.66602317e+00],\n",
       "       [-3.22393822e-01],\n",
       "       [-3.72586873e-01],\n",
       "       [ 8.01158301e-01],\n",
       "       [-9.24710425e-01],\n",
       "       [-2.06563707e-01],\n",
       "       [-7.54826255e-01],\n",
       "       [-4.44015444e-02],\n",
       "       [ 3.76447876e-01],\n",
       "       [-9.24710425e-01],\n",
       "       [ 8.08880309e-01],\n",
       "       [ 6.19691120e-01],\n",
       "       [ 3.10810811e-01],\n",
       "       [ 6.19691120e-01],\n",
       "       [-6.04247104e-01],\n",
       "       [-1.71814672e-01],\n",
       "       [-7.97297297e-01],\n",
       "       [-2.83783784e-01],\n",
       "       [ 3.33976834e-01],\n",
       "       [-6.08108108e-01],\n",
       "       [-3.80308880e-01],\n",
       "       [-6.04247104e-01],\n",
       "       [-7.27799228e-01],\n",
       "       [-5.92664093e-01],\n",
       "       [-8.68725869e-02],\n",
       "       [-9.36293436e-01],\n",
       "       [ 1.06177606e-01],\n",
       "       [ 1.20656371e+00],\n",
       "       [ 4.96138996e-01],\n",
       "       [-2.22007722e-01],\n",
       "       [-7.62548263e-01],\n",
       "       [-6.50579151e-01],\n",
       "       [ 1.22972973e+00],\n",
       "       [-3.66795367e-02],\n",
       "       [-5.65637066e-01],\n",
       "       [ 7.14285714e-02],\n",
       "       [ 1.54633205e+00],\n",
       "       [ 1.73745174e-02],\n",
       "       [ 3.99613900e-01],\n",
       "       [ 1.56370656e-01],\n",
       "       [-3.45559846e-01],\n",
       "       [-9.59459459e-01],\n",
       "       [-3.45559846e-01],\n",
       "       [-2.37451737e-01],\n",
       "       [ 3.76447876e-01],\n",
       "       [ 5.73359073e-01],\n",
       "       [ 6.42857143e-01],\n",
       "       [ 1.44787645e-01],\n",
       "       [ 6.08108108e-01],\n",
       "       [-6.58301158e-01],\n",
       "       [ 8.93822394e-01],\n",
       "       [ 3.22393822e-01],\n",
       "       [-3.06949807e-01],\n",
       "       [ 3.03088803e-01],\n",
       "       [-1.33204633e-01],\n",
       "       [ 7.97297297e-01],\n",
       "       [ 1.09845560e+00],\n",
       "       [ 1.61196911e+00],\n",
       "       [-1.15250965e+00],\n",
       "       [-1.19111969e+00],\n",
       "       [-4.65250965e-01],\n",
       "       [ 4.82625483e-02],\n",
       "       [ 6.00386100e-01],\n",
       "       [ 1.67953668e-01],\n",
       "       [-1.63513514e+00],\n",
       "       [-3.10810811e-01],\n",
       "       [ 5.65637066e-01],\n",
       "       [ 1.02316602e-01],\n",
       "       [ 5.11583012e-01],\n",
       "       [-2.45173745e-01],\n",
       "       [-2.29729730e-01],\n",
       "       [ 6.75675676e-02],\n",
       "       [ 2.41312741e-01],\n",
       "       [ 7.91505792e-02],\n",
       "       [ 1.73745174e-02],\n",
       "       [-5.92664093e-01],\n",
       "       [ 2.18146718e-01],\n",
       "       [ 1.73745174e-02],\n",
       "       [ 7.97297297e-01],\n",
       "       [ 8.51351351e-01],\n",
       "       [ 6.75675676e-02],\n",
       "       [-3.64864865e-01],\n",
       "       [-5.69498069e-01],\n",
       "       [ 2.52895753e-01],\n",
       "       [-1.73745174e-02],\n",
       "       [-3.41698842e-01],\n",
       "       [-4.05405405e-02],\n",
       "       [ 3.46737452e+01],\n",
       "       [ 3.46737452e+01]])"
      ]
     },
     "execution_count": 114,
     "metadata": {},
     "output_type": "execute_result"
    }
   ],
   "source": [
    "# 위의 초기 df 데이터를 가지고 RobustScaler 를 사용하여 데이터를 histogram 으로 확인해보고, \n",
    "# 기존 표준화된 데이터와 비교해보세요\n",
    "\n",
    "data_rob = RobustScaler().fit_transform(data.reshape(-1,1))\n",
    "data_rob"
   ]
  },
  {
   "cell_type": "code",
   "execution_count": 117,
   "id": "2d657bd5",
   "metadata": {
    "ExecuteTime": {
     "end_time": "2022-02-01T12:58:37.928555Z",
     "start_time": "2022-02-01T12:58:37.794558Z"
    }
   },
   "outputs": [
    {
     "data": {
      "text/plain": [
       "(array([ 0.,  0.,  0.,  0.,  0.,  1.,  2.,  0.,  0.,  2.,  5., 10.,  7.,\n",
       "        16.,  7., 14., 10.,  5.,  7.,  4.,  3.,  3.,  1.,  1.,  0.,  0.,\n",
       "         0.,  0.,  0.]),\n",
       " array([-3.00000000e+00, -2.80000000e+00, -2.60000000e+00, -2.40000000e+00,\n",
       "        -2.20000000e+00, -2.00000000e+00, -1.80000000e+00, -1.60000000e+00,\n",
       "        -1.40000000e+00, -1.20000000e+00, -1.00000000e+00, -8.00000000e-01,\n",
       "        -6.00000000e-01, -4.00000000e-01, -2.00000000e-01,  2.66453526e-15,\n",
       "         2.00000000e-01,  4.00000000e-01,  6.00000000e-01,  8.00000000e-01,\n",
       "         1.00000000e+00,  1.20000000e+00,  1.40000000e+00,  1.60000000e+00,\n",
       "         1.80000000e+00,  2.00000000e+00,  2.20000000e+00,  2.40000000e+00,\n",
       "         2.60000000e+00,  2.80000000e+00]),\n",
       " <BarContainer object of 29 artists>)"
      ]
     },
     "execution_count": 117,
     "metadata": {},
     "output_type": "execute_result"
    },
    {
     "data": {
      "image/png": "[encoded data removed]",
      "text/plain": [
       "<Figure size 432x288 with 1 Axes>"
      ]
     },
     "metadata": {
      "needs_background": "light"
     },
     "output_type": "display_data"
    }
   ],
   "source": [
    "x_RobustScaler_zoonin = data_rob[data_rob < 5]\n",
    "plt.hist(x_RobustScaler_zoonin, bins = np.arange(-3, 3, 0.2))"
   ]
  },
  {
   "cell_type": "code",
   "execution_count": null,
   "id": "defe5874",
   "metadata": {},
   "outputs": [],
   "source": []
  }
 ],
 "metadata": {
  "kernelspec": {
   "display_name": "Python 3 (ipykernel)",
   "language": "python",
   "name": "python3"
  },
  "language_info": {
   "codemirror_mode": {
    "name": "ipython",
    "version": 3
   },
   "file_extension": ".py",
   "mimetype": "text/x-python",
   "name": "python",
   "nbconvert_exporter": "python",
   "pygments_lexer": "ipython3",
   "version": "3.9.7"
  },
  "toc": {
   "base_numbering": 1,
   "nav_menu": {},
   "number_sections": true,
   "sideBar": true,
   "skip_h1_title": false,
   "title_cell": "Table of Contents",
   "title_sidebar": "Contents",
   "toc_cell": false,
   "toc_position": {},
   "toc_section_display": true,
   "toc_window_display": false
  }
 },
 "nbformat": 4,
 "nbformat_minor": 5
}
