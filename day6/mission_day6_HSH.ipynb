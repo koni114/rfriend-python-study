{
 "cells": [
  {
   "cell_type": "markdown",
   "id": "b4c2b6a4",
   "metadata": {},
   "source": [
    "# DAY 6\n"
   ]
  },
  {
   "cell_type": "markdown",
   "id": "2e41b5fc",
   "metadata": {},
   "source": [
    "## 과제1"
   ]
  },
  {
   "cell_type": "code",
   "execution_count": 2,
   "id": "e08a53f4",
   "metadata": {
    "ExecuteTime": {
     "end_time": "2022-02-03T14:16:38.870240Z",
     "start_time": "2022-02-03T14:16:37.742753Z"
    }
   },
   "outputs": [],
   "source": [
    "import pandas as pd\n",
    "import numpy as np"
   ]
  },
  {
   "cell_type": "code",
   "execution_count": 57,
   "id": "d028703d",
   "metadata": {
    "ExecuteTime": {
     "end_time": "2022-02-03T14:39:53.891262Z",
     "start_time": "2022-02-03T14:39:53.872162Z"
    }
   },
   "outputs": [],
   "source": [
    "df = pd.DataFrame({'cust_id': ['c1', 'c1', 'c1', 'c2', 'c2', 'c2', 'c3', 'c3', 'c3'],\n",
    "                   'prod_cd': ['p1', 'p2', 'p3', 'p1', 'p2', 'p3', 'p1', 'p2', 'p3'],\n",
    "                   'grade': ['A', 'A', 'A', 'A', 'A', 'A', 'B', 'B', 'B'],\n",
    "                   'pch_amt': [30, 10, 0, 40, 15, 30, 0, 0, 10]})"
   ]
  },
  {
   "cell_type": "code",
   "execution_count": 58,
   "id": "f493afba",
   "metadata": {
    "ExecuteTime": {
     "end_time": "2022-02-03T14:39:54.228279Z",
     "start_time": "2022-02-03T14:39:54.204795Z"
    }
   },
   "outputs": [
    {
     "data": {
      "text/html": [
       "<div>\n",
       "<style scoped>\n",
       "    .dataframe tbody tr th:only-of-type {\n",
       "        vertical-align: middle;\n",
       "    }\n",
       "\n",
       "    .dataframe tbody tr th {\n",
       "        vertical-align: top;\n",
       "    }\n",
       "\n",
       "    .dataframe thead th {\n",
       "        text-align: right;\n",
       "    }\n",
       "</style>\n",
       "<table border=\"1\" class=\"dataframe\">\n",
       "  <thead>\n",
       "    <tr style=\"text-align: right;\">\n",
       "      <th></th>\n",
       "      <th>cust_id</th>\n",
       "      <th>prod_cd</th>\n",
       "      <th>grade</th>\n",
       "      <th>pch_amt</th>\n",
       "    </tr>\n",
       "  </thead>\n",
       "  <tbody>\n",
       "    <tr>\n",
       "      <th>0</th>\n",
       "      <td>c1</td>\n",
       "      <td>p1</td>\n",
       "      <td>A</td>\n",
       "      <td>30</td>\n",
       "    </tr>\n",
       "    <tr>\n",
       "      <th>1</th>\n",
       "      <td>c1</td>\n",
       "      <td>p2</td>\n",
       "      <td>A</td>\n",
       "      <td>10</td>\n",
       "    </tr>\n",
       "    <tr>\n",
       "      <th>2</th>\n",
       "      <td>c1</td>\n",
       "      <td>p3</td>\n",
       "      <td>A</td>\n",
       "      <td>0</td>\n",
       "    </tr>\n",
       "    <tr>\n",
       "      <th>3</th>\n",
       "      <td>c2</td>\n",
       "      <td>p1</td>\n",
       "      <td>A</td>\n",
       "      <td>40</td>\n",
       "    </tr>\n",
       "    <tr>\n",
       "      <th>4</th>\n",
       "      <td>c2</td>\n",
       "      <td>p2</td>\n",
       "      <td>A</td>\n",
       "      <td>15</td>\n",
       "    </tr>\n",
       "    <tr>\n",
       "      <th>5</th>\n",
       "      <td>c2</td>\n",
       "      <td>p3</td>\n",
       "      <td>A</td>\n",
       "      <td>30</td>\n",
       "    </tr>\n",
       "    <tr>\n",
       "      <th>6</th>\n",
       "      <td>c3</td>\n",
       "      <td>p1</td>\n",
       "      <td>B</td>\n",
       "      <td>0</td>\n",
       "    </tr>\n",
       "    <tr>\n",
       "      <th>7</th>\n",
       "      <td>c3</td>\n",
       "      <td>p2</td>\n",
       "      <td>B</td>\n",
       "      <td>0</td>\n",
       "    </tr>\n",
       "    <tr>\n",
       "      <th>8</th>\n",
       "      <td>c3</td>\n",
       "      <td>p3</td>\n",
       "      <td>B</td>\n",
       "      <td>10</td>\n",
       "    </tr>\n",
       "  </tbody>\n",
       "</table>\n",
       "</div>"
      ],
      "text/plain": [
       "  cust_id prod_cd grade  pch_amt\n",
       "0      c1      p1     A       30\n",
       "1      c1      p2     A       10\n",
       "2      c1      p3     A        0\n",
       "3      c2      p1     A       40\n",
       "4      c2      p2     A       15\n",
       "5      c2      p3     A       30\n",
       "6      c3      p1     B        0\n",
       "7      c3      p2     B        0\n",
       "8      c3      p3     B       10"
      ]
     },
     "execution_count": 58,
     "metadata": {},
     "output_type": "execute_result"
    }
   ],
   "source": [
    "df"
   ]
  },
  {
   "cell_type": "markdown",
   "id": "68c163f1",
   "metadata": {},
   "source": [
    "아래와 같은 구조로 변경해보세요 (-- 1)\n",
    "```python\n",
    "# result_df\n",
    "prod_cd  p1  p2  p3\n",
    "cust_id           \n",
    "c1       30  10   0\n",
    "c2       40  15  30\n",
    "c3        0   0  10\n",
    "\n",
    "```"
   ]
  },
  {
   "cell_type": "code",
   "execution_count": 59,
   "id": "bd89f93a",
   "metadata": {
    "ExecuteTime": {
     "end_time": "2022-02-03T14:39:57.037275Z",
     "start_time": "2022-02-03T14:39:57.018170Z"
    }
   },
   "outputs": [
    {
     "data": {
      "text/html": [
       "<div>\n",
       "<style scoped>\n",
       "    .dataframe tbody tr th:only-of-type {\n",
       "        vertical-align: middle;\n",
       "    }\n",
       "\n",
       "    .dataframe tbody tr th {\n",
       "        vertical-align: top;\n",
       "    }\n",
       "\n",
       "    .dataframe thead th {\n",
       "        text-align: right;\n",
       "    }\n",
       "</style>\n",
       "<table border=\"1\" class=\"dataframe\">\n",
       "  <thead>\n",
       "    <tr style=\"text-align: right;\">\n",
       "      <th>prod_cd</th>\n",
       "      <th>p1</th>\n",
       "      <th>p2</th>\n",
       "      <th>p3</th>\n",
       "    </tr>\n",
       "    <tr>\n",
       "      <th>cust_id</th>\n",
       "      <th></th>\n",
       "      <th></th>\n",
       "      <th></th>\n",
       "    </tr>\n",
       "  </thead>\n",
       "  <tbody>\n",
       "    <tr>\n",
       "      <th>c1</th>\n",
       "      <td>30</td>\n",
       "      <td>10</td>\n",
       "      <td>0</td>\n",
       "    </tr>\n",
       "    <tr>\n",
       "      <th>c2</th>\n",
       "      <td>40</td>\n",
       "      <td>15</td>\n",
       "      <td>30</td>\n",
       "    </tr>\n",
       "    <tr>\n",
       "      <th>c3</th>\n",
       "      <td>0</td>\n",
       "      <td>0</td>\n",
       "      <td>10</td>\n",
       "    </tr>\n",
       "  </tbody>\n",
       "</table>\n",
       "</div>"
      ],
      "text/plain": [
       "prod_cd  p1  p2  p3\n",
       "cust_id            \n",
       "c1       30  10   0\n",
       "c2       40  15  30\n",
       "c3        0   0  10"
      ]
     },
     "execution_count": 59,
     "metadata": {},
     "output_type": "execute_result"
    }
   ],
   "source": [
    "df.pivot(index='cust_id', columns='prod_cd', values='pch_amt')"
   ]
  },
  {
   "cell_type": "markdown",
   "id": "5b8a897e",
   "metadata": {},
   "source": [
    "아래와 같은 구조로 변경해보세요 (-- 2)\n",
    "```python\n",
    "prod_cd        p1  p2  p3\n",
    "cust_id grade           \n",
    "c1      A      30  10   0\n",
    "c2      A      40  15  30\n",
    "c3      B       0   0  10\n",
    "```"
   ]
  },
  {
   "cell_type": "code",
   "execution_count": 60,
   "id": "8e1b06d2",
   "metadata": {
    "ExecuteTime": {
     "end_time": "2022-02-03T14:40:00.942587Z",
     "start_time": "2022-02-03T14:40:00.910348Z"
    }
   },
   "outputs": [
    {
     "data": {
      "text/html": [
       "<div>\n",
       "<style scoped>\n",
       "    .dataframe tbody tr th:only-of-type {\n",
       "        vertical-align: middle;\n",
       "    }\n",
       "\n",
       "    .dataframe tbody tr th {\n",
       "        vertical-align: top;\n",
       "    }\n",
       "\n",
       "    .dataframe thead th {\n",
       "        text-align: right;\n",
       "    }\n",
       "</style>\n",
       "<table border=\"1\" class=\"dataframe\">\n",
       "  <thead>\n",
       "    <tr style=\"text-align: right;\">\n",
       "      <th></th>\n",
       "      <th>prod_cd</th>\n",
       "      <th>p1</th>\n",
       "      <th>p2</th>\n",
       "      <th>p3</th>\n",
       "    </tr>\n",
       "    <tr>\n",
       "      <th>cust_id</th>\n",
       "      <th>grade</th>\n",
       "      <th></th>\n",
       "      <th></th>\n",
       "      <th></th>\n",
       "    </tr>\n",
       "  </thead>\n",
       "  <tbody>\n",
       "    <tr>\n",
       "      <th>c1</th>\n",
       "      <th>A</th>\n",
       "      <td>30</td>\n",
       "      <td>10</td>\n",
       "      <td>0</td>\n",
       "    </tr>\n",
       "    <tr>\n",
       "      <th>c2</th>\n",
       "      <th>A</th>\n",
       "      <td>40</td>\n",
       "      <td>15</td>\n",
       "      <td>30</td>\n",
       "    </tr>\n",
       "    <tr>\n",
       "      <th>c3</th>\n",
       "      <th>B</th>\n",
       "      <td>0</td>\n",
       "      <td>0</td>\n",
       "      <td>10</td>\n",
       "    </tr>\n",
       "  </tbody>\n",
       "</table>\n",
       "</div>"
      ],
      "text/plain": [
       "prod_cd        p1  p2  p3\n",
       "cust_id grade            \n",
       "c1      A      30  10   0\n",
       "c2      A      40  15  30\n",
       "c3      B       0   0  10"
      ]
     },
     "execution_count": 60,
     "metadata": {},
     "output_type": "execute_result"
    }
   ],
   "source": [
    "pd.pivot_table(df, index=['cust_id', 'grade'], columns='prod_cd', values='pch_amt')"
   ]
  },
  {
   "cell_type": "markdown",
   "id": "025424de",
   "metadata": {},
   "source": [
    "아래와 같은 구조로 변경해보세요 (-- 3)\n",
    "```python\n",
    "prod_cd    p1    p2    p3    All\n",
    "grade                          \n",
    "A        70.0  25.0  30.0  125.0\n",
    "B         0.0   0.0  10.0   10.0\n",
    "All      70.0  25.0  40.0  135.0\n",
    "```"
   ]
  },
  {
   "cell_type": "code",
   "execution_count": 62,
   "id": "dce59257",
   "metadata": {
    "ExecuteTime": {
     "end_time": "2022-02-03T14:42:34.406272Z",
     "start_time": "2022-02-03T14:42:34.359709Z"
    }
   },
   "outputs": [
    {
     "data": {
      "text/html": [
       "<div>\n",
       "<style scoped>\n",
       "    .dataframe tbody tr th:only-of-type {\n",
       "        vertical-align: middle;\n",
       "    }\n",
       "\n",
       "    .dataframe tbody tr th {\n",
       "        vertical-align: top;\n",
       "    }\n",
       "\n",
       "    .dataframe thead th {\n",
       "        text-align: right;\n",
       "    }\n",
       "</style>\n",
       "<table border=\"1\" class=\"dataframe\">\n",
       "  <thead>\n",
       "    <tr style=\"text-align: right;\">\n",
       "      <th>prod_cd</th>\n",
       "      <th>p1</th>\n",
       "      <th>p2</th>\n",
       "      <th>p3</th>\n",
       "      <th>All</th>\n",
       "    </tr>\n",
       "    <tr>\n",
       "      <th>grade</th>\n",
       "      <th></th>\n",
       "      <th></th>\n",
       "      <th></th>\n",
       "      <th></th>\n",
       "    </tr>\n",
       "  </thead>\n",
       "  <tbody>\n",
       "    <tr>\n",
       "      <th>A</th>\n",
       "      <td>70</td>\n",
       "      <td>25</td>\n",
       "      <td>30</td>\n",
       "      <td>125</td>\n",
       "    </tr>\n",
       "    <tr>\n",
       "      <th>B</th>\n",
       "      <td>0</td>\n",
       "      <td>0</td>\n",
       "      <td>10</td>\n",
       "      <td>10</td>\n",
       "    </tr>\n",
       "    <tr>\n",
       "      <th>All</th>\n",
       "      <td>70</td>\n",
       "      <td>25</td>\n",
       "      <td>40</td>\n",
       "      <td>135</td>\n",
       "    </tr>\n",
       "  </tbody>\n",
       "</table>\n",
       "</div>"
      ],
      "text/plain": [
       "prod_cd  p1  p2  p3  All\n",
       "grade                   \n",
       "A        70  25  30  125\n",
       "B         0   0  10   10\n",
       "All      70  25  40  135"
      ]
     },
     "execution_count": 62,
     "metadata": {},
     "output_type": "execute_result"
    }
   ],
   "source": [
    "pd.pivot_table(df, index = 'grade', columns='prod_cd', values = 'pch_amt', \n",
    "               aggfunc = sum, margins =True)"
   ]
  },
  {
   "cell_type": "markdown",
   "id": "6264904a",
   "metadata": {},
   "source": [
    "## 과제 2\n"
   ]
  },
  {
   "cell_type": "code",
   "execution_count": 64,
   "id": "cc567aa8",
   "metadata": {
    "ExecuteTime": {
     "end_time": "2022-02-03T14:44:24.577156Z",
     "start_time": "2022-02-03T14:44:24.566158Z"
    }
   },
   "outputs": [],
   "source": [
    "mul_index = pd.MultiIndex.from_tuples([('cust_1', '2015'), ('cust_1', '2016'),\n",
    "('cust_2', '2015'), ('cust_2', '2016')])\n",
    "\n",
    "data = pd.DataFrame(data=np.arange(16).reshape(4, 4),\n",
    "                    index=mul_index,\n",
    "                    columns=['prd_1', 'prd_2', 'prd_3', 'prd_4'],\n",
    "                    dtype='int')\n",
    "data.loc[['cust_2'], ['prd_4']] = np.nan"
   ]
  },
  {
   "cell_type": "code",
   "execution_count": 65,
   "id": "086a8299",
   "metadata": {
    "ExecuteTime": {
     "end_time": "2022-02-03T14:44:26.900173Z",
     "start_time": "2022-02-03T14:44:26.880174Z"
    }
   },
   "outputs": [
    {
     "data": {
      "text/html": [
       "<div>\n",
       "<style scoped>\n",
       "    .dataframe tbody tr th:only-of-type {\n",
       "        vertical-align: middle;\n",
       "    }\n",
       "\n",
       "    .dataframe tbody tr th {\n",
       "        vertical-align: top;\n",
       "    }\n",
       "\n",
       "    .dataframe thead th {\n",
       "        text-align: right;\n",
       "    }\n",
       "</style>\n",
       "<table border=\"1\" class=\"dataframe\">\n",
       "  <thead>\n",
       "    <tr style=\"text-align: right;\">\n",
       "      <th></th>\n",
       "      <th></th>\n",
       "      <th>prd_1</th>\n",
       "      <th>prd_2</th>\n",
       "      <th>prd_3</th>\n",
       "      <th>prd_4</th>\n",
       "    </tr>\n",
       "  </thead>\n",
       "  <tbody>\n",
       "    <tr>\n",
       "      <th rowspan=\"2\" valign=\"top\">cust_1</th>\n",
       "      <th>2015</th>\n",
       "      <td>0</td>\n",
       "      <td>1</td>\n",
       "      <td>2</td>\n",
       "      <td>3.0</td>\n",
       "    </tr>\n",
       "    <tr>\n",
       "      <th>2016</th>\n",
       "      <td>4</td>\n",
       "      <td>5</td>\n",
       "      <td>6</td>\n",
       "      <td>7.0</td>\n",
       "    </tr>\n",
       "    <tr>\n",
       "      <th rowspan=\"2\" valign=\"top\">cust_2</th>\n",
       "      <th>2015</th>\n",
       "      <td>8</td>\n",
       "      <td>9</td>\n",
       "      <td>10</td>\n",
       "      <td>NaN</td>\n",
       "    </tr>\n",
       "    <tr>\n",
       "      <th>2016</th>\n",
       "      <td>12</td>\n",
       "      <td>13</td>\n",
       "      <td>14</td>\n",
       "      <td>NaN</td>\n",
       "    </tr>\n",
       "  </tbody>\n",
       "</table>\n",
       "</div>"
      ],
      "text/plain": [
       "             prd_1  prd_2  prd_3  prd_4\n",
       "cust_1 2015      0      1      2    3.0\n",
       "       2016      4      5      6    7.0\n",
       "cust_2 2015      8      9     10    NaN\n",
       "       2016     12     13     14    NaN"
      ]
     },
     "execution_count": 65,
     "metadata": {},
     "output_type": "execute_result"
    }
   ],
   "source": [
    "data"
   ]
  },
  {
   "cell_type": "code",
   "execution_count": 69,
   "id": "969b0bd2",
   "metadata": {
    "ExecuteTime": {
     "end_time": "2022-02-03T14:46:20.329157Z",
     "start_time": "2022-02-03T14:46:20.323154Z"
    }
   },
   "outputs": [
    {
     "data": {
      "text/plain": [
       "cust_1  2015  prd_1     0.0\n",
       "              prd_2     1.0\n",
       "              prd_3     2.0\n",
       "              prd_4     3.0\n",
       "        2016  prd_1     4.0\n",
       "              prd_2     5.0\n",
       "              prd_3     6.0\n",
       "              prd_4     7.0\n",
       "cust_2  2015  prd_1     8.0\n",
       "              prd_2     9.0\n",
       "              prd_3    10.0\n",
       "              prd_4     NaN\n",
       "        2016  prd_1    12.0\n",
       "              prd_2    13.0\n",
       "              prd_3    14.0\n",
       "              prd_4     NaN\n",
       "dtype: float64"
      ]
     },
     "execution_count": 69,
     "metadata": {},
     "output_type": "execute_result"
    }
   ],
   "source": [
    "result_df = data.stack(dropna=False)\n",
    "result_df"
   ]
  },
  {
   "cell_type": "code",
   "execution_count": 73,
   "id": "ed0b9e83",
   "metadata": {
    "ExecuteTime": {
     "end_time": "2022-02-03T14:48:27.165828Z",
     "start_time": "2022-02-03T14:48:27.143831Z"
    }
   },
   "outputs": [
    {
     "data": {
      "text/html": [
       "<div>\n",
       "<style scoped>\n",
       "    .dataframe tbody tr th:only-of-type {\n",
       "        vertical-align: middle;\n",
       "    }\n",
       "\n",
       "    .dataframe tbody tr th {\n",
       "        vertical-align: top;\n",
       "    }\n",
       "\n",
       "    .dataframe thead th {\n",
       "        text-align: right;\n",
       "    }\n",
       "</style>\n",
       "<table border=\"1\" class=\"dataframe\">\n",
       "  <thead>\n",
       "    <tr style=\"text-align: right;\">\n",
       "      <th></th>\n",
       "      <th></th>\n",
       "      <th>2015</th>\n",
       "      <th>2016</th>\n",
       "    </tr>\n",
       "  </thead>\n",
       "  <tbody>\n",
       "    <tr>\n",
       "      <th rowspan=\"4\" valign=\"top\">cust_1</th>\n",
       "      <th>prd_1</th>\n",
       "      <td>0.0</td>\n",
       "      <td>4.0</td>\n",
       "    </tr>\n",
       "    <tr>\n",
       "      <th>prd_2</th>\n",
       "      <td>1.0</td>\n",
       "      <td>5.0</td>\n",
       "    </tr>\n",
       "    <tr>\n",
       "      <th>prd_3</th>\n",
       "      <td>2.0</td>\n",
       "      <td>6.0</td>\n",
       "    </tr>\n",
       "    <tr>\n",
       "      <th>prd_4</th>\n",
       "      <td>3.0</td>\n",
       "      <td>7.0</td>\n",
       "    </tr>\n",
       "    <tr>\n",
       "      <th rowspan=\"4\" valign=\"top\">cust_2</th>\n",
       "      <th>prd_1</th>\n",
       "      <td>8.0</td>\n",
       "      <td>12.0</td>\n",
       "    </tr>\n",
       "    <tr>\n",
       "      <th>prd_2</th>\n",
       "      <td>9.0</td>\n",
       "      <td>13.0</td>\n",
       "    </tr>\n",
       "    <tr>\n",
       "      <th>prd_3</th>\n",
       "      <td>10.0</td>\n",
       "      <td>14.0</td>\n",
       "    </tr>\n",
       "    <tr>\n",
       "      <th>prd_4</th>\n",
       "      <td>NaN</td>\n",
       "      <td>NaN</td>\n",
       "    </tr>\n",
       "  </tbody>\n",
       "</table>\n",
       "</div>"
      ],
      "text/plain": [
       "              2015  2016\n",
       "cust_1 prd_1   0.0   4.0\n",
       "       prd_2   1.0   5.0\n",
       "       prd_3   2.0   6.0\n",
       "       prd_4   3.0   7.0\n",
       "cust_2 prd_1   8.0  12.0\n",
       "       prd_2   9.0  13.0\n",
       "       prd_3  10.0  14.0\n",
       "       prd_4   NaN   NaN"
      ]
     },
     "execution_count": 73,
     "metadata": {},
     "output_type": "execute_result"
    }
   ],
   "source": [
    "result_df.unstack(1)"
   ]
  },
  {
   "cell_type": "markdown",
   "id": "d61798c1",
   "metadata": {},
   "source": [
    "## 과제 3"
   ]
  },
  {
   "cell_type": "code",
   "execution_count": 75,
   "id": "8e70a33a",
   "metadata": {
    "ExecuteTime": {
     "end_time": "2022-02-03T14:52:10.397166Z",
     "start_time": "2022-02-03T14:52:10.387166Z"
    }
   },
   "outputs": [
    {
     "data": {
      "text/html": [
       "<div>\n",
       "<style scoped>\n",
       "    .dataframe tbody tr th:only-of-type {\n",
       "        vertical-align: middle;\n",
       "    }\n",
       "\n",
       "    .dataframe tbody tr th {\n",
       "        vertical-align: top;\n",
       "    }\n",
       "\n",
       "    .dataframe thead th {\n",
       "        text-align: right;\n",
       "    }\n",
       "</style>\n",
       "<table border=\"1\" class=\"dataframe\">\n",
       "  <thead>\n",
       "    <tr style=\"text-align: right;\">\n",
       "      <th></th>\n",
       "      <th>cust_ID</th>\n",
       "      <th>prd_CD</th>\n",
       "      <th>pch_cnt</th>\n",
       "      <th>pch_amt</th>\n",
       "    </tr>\n",
       "  </thead>\n",
       "  <tbody>\n",
       "    <tr>\n",
       "      <th>0</th>\n",
       "      <td>C_001</td>\n",
       "      <td>P_001</td>\n",
       "      <td>1</td>\n",
       "      <td>100</td>\n",
       "    </tr>\n",
       "    <tr>\n",
       "      <th>1</th>\n",
       "      <td>C_001</td>\n",
       "      <td>P_002</td>\n",
       "      <td>2</td>\n",
       "      <td>200</td>\n",
       "    </tr>\n",
       "    <tr>\n",
       "      <th>2</th>\n",
       "      <td>C_002</td>\n",
       "      <td>P_001</td>\n",
       "      <td>3</td>\n",
       "      <td>300</td>\n",
       "    </tr>\n",
       "    <tr>\n",
       "      <th>3</th>\n",
       "      <td>C_002</td>\n",
       "      <td>P_002</td>\n",
       "      <td>4</td>\n",
       "      <td>400</td>\n",
       "    </tr>\n",
       "  </tbody>\n",
       "</table>\n",
       "</div>"
      ],
      "text/plain": [
       "  cust_ID prd_CD  pch_cnt  pch_amt\n",
       "0   C_001  P_001        1      100\n",
       "1   C_001  P_002        2      200\n",
       "2   C_002  P_001        3      300\n",
       "3   C_002  P_002        4      400"
      ]
     },
     "execution_count": 75,
     "metadata": {},
     "output_type": "execute_result"
    }
   ],
   "source": [
    "data = pd.DataFrame({'cust_ID': ['C_001', 'C_001', 'C_002', 'C_002'],\n",
    "                  'prd_CD': ['P_001', 'P_002', 'P_001', 'P_002'],\n",
    "                  'pch_cnt': [1, 2, 3, 4],\n",
    "                  'pch_amt': [100, 200, 300, 400]})\n",
    "data"
   ]
  },
  {
   "cell_type": "markdown",
   "id": "d5c7bd53",
   "metadata": {},
   "source": [
    "아래와 같은 구조로 변경해주세요(-- 1)\n",
    "``` python\n",
    "  cust_ID  prd_CD  pch_CD      pch_value\n",
    "0   C_001  P_001   pch_amt        100\n",
    "1   C_001  P_002   pch_amt        200\n",
    "2   C_002  P_001   pch_amt        300\n",
    "3   C_002  P_002   pch_amt        400\n",
    "4   C_001  P_001   pch_cnt          1\n",
    "5   C_001  P_002   pch_cnt          2\n",
    "6   C_002  P_001   pch_cnt          3\n",
    "7   C_002  P_002   pch_cnt          4\n",
    "```"
   ]
  },
  {
   "cell_type": "code",
   "execution_count": 79,
   "id": "dd4d8137",
   "metadata": {
    "ExecuteTime": {
     "end_time": "2022-02-03T14:57:25.797003Z",
     "start_time": "2022-02-03T14:57:25.778036Z"
    }
   },
   "outputs": [
    {
     "data": {
      "text/html": [
       "<div>\n",
       "<style scoped>\n",
       "    .dataframe tbody tr th:only-of-type {\n",
       "        vertical-align: middle;\n",
       "    }\n",
       "\n",
       "    .dataframe tbody tr th {\n",
       "        vertical-align: top;\n",
       "    }\n",
       "\n",
       "    .dataframe thead th {\n",
       "        text-align: right;\n",
       "    }\n",
       "</style>\n",
       "<table border=\"1\" class=\"dataframe\">\n",
       "  <thead>\n",
       "    <tr style=\"text-align: right;\">\n",
       "      <th></th>\n",
       "      <th>cust_ID</th>\n",
       "      <th>prd_CD</th>\n",
       "      <th>variable</th>\n",
       "      <th>value</th>\n",
       "    </tr>\n",
       "  </thead>\n",
       "  <tbody>\n",
       "    <tr>\n",
       "      <th>0</th>\n",
       "      <td>C_001</td>\n",
       "      <td>P_001</td>\n",
       "      <td>pch_cnt</td>\n",
       "      <td>1</td>\n",
       "    </tr>\n",
       "    <tr>\n",
       "      <th>1</th>\n",
       "      <td>C_001</td>\n",
       "      <td>P_002</td>\n",
       "      <td>pch_cnt</td>\n",
       "      <td>2</td>\n",
       "    </tr>\n",
       "    <tr>\n",
       "      <th>2</th>\n",
       "      <td>C_002</td>\n",
       "      <td>P_001</td>\n",
       "      <td>pch_cnt</td>\n",
       "      <td>3</td>\n",
       "    </tr>\n",
       "    <tr>\n",
       "      <th>3</th>\n",
       "      <td>C_002</td>\n",
       "      <td>P_002</td>\n",
       "      <td>pch_cnt</td>\n",
       "      <td>4</td>\n",
       "    </tr>\n",
       "    <tr>\n",
       "      <th>4</th>\n",
       "      <td>C_001</td>\n",
       "      <td>P_001</td>\n",
       "      <td>pch_amt</td>\n",
       "      <td>100</td>\n",
       "    </tr>\n",
       "    <tr>\n",
       "      <th>5</th>\n",
       "      <td>C_001</td>\n",
       "      <td>P_002</td>\n",
       "      <td>pch_amt</td>\n",
       "      <td>200</td>\n",
       "    </tr>\n",
       "    <tr>\n",
       "      <th>6</th>\n",
       "      <td>C_002</td>\n",
       "      <td>P_001</td>\n",
       "      <td>pch_amt</td>\n",
       "      <td>300</td>\n",
       "    </tr>\n",
       "    <tr>\n",
       "      <th>7</th>\n",
       "      <td>C_002</td>\n",
       "      <td>P_002</td>\n",
       "      <td>pch_amt</td>\n",
       "      <td>400</td>\n",
       "    </tr>\n",
       "  </tbody>\n",
       "</table>\n",
       "</div>"
      ],
      "text/plain": [
       "  cust_ID prd_CD variable  value\n",
       "0   C_001  P_001  pch_cnt      1\n",
       "1   C_001  P_002  pch_cnt      2\n",
       "2   C_002  P_001  pch_cnt      3\n",
       "3   C_002  P_002  pch_cnt      4\n",
       "4   C_001  P_001  pch_amt    100\n",
       "5   C_001  P_002  pch_amt    200\n",
       "6   C_002  P_001  pch_amt    300\n",
       "7   C_002  P_002  pch_amt    400"
      ]
     },
     "execution_count": 79,
     "metadata": {},
     "output_type": "execute_result"
    }
   ],
   "source": [
    "pd.melt(data, id_vars=['cust_ID', 'prd_CD'])"
   ]
  },
  {
   "cell_type": "markdown",
   "id": "967accf3",
   "metadata": {},
   "source": [
    "## 과제 4\n"
   ]
  },
  {
   "cell_type": "code",
   "execution_count": 81,
   "id": "472fb3f2",
   "metadata": {
    "ExecuteTime": {
     "end_time": "2022-02-03T14:58:17.890368Z",
     "start_time": "2022-02-03T14:58:17.866368Z"
    }
   },
   "outputs": [
    {
     "data": {
      "text/html": [
       "<div>\n",
       "<style scoped>\n",
       "    .dataframe tbody tr th:only-of-type {\n",
       "        vertical-align: middle;\n",
       "    }\n",
       "\n",
       "    .dataframe tbody tr th {\n",
       "        vertical-align: top;\n",
       "    }\n",
       "\n",
       "    .dataframe thead th {\n",
       "        text-align: right;\n",
       "    }\n",
       "</style>\n",
       "<table border=\"1\" class=\"dataframe\">\n",
       "  <thead>\n",
       "    <tr style=\"text-align: right;\">\n",
       "      <th></th>\n",
       "      <th>C1prd1</th>\n",
       "      <th>C1prd2</th>\n",
       "      <th>C2prd1</th>\n",
       "      <th>C2prd2</th>\n",
       "      <th>value</th>\n",
       "    </tr>\n",
       "  </thead>\n",
       "  <tbody>\n",
       "    <tr>\n",
       "      <th>0</th>\n",
       "      <td>a</td>\n",
       "      <td>d</td>\n",
       "      <td>2.5</td>\n",
       "      <td>3.2</td>\n",
       "      <td>-0.225143</td>\n",
       "    </tr>\n",
       "    <tr>\n",
       "      <th>1</th>\n",
       "      <td>b</td>\n",
       "      <td>e</td>\n",
       "      <td>1.2</td>\n",
       "      <td>1.3</td>\n",
       "      <td>1.734879</td>\n",
       "    </tr>\n",
       "    <tr>\n",
       "      <th>2</th>\n",
       "      <td>c</td>\n",
       "      <td>f</td>\n",
       "      <td>0.7</td>\n",
       "      <td>0.1</td>\n",
       "      <td>-0.479667</td>\n",
       "    </tr>\n",
       "  </tbody>\n",
       "</table>\n",
       "</div>"
      ],
      "text/plain": [
       "  C1prd1 C1prd2  C2prd1  C2prd2     value\n",
       "0      a      d     2.5     3.2 -0.225143\n",
       "1      b      e     1.2     1.3  1.734879\n",
       "2      c      f     0.7     0.1 -0.479667"
      ]
     },
     "execution_count": 81,
     "metadata": {},
     "output_type": "execute_result"
    }
   ],
   "source": [
    "data_wide = pd.DataFrame({\"C1prd1\": {0: \"a\", 1: \"b\", 2: \"c\"},\n",
    "                          \"C1prd2\": {0: \"d\", 1: \"e\", 2: \"f\"},\n",
    "                          \"C2prd1\": {0: 2.5, 1: 1.2, 2: .7},\n",
    "                          \"C2prd2\": {0: 3.2, 1: 1.3, 2: .1},\n",
    "                          \"value\": dict(zip(range(3), np.random.randn(3)))})\n",
    "data_wide"
   ]
  },
  {
   "cell_type": "markdown",
   "id": "87a67a4b",
   "metadata": {},
   "source": [
    "```python\n",
    "아래와 같은 구조로 변경해주세요(-- 1)\n",
    "                value     C1    C2\n",
    "seq_no prd                 \n",
    "0        prd1  1.331587   a     2.5\n",
    "1        prd1  0.715279   b     1.2\n",
    "2        prd1 -1.545400   c     0.7\n",
    "0        prd2  1.331587   d     3.2\n",
    "1        prd2  0.715279   e     1.3\n",
    "2        prd2 -1.545400   f     0.1\n",
    "```"
   ]
  },
  {
   "cell_type": "code",
   "execution_count": 82,
   "id": "0b80029f",
   "metadata": {
    "ExecuteTime": {
     "end_time": "2022-02-03T15:00:07.438314Z",
     "start_time": "2022-02-03T15:00:07.417319Z"
    }
   },
   "outputs": [
    {
     "data": {
      "text/html": [
       "<div>\n",
       "<style scoped>\n",
       "    .dataframe tbody tr th:only-of-type {\n",
       "        vertical-align: middle;\n",
       "    }\n",
       "\n",
       "    .dataframe tbody tr th {\n",
       "        vertical-align: top;\n",
       "    }\n",
       "\n",
       "    .dataframe thead th {\n",
       "        text-align: right;\n",
       "    }\n",
       "</style>\n",
       "<table border=\"1\" class=\"dataframe\">\n",
       "  <thead>\n",
       "    <tr style=\"text-align: right;\">\n",
       "      <th></th>\n",
       "      <th>C1prd1</th>\n",
       "      <th>C1prd2</th>\n",
       "      <th>C2prd1</th>\n",
       "      <th>C2prd2</th>\n",
       "      <th>value</th>\n",
       "      <th>seq_no</th>\n",
       "    </tr>\n",
       "  </thead>\n",
       "  <tbody>\n",
       "    <tr>\n",
       "      <th>0</th>\n",
       "      <td>a</td>\n",
       "      <td>d</td>\n",
       "      <td>2.5</td>\n",
       "      <td>3.2</td>\n",
       "      <td>-0.225143</td>\n",
       "      <td>0</td>\n",
       "    </tr>\n",
       "    <tr>\n",
       "      <th>1</th>\n",
       "      <td>b</td>\n",
       "      <td>e</td>\n",
       "      <td>1.2</td>\n",
       "      <td>1.3</td>\n",
       "      <td>1.734879</td>\n",
       "      <td>1</td>\n",
       "    </tr>\n",
       "    <tr>\n",
       "      <th>2</th>\n",
       "      <td>c</td>\n",
       "      <td>f</td>\n",
       "      <td>0.7</td>\n",
       "      <td>0.1</td>\n",
       "      <td>-0.479667</td>\n",
       "      <td>2</td>\n",
       "    </tr>\n",
       "  </tbody>\n",
       "</table>\n",
       "</div>"
      ],
      "text/plain": [
       "  C1prd1 C1prd2  C2prd1  C2prd2     value  seq_no\n",
       "0      a      d     2.5     3.2 -0.225143       0\n",
       "1      b      e     1.2     1.3  1.734879       1\n",
       "2      c      f     0.7     0.1 -0.479667       2"
      ]
     },
     "execution_count": 82,
     "metadata": {},
     "output_type": "execute_result"
    }
   ],
   "source": [
    "data_wide[\"seq_no\"] = data_wide.index\n",
    "data_wide"
   ]
  },
  {
   "cell_type": "code",
   "execution_count": 104,
   "id": "7de6c53a",
   "metadata": {
    "ExecuteTime": {
     "end_time": "2022-02-03T15:11:18.078630Z",
     "start_time": "2022-02-03T15:11:18.046600Z"
    }
   },
   "outputs": [
    {
     "data": {
      "text/html": [
       "<div>\n",
       "<style scoped>\n",
       "    .dataframe tbody tr th:only-of-type {\n",
       "        vertical-align: middle;\n",
       "    }\n",
       "\n",
       "    .dataframe tbody tr th {\n",
       "        vertical-align: top;\n",
       "    }\n",
       "\n",
       "    .dataframe thead th {\n",
       "        text-align: right;\n",
       "    }\n",
       "</style>\n",
       "<table border=\"1\" class=\"dataframe\">\n",
       "  <thead>\n",
       "    <tr style=\"text-align: right;\">\n",
       "      <th></th>\n",
       "      <th></th>\n",
       "      <th>value</th>\n",
       "      <th>C1</th>\n",
       "      <th>C2</th>\n",
       "    </tr>\n",
       "    <tr>\n",
       "      <th>seq_no</th>\n",
       "      <th>prd</th>\n",
       "      <th></th>\n",
       "      <th></th>\n",
       "      <th></th>\n",
       "    </tr>\n",
       "  </thead>\n",
       "  <tbody>\n",
       "    <tr>\n",
       "      <th>0</th>\n",
       "      <th>prd1</th>\n",
       "      <td>-0.225143</td>\n",
       "      <td>a</td>\n",
       "      <td>2.5</td>\n",
       "    </tr>\n",
       "    <tr>\n",
       "      <th>1</th>\n",
       "      <th>prd1</th>\n",
       "      <td>1.734879</td>\n",
       "      <td>b</td>\n",
       "      <td>1.2</td>\n",
       "    </tr>\n",
       "    <tr>\n",
       "      <th>2</th>\n",
       "      <th>prd1</th>\n",
       "      <td>-0.479667</td>\n",
       "      <td>c</td>\n",
       "      <td>0.7</td>\n",
       "    </tr>\n",
       "    <tr>\n",
       "      <th>0</th>\n",
       "      <th>prd2</th>\n",
       "      <td>-0.225143</td>\n",
       "      <td>d</td>\n",
       "      <td>3.2</td>\n",
       "    </tr>\n",
       "    <tr>\n",
       "      <th>1</th>\n",
       "      <th>prd2</th>\n",
       "      <td>1.734879</td>\n",
       "      <td>e</td>\n",
       "      <td>1.3</td>\n",
       "    </tr>\n",
       "    <tr>\n",
       "      <th>2</th>\n",
       "      <th>prd2</th>\n",
       "      <td>-0.479667</td>\n",
       "      <td>f</td>\n",
       "      <td>0.1</td>\n",
       "    </tr>\n",
       "  </tbody>\n",
       "</table>\n",
       "</div>"
      ],
      "text/plain": [
       "                value C1   C2\n",
       "seq_no prd                   \n",
       "0      prd1 -0.225143  a  2.5\n",
       "1      prd1  1.734879  b  1.2\n",
       "2      prd1 -0.479667  c  0.7\n",
       "0      prd2 -0.225143  d  3.2\n",
       "1      prd2  1.734879  e  1.3\n",
       "2      prd2 -0.479667  f  0.1"
      ]
     },
     "execution_count": 104,
     "metadata": {},
     "output_type": "execute_result"
    }
   ],
   "source": [
    "data_long = pd.wide_to_long(data_wide, stubnames=['C1', 'C2'], i='seq_no', j='prd'\n",
    "                            ,suffix='\\\\w+')\n",
    "data_long"
   ]
  },
  {
   "cell_type": "markdown",
   "id": "b75e5b0c",
   "metadata": {},
   "source": [
    "## 과제 5\n"
   ]
  },
  {
   "cell_type": "code",
   "execution_count": 106,
   "id": "3379d249",
   "metadata": {
    "ExecuteTime": {
     "end_time": "2022-02-03T15:12:21.238218Z",
     "start_time": "2022-02-03T15:12:21.227249Z"
    }
   },
   "outputs": [
    {
     "data": {
      "text/html": [
       "<div>\n",
       "<style scoped>\n",
       "    .dataframe tbody tr th:only-of-type {\n",
       "        vertical-align: middle;\n",
       "    }\n",
       "\n",
       "    .dataframe tbody tr th {\n",
       "        vertical-align: top;\n",
       "    }\n",
       "\n",
       "    .dataframe thead th {\n",
       "        text-align: right;\n",
       "    }\n",
       "</style>\n",
       "<table border=\"1\" class=\"dataframe\">\n",
       "  <thead>\n",
       "    <tr style=\"text-align: right;\">\n",
       "      <th></th>\n",
       "      <th>id</th>\n",
       "      <th>fac_1</th>\n",
       "      <th>fac_2</th>\n",
       "    </tr>\n",
       "  </thead>\n",
       "  <tbody>\n",
       "    <tr>\n",
       "      <th>0</th>\n",
       "      <td>id1</td>\n",
       "      <td>a</td>\n",
       "      <td>d</td>\n",
       "    </tr>\n",
       "    <tr>\n",
       "      <th>1</th>\n",
       "      <td>id1</td>\n",
       "      <td>a</td>\n",
       "      <td>d</td>\n",
       "    </tr>\n",
       "    <tr>\n",
       "      <th>2</th>\n",
       "      <td>id1</td>\n",
       "      <td>a</td>\n",
       "      <td>d</td>\n",
       "    </tr>\n",
       "    <tr>\n",
       "      <th>3</th>\n",
       "      <td>id2</td>\n",
       "      <td>b</td>\n",
       "      <td>c</td>\n",
       "    </tr>\n",
       "    <tr>\n",
       "      <th>4</th>\n",
       "      <td>id2</td>\n",
       "      <td>b</td>\n",
       "      <td>c</td>\n",
       "    </tr>\n",
       "    <tr>\n",
       "      <th>5</th>\n",
       "      <td>id3</td>\n",
       "      <td>b</td>\n",
       "      <td>d</td>\n",
       "    </tr>\n",
       "  </tbody>\n",
       "</table>\n",
       "</div>"
      ],
      "text/plain": [
       "    id fac_1 fac_2\n",
       "0  id1     a     d\n",
       "1  id1     a     d\n",
       "2  id1     a     d\n",
       "3  id2     b     c\n",
       "4  id2     b     c\n",
       "5  id3     b     d"
      ]
     },
     "execution_count": 106,
     "metadata": {},
     "output_type": "execute_result"
    }
   ],
   "source": [
    "data = pd.DataFrame({'id': ['id1', 'id1', 'id1', 'id2', 'id2', 'id3'],\n",
    "                     'fac_1': ['a', 'a', 'a', 'b', 'b', 'b'],\n",
    "                     'fac_2': ['d', 'd', 'd', 'c', 'c', 'd']})\n",
    "data"
   ]
  },
  {
   "cell_type": "markdown",
   "id": "7320aba4",
   "metadata": {},
   "source": [
    "```python\n",
    "아래와 같은 구조로 변경해주세요(-- 1)\n",
    "fac_2  c  d\n",
    "fac_1     \n",
    "a      0  3\n",
    "b      2  1\n",
    "```"
   ]
  },
  {
   "cell_type": "code",
   "execution_count": 108,
   "id": "2e62b807",
   "metadata": {
    "ExecuteTime": {
     "end_time": "2022-02-03T15:14:30.670365Z",
     "start_time": "2022-02-03T15:14:30.644393Z"
    }
   },
   "outputs": [
    {
     "data": {
      "text/html": [
       "<div>\n",
       "<style scoped>\n",
       "    .dataframe tbody tr th:only-of-type {\n",
       "        vertical-align: middle;\n",
       "    }\n",
       "\n",
       "    .dataframe tbody tr th {\n",
       "        vertical-align: top;\n",
       "    }\n",
       "\n",
       "    .dataframe thead th {\n",
       "        text-align: right;\n",
       "    }\n",
       "</style>\n",
       "<table border=\"1\" class=\"dataframe\">\n",
       "  <thead>\n",
       "    <tr style=\"text-align: right;\">\n",
       "      <th>fac_2</th>\n",
       "      <th>c</th>\n",
       "      <th>d</th>\n",
       "    </tr>\n",
       "    <tr>\n",
       "      <th>fac_1</th>\n",
       "      <th></th>\n",
       "      <th></th>\n",
       "    </tr>\n",
       "  </thead>\n",
       "  <tbody>\n",
       "    <tr>\n",
       "      <th>a</th>\n",
       "      <td>0</td>\n",
       "      <td>3</td>\n",
       "    </tr>\n",
       "    <tr>\n",
       "      <th>b</th>\n",
       "      <td>2</td>\n",
       "      <td>1</td>\n",
       "    </tr>\n",
       "  </tbody>\n",
       "</table>\n",
       "</div>"
      ],
      "text/plain": [
       "fac_2  c  d\n",
       "fac_1      \n",
       "a      0  3\n",
       "b      2  1"
      ]
     },
     "execution_count": 108,
     "metadata": {},
     "output_type": "execute_result"
    }
   ],
   "source": [
    "pd.crosstab(data.fac_1, data.fac_2)"
   ]
  },
  {
   "cell_type": "markdown",
   "id": "13405c64",
   "metadata": {},
   "source": [
    "``` python\n",
    "아래와 같은 구조로 변경해주세요(-- 2)\n",
    "fac_1  a  b  \n",
    "fac_2  d  c  d\n",
    "id           \n",
    "id1    3  0  0\n",
    "id2    0  2  0\n",
    "id3    0  0  1\n",
    "```"
   ]
  },
  {
   "cell_type": "code",
   "execution_count": 109,
   "id": "a60cae8d",
   "metadata": {
    "ExecuteTime": {
     "end_time": "2022-02-03T15:15:36.826535Z",
     "start_time": "2022-02-03T15:15:36.807534Z"
    }
   },
   "outputs": [
    {
     "data": {
      "text/html": [
       "<div>\n",
       "<style scoped>\n",
       "    .dataframe tbody tr th:only-of-type {\n",
       "        vertical-align: middle;\n",
       "    }\n",
       "\n",
       "    .dataframe tbody tr th {\n",
       "        vertical-align: top;\n",
       "    }\n",
       "\n",
       "    .dataframe thead tr th {\n",
       "        text-align: left;\n",
       "    }\n",
       "\n",
       "    .dataframe thead tr:last-of-type th {\n",
       "        text-align: right;\n",
       "    }\n",
       "</style>\n",
       "<table border=\"1\" class=\"dataframe\">\n",
       "  <thead>\n",
       "    <tr>\n",
       "      <th>fac_1</th>\n",
       "      <th>a</th>\n",
       "      <th colspan=\"2\" halign=\"left\">b</th>\n",
       "    </tr>\n",
       "    <tr>\n",
       "      <th>fac_2</th>\n",
       "      <th>d</th>\n",
       "      <th>c</th>\n",
       "      <th>d</th>\n",
       "    </tr>\n",
       "    <tr>\n",
       "      <th>id</th>\n",
       "      <th></th>\n",
       "      <th></th>\n",
       "      <th></th>\n",
       "    </tr>\n",
       "  </thead>\n",
       "  <tbody>\n",
       "    <tr>\n",
       "      <th>id1</th>\n",
       "      <td>3</td>\n",
       "      <td>0</td>\n",
       "      <td>0</td>\n",
       "    </tr>\n",
       "    <tr>\n",
       "      <th>id2</th>\n",
       "      <td>0</td>\n",
       "      <td>2</td>\n",
       "      <td>0</td>\n",
       "    </tr>\n",
       "    <tr>\n",
       "      <th>id3</th>\n",
       "      <td>0</td>\n",
       "      <td>0</td>\n",
       "      <td>1</td>\n",
       "    </tr>\n",
       "  </tbody>\n",
       "</table>\n",
       "</div>"
      ],
      "text/plain": [
       "fac_1  a  b   \n",
       "fac_2  d  c  d\n",
       "id            \n",
       "id1    3  0  0\n",
       "id2    0  2  0\n",
       "id3    0  0  1"
      ]
     },
     "execution_count": 109,
     "metadata": {},
     "output_type": "execute_result"
    }
   ],
   "source": [
    "pd.crosstab(data.id,[data.fac_1, data.fac_2])"
   ]
  },
  {
   "cell_type": "markdown",
   "id": "677c883d",
   "metadata": {},
   "source": [
    "아래와 같은 구조로 변경해주세요(-- 3)\n",
    "```python\n",
    "fac_1  a  b    All\n",
    "fac_2  d  c  d   \n",
    "id               \n",
    "id1    3  0  0   3\n",
    "id2    0  2  0   2\n",
    "id3    0  0  1   1\n",
    "All    3  2  1   6\n",
    "```"
   ]
  },
  {
   "cell_type": "code",
   "execution_count": 111,
   "id": "01a2abad",
   "metadata": {
    "ExecuteTime": {
     "end_time": "2022-02-03T15:16:50.950973Z",
     "start_time": "2022-02-03T15:16:50.911896Z"
    }
   },
   "outputs": [
    {
     "data": {
      "text/html": [
       "<div>\n",
       "<style scoped>\n",
       "    .dataframe tbody tr th:only-of-type {\n",
       "        vertical-align: middle;\n",
       "    }\n",
       "\n",
       "    .dataframe tbody tr th {\n",
       "        vertical-align: top;\n",
       "    }\n",
       "\n",
       "    .dataframe thead tr th {\n",
       "        text-align: left;\n",
       "    }\n",
       "\n",
       "    .dataframe thead tr:last-of-type th {\n",
       "        text-align: right;\n",
       "    }\n",
       "</style>\n",
       "<table border=\"1\" class=\"dataframe\">\n",
       "  <thead>\n",
       "    <tr>\n",
       "      <th>fac_1</th>\n",
       "      <th>a</th>\n",
       "      <th colspan=\"2\" halign=\"left\">b</th>\n",
       "      <th>All</th>\n",
       "    </tr>\n",
       "    <tr>\n",
       "      <th>fac_2</th>\n",
       "      <th>d</th>\n",
       "      <th>c</th>\n",
       "      <th>d</th>\n",
       "      <th></th>\n",
       "    </tr>\n",
       "    <tr>\n",
       "      <th>id</th>\n",
       "      <th></th>\n",
       "      <th></th>\n",
       "      <th></th>\n",
       "      <th></th>\n",
       "    </tr>\n",
       "  </thead>\n",
       "  <tbody>\n",
       "    <tr>\n",
       "      <th>id1</th>\n",
       "      <td>3</td>\n",
       "      <td>0</td>\n",
       "      <td>0</td>\n",
       "      <td>3</td>\n",
       "    </tr>\n",
       "    <tr>\n",
       "      <th>id2</th>\n",
       "      <td>0</td>\n",
       "      <td>2</td>\n",
       "      <td>0</td>\n",
       "      <td>2</td>\n",
       "    </tr>\n",
       "    <tr>\n",
       "      <th>id3</th>\n",
       "      <td>0</td>\n",
       "      <td>0</td>\n",
       "      <td>1</td>\n",
       "      <td>1</td>\n",
       "    </tr>\n",
       "    <tr>\n",
       "      <th>All</th>\n",
       "      <td>3</td>\n",
       "      <td>2</td>\n",
       "      <td>1</td>\n",
       "      <td>6</td>\n",
       "    </tr>\n",
       "  </tbody>\n",
       "</table>\n",
       "</div>"
      ],
      "text/plain": [
       "fac_1  a  b    All\n",
       "fac_2  d  c  d    \n",
       "id                \n",
       "id1    3  0  0   3\n",
       "id2    0  2  0   2\n",
       "id3    0  0  1   1\n",
       "All    3  2  1   6"
      ]
     },
     "execution_count": 111,
     "metadata": {},
     "output_type": "execute_result"
    }
   ],
   "source": [
    "pd.crosstab(data.id,[data.fac_1, data.fac_2], margins=True)"
   ]
  },
  {
   "cell_type": "code",
   "execution_count": null,
   "id": "c5837db5",
   "metadata": {},
   "outputs": [],
   "source": []
  }
 ],
 "metadata": {
  "kernelspec": {
   "display_name": "Python 3 (ipykernel)",
   "language": "python",
   "name": "python3"
  },
  "language_info": {
   "codemirror_mode": {
    "name": "ipython",
    "version": 3
   },
   "file_extension": ".py",
   "mimetype": "text/x-python",
   "name": "python",
   "nbconvert_exporter": "python",
   "pygments_lexer": "ipython3",
   "version": "3.9.7"
  },
  "toc": {
   "base_numbering": 1,
   "nav_menu": {},
   "number_sections": true,
   "sideBar": true,
   "skip_h1_title": false,
   "title_cell": "Table of Contents",
   "title_sidebar": "Contents",
   "toc_cell": false,
   "toc_position": {},
   "toc_section_display": true,
   "toc_window_display": false
  }
 },
 "nbformat": 4,
 "nbformat_minor": 5
}
