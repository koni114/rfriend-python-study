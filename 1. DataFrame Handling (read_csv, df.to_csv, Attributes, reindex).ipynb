{
 "cells": [
  {
   "cell_type": "markdown",
   "id": "86a48bf6",
   "metadata": {},
   "source": [
    "## CHAPTER1. TEXT,CSV 파일 불러오기 : <span style='background-color: #f1f8ff'><b>pd.read_csv()</b></span>"
   ]
  },
  {
   "cell_type": "markdown",
   "id": "475c5b6f",
   "metadata": {},
   "source": [
    "### csv 파일 불러오기 : read_csv()"
   ]
  },
  {
   "cell_type": "code",
   "execution_count": 10,
   "id": "4ea49c7a",
   "metadata": {
    "ExecuteTime": {
     "end_time": "2022-02-17T13:08:57.268415Z",
     "start_time": "2022-02-17T13:08:57.264386Z"
    }
   },
   "outputs": [],
   "source": [
    "import pandas as pd\n",
    "import numpy as np"
   ]
  },
  {
   "cell_type": "code",
   "execution_count": null,
   "id": "44aaf27b",
   "metadata": {
    "ExecuteTime": {
     "end_time": "2022-02-17T12:50:22.673814Z",
     "start_time": "2022-02-17T12:50:22.331823Z"
    }
   },
   "outputs": [],
   "source": [
    "csv_test = pd.read_csv('C:/Users/Administrator/Documents/Python/test_csv_file.csv')"
   ]
  },
  {
   "cell_type": "markdown",
   "id": "3c671812",
   "metadata": {},
   "source": [
    "### 구분자 '|' 인 text 파일 불러오기 : sep='|'\n"
   ]
  },
  {
   "cell_type": "code",
   "execution_count": null,
   "id": "a974720d",
   "metadata": {},
   "outputs": [],
   "source": [
    "text_test = pd.read_csv('C:/Users/Administrator/Documents/Python/test_text_file.txt', sep='|')"
   ]
  },
  {
   "cell_type": "markdown",
   "id": "32072db9",
   "metadata": {
    "ExecuteTime": {
     "end_time": "2022-02-17T12:52:57.495500Z",
     "start_time": "2022-02-17T12:52:57.472537Z"
    }
   },
   "source": [
    "구분자가 tab이라면 <span style='background-color: #f1f8ff'><b> sep = '\\t'</b></span>를 입력"
   ]
  },
  {
   "cell_type": "markdown",
   "id": "68d4ffd1",
   "metadata": {},
   "source": [
    "### 파일불러올 때 index 지정해주기: <b>index_col</b>"
   ]
  },
  {
   "cell_type": "code",
   "execution_count": null,
   "id": "7ff3ca56",
   "metadata": {},
   "outputs": [],
   "source": [
    "pd.read_csv('C:/Users/Administrator/Documents/Python/test_text_file.txt', sep='|', index_col=0)\n",
    "#index_col = 'ID' 로 지정해주어도 된다."
   ]
  },
  {
   "cell_type": "markdown",
   "id": "6eddd7ae",
   "metadata": {},
   "source": [
    "### 변수 이름 (Colnumn, name, header)이 없는 파일 불러올 때 이름 부여하기: <b>names=['x1', 'x2', ... ], header = None </b>"
   ]
  },
  {
   "cell_type": "code",
   "execution_count": null,
   "id": "2a64b4a0",
   "metadata": {},
   "outputs": [],
   "source": [
    "pd.read_csv('C:/Users/Administrator/Documents/Python/text_without_column_name.txt', sep='|', names=['ID', 'A', 'B', 'C', 'D'], header=None, index_col='ID')\n"
   ]
  },
  {
   "cell_type": "markdown",
   "id": "c4835365",
   "metadata": {},
   "source": [
    "### 5. 유니코드 디코드 에러, UnicodeDecodeError: 'utf-8' codec can't decode byte\n",
    "\n",
    "불러오려는 text, csv 파일의 encoding 설정과 Python encoding 설정이 서로 맞지 않으면 UnicodeDecodeError 가 발생합니다.  한글은 보통 'utf-8' 을 많이 사용하는데요, 만약 아래처럼 'utf-8' 코덱을 decode 할 수 없다고 에러 메시지가 나오는 경우가 있습니다\n",
    "\n",
    "<span style=\"color: red\">UnicodeDecodeError: 'utf-8' codec can't decode byte 0xc1 in position 26: invalid start byte </span>\n",
    "\n"
   ]
  },
  {
   "cell_type": "code",
   "execution_count": null,
   "id": "c3fbd4d1",
   "metadata": {},
   "outputs": [],
   "source": [
    "f = pd.read_csv('directory/file', sep='|'', encoding='CP949')"
   ]
  },
  {
   "cell_type": "markdown",
   "id": "dc33d066",
   "metadata": {},
   "source": [
    "### 특정 줄은 제외하고 불러오기: <span style='background-color: #f1f8ff'><b> skiprows = [x,x]</b></span>"
   ]
  },
  {
   "cell_type": "code",
   "execution_count": null,
   "id": "7f000fca",
   "metadata": {},
   "outputs": [],
   "source": [
    "# skip 1st and 2nd rows (do not read 1, 2 rows)\n",
    "csv_2 = pd.read_csv(\"C:/Users/admin/Documents/data/test_csv_file.csv\", \n",
    "                           skiprows = [1, 2])  "
   ]
  },
  {
   "cell_type": "markdown",
   "id": "3c58c7a1",
   "metadata": {},
   "source": [
    "### n 개의 행만 불러오기 :  <span style='background-color: #f1f8ff'><b> nrows = n</b></span>"
   ]
  },
  {
   "cell_type": "code",
   "execution_count": null,
   "id": "2294d0ca",
   "metadata": {},
   "outputs": [],
   "source": [
    "# read top 3 rows only\n",
    "\n",
    "csv_3 = pd.read_csv(\"C:/Users/admin/Documents/data/test_csv_file.csv\", \n",
    "                    nrows = 3)"
   ]
  },
  {
   "cell_type": "markdown",
   "id": "cc17b64f",
   "metadata": {},
   "source": [
    "### 사용자 정의 결측값 기호\n",
    "+ 불러오려는 데이터셋 파일에 다양한 모양, 기호의 결측값이 들어있을 수 있습니다.\n",
    "+ 이때 사용자 정의 결측값 기호를 표기해줌으로써 이들 특정 기호를 pandas가 결측값으로 인식할 수 있도록 해줍니다.\n",
    "+ 가령  어떤 문서에 숫자형 변수에 결측값이 '??'라는 표시로 입력이 되어있다고 한다면, 이를 pandas DataFrame으로 불러읽어들였을 경우 float나 int로 인식되어 불러오는 것이 아니라 string으로 인식해서 '??'를 결측값이 아니라 문자형으로 불러오게 됩니다.\n",
    "+ 이럴 경우 '??'를 결측값이라고 인식하라고 알려주는 역할이 <b>na_values = ['??']</b> 옵션입니다. \n",
    "\n"
   ]
  },
  {
   "cell_type": "code",
   "execution_count": null,
   "id": "567433d6",
   "metadata": {},
   "outputs": [],
   "source": [
    "df = pd.read_csv('C:/Users/Administrator/Documents/Python/test_text_file.txt', \n",
    "                             na_values = ['?', '??', 'N/A', 'NA', 'nan', 'NaN', '-nan', '-NaN', 'null')"
   ]
  },
  {
   "cell_type": "markdown",
   "id": "5ec9620e",
   "metadata": {},
   "source": [
    "### 데이터 유형  설정\n",
    "+ dtpye 옵션으로 사전형(dictionary)으로 각 칼럼(key) 별 데이터 유형(value)를 짝을 지어서 명시적으로 설정해 줄 수 있습니다. "
   ]
  },
  {
   "cell_type": "code",
   "execution_count": null,
   "id": "acec2e05",
   "metadata": {},
   "outputs": [],
   "source": [
    "df = pd.read_csv('C:/Users/Administrator/Documents/Python/test_text_file.txt',\n",
    "                            dtype = {\"ID\": int, \n",
    "                                          \"LAST_NAME\": str, \n",
    "                                          \"AGE\": float}\n",
    "                            )"
   ]
  },
  {
   "cell_type": "markdown",
   "id": "4ca92585",
   "metadata": {},
   "source": [
    "## DataFrame을 csv 파일로 내보내기 : df.to_csv()"
   ]
  },
  {
   "cell_type": "code",
   "execution_count": 7,
   "id": "faaa95bc",
   "metadata": {
    "ExecuteTime": {
     "end_time": "2022-02-17T13:06:41.372952Z",
     "start_time": "2022-02-17T13:06:41.352957Z"
    }
   },
   "outputs": [
    {
     "data": {
      "text/html": [
       "<div>\n",
       "<style scoped>\n",
       "    .dataframe tbody tr th:only-of-type {\n",
       "        vertical-align: middle;\n",
       "    }\n",
       "\n",
       "    .dataframe tbody tr th {\n",
       "        vertical-align: top;\n",
       "    }\n",
       "\n",
       "    .dataframe thead th {\n",
       "        text-align: right;\n",
       "    }\n",
       "</style>\n",
       "<table border=\"1\" class=\"dataframe\">\n",
       "  <thead>\n",
       "    <tr style=\"text-align: right;\">\n",
       "      <th></th>\n",
       "      <th>ID</th>\n",
       "      <th>X1</th>\n",
       "      <th>X2</th>\n",
       "    </tr>\n",
       "  </thead>\n",
       "  <tbody>\n",
       "    <tr>\n",
       "      <th>a</th>\n",
       "      <td>A1</td>\n",
       "      <td>1</td>\n",
       "      <td>3.0</td>\n",
       "    </tr>\n",
       "    <tr>\n",
       "      <th>b</th>\n",
       "      <td>A2</td>\n",
       "      <td>2</td>\n",
       "      <td>4.5</td>\n",
       "    </tr>\n",
       "    <tr>\n",
       "      <th>c</th>\n",
       "      <td>A3</td>\n",
       "      <td>3</td>\n",
       "      <td>3.2</td>\n",
       "    </tr>\n",
       "    <tr>\n",
       "      <th>d</th>\n",
       "      <td>A4</td>\n",
       "      <td>4</td>\n",
       "      <td>4.0</td>\n",
       "    </tr>\n",
       "    <tr>\n",
       "      <th>e</th>\n",
       "      <td>A5</td>\n",
       "      <td>5</td>\n",
       "      <td>3.5</td>\n",
       "    </tr>\n",
       "  </tbody>\n",
       "</table>\n",
       "</div>"
      ],
      "text/plain": [
       "   ID  X1   X2\n",
       "a  A1   1  3.0\n",
       "b  A2   2  4.5\n",
       "c  A3   3  3.2\n",
       "d  A4   4  4.0\n",
       "e  A5   5  3.5"
      ]
     },
     "execution_count": 7,
     "metadata": {},
     "output_type": "execute_result"
    }
   ],
   "source": [
    "data = {'ID': ['A1', 'A2', 'A3', 'A4', 'A5'],\n",
    "        'X1': [1, 2, 3, 4, 5],\n",
    "         'X2': [3.0, 4.5, 3.2, 4.0, 3.5]}\n",
    "data_df  = pd.DataFrame(data, index= ['a','b','c','d','e'])\n",
    "data_df"
   ]
  },
  {
   "cell_type": "markdown",
   "id": "5051882e",
   "metadata": {},
   "source": [
    "결측값(Missing Value)을 csv 파일로 내보낼 때 표기 지정하는 매개변수 설명을 위해서, 제일 마지막 행(row)에 결측값을 추가해보겠습니다."
   ]
  },
  {
   "cell_type": "code",
   "execution_count": 8,
   "id": "6a3b9576",
   "metadata": {
    "ExecuteTime": {
     "end_time": "2022-02-17T13:06:44.772365Z",
     "start_time": "2022-02-17T13:06:44.759352Z"
    }
   },
   "outputs": [
    {
     "data": {
      "text/html": [
       "<div>\n",
       "<style scoped>\n",
       "    .dataframe tbody tr th:only-of-type {\n",
       "        vertical-align: middle;\n",
       "    }\n",
       "\n",
       "    .dataframe tbody tr th {\n",
       "        vertical-align: top;\n",
       "    }\n",
       "\n",
       "    .dataframe thead th {\n",
       "        text-align: right;\n",
       "    }\n",
       "</style>\n",
       "<table border=\"1\" class=\"dataframe\">\n",
       "  <thead>\n",
       "    <tr style=\"text-align: right;\">\n",
       "      <th></th>\n",
       "      <th>ID</th>\n",
       "      <th>X1</th>\n",
       "      <th>X2</th>\n",
       "    </tr>\n",
       "  </thead>\n",
       "  <tbody>\n",
       "    <tr>\n",
       "      <th>a</th>\n",
       "      <td>A1</td>\n",
       "      <td>1.0</td>\n",
       "      <td>3.0</td>\n",
       "    </tr>\n",
       "    <tr>\n",
       "      <th>b</th>\n",
       "      <td>A2</td>\n",
       "      <td>2.0</td>\n",
       "      <td>4.5</td>\n",
       "    </tr>\n",
       "    <tr>\n",
       "      <th>c</th>\n",
       "      <td>A3</td>\n",
       "      <td>3.0</td>\n",
       "      <td>3.2</td>\n",
       "    </tr>\n",
       "    <tr>\n",
       "      <th>d</th>\n",
       "      <td>A4</td>\n",
       "      <td>4.0</td>\n",
       "      <td>4.0</td>\n",
       "    </tr>\n",
       "    <tr>\n",
       "      <th>e</th>\n",
       "      <td>A5</td>\n",
       "      <td>5.0</td>\n",
       "      <td>3.5</td>\n",
       "    </tr>\n",
       "    <tr>\n",
       "      <th>f</th>\n",
       "      <td>NaN</td>\n",
       "      <td>NaN</td>\n",
       "      <td>NaN</td>\n",
       "    </tr>\n",
       "  </tbody>\n",
       "</table>\n",
       "</div>"
      ],
      "text/plain": [
       "    ID   X1   X2\n",
       "a   A1  1.0  3.0\n",
       "b   A2  2.0  4.5\n",
       "c   A3  3.0  3.2\n",
       "d   A4  4.0  4.0\n",
       "e   A5  5.0  3.5\n",
       "f  NaN  NaN  NaN"
      ]
     },
     "execution_count": 8,
     "metadata": {},
     "output_type": "execute_result"
    }
   ],
   "source": [
    "data_df_2 = data_df.reindex(['a', 'b', 'c', 'd', 'e', 'f'])\n",
    "data_df_2"
   ]
  },
  {
   "cell_type": "code",
   "execution_count": null,
   "id": "9aedaf17",
   "metadata": {},
   "outputs": [],
   "source": [
    "data_df_2.to_csv('C:\\\\Documents\\\\Python\\\\data_df_2.csv', # file path, file name\n",
    "                 sep=',',   # seperator, delimiter (구분자)\n",
    "                na_rep='NaN')   # missing data representation (결측값 표기)"
   ]
  },
  {
   "cell_type": "markdown",
   "id": "97f47250",
   "metadata": {
    "ExecuteTime": {
     "end_time": "2022-02-17T13:08:03.367374Z",
     "start_time": "2022-02-17T13:08:03.356345Z"
    }
   },
   "source": [
    "```python\n",
    "header = True (첫번째 줄을 칼럼 이름으로 사용)\n",
    "columns = 특정 칼럼만 csv 로 쓰기 (내보내기) 할 때 칼럼 이름을 list에 적어줌\n",
    "index = True (행의 이름 index 도 같이 내보냄. index 내보내기 싫으면 False 명기)\n",
    "float_format = '%.2f' (예: float8 을 소수점 둘째 자리까지 표기)\n",
    "encoding = 'utf-8' (on Python 3)\n",
    "line_terminator = '\\n' (엔터로 줄 바꿈)\n",
    "date_format = None (datetime 객체에 대한 format 설정하지 않음)\n",
    "````\n",
    "\n",
    "\n",
    "        "
   ]
  },
  {
   "cell_type": "markdown",
   "id": "99797931",
   "metadata": {},
   "source": [
    "## pd.DataFrame 만들고 Attributes 조회하기"
   ]
  },
  {
   "cell_type": "markdown",
   "id": "d11bae77",
   "metadata": {},
   "source": [
    "### pands DataFrame 만들기\n",
    "\n",
    "<b>Data Frame 파라미터</b>\n",
    "+ (1-1) data : numpy ndarray, dict, DataFrame 등의 data source\n",
    "+ (1-2) index : 행(row) 이름, 만약 명기하지 않으면 np.arange(n)이 자동으로 할당 됨\n",
    "+ (1-3) column : 열(column) 이름, 만약 명기하지 않으면 역시 np.arnage(n)이 자동으로 할당 됨\n",
    "+ (1-4) dtype : 데이터 형태(type), 만약 지정하지 않으면 Python이 자동으로 추정해서 넣어줌\n",
    "+ (1-5) copy : 입력 데이터를 복사할지 지정. 디폴트는 False 임. (복사할 거 아니면 메모리 관리 차원에서 디폴트인 False 설정 사용하면 됨)\n"
   ]
  },
  {
   "cell_type": "code",
   "execution_count": 12,
   "id": "f231c1d9",
   "metadata": {
    "ExecuteTime": {
     "end_time": "2022-02-17T13:11:28.612368Z",
     "start_time": "2022-02-17T13:11:28.589345Z"
    }
   },
   "outputs": [
    {
     "data": {
      "text/html": [
       "<div>\n",
       "<style scoped>\n",
       "    .dataframe tbody tr th:only-of-type {\n",
       "        vertical-align: middle;\n",
       "    }\n",
       "\n",
       "    .dataframe tbody tr th {\n",
       "        vertical-align: top;\n",
       "    }\n",
       "\n",
       "    .dataframe thead th {\n",
       "        text-align: right;\n",
       "    }\n",
       "</style>\n",
       "<table border=\"1\" class=\"dataframe\">\n",
       "  <thead>\n",
       "    <tr style=\"text-align: right;\">\n",
       "      <th></th>\n",
       "      <th>c0</th>\n",
       "      <th>c1</th>\n",
       "      <th>c2</th>\n",
       "      <th>c3</th>\n",
       "    </tr>\n",
       "  </thead>\n",
       "  <tbody>\n",
       "    <tr>\n",
       "      <th>r0</th>\n",
       "      <td>0</td>\n",
       "      <td>1</td>\n",
       "      <td>2</td>\n",
       "      <td>3</td>\n",
       "    </tr>\n",
       "    <tr>\n",
       "      <th>r1</th>\n",
       "      <td>4</td>\n",
       "      <td>5</td>\n",
       "      <td>6</td>\n",
       "      <td>7</td>\n",
       "    </tr>\n",
       "    <tr>\n",
       "      <th>r2</th>\n",
       "      <td>8</td>\n",
       "      <td>9</td>\n",
       "      <td>10</td>\n",
       "      <td>11</td>\n",
       "    </tr>\n",
       "  </tbody>\n",
       "</table>\n",
       "</div>"
      ],
      "text/plain": [
       "    c0  c1  c2  c3\n",
       "r0   0   1   2   3\n",
       "r1   4   5   6   7\n",
       "r2   8   9  10  11"
      ]
     },
     "execution_count": 12,
     "metadata": {},
     "output_type": "execute_result"
    }
   ],
   "source": [
    "df_1 = pd.DataFrame(data=np.arange(12).reshape(3, 4),\n",
    "                    index=['r0', 'r1', 'r2'], # Will default to np.arange(n) if no indexing\n",
    "                    columns=['c0', 'c1', 'c2', 'c3'],\n",
    "                    dtype='int', # Data type to force, otherwise infer\n",
    "                    copy=False) # Copy data from inputs\n",
    "df_1"
   ]
  },
  {
   "cell_type": "markdown",
   "id": "4ed06c63",
   "metadata": {},
   "source": [
    "### DataFrame의 Attributes 조회하기"
   ]
  },
  {
   "cell_type": "markdown",
   "id": "d5215fa3",
   "metadata": {},
   "source": [
    "<span style='background-color: #fff5b1'><b>행과 열의 전치 (transpose)</b></span>"
   ]
  },
  {
   "cell_type": "code",
   "execution_count": 13,
   "id": "1db67c12",
   "metadata": {
    "ExecuteTime": {
     "end_time": "2022-02-17T13:12:39.325959Z",
     "start_time": "2022-02-17T13:12:39.308958Z"
    }
   },
   "outputs": [
    {
     "data": {
      "text/html": [
       "<div>\n",
       "<style scoped>\n",
       "    .dataframe tbody tr th:only-of-type {\n",
       "        vertical-align: middle;\n",
       "    }\n",
       "\n",
       "    .dataframe tbody tr th {\n",
       "        vertical-align: top;\n",
       "    }\n",
       "\n",
       "    .dataframe thead th {\n",
       "        text-align: right;\n",
       "    }\n",
       "</style>\n",
       "<table border=\"1\" class=\"dataframe\">\n",
       "  <thead>\n",
       "    <tr style=\"text-align: right;\">\n",
       "      <th></th>\n",
       "      <th>r0</th>\n",
       "      <th>r1</th>\n",
       "      <th>r2</th>\n",
       "    </tr>\n",
       "  </thead>\n",
       "  <tbody>\n",
       "    <tr>\n",
       "      <th>c0</th>\n",
       "      <td>0</td>\n",
       "      <td>4</td>\n",
       "      <td>8</td>\n",
       "    </tr>\n",
       "    <tr>\n",
       "      <th>c1</th>\n",
       "      <td>1</td>\n",
       "      <td>5</td>\n",
       "      <td>9</td>\n",
       "    </tr>\n",
       "    <tr>\n",
       "      <th>c2</th>\n",
       "      <td>2</td>\n",
       "      <td>6</td>\n",
       "      <td>10</td>\n",
       "    </tr>\n",
       "    <tr>\n",
       "      <th>c3</th>\n",
       "      <td>3</td>\n",
       "      <td>7</td>\n",
       "      <td>11</td>\n",
       "    </tr>\n",
       "  </tbody>\n",
       "</table>\n",
       "</div>"
      ],
      "text/plain": [
       "    r0  r1  r2\n",
       "c0   0   4   8\n",
       "c1   1   5   9\n",
       "c2   2   6  10\n",
       "c3   3   7  11"
      ]
     },
     "execution_count": 13,
     "metadata": {},
     "output_type": "execute_result"
    }
   ],
   "source": [
    "df_1.T"
   ]
  },
  {
   "cell_type": "markdown",
   "id": "2434b468",
   "metadata": {
    "ExecuteTime": {
     "end_time": "2022-02-17T13:13:21.360310Z",
     "start_time": "2022-02-17T13:13:21.348301Z"
    }
   },
   "source": [
    "<span style='background-color: #fff5b1'><b>행과 열 이름을 리스트로 반환</b></span>"
   ]
  },
  {
   "cell_type": "code",
   "execution_count": 15,
   "id": "82980b24",
   "metadata": {
    "ExecuteTime": {
     "end_time": "2022-02-17T13:13:30.199155Z",
     "start_time": "2022-02-17T13:13:30.192182Z"
    }
   },
   "outputs": [
    {
     "data": {
      "text/plain": [
       "[Index(['r0', 'r1', 'r2'], dtype='object'),\n",
       " Index(['c0', 'c1', 'c2', 'c3'], dtype='object')]"
      ]
     },
     "execution_count": 15,
     "metadata": {},
     "output_type": "execute_result"
    }
   ],
   "source": [
    "df_1.axes"
   ]
  },
  {
   "cell_type": "markdown",
   "id": "799ddbac",
   "metadata": {
    "ExecuteTime": {
     "end_time": "2022-02-17T13:13:43.186169Z",
     "start_time": "2022-02-17T13:13:43.174170Z"
    }
   },
   "source": [
    "<span style='background-color: #fff5b1'><b>dtypes: 데이터 형태 반환</b></span>"
   ]
  },
  {
   "cell_type": "code",
   "execution_count": 17,
   "id": "1a59666b",
   "metadata": {
    "ExecuteTime": {
     "end_time": "2022-02-17T13:13:52.349820Z",
     "start_time": "2022-02-17T13:13:52.340837Z"
    }
   },
   "outputs": [
    {
     "data": {
      "text/plain": [
       "c0    int32\n",
       "c1    int32\n",
       "c2    int32\n",
       "c3    int32\n",
       "dtype: object"
      ]
     },
     "execution_count": 17,
     "metadata": {},
     "output_type": "execute_result"
    }
   ],
   "source": [
    "df_1.dtypes"
   ]
  },
  {
   "cell_type": "markdown",
   "id": "eb7deb9f",
   "metadata": {
    "ExecuteTime": {
     "end_time": "2022-02-17T13:14:08.123203Z",
     "start_time": "2022-02-17T13:14:08.108208Z"
    }
   },
   "source": [
    "<span style='background-color: #fff5b1'><b>행과 열의 개수(차원)을 튜플로 반환</b></span>"
   ]
  },
  {
   "cell_type": "code",
   "execution_count": 19,
   "id": "ab18bb05",
   "metadata": {
    "ExecuteTime": {
     "end_time": "2022-02-17T13:14:14.233952Z",
     "start_time": "2022-02-17T13:14:14.219953Z"
    }
   },
   "outputs": [
    {
     "data": {
      "text/plain": [
       "(3, 4)"
      ]
     },
     "execution_count": 19,
     "metadata": {},
     "output_type": "execute_result"
    }
   ],
   "source": [
    "df_1.shape"
   ]
  },
  {
   "cell_type": "markdown",
   "id": "0b29cce2",
   "metadata": {
    "ExecuteTime": {
     "end_time": "2022-02-17T13:14:43.255610Z",
     "start_time": "2022-02-17T13:14:43.244578Z"
    }
   },
   "source": [
    "<span style='background-color: #fff5b1'><b>NDFrame의 원소의 개수를 반환</b></span>"
   ]
  },
  {
   "cell_type": "code",
   "execution_count": 21,
   "id": "8ffd9198",
   "metadata": {
    "ExecuteTime": {
     "end_time": "2022-02-17T13:14:49.167904Z",
     "start_time": "2022-02-17T13:14:49.154915Z"
    }
   },
   "outputs": [
    {
     "data": {
      "text/plain": [
       "12"
      ]
     },
     "execution_count": 21,
     "metadata": {},
     "output_type": "execute_result"
    }
   ],
   "source": [
    "df_1.size"
   ]
  },
  {
   "cell_type": "markdown",
   "id": "9d00411d",
   "metadata": {},
   "source": [
    "<span style='background-color: #fff5b1'><b>values: NDFrame의 원소를 numpy형태로 반환</b></span>"
   ]
  },
  {
   "cell_type": "code",
   "execution_count": 22,
   "id": "fbf9f1bd",
   "metadata": {
    "ExecuteTime": {
     "end_time": "2022-02-17T13:15:25.839945Z",
     "start_time": "2022-02-17T13:15:25.822916Z"
    }
   },
   "outputs": [
    {
     "data": {
      "text/plain": [
       "array([[ 0,  1,  2,  3],\n",
       "       [ 4,  5,  6,  7],\n",
       "       [ 8,  9, 10, 11]])"
      ]
     },
     "execution_count": 22,
     "metadata": {},
     "output_type": "execute_result"
    }
   ],
   "source": [
    " df_1.values"
   ]
  },
  {
   "cell_type": "markdown",
   "id": "6dca364e",
   "metadata": {},
   "source": [
    "## DataFrame의 행 또는 열 데이터 선택해서 가져오기 (DataFrame objects indexing and selection)\n",
    "\n"
   ]
  },
  {
   "cell_type": "code",
   "execution_count": 23,
   "id": "fdfa0a75",
   "metadata": {
    "ExecuteTime": {
     "end_time": "2022-02-17T13:17:45.640386Z",
     "start_time": "2022-02-17T13:17:45.625392Z"
    }
   },
   "outputs": [
    {
     "data": {
      "text/html": [
       "<div>\n",
       "<style scoped>\n",
       "    .dataframe tbody tr th:only-of-type {\n",
       "        vertical-align: middle;\n",
       "    }\n",
       "\n",
       "    .dataframe tbody tr th {\n",
       "        vertical-align: top;\n",
       "    }\n",
       "\n",
       "    .dataframe thead th {\n",
       "        text-align: right;\n",
       "    }\n",
       "</style>\n",
       "<table border=\"1\" class=\"dataframe\">\n",
       "  <thead>\n",
       "    <tr style=\"text-align: right;\">\n",
       "      <th></th>\n",
       "      <th>class_1</th>\n",
       "      <th>var_1</th>\n",
       "      <th>var_2</th>\n",
       "    </tr>\n",
       "  </thead>\n",
       "  <tbody>\n",
       "    <tr>\n",
       "      <th>r0</th>\n",
       "      <td>a</td>\n",
       "      <td>0</td>\n",
       "      <td>0.245600</td>\n",
       "    </tr>\n",
       "    <tr>\n",
       "      <th>r1</th>\n",
       "      <td>a</td>\n",
       "      <td>1</td>\n",
       "      <td>0.281207</td>\n",
       "    </tr>\n",
       "    <tr>\n",
       "      <th>r2</th>\n",
       "      <td>b</td>\n",
       "      <td>2</td>\n",
       "      <td>0.496406</td>\n",
       "    </tr>\n",
       "    <tr>\n",
       "      <th>r3</th>\n",
       "      <td>b</td>\n",
       "      <td>3</td>\n",
       "      <td>0.180524</td>\n",
       "    </tr>\n",
       "    <tr>\n",
       "      <th>r4</th>\n",
       "      <td>c</td>\n",
       "      <td>4</td>\n",
       "      <td>0.576114</td>\n",
       "    </tr>\n",
       "  </tbody>\n",
       "</table>\n",
       "</div>"
      ],
      "text/plain": [
       "   class_1  var_1     var_2\n",
       "r0       a      0  0.245600\n",
       "r1       a      1  0.281207\n",
       "r2       b      2  0.496406\n",
       "r3       b      3  0.180524\n",
       "r4       c      4  0.576114"
      ]
     },
     "execution_count": 23,
     "metadata": {},
     "output_type": "execute_result"
    }
   ],
   "source": [
    "df_2 = pd.DataFrame({\n",
    "    'class_1' : ['a', 'a', 'b', 'b', 'c'],\n",
    "    'var_1': np.arange(5),\n",
    "    'var_2': np.random.rand(5)}, index=['r0', 'r1', 'r2', 'r3', 'r4'])\n",
    "df_2"
   ]
  },
  {
   "cell_type": "markdown",
   "id": "1a87ebe6",
   "metadata": {},
   "source": [
    "### 행 기준으로 선택해서 가져오기"
   ]
  },
  {
   "cell_type": "code",
   "execution_count": 24,
   "id": "aa00ed95",
   "metadata": {
    "ExecuteTime": {
     "end_time": "2022-02-17T13:18:05.857947Z",
     "start_time": "2022-02-17T13:18:05.845950Z"
    }
   },
   "outputs": [
    {
     "data": {
      "text/plain": [
       "Index(['r0', 'r1', 'r2', 'r3', 'r4'], dtype='object')"
      ]
     },
     "execution_count": 24,
     "metadata": {},
     "output_type": "execute_result"
    }
   ],
   "source": [
    "df_2.index"
   ]
  },
  {
   "cell_type": "code",
   "execution_count": 25,
   "id": "c9a496bd",
   "metadata": {
    "ExecuteTime": {
     "end_time": "2022-02-17T13:18:13.557382Z",
     "start_time": "2022-02-17T13:18:13.539352Z"
    }
   },
   "outputs": [
    {
     "data": {
      "text/html": [
       "<div>\n",
       "<style scoped>\n",
       "    .dataframe tbody tr th:only-of-type {\n",
       "        vertical-align: middle;\n",
       "    }\n",
       "\n",
       "    .dataframe tbody tr th {\n",
       "        vertical-align: top;\n",
       "    }\n",
       "\n",
       "    .dataframe thead th {\n",
       "        text-align: right;\n",
       "    }\n",
       "</style>\n",
       "<table border=\"1\" class=\"dataframe\">\n",
       "  <thead>\n",
       "    <tr style=\"text-align: right;\">\n",
       "      <th></th>\n",
       "      <th>class_1</th>\n",
       "      <th>var_1</th>\n",
       "      <th>var_2</th>\n",
       "    </tr>\n",
       "  </thead>\n",
       "  <tbody>\n",
       "    <tr>\n",
       "      <th>r2</th>\n",
       "      <td>b</td>\n",
       "      <td>2</td>\n",
       "      <td>0.496406</td>\n",
       "    </tr>\n",
       "    <tr>\n",
       "      <th>r3</th>\n",
       "      <td>b</td>\n",
       "      <td>3</td>\n",
       "      <td>0.180524</td>\n",
       "    </tr>\n",
       "    <tr>\n",
       "      <th>r4</th>\n",
       "      <td>c</td>\n",
       "      <td>4</td>\n",
       "      <td>0.576114</td>\n",
       "    </tr>\n",
       "  </tbody>\n",
       "</table>\n",
       "</div>"
      ],
      "text/plain": [
       "   class_1  var_1     var_2\n",
       "r2       b      2  0.496406\n",
       "r3       b      3  0.180524\n",
       "r4       c      4  0.576114"
      ]
     },
     "execution_count": 25,
     "metadata": {},
     "output_type": "execute_result"
    }
   ],
   "source": [
    "df_2.iloc[2:]"
   ]
  },
  {
   "cell_type": "code",
   "execution_count": 27,
   "id": "7c09d8a9",
   "metadata": {
    "ExecuteTime": {
     "end_time": "2022-02-17T13:18:46.809494Z",
     "start_time": "2022-02-17T13:18:46.795525Z"
    }
   },
   "outputs": [
    {
     "data": {
      "text/plain": [
       "class_1           b\n",
       "var_1             2\n",
       "var_2      0.496406\n",
       "Name: r2, dtype: object"
      ]
     },
     "execution_count": 27,
     "metadata": {},
     "output_type": "execute_result"
    }
   ],
   "source": [
    "df_2.iloc[2]"
   ]
  },
  {
   "cell_type": "code",
   "execution_count": 30,
   "id": "5d5e7117",
   "metadata": {
    "ExecuteTime": {
     "end_time": "2022-02-17T13:19:08.537441Z",
     "start_time": "2022-02-17T13:19:08.530414Z"
    }
   },
   "outputs": [
    {
     "data": {
      "text/plain": [
       "class_1           b\n",
       "var_1             2\n",
       "var_2      0.496406\n",
       "Name: r2, dtype: object"
      ]
     },
     "execution_count": 30,
     "metadata": {},
     "output_type": "execute_result"
    }
   ],
   "source": [
    "df_2.loc['r2']"
   ]
  },
  {
   "cell_type": "code",
   "execution_count": 32,
   "id": "241b0255",
   "metadata": {
    "ExecuteTime": {
     "end_time": "2022-02-17T13:19:45.420942Z",
     "start_time": "2022-02-17T13:19:45.406945Z"
    }
   },
   "outputs": [
    {
     "data": {
      "text/html": [
       "<div>\n",
       "<style scoped>\n",
       "    .dataframe tbody tr th:only-of-type {\n",
       "        vertical-align: middle;\n",
       "    }\n",
       "\n",
       "    .dataframe tbody tr th {\n",
       "        vertical-align: top;\n",
       "    }\n",
       "\n",
       "    .dataframe thead th {\n",
       "        text-align: right;\n",
       "    }\n",
       "</style>\n",
       "<table border=\"1\" class=\"dataframe\">\n",
       "  <thead>\n",
       "    <tr style=\"text-align: right;\">\n",
       "      <th></th>\n",
       "      <th>class_1</th>\n",
       "      <th>var_1</th>\n",
       "      <th>var_2</th>\n",
       "    </tr>\n",
       "  </thead>\n",
       "  <tbody>\n",
       "    <tr>\n",
       "      <th>r0</th>\n",
       "      <td>a</td>\n",
       "      <td>0</td>\n",
       "      <td>0.245600</td>\n",
       "    </tr>\n",
       "    <tr>\n",
       "      <th>r1</th>\n",
       "      <td>a</td>\n",
       "      <td>1</td>\n",
       "      <td>0.281207</td>\n",
       "    </tr>\n",
       "  </tbody>\n",
       "</table>\n",
       "</div>"
      ],
      "text/plain": [
       "   class_1  var_1     var_2\n",
       "r0       a      0  0.245600\n",
       "r1       a      1  0.281207"
      ]
     },
     "execution_count": 32,
     "metadata": {},
     "output_type": "execute_result"
    }
   ],
   "source": [
    "df_2.head(2)"
   ]
  },
  {
   "cell_type": "code",
   "execution_count": 33,
   "id": "156029c6",
   "metadata": {
    "ExecuteTime": {
     "end_time": "2022-02-17T13:19:50.520205Z",
     "start_time": "2022-02-17T13:19:50.506212Z"
    }
   },
   "outputs": [
    {
     "data": {
      "text/html": [
       "<div>\n",
       "<style scoped>\n",
       "    .dataframe tbody tr th:only-of-type {\n",
       "        vertical-align: middle;\n",
       "    }\n",
       "\n",
       "    .dataframe tbody tr th {\n",
       "        vertical-align: top;\n",
       "    }\n",
       "\n",
       "    .dataframe thead th {\n",
       "        text-align: right;\n",
       "    }\n",
       "</style>\n",
       "<table border=\"1\" class=\"dataframe\">\n",
       "  <thead>\n",
       "    <tr style=\"text-align: right;\">\n",
       "      <th></th>\n",
       "      <th>class_1</th>\n",
       "      <th>var_1</th>\n",
       "      <th>var_2</th>\n",
       "    </tr>\n",
       "  </thead>\n",
       "  <tbody>\n",
       "    <tr>\n",
       "      <th>r3</th>\n",
       "      <td>b</td>\n",
       "      <td>3</td>\n",
       "      <td>0.180524</td>\n",
       "    </tr>\n",
       "    <tr>\n",
       "      <th>r4</th>\n",
       "      <td>c</td>\n",
       "      <td>4</td>\n",
       "      <td>0.576114</td>\n",
       "    </tr>\n",
       "  </tbody>\n",
       "</table>\n",
       "</div>"
      ],
      "text/plain": [
       "   class_1  var_1     var_2\n",
       "r3       b      3  0.180524\n",
       "r4       c      4  0.576114"
      ]
     },
     "execution_count": 33,
     "metadata": {},
     "output_type": "execute_result"
    }
   ],
   "source": [
    "df_2.tail(2)"
   ]
  },
  {
   "cell_type": "markdown",
   "id": "4fa95e93",
   "metadata": {},
   "source": [
    "### 열 기준으로 선택해서 가져오기"
   ]
  },
  {
   "cell_type": "code",
   "execution_count": 36,
   "id": "dc198299",
   "metadata": {
    "ExecuteTime": {
     "end_time": "2022-02-17T13:20:18.914460Z",
     "start_time": "2022-02-17T13:20:18.901460Z"
    }
   },
   "outputs": [
    {
     "data": {
      "text/plain": [
       "Index(['class_1', 'var_1', 'var_2'], dtype='object')"
      ]
     },
     "execution_count": 36,
     "metadata": {},
     "output_type": "execute_result"
    }
   ],
   "source": [
    "df_2.columns"
   ]
  },
  {
   "cell_type": "code",
   "execution_count": 37,
   "id": "d851d80e",
   "metadata": {
    "ExecuteTime": {
     "end_time": "2022-02-17T13:20:26.977866Z",
     "start_time": "2022-02-17T13:20:26.966838Z"
    }
   },
   "outputs": [
    {
     "data": {
      "text/plain": [
       "r0    a\n",
       "r1    a\n",
       "r2    b\n",
       "r3    b\n",
       "r4    c\n",
       "Name: class_1, dtype: object"
      ]
     },
     "execution_count": 37,
     "metadata": {},
     "output_type": "execute_result"
    }
   ],
   "source": [
    "df_2['class_1']"
   ]
  },
  {
   "cell_type": "markdown",
   "id": "5b5ff3c7",
   "metadata": {},
   "source": [
    "두 개 이상의 열을 가져오고 싶을 때는 튜플을 사용!"
   ]
  },
  {
   "cell_type": "code",
   "execution_count": 38,
   "id": "bac6e7b2",
   "metadata": {
    "ExecuteTime": {
     "end_time": "2022-02-17T13:21:03.024724Z",
     "start_time": "2022-02-17T13:21:03.005692Z"
    }
   },
   "outputs": [
    {
     "data": {
      "text/html": [
       "<div>\n",
       "<style scoped>\n",
       "    .dataframe tbody tr th:only-of-type {\n",
       "        vertical-align: middle;\n",
       "    }\n",
       "\n",
       "    .dataframe tbody tr th {\n",
       "        vertical-align: top;\n",
       "    }\n",
       "\n",
       "    .dataframe thead th {\n",
       "        text-align: right;\n",
       "    }\n",
       "</style>\n",
       "<table border=\"1\" class=\"dataframe\">\n",
       "  <thead>\n",
       "    <tr style=\"text-align: right;\">\n",
       "      <th></th>\n",
       "      <th>class_1</th>\n",
       "      <th>var_1</th>\n",
       "    </tr>\n",
       "  </thead>\n",
       "  <tbody>\n",
       "    <tr>\n",
       "      <th>r0</th>\n",
       "      <td>a</td>\n",
       "      <td>0</td>\n",
       "    </tr>\n",
       "    <tr>\n",
       "      <th>r1</th>\n",
       "      <td>a</td>\n",
       "      <td>1</td>\n",
       "    </tr>\n",
       "    <tr>\n",
       "      <th>r2</th>\n",
       "      <td>b</td>\n",
       "      <td>2</td>\n",
       "    </tr>\n",
       "    <tr>\n",
       "      <th>r3</th>\n",
       "      <td>b</td>\n",
       "      <td>3</td>\n",
       "    </tr>\n",
       "    <tr>\n",
       "      <th>r4</th>\n",
       "      <td>c</td>\n",
       "      <td>4</td>\n",
       "    </tr>\n",
       "  </tbody>\n",
       "</table>\n",
       "</div>"
      ],
      "text/plain": [
       "   class_1  var_1\n",
       "r0       a      0\n",
       "r1       a      1\n",
       "r2       b      2\n",
       "r3       b      3\n",
       "r4       c      4"
      ]
     },
     "execution_count": 38,
     "metadata": {},
     "output_type": "execute_result"
    }
   ],
   "source": [
    "df_2[['class_1', 'var_1']]"
   ]
  },
  {
   "cell_type": "markdown",
   "id": "0504966d",
   "metadata": {},
   "source": [
    "## DataFrame의 index 재설정(reindex)와 결측값  채우기"
   ]
  },
  {
   "cell_type": "code",
   "execution_count": 41,
   "id": "e695fbd5",
   "metadata": {
    "ExecuteTime": {
     "end_time": "2022-02-17T13:22:39.251117Z",
     "start_time": "2022-02-17T13:22:39.234116Z"
    }
   },
   "outputs": [
    {
     "data": {
      "text/html": [
       "<div>\n",
       "<style scoped>\n",
       "    .dataframe tbody tr th:only-of-type {\n",
       "        vertical-align: middle;\n",
       "    }\n",
       "\n",
       "    .dataframe tbody tr th {\n",
       "        vertical-align: top;\n",
       "    }\n",
       "\n",
       "    .dataframe thead th {\n",
       "        text-align: right;\n",
       "    }\n",
       "</style>\n",
       "<table border=\"1\" class=\"dataframe\">\n",
       "  <thead>\n",
       "    <tr style=\"text-align: right;\">\n",
       "      <th></th>\n",
       "      <th>c1</th>\n",
       "      <th>c2</th>\n",
       "    </tr>\n",
       "  </thead>\n",
       "  <tbody>\n",
       "    <tr>\n",
       "      <th>r0</th>\n",
       "      <td>0</td>\n",
       "      <td>0.236344</td>\n",
       "    </tr>\n",
       "    <tr>\n",
       "      <th>r1</th>\n",
       "      <td>1</td>\n",
       "      <td>0.964089</td>\n",
       "    </tr>\n",
       "    <tr>\n",
       "      <th>r2</th>\n",
       "      <td>2</td>\n",
       "      <td>0.019205</td>\n",
       "    </tr>\n",
       "    <tr>\n",
       "      <th>r3</th>\n",
       "      <td>3</td>\n",
       "      <td>0.083136</td>\n",
       "    </tr>\n",
       "    <tr>\n",
       "      <th>r4</th>\n",
       "      <td>4</td>\n",
       "      <td>-0.177827</td>\n",
       "    </tr>\n",
       "  </tbody>\n",
       "</table>\n",
       "</div>"
      ],
      "text/plain": [
       "    c1        c2\n",
       "r0   0  0.236344\n",
       "r1   1  0.964089\n",
       "r2   2  0.019205\n",
       "r3   3  0.083136\n",
       "r4   4 -0.177827"
      ]
     },
     "execution_count": 41,
     "metadata": {},
     "output_type": "execute_result"
    }
   ],
   "source": [
    "idx = ['r0', 'r1', 'r2', 'r3', 'r4']\n",
    "df_3 = pd.DataFrame({\n",
    "        'c1': np.arange(5),\n",
    "        'c2': np.random.randn(5)},\n",
    "        index=idx)\n",
    "df_3"
   ]
  },
  {
   "cell_type": "markdown",
   "id": "37436b75",
   "metadata": {},
   "source": [
    "### index 재설정하기 : <span style='background-color: #f1f8ff'><b>reindex</b></span>"
   ]
  },
  {
   "cell_type": "code",
   "execution_count": 44,
   "id": "6ddd6086",
   "metadata": {
    "ExecuteTime": {
     "end_time": "2022-02-17T13:24:09.206835Z",
     "start_time": "2022-02-17T13:24:09.191851Z"
    }
   },
   "outputs": [],
   "source": [
    "new_idx= ['r0', 'r1', 'r2', 'r5', 'r6']"
   ]
  },
  {
   "cell_type": "code",
   "execution_count": 47,
   "id": "6d091063",
   "metadata": {
    "ExecuteTime": {
     "end_time": "2022-02-17T13:24:36.081992Z",
     "start_time": "2022-02-17T13:24:36.061991Z"
    }
   },
   "outputs": [
    {
     "data": {
      "text/html": [
       "<div>\n",
       "<style scoped>\n",
       "    .dataframe tbody tr th:only-of-type {\n",
       "        vertical-align: middle;\n",
       "    }\n",
       "\n",
       "    .dataframe tbody tr th {\n",
       "        vertical-align: top;\n",
       "    }\n",
       "\n",
       "    .dataframe thead th {\n",
       "        text-align: right;\n",
       "    }\n",
       "</style>\n",
       "<table border=\"1\" class=\"dataframe\">\n",
       "  <thead>\n",
       "    <tr style=\"text-align: right;\">\n",
       "      <th></th>\n",
       "      <th>c1</th>\n",
       "      <th>c2</th>\n",
       "    </tr>\n",
       "  </thead>\n",
       "  <tbody>\n",
       "    <tr>\n",
       "      <th>r0</th>\n",
       "      <td>0.0</td>\n",
       "      <td>0.236344</td>\n",
       "    </tr>\n",
       "    <tr>\n",
       "      <th>r1</th>\n",
       "      <td>1.0</td>\n",
       "      <td>0.964089</td>\n",
       "    </tr>\n",
       "    <tr>\n",
       "      <th>r2</th>\n",
       "      <td>2.0</td>\n",
       "      <td>0.019205</td>\n",
       "    </tr>\n",
       "    <tr>\n",
       "      <th>r5</th>\n",
       "      <td>NaN</td>\n",
       "      <td>NaN</td>\n",
       "    </tr>\n",
       "    <tr>\n",
       "      <th>r6</th>\n",
       "      <td>NaN</td>\n",
       "      <td>NaN</td>\n",
       "    </tr>\n",
       "  </tbody>\n",
       "</table>\n",
       "</div>"
      ],
      "text/plain": [
       "     c1        c2\n",
       "r0  0.0  0.236344\n",
       "r1  1.0  0.964089\n",
       "r2  2.0  0.019205\n",
       "r5  NaN       NaN\n",
       "r6  NaN       NaN"
      ]
     },
     "execution_count": 47,
     "metadata": {},
     "output_type": "execute_result"
    }
   ],
   "source": [
    "df_3.reindex(new_idx)"
   ]
  },
  {
   "cell_type": "markdown",
   "id": "24091390",
   "metadata": {},
   "source": [
    "### reindex과정에서 생긴 결측값 채우기 :  <span style='background-color: #f1f8ff'><b>fill_value</b></span>"
   ]
  },
  {
   "cell_type": "code",
   "execution_count": 48,
   "id": "79d3f397",
   "metadata": {
    "ExecuteTime": {
     "end_time": "2022-02-17T13:25:19.537530Z",
     "start_time": "2022-02-17T13:25:19.529565Z"
    }
   },
   "outputs": [
    {
     "data": {
      "text/html": [
       "<div>\n",
       "<style scoped>\n",
       "    .dataframe tbody tr th:only-of-type {\n",
       "        vertical-align: middle;\n",
       "    }\n",
       "\n",
       "    .dataframe tbody tr th {\n",
       "        vertical-align: top;\n",
       "    }\n",
       "\n",
       "    .dataframe thead th {\n",
       "        text-align: right;\n",
       "    }\n",
       "</style>\n",
       "<table border=\"1\" class=\"dataframe\">\n",
       "  <thead>\n",
       "    <tr style=\"text-align: right;\">\n",
       "      <th></th>\n",
       "      <th>c1</th>\n",
       "      <th>c2</th>\n",
       "    </tr>\n",
       "  </thead>\n",
       "  <tbody>\n",
       "    <tr>\n",
       "      <th>r0</th>\n",
       "      <td>0</td>\n",
       "      <td>0.236344</td>\n",
       "    </tr>\n",
       "    <tr>\n",
       "      <th>r1</th>\n",
       "      <td>1</td>\n",
       "      <td>0.964089</td>\n",
       "    </tr>\n",
       "    <tr>\n",
       "      <th>r2</th>\n",
       "      <td>2</td>\n",
       "      <td>0.019205</td>\n",
       "    </tr>\n",
       "    <tr>\n",
       "      <th>r5</th>\n",
       "      <td>0</td>\n",
       "      <td>0.000000</td>\n",
       "    </tr>\n",
       "    <tr>\n",
       "      <th>r6</th>\n",
       "      <td>0</td>\n",
       "      <td>0.000000</td>\n",
       "    </tr>\n",
       "  </tbody>\n",
       "</table>\n",
       "</div>"
      ],
      "text/plain": [
       "    c1        c2\n",
       "r0   0  0.236344\n",
       "r1   1  0.964089\n",
       "r2   2  0.019205\n",
       "r5   0  0.000000\n",
       "r6   0  0.000000"
      ]
     },
     "execution_count": 48,
     "metadata": {},
     "output_type": "execute_result"
    }
   ],
   "source": [
    "df_3.reindex(new_idx, fill_value = 0)"
   ]
  },
  {
   "cell_type": "code",
   "execution_count": 49,
   "id": "b9a76a8e",
   "metadata": {
    "ExecuteTime": {
     "end_time": "2022-02-17T13:25:28.783594Z",
     "start_time": "2022-02-17T13:25:28.770595Z"
    }
   },
   "outputs": [
    {
     "data": {
      "text/html": [
       "<div>\n",
       "<style scoped>\n",
       "    .dataframe tbody tr th:only-of-type {\n",
       "        vertical-align: middle;\n",
       "    }\n",
       "\n",
       "    .dataframe tbody tr th {\n",
       "        vertical-align: top;\n",
       "    }\n",
       "\n",
       "    .dataframe thead th {\n",
       "        text-align: right;\n",
       "    }\n",
       "</style>\n",
       "<table border=\"1\" class=\"dataframe\">\n",
       "  <thead>\n",
       "    <tr style=\"text-align: right;\">\n",
       "      <th></th>\n",
       "      <th>c1</th>\n",
       "      <th>c2</th>\n",
       "    </tr>\n",
       "  </thead>\n",
       "  <tbody>\n",
       "    <tr>\n",
       "      <th>r0</th>\n",
       "      <td>0</td>\n",
       "      <td>0.236344</td>\n",
       "    </tr>\n",
       "    <tr>\n",
       "      <th>r1</th>\n",
       "      <td>1</td>\n",
       "      <td>0.964089</td>\n",
       "    </tr>\n",
       "    <tr>\n",
       "      <th>r2</th>\n",
       "      <td>2</td>\n",
       "      <td>0.019205</td>\n",
       "    </tr>\n",
       "    <tr>\n",
       "      <th>r5</th>\n",
       "      <td>missing</td>\n",
       "      <td>missing</td>\n",
       "    </tr>\n",
       "    <tr>\n",
       "      <th>r6</th>\n",
       "      <td>missing</td>\n",
       "      <td>missing</td>\n",
       "    </tr>\n",
       "  </tbody>\n",
       "</table>\n",
       "</div>"
      ],
      "text/plain": [
       "         c1        c2\n",
       "r0        0  0.236344\n",
       "r1        1  0.964089\n",
       "r2        2  0.019205\n",
       "r5  missing   missing\n",
       "r6  missing   missing"
      ]
     },
     "execution_count": 49,
     "metadata": {},
     "output_type": "execute_result"
    }
   ],
   "source": [
    "df_3.reindex(new_idx, fill_value = 'missing')"
   ]
  },
  {
   "cell_type": "code",
   "execution_count": 51,
   "id": "588518a6",
   "metadata": {
    "ExecuteTime": {
     "end_time": "2022-02-17T13:25:39.435665Z",
     "start_time": "2022-02-17T13:25:39.413664Z"
    }
   },
   "outputs": [
    {
     "data": {
      "text/html": [
       "<div>\n",
       "<style scoped>\n",
       "    .dataframe tbody tr th:only-of-type {\n",
       "        vertical-align: middle;\n",
       "    }\n",
       "\n",
       "    .dataframe tbody tr th {\n",
       "        vertical-align: top;\n",
       "    }\n",
       "\n",
       "    .dataframe thead th {\n",
       "        text-align: right;\n",
       "    }\n",
       "</style>\n",
       "<table border=\"1\" class=\"dataframe\">\n",
       "  <thead>\n",
       "    <tr style=\"text-align: right;\">\n",
       "      <th></th>\n",
       "      <th>c1</th>\n",
       "      <th>c2</th>\n",
       "    </tr>\n",
       "  </thead>\n",
       "  <tbody>\n",
       "    <tr>\n",
       "      <th>r0</th>\n",
       "      <td>0</td>\n",
       "      <td>0.236344</td>\n",
       "    </tr>\n",
       "    <tr>\n",
       "      <th>r1</th>\n",
       "      <td>1</td>\n",
       "      <td>0.964089</td>\n",
       "    </tr>\n",
       "    <tr>\n",
       "      <th>r2</th>\n",
       "      <td>2</td>\n",
       "      <td>0.019205</td>\n",
       "    </tr>\n",
       "    <tr>\n",
       "      <th>r5</th>\n",
       "      <td>NA</td>\n",
       "      <td>NA</td>\n",
       "    </tr>\n",
       "    <tr>\n",
       "      <th>r6</th>\n",
       "      <td>NA</td>\n",
       "      <td>NA</td>\n",
       "    </tr>\n",
       "  </tbody>\n",
       "</table>\n",
       "</div>"
      ],
      "text/plain": [
       "    c1        c2\n",
       "r0   0  0.236344\n",
       "r1   1  0.964089\n",
       "r2   2  0.019205\n",
       "r5  NA        NA\n",
       "r6  NA        NA"
      ]
     },
     "execution_count": 51,
     "metadata": {},
     "output_type": "execute_result"
    }
   ],
   "source": [
    "df_3.reindex(new_idx, fill_value = 'NA')"
   ]
  },
  {
   "cell_type": "markdown",
   "id": "b214a7fd",
   "metadata": {},
   "source": [
    "### 시계열 데이터 만들기:  <span style='background-color: #f1f8ff'><b>pd.date_range(date, periods, freq)</b></span>"
   ]
  },
  {
   "cell_type": "code",
   "execution_count": 53,
   "id": "e6473ad8",
   "metadata": {
    "ExecuteTime": {
     "end_time": "2022-02-17T13:27:31.236855Z",
     "start_time": "2022-02-17T13:27:31.222826Z"
    }
   },
   "outputs": [
    {
     "data": {
      "text/plain": [
       "DatetimeIndex(['2016-11-27', '2016-11-28', '2016-11-29', '2016-11-30',\n",
       "               '2016-12-01'],\n",
       "              dtype='datetime64[ns]', freq='D')"
      ]
     },
     "execution_count": 53,
     "metadata": {},
     "output_type": "execute_result"
    }
   ],
   "source": [
    "date_idx = pd.date_range('11/27/2016', periods = 5, freq='D')\n",
    "date_idx"
   ]
  },
  {
   "cell_type": "code",
   "execution_count": 54,
   "id": "bc51e437",
   "metadata": {
    "ExecuteTime": {
     "end_time": "2022-02-17T13:28:11.224854Z",
     "start_time": "2022-02-17T13:28:11.215855Z"
    }
   },
   "outputs": [
    {
     "data": {
      "text/html": [
       "<div>\n",
       "<style scoped>\n",
       "    .dataframe tbody tr th:only-of-type {\n",
       "        vertical-align: middle;\n",
       "    }\n",
       "\n",
       "    .dataframe tbody tr th {\n",
       "        vertical-align: top;\n",
       "    }\n",
       "\n",
       "    .dataframe thead th {\n",
       "        text-align: right;\n",
       "    }\n",
       "</style>\n",
       "<table border=\"1\" class=\"dataframe\">\n",
       "  <thead>\n",
       "    <tr style=\"text-align: right;\">\n",
       "      <th></th>\n",
       "      <th>c1</th>\n",
       "    </tr>\n",
       "  </thead>\n",
       "  <tbody>\n",
       "    <tr>\n",
       "      <th>2016-11-27</th>\n",
       "      <td>10</td>\n",
       "    </tr>\n",
       "    <tr>\n",
       "      <th>2016-11-28</th>\n",
       "      <td>20</td>\n",
       "    </tr>\n",
       "    <tr>\n",
       "      <th>2016-11-29</th>\n",
       "      <td>30</td>\n",
       "    </tr>\n",
       "    <tr>\n",
       "      <th>2016-11-30</th>\n",
       "      <td>40</td>\n",
       "    </tr>\n",
       "    <tr>\n",
       "      <th>2016-12-01</th>\n",
       "      <td>50</td>\n",
       "    </tr>\n",
       "  </tbody>\n",
       "</table>\n",
       "</div>"
      ],
      "text/plain": [
       "            c1\n",
       "2016-11-27  10\n",
       "2016-11-28  20\n",
       "2016-11-29  30\n",
       "2016-11-30  40\n",
       "2016-12-01  50"
      ]
     },
     "execution_count": 54,
     "metadata": {},
     "output_type": "execute_result"
    }
   ],
   "source": [
    "df_4 = pd.DataFrame({\"c1\": [10, 20, 30, 40,50]}, index=date_idx)\n",
    "df_4"
   ]
  },
  {
   "cell_type": "markdown",
   "id": "88f42373",
   "metadata": {},
   "source": [
    "위에서 만든 시계열 데이터 DataFrame 의 date 앞/뒤로 reindex 를 사용해서 날짜 몇 개를 새로 추가해보겠습니다."
   ]
  },
  {
   "cell_type": "code",
   "execution_count": 55,
   "id": "2443ebe9",
   "metadata": {
    "ExecuteTime": {
     "end_time": "2022-02-17T13:28:37.015414Z",
     "start_time": "2022-02-17T13:28:37.011383Z"
    }
   },
   "outputs": [],
   "source": [
    "date_idx_2 = pd.date_range('11/25/2016', periods=10, freq='D')"
   ]
  },
  {
   "cell_type": "code",
   "execution_count": 56,
   "id": "19ef099b",
   "metadata": {
    "ExecuteTime": {
     "end_time": "2022-02-17T13:28:50.403638Z",
     "start_time": "2022-02-17T13:28:50.395638Z"
    }
   },
   "outputs": [
    {
     "data": {
      "text/html": [
       "<div>\n",
       "<style scoped>\n",
       "    .dataframe tbody tr th:only-of-type {\n",
       "        vertical-align: middle;\n",
       "    }\n",
       "\n",
       "    .dataframe tbody tr th {\n",
       "        vertical-align: top;\n",
       "    }\n",
       "\n",
       "    .dataframe thead th {\n",
       "        text-align: right;\n",
       "    }\n",
       "</style>\n",
       "<table border=\"1\" class=\"dataframe\">\n",
       "  <thead>\n",
       "    <tr style=\"text-align: right;\">\n",
       "      <th></th>\n",
       "      <th>c1</th>\n",
       "    </tr>\n",
       "  </thead>\n",
       "  <tbody>\n",
       "    <tr>\n",
       "      <th>2016-11-25</th>\n",
       "      <td>NaN</td>\n",
       "    </tr>\n",
       "    <tr>\n",
       "      <th>2016-11-26</th>\n",
       "      <td>NaN</td>\n",
       "    </tr>\n",
       "    <tr>\n",
       "      <th>2016-11-27</th>\n",
       "      <td>10.0</td>\n",
       "    </tr>\n",
       "    <tr>\n",
       "      <th>2016-11-28</th>\n",
       "      <td>20.0</td>\n",
       "    </tr>\n",
       "    <tr>\n",
       "      <th>2016-11-29</th>\n",
       "      <td>30.0</td>\n",
       "    </tr>\n",
       "    <tr>\n",
       "      <th>2016-11-30</th>\n",
       "      <td>40.0</td>\n",
       "    </tr>\n",
       "    <tr>\n",
       "      <th>2016-12-01</th>\n",
       "      <td>50.0</td>\n",
       "    </tr>\n",
       "    <tr>\n",
       "      <th>2016-12-02</th>\n",
       "      <td>NaN</td>\n",
       "    </tr>\n",
       "    <tr>\n",
       "      <th>2016-12-03</th>\n",
       "      <td>NaN</td>\n",
       "    </tr>\n",
       "    <tr>\n",
       "      <th>2016-12-04</th>\n",
       "      <td>NaN</td>\n",
       "    </tr>\n",
       "  </tbody>\n",
       "</table>\n",
       "</div>"
      ],
      "text/plain": [
       "              c1\n",
       "2016-11-25   NaN\n",
       "2016-11-26   NaN\n",
       "2016-11-27  10.0\n",
       "2016-11-28  20.0\n",
       "2016-11-29  30.0\n",
       "2016-11-30  40.0\n",
       "2016-12-01  50.0\n",
       "2016-12-02   NaN\n",
       "2016-12-03   NaN\n",
       "2016-12-04   NaN"
      ]
     },
     "execution_count": 56,
     "metadata": {},
     "output_type": "execute_result"
    }
   ],
   "source": [
    "df_4.reindex(date_idx_2)"
   ]
  },
  {
   "cell_type": "markdown",
   "id": "19b87c9e",
   "metadata": {},
   "source": [
    "### 시계열 데이터 reindex 과정에서 생긴 결측값 채우기:  <span style='background-color: #f1f8ff'><b> method = 'ffill','bfill </b></span>"
   ]
  },
  {
   "cell_type": "code",
   "execution_count": 57,
   "id": "b8c24f88",
   "metadata": {
    "ExecuteTime": {
     "end_time": "2022-02-17T13:30:00.985691Z",
     "start_time": "2022-02-17T13:30:00.975727Z"
    }
   },
   "outputs": [
    {
     "data": {
      "text/html": [
       "<div>\n",
       "<style scoped>\n",
       "    .dataframe tbody tr th:only-of-type {\n",
       "        vertical-align: middle;\n",
       "    }\n",
       "\n",
       "    .dataframe tbody tr th {\n",
       "        vertical-align: top;\n",
       "    }\n",
       "\n",
       "    .dataframe thead th {\n",
       "        text-align: right;\n",
       "    }\n",
       "</style>\n",
       "<table border=\"1\" class=\"dataframe\">\n",
       "  <thead>\n",
       "    <tr style=\"text-align: right;\">\n",
       "      <th></th>\n",
       "      <th>c1</th>\n",
       "    </tr>\n",
       "  </thead>\n",
       "  <tbody>\n",
       "    <tr>\n",
       "      <th>2016-11-25</th>\n",
       "      <td>NaN</td>\n",
       "    </tr>\n",
       "    <tr>\n",
       "      <th>2016-11-26</th>\n",
       "      <td>NaN</td>\n",
       "    </tr>\n",
       "    <tr>\n",
       "      <th>2016-11-27</th>\n",
       "      <td>10.0</td>\n",
       "    </tr>\n",
       "    <tr>\n",
       "      <th>2016-11-28</th>\n",
       "      <td>20.0</td>\n",
       "    </tr>\n",
       "    <tr>\n",
       "      <th>2016-11-29</th>\n",
       "      <td>30.0</td>\n",
       "    </tr>\n",
       "    <tr>\n",
       "      <th>2016-11-30</th>\n",
       "      <td>40.0</td>\n",
       "    </tr>\n",
       "    <tr>\n",
       "      <th>2016-12-01</th>\n",
       "      <td>50.0</td>\n",
       "    </tr>\n",
       "    <tr>\n",
       "      <th>2016-12-02</th>\n",
       "      <td>50.0</td>\n",
       "    </tr>\n",
       "    <tr>\n",
       "      <th>2016-12-03</th>\n",
       "      <td>50.0</td>\n",
       "    </tr>\n",
       "    <tr>\n",
       "      <th>2016-12-04</th>\n",
       "      <td>50.0</td>\n",
       "    </tr>\n",
       "  </tbody>\n",
       "</table>\n",
       "</div>"
      ],
      "text/plain": [
       "              c1\n",
       "2016-11-25   NaN\n",
       "2016-11-26   NaN\n",
       "2016-11-27  10.0\n",
       "2016-11-28  20.0\n",
       "2016-11-29  30.0\n",
       "2016-11-30  40.0\n",
       "2016-12-01  50.0\n",
       "2016-12-02  50.0\n",
       "2016-12-03  50.0\n",
       "2016-12-04  50.0"
      ]
     },
     "execution_count": 57,
     "metadata": {},
     "output_type": "execute_result"
    }
   ],
   "source": [
    "df_4.reindex(date_idx_2, method='ffill')\n",
    "#ffill을 사용해서 결측값 직전의 값으로 이후 결측값을 채움"
   ]
  },
  {
   "cell_type": "code",
   "execution_count": 58,
   "id": "98915574",
   "metadata": {
    "ExecuteTime": {
     "end_time": "2022-02-17T13:30:10.545118Z",
     "start_time": "2022-02-17T13:30:10.529118Z"
    }
   },
   "outputs": [
    {
     "data": {
      "text/html": [
       "<div>\n",
       "<style scoped>\n",
       "    .dataframe tbody tr th:only-of-type {\n",
       "        vertical-align: middle;\n",
       "    }\n",
       "\n",
       "    .dataframe tbody tr th {\n",
       "        vertical-align: top;\n",
       "    }\n",
       "\n",
       "    .dataframe thead th {\n",
       "        text-align: right;\n",
       "    }\n",
       "</style>\n",
       "<table border=\"1\" class=\"dataframe\">\n",
       "  <thead>\n",
       "    <tr style=\"text-align: right;\">\n",
       "      <th></th>\n",
       "      <th>c1</th>\n",
       "    </tr>\n",
       "  </thead>\n",
       "  <tbody>\n",
       "    <tr>\n",
       "      <th>2016-11-25</th>\n",
       "      <td>10.0</td>\n",
       "    </tr>\n",
       "    <tr>\n",
       "      <th>2016-11-26</th>\n",
       "      <td>10.0</td>\n",
       "    </tr>\n",
       "    <tr>\n",
       "      <th>2016-11-27</th>\n",
       "      <td>10.0</td>\n",
       "    </tr>\n",
       "    <tr>\n",
       "      <th>2016-11-28</th>\n",
       "      <td>20.0</td>\n",
       "    </tr>\n",
       "    <tr>\n",
       "      <th>2016-11-29</th>\n",
       "      <td>30.0</td>\n",
       "    </tr>\n",
       "    <tr>\n",
       "      <th>2016-11-30</th>\n",
       "      <td>40.0</td>\n",
       "    </tr>\n",
       "    <tr>\n",
       "      <th>2016-12-01</th>\n",
       "      <td>50.0</td>\n",
       "    </tr>\n",
       "    <tr>\n",
       "      <th>2016-12-02</th>\n",
       "      <td>NaN</td>\n",
       "    </tr>\n",
       "    <tr>\n",
       "      <th>2016-12-03</th>\n",
       "      <td>NaN</td>\n",
       "    </tr>\n",
       "    <tr>\n",
       "      <th>2016-12-04</th>\n",
       "      <td>NaN</td>\n",
       "    </tr>\n",
       "  </tbody>\n",
       "</table>\n",
       "</div>"
      ],
      "text/plain": [
       "              c1\n",
       "2016-11-25  10.0\n",
       "2016-11-26  10.0\n",
       "2016-11-27  10.0\n",
       "2016-11-28  20.0\n",
       "2016-11-29  30.0\n",
       "2016-11-30  40.0\n",
       "2016-12-01  50.0\n",
       "2016-12-02   NaN\n",
       "2016-12-03   NaN\n",
       "2016-12-04   NaN"
      ]
     },
     "execution_count": 58,
     "metadata": {},
     "output_type": "execute_result"
    }
   ],
   "source": [
    "df_4.reindex(date_idx_2, method='bfill')\n",
    "#bfill을 사용하면 시간의 뒷 순서의 결측값으로 이전 결측값을 채움"
   ]
  },
  {
   "cell_type": "code",
   "execution_count": null,
   "id": "007e1d8e",
   "metadata": {},
   "outputs": [],
   "source": []
  }
 ],
 "metadata": {
  "kernelspec": {
   "display_name": "Python 3 (ipykernel)",
   "language": "python",
   "name": "python3"
  },
  "language_info": {
   "codemirror_mode": {
    "name": "ipython",
    "version": 3
   },
   "file_extension": ".py",
   "mimetype": "text/x-python",
   "name": "python",
   "nbconvert_exporter": "python",
   "pygments_lexer": "ipython3",
   "version": "3.9.7"
  },
  "toc": {
   "base_numbering": 1,
   "nav_menu": {},
   "number_sections": true,
   "sideBar": true,
   "skip_h1_title": false,
   "title_cell": "Table of Contents",
   "title_sidebar": "Contents",
   "toc_cell": false,
   "toc_position": {},
   "toc_section_display": true,
   "toc_window_display": false
  }
 },
 "nbformat": 4,
 "nbformat_minor": 5
}
