{
 "cells": [
  {
   "cell_type": "markdown",
   "id": "1084e6ac",
   "metadata": {},
   "source": [
    "# 과제 1"
   ]
  },
  {
   "cell_type": "code",
   "execution_count": 2,
   "id": "eb39b0ed",
   "metadata": {
    "ExecuteTime": {
     "end_time": "2022-03-03T13:03:37.177237Z",
     "start_time": "2022-03-03T13:03:36.028894Z"
    }
   },
   "outputs": [],
   "source": [
    "import numpy as np\n",
    "import pandas as pd"
   ]
  },
  {
   "cell_type": "code",
   "execution_count": 3,
   "id": "c63598b9",
   "metadata": {
    "ExecuteTime": {
     "end_time": "2022-03-03T13:03:37.192564Z",
     "start_time": "2022-03-03T13:03:37.178230Z"
    }
   },
   "outputs": [],
   "source": [
    "from urllib.request import urlopen   "
   ]
  },
  {
   "cell_type": "code",
   "execution_count": 4,
   "id": "183a892c",
   "metadata": {
    "ExecuteTime": {
     "end_time": "2022-03-03T13:03:37.207723Z",
     "start_time": "2022-03-03T13:03:37.193531Z"
    }
   },
   "outputs": [],
   "source": [
    "url = 'https://archive.ics.uci.edu/ml/machine-learning-databases/abalone/abalone.data'\n",
    "\n",
    "# 출처: https://rfriend.tistory.com/392?category=675917 [R, Python 분석과 프로그래밍의 친구 (by R Friend)]"
   ]
  },
  {
   "cell_type": "code",
   "execution_count": 5,
   "id": "5cbd62a2",
   "metadata": {
    "ExecuteTime": {
     "end_time": "2022-03-03T13:03:38.463027Z",
     "start_time": "2022-03-03T13:03:37.772751Z"
    }
   },
   "outputs": [],
   "source": [
    "downloaded_data  = urlopen(url)"
   ]
  },
  {
   "cell_type": "code",
   "execution_count": 6,
   "id": "63293065",
   "metadata": {
    "ExecuteTime": {
     "end_time": "2022-03-03T13:03:38.935075Z",
     "start_time": "2022-03-03T13:03:38.470035Z"
    }
   },
   "outputs": [],
   "source": [
    "abalone = pd.read_csv(downloaded_data, \n",
    "                      names = ['sex', 'length', 'diameter', 'height', \n",
    "                               'whole_weight', 'shucked_weight', 'viscera_weight', \n",
    "                               'shell_weight', 'rings'], \n",
    "                      header = None)"
   ]
  },
  {
   "cell_type": "code",
   "execution_count": 7,
   "id": "79bc97e9",
   "metadata": {
    "ExecuteTime": {
     "end_time": "2022-03-03T13:03:38.965117Z",
     "start_time": "2022-03-03T13:03:38.935969Z"
    }
   },
   "outputs": [
    {
     "data": {
      "text/html": [
       "<div>\n",
       "<style scoped>\n",
       "    .dataframe tbody tr th:only-of-type {\n",
       "        vertical-align: middle;\n",
       "    }\n",
       "\n",
       "    .dataframe tbody tr th {\n",
       "        vertical-align: top;\n",
       "    }\n",
       "\n",
       "    .dataframe thead th {\n",
       "        text-align: right;\n",
       "    }\n",
       "</style>\n",
       "<table border=\"1\" class=\"dataframe\">\n",
       "  <thead>\n",
       "    <tr style=\"text-align: right;\">\n",
       "      <th></th>\n",
       "      <th>sex</th>\n",
       "      <th>length</th>\n",
       "      <th>diameter</th>\n",
       "      <th>height</th>\n",
       "      <th>whole_weight</th>\n",
       "      <th>shucked_weight</th>\n",
       "      <th>viscera_weight</th>\n",
       "      <th>shell_weight</th>\n",
       "      <th>rings</th>\n",
       "    </tr>\n",
       "  </thead>\n",
       "  <tbody>\n",
       "    <tr>\n",
       "      <th>0</th>\n",
       "      <td>M</td>\n",
       "      <td>0.455</td>\n",
       "      <td>0.365</td>\n",
       "      <td>0.095</td>\n",
       "      <td>0.5140</td>\n",
       "      <td>0.2245</td>\n",
       "      <td>0.1010</td>\n",
       "      <td>0.150</td>\n",
       "      <td>15</td>\n",
       "    </tr>\n",
       "    <tr>\n",
       "      <th>1</th>\n",
       "      <td>M</td>\n",
       "      <td>0.350</td>\n",
       "      <td>0.265</td>\n",
       "      <td>0.090</td>\n",
       "      <td>0.2255</td>\n",
       "      <td>0.0995</td>\n",
       "      <td>0.0485</td>\n",
       "      <td>0.070</td>\n",
       "      <td>7</td>\n",
       "    </tr>\n",
       "    <tr>\n",
       "      <th>2</th>\n",
       "      <td>F</td>\n",
       "      <td>0.530</td>\n",
       "      <td>0.420</td>\n",
       "      <td>0.135</td>\n",
       "      <td>0.6770</td>\n",
       "      <td>0.2565</td>\n",
       "      <td>0.1415</td>\n",
       "      <td>0.210</td>\n",
       "      <td>9</td>\n",
       "    </tr>\n",
       "    <tr>\n",
       "      <th>3</th>\n",
       "      <td>M</td>\n",
       "      <td>0.440</td>\n",
       "      <td>0.365</td>\n",
       "      <td>0.125</td>\n",
       "      <td>0.5160</td>\n",
       "      <td>0.2155</td>\n",
       "      <td>0.1140</td>\n",
       "      <td>0.155</td>\n",
       "      <td>10</td>\n",
       "    </tr>\n",
       "    <tr>\n",
       "      <th>4</th>\n",
       "      <td>I</td>\n",
       "      <td>0.330</td>\n",
       "      <td>0.255</td>\n",
       "      <td>0.080</td>\n",
       "      <td>0.2050</td>\n",
       "      <td>0.0895</td>\n",
       "      <td>0.0395</td>\n",
       "      <td>0.055</td>\n",
       "      <td>7</td>\n",
       "    </tr>\n",
       "  </tbody>\n",
       "</table>\n",
       "</div>"
      ],
      "text/plain": [
       "  sex  length  diameter  height  whole_weight  shucked_weight  viscera_weight  \\\n",
       "0   M   0.455     0.365   0.095        0.5140          0.2245          0.1010   \n",
       "1   M   0.350     0.265   0.090        0.2255          0.0995          0.0485   \n",
       "2   F   0.530     0.420   0.135        0.6770          0.2565          0.1415   \n",
       "3   M   0.440     0.365   0.125        0.5160          0.2155          0.1140   \n",
       "4   I   0.330     0.255   0.080        0.2050          0.0895          0.0395   \n",
       "\n",
       "   shell_weight  rings  \n",
       "0         0.150     15  \n",
       "1         0.070      7  \n",
       "2         0.210      9  \n",
       "3         0.155     10  \n",
       "4         0.055      7  "
      ]
     },
     "execution_count": 7,
     "metadata": {},
     "output_type": "execute_result"
    }
   ],
   "source": [
    "abalone.head()"
   ]
  },
  {
   "cell_type": "code",
   "execution_count": 8,
   "id": "a7b701ca",
   "metadata": {
    "ExecuteTime": {
     "end_time": "2022-03-03T13:03:38.980276Z",
     "start_time": "2022-03-03T13:03:38.966118Z"
    }
   },
   "outputs": [],
   "source": [
    "abalone['length_cat'] = np.where(abalone.length > np.median(abalone.length), 'length_long', 'length_short' )"
   ]
  },
  {
   "cell_type": "code",
   "execution_count": 9,
   "id": "a06881ff",
   "metadata": {
    "ExecuteTime": {
     "end_time": "2022-03-03T13:03:38.995276Z",
     "start_time": "2022-03-03T13:03:38.981277Z"
    }
   },
   "outputs": [
    {
     "data": {
      "text/plain": [
       "sex  length_cat  \n",
       "F    length_long     1.261330\n",
       "     length_short    0.589702\n",
       "I    length_long     0.923215\n",
       "     length_short    0.351234\n",
       "M    length_long     1.255182\n",
       "     length_short    0.538157\n",
       "Name: whole_weight, dtype: float64"
      ]
     },
     "execution_count": 9,
     "metadata": {},
     "output_type": "execute_result"
    }
   ],
   "source": [
    "abalone.groupby(['sex', 'length_cat'])['whole_weight'].mean()"
   ]
  },
  {
   "cell_type": "code",
   "execution_count": 10,
   "id": "025a21ef",
   "metadata": {
    "ExecuteTime": {
     "end_time": "2022-03-03T13:03:39.010307Z",
     "start_time": "2022-03-03T13:03:38.996276Z"
    }
   },
   "outputs": [
    {
     "data": {
      "text/html": [
       "<div>\n",
       "<style scoped>\n",
       "    .dataframe tbody tr th:only-of-type {\n",
       "        vertical-align: middle;\n",
       "    }\n",
       "\n",
       "    .dataframe tbody tr th {\n",
       "        vertical-align: top;\n",
       "    }\n",
       "\n",
       "    .dataframe thead th {\n",
       "        text-align: right;\n",
       "    }\n",
       "</style>\n",
       "<table border=\"1\" class=\"dataframe\">\n",
       "  <thead>\n",
       "    <tr style=\"text-align: right;\">\n",
       "      <th></th>\n",
       "      <th></th>\n",
       "      <th>size</th>\n",
       "      <th>mean</th>\n",
       "      <th>std</th>\n",
       "      <th>min</th>\n",
       "      <th>max</th>\n",
       "    </tr>\n",
       "    <tr>\n",
       "      <th>sex</th>\n",
       "      <th>length_cat</th>\n",
       "      <th></th>\n",
       "      <th></th>\n",
       "      <th></th>\n",
       "      <th></th>\n",
       "      <th></th>\n",
       "    </tr>\n",
       "  </thead>\n",
       "  <tbody>\n",
       "    <tr>\n",
       "      <th rowspan=\"2\" valign=\"top\">F</th>\n",
       "      <th>length_long</th>\n",
       "      <td>889</td>\n",
       "      <td>1.261330</td>\n",
       "      <td>0.329656</td>\n",
       "      <td>0.6405</td>\n",
       "      <td>2.6570</td>\n",
       "    </tr>\n",
       "    <tr>\n",
       "      <th>length_short</th>\n",
       "      <td>418</td>\n",
       "      <td>0.589702</td>\n",
       "      <td>0.202400</td>\n",
       "      <td>0.0800</td>\n",
       "      <td>1.3580</td>\n",
       "    </tr>\n",
       "    <tr>\n",
       "      <th rowspan=\"2\" valign=\"top\">I</th>\n",
       "      <th>length_long</th>\n",
       "      <td>188</td>\n",
       "      <td>0.923215</td>\n",
       "      <td>0.218334</td>\n",
       "      <td>0.5585</td>\n",
       "      <td>2.0495</td>\n",
       "    </tr>\n",
       "    <tr>\n",
       "      <th>length_short</th>\n",
       "      <td>1154</td>\n",
       "      <td>0.351234</td>\n",
       "      <td>0.204237</td>\n",
       "      <td>0.0020</td>\n",
       "      <td>1.0835</td>\n",
       "    </tr>\n",
       "    <tr>\n",
       "      <th rowspan=\"2\" valign=\"top\">M</th>\n",
       "      <th>length_long</th>\n",
       "      <td>966</td>\n",
       "      <td>1.255182</td>\n",
       "      <td>0.354682</td>\n",
       "      <td>0.5990</td>\n",
       "      <td>2.8255</td>\n",
       "    </tr>\n",
       "    <tr>\n",
       "      <th>length_short</th>\n",
       "      <td>562</td>\n",
       "      <td>0.538157</td>\n",
       "      <td>0.246498</td>\n",
       "      <td>0.0155</td>\n",
       "      <td>1.2825</td>\n",
       "    </tr>\n",
       "  </tbody>\n",
       "</table>\n",
       "</div>"
      ],
      "text/plain": [
       "                  size      mean       std     min     max\n",
       "sex length_cat                                            \n",
       "F   length_long    889  1.261330  0.329656  0.6405  2.6570\n",
       "    length_short   418  0.589702  0.202400  0.0800  1.3580\n",
       "I   length_long    188  0.923215  0.218334  0.5585  2.0495\n",
       "    length_short  1154  0.351234  0.204237  0.0020  1.0835\n",
       "M   length_long    966  1.255182  0.354682  0.5990  2.8255\n",
       "    length_short   562  0.538157  0.246498  0.0155  1.2825"
      ]
     },
     "execution_count": 10,
     "metadata": {},
     "output_type": "execute_result"
    }
   ],
   "source": [
    "abalone.groupby(['sex', 'length_cat'])['whole_weight'].agg(['size', 'mean', 'std', 'min', 'max'])"
   ]
  },
  {
   "cell_type": "code",
   "execution_count": 11,
   "id": "78622854",
   "metadata": {
    "ExecuteTime": {
     "end_time": "2022-03-03T13:03:39.132423Z",
     "start_time": "2022-03-03T13:03:39.103799Z"
    }
   },
   "outputs": [
    {
     "name": "stderr",
     "output_type": "stream",
     "text": [
      "C:\\Users\\hskyu\\AppData\\Local\\Temp/ipykernel_7608/3027913820.py:3: FutureWarning: Indexing with multiple keys (implicitly converted to a tuple of keys) will be deprecated, use a list instead.\n",
      "  groupby_result = grouped['whole_weight', 'shell_weight'].agg(function_list)\n"
     ]
    }
   ],
   "source": [
    "grouped = abalone.groupby(['sex', 'length_cat'])\n",
    "function_list = ['size', 'mean', 'std']\n",
    "groupby_result = grouped['whole_weight', 'shell_weight'].agg(function_list)"
   ]
  },
  {
   "cell_type": "code",
   "execution_count": 12,
   "id": "6902bee3",
   "metadata": {
    "ExecuteTime": {
     "end_time": "2022-03-03T13:03:42.386027Z",
     "start_time": "2022-03-03T13:03:42.372026Z"
    }
   },
   "outputs": [
    {
     "data": {
      "text/html": [
       "<div>\n",
       "<style scoped>\n",
       "    .dataframe tbody tr th:only-of-type {\n",
       "        vertical-align: middle;\n",
       "    }\n",
       "\n",
       "    .dataframe tbody tr th {\n",
       "        vertical-align: top;\n",
       "    }\n",
       "\n",
       "    .dataframe thead tr th {\n",
       "        text-align: left;\n",
       "    }\n",
       "\n",
       "    .dataframe thead tr:last-of-type th {\n",
       "        text-align: right;\n",
       "    }\n",
       "</style>\n",
       "<table border=\"1\" class=\"dataframe\">\n",
       "  <thead>\n",
       "    <tr>\n",
       "      <th></th>\n",
       "      <th></th>\n",
       "      <th colspan=\"3\" halign=\"left\">whole_weight</th>\n",
       "      <th colspan=\"3\" halign=\"left\">shell_weight</th>\n",
       "    </tr>\n",
       "    <tr>\n",
       "      <th></th>\n",
       "      <th></th>\n",
       "      <th>size</th>\n",
       "      <th>mean</th>\n",
       "      <th>std</th>\n",
       "      <th>size</th>\n",
       "      <th>mean</th>\n",
       "      <th>std</th>\n",
       "    </tr>\n",
       "    <tr>\n",
       "      <th>sex</th>\n",
       "      <th>length_cat</th>\n",
       "      <th></th>\n",
       "      <th></th>\n",
       "      <th></th>\n",
       "      <th></th>\n",
       "      <th></th>\n",
       "      <th></th>\n",
       "    </tr>\n",
       "  </thead>\n",
       "  <tbody>\n",
       "    <tr>\n",
       "      <th rowspan=\"2\" valign=\"top\">F</th>\n",
       "      <th>length_long</th>\n",
       "      <td>889</td>\n",
       "      <td>1.261330</td>\n",
       "      <td>0.329656</td>\n",
       "      <td>889</td>\n",
       "      <td>0.360013</td>\n",
       "      <td>0.104014</td>\n",
       "    </tr>\n",
       "    <tr>\n",
       "      <th>length_short</th>\n",
       "      <td>418</td>\n",
       "      <td>0.589702</td>\n",
       "      <td>0.202400</td>\n",
       "      <td>418</td>\n",
       "      <td>0.178650</td>\n",
       "      <td>0.063085</td>\n",
       "    </tr>\n",
       "    <tr>\n",
       "      <th rowspan=\"2\" valign=\"top\">I</th>\n",
       "      <th>length_long</th>\n",
       "      <td>188</td>\n",
       "      <td>0.923215</td>\n",
       "      <td>0.218334</td>\n",
       "      <td>188</td>\n",
       "      <td>0.273247</td>\n",
       "      <td>0.064607</td>\n",
       "    </tr>\n",
       "    <tr>\n",
       "      <th>length_short</th>\n",
       "      <td>1154</td>\n",
       "      <td>0.351234</td>\n",
       "      <td>0.204237</td>\n",
       "      <td>1154</td>\n",
       "      <td>0.104549</td>\n",
       "      <td>0.061003</td>\n",
       "    </tr>\n",
       "    <tr>\n",
       "      <th rowspan=\"2\" valign=\"top\">M</th>\n",
       "      <th>length_long</th>\n",
       "      <td>966</td>\n",
       "      <td>1.255182</td>\n",
       "      <td>0.354682</td>\n",
       "      <td>966</td>\n",
       "      <td>0.351683</td>\n",
       "      <td>0.102636</td>\n",
       "    </tr>\n",
       "    <tr>\n",
       "      <th>length_short</th>\n",
       "      <td>562</td>\n",
       "      <td>0.538157</td>\n",
       "      <td>0.246498</td>\n",
       "      <td>562</td>\n",
       "      <td>0.162141</td>\n",
       "      <td>0.075629</td>\n",
       "    </tr>\n",
       "  </tbody>\n",
       "</table>\n",
       "</div>"
      ],
      "text/plain": [
       "                 whole_weight                     shell_weight            \\\n",
       "                         size      mean       std         size      mean   \n",
       "sex length_cat                                                             \n",
       "F   length_long           889  1.261330  0.329656          889  0.360013   \n",
       "    length_short          418  0.589702  0.202400          418  0.178650   \n",
       "I   length_long           188  0.923215  0.218334          188  0.273247   \n",
       "    length_short         1154  0.351234  0.204237         1154  0.104549   \n",
       "M   length_long           966  1.255182  0.354682          966  0.351683   \n",
       "    length_short          562  0.538157  0.246498          562  0.162141   \n",
       "\n",
       "                            \n",
       "                       std  \n",
       "sex length_cat              \n",
       "F   length_long   0.104014  \n",
       "    length_short  0.063085  \n",
       "I   length_long   0.064607  \n",
       "    length_short  0.061003  \n",
       "M   length_long   0.102636  \n",
       "    length_short  0.075629  "
      ]
     },
     "execution_count": 12,
     "metadata": {},
     "output_type": "execute_result"
    }
   ],
   "source": [
    "groupby_result"
   ]
  },
  {
   "cell_type": "code",
   "execution_count": 14,
   "id": "18320ebb",
   "metadata": {
    "ExecuteTime": {
     "end_time": "2022-03-03T13:04:45.005725Z",
     "start_time": "2022-03-03T13:04:44.987727Z"
    }
   },
   "outputs": [
    {
     "data": {
      "text/html": [
       "<div>\n",
       "<style scoped>\n",
       "    .dataframe tbody tr th:only-of-type {\n",
       "        vertical-align: middle;\n",
       "    }\n",
       "\n",
       "    .dataframe tbody tr th {\n",
       "        vertical-align: top;\n",
       "    }\n",
       "\n",
       "    .dataframe thead tr th {\n",
       "        text-align: left;\n",
       "    }\n",
       "\n",
       "    .dataframe thead tr:last-of-type th {\n",
       "        text-align: right;\n",
       "    }\n",
       "</style>\n",
       "<table border=\"1\" class=\"dataframe\">\n",
       "  <thead>\n",
       "    <tr>\n",
       "      <th></th>\n",
       "      <th colspan=\"3\" halign=\"left\">whole_weight</th>\n",
       "      <th colspan=\"3\" halign=\"left\">shell_weight</th>\n",
       "    </tr>\n",
       "    <tr>\n",
       "      <th></th>\n",
       "      <th>size</th>\n",
       "      <th>mean</th>\n",
       "      <th>std</th>\n",
       "      <th>size</th>\n",
       "      <th>mean</th>\n",
       "      <th>std</th>\n",
       "    </tr>\n",
       "    <tr>\n",
       "      <th>length_cat</th>\n",
       "      <th></th>\n",
       "      <th></th>\n",
       "      <th></th>\n",
       "      <th></th>\n",
       "      <th></th>\n",
       "      <th></th>\n",
       "    </tr>\n",
       "  </thead>\n",
       "  <tbody>\n",
       "    <tr>\n",
       "      <th>length_long</th>\n",
       "      <td>966</td>\n",
       "      <td>1.255182</td>\n",
       "      <td>0.354682</td>\n",
       "      <td>966</td>\n",
       "      <td>0.351683</td>\n",
       "      <td>0.102636</td>\n",
       "    </tr>\n",
       "    <tr>\n",
       "      <th>length_short</th>\n",
       "      <td>562</td>\n",
       "      <td>0.538157</td>\n",
       "      <td>0.246498</td>\n",
       "      <td>562</td>\n",
       "      <td>0.162141</td>\n",
       "      <td>0.075629</td>\n",
       "    </tr>\n",
       "  </tbody>\n",
       "</table>\n",
       "</div>"
      ],
      "text/plain": [
       "             whole_weight                     shell_weight                    \n",
       "                     size      mean       std         size      mean       std\n",
       "length_cat                                                                    \n",
       "length_long           966  1.255182  0.354682          966  0.351683  0.102636\n",
       "length_short          562  0.538157  0.246498          562  0.162141  0.075629"
      ]
     },
     "execution_count": 14,
     "metadata": {},
     "output_type": "execute_result"
    }
   ],
   "source": [
    "groupby_result.loc['M']"
   ]
  },
  {
   "cell_type": "code",
   "execution_count": 15,
   "id": "e7b938aa",
   "metadata": {
    "ExecuteTime": {
     "end_time": "2022-03-03T13:05:16.592202Z",
     "start_time": "2022-03-03T13:05:16.576208Z"
    }
   },
   "outputs": [
    {
     "data": {
      "text/html": [
       "<div>\n",
       "<style scoped>\n",
       "    .dataframe tbody tr th:only-of-type {\n",
       "        vertical-align: middle;\n",
       "    }\n",
       "\n",
       "    .dataframe tbody tr th {\n",
       "        vertical-align: top;\n",
       "    }\n",
       "\n",
       "    .dataframe thead th {\n",
       "        text-align: right;\n",
       "    }\n",
       "</style>\n",
       "<table border=\"1\" class=\"dataframe\">\n",
       "  <thead>\n",
       "    <tr style=\"text-align: right;\">\n",
       "      <th></th>\n",
       "      <th>size</th>\n",
       "      <th>mean</th>\n",
       "      <th>std</th>\n",
       "    </tr>\n",
       "    <tr>\n",
       "      <th>length_cat</th>\n",
       "      <th></th>\n",
       "      <th></th>\n",
       "      <th></th>\n",
       "    </tr>\n",
       "  </thead>\n",
       "  <tbody>\n",
       "    <tr>\n",
       "      <th>length_long</th>\n",
       "      <td>966</td>\n",
       "      <td>0.351683</td>\n",
       "      <td>0.102636</td>\n",
       "    </tr>\n",
       "    <tr>\n",
       "      <th>length_short</th>\n",
       "      <td>562</td>\n",
       "      <td>0.162141</td>\n",
       "      <td>0.075629</td>\n",
       "    </tr>\n",
       "  </tbody>\n",
       "</table>\n",
       "</div>"
      ],
      "text/plain": [
       "              size      mean       std\n",
       "length_cat                            \n",
       "length_long    966  0.351683  0.102636\n",
       "length_short   562  0.162141  0.075629"
      ]
     },
     "execution_count": 15,
     "metadata": {},
     "output_type": "execute_result"
    }
   ],
   "source": [
    "groupby_result.loc['M', 'shell_weight']"
   ]
  },
  {
   "cell_type": "code",
   "execution_count": 25,
   "id": "b09ccbde",
   "metadata": {
    "ExecuteTime": {
     "end_time": "2022-03-03T13:10:37.619585Z",
     "start_time": "2022-03-03T13:10:37.601586Z"
    }
   },
   "outputs": [],
   "source": [
    "def range_func(x):\n",
    "    max_val = np.max(x)\n",
    "    min_val = np.min(x)\n",
    "    range_val = max_val - min_val\n",
    "    return range_val\n",
    "\n",
    "def iqr_func(x):\n",
    "    q3, q1 = np.percentile(x, [75, 25])\n",
    "    iqr = q3 - q1\n",
    "    return iqr\n"
   ]
  },
  {
   "cell_type": "code",
   "execution_count": 26,
   "id": "ea9f1994",
   "metadata": {
    "ExecuteTime": {
     "end_time": "2022-03-03T13:11:18.485129Z",
     "start_time": "2022-03-03T13:11:18.465146Z"
    }
   },
   "outputs": [
    {
     "data": {
      "text/html": [
       "<div>\n",
       "<style scoped>\n",
       "    .dataframe tbody tr th:only-of-type {\n",
       "        vertical-align: middle;\n",
       "    }\n",
       "\n",
       "    .dataframe tbody tr th {\n",
       "        vertical-align: top;\n",
       "    }\n",
       "\n",
       "    .dataframe thead tr th {\n",
       "        text-align: left;\n",
       "    }\n",
       "\n",
       "    .dataframe thead tr:last-of-type th {\n",
       "        text-align: right;\n",
       "    }\n",
       "</style>\n",
       "<table border=\"1\" class=\"dataframe\">\n",
       "  <thead>\n",
       "    <tr>\n",
       "      <th></th>\n",
       "      <th></th>\n",
       "      <th colspan=\"3\" halign=\"left\">whole_weight</th>\n",
       "      <th colspan=\"2\" halign=\"left\">shell_weight</th>\n",
       "    </tr>\n",
       "    <tr>\n",
       "      <th></th>\n",
       "      <th></th>\n",
       "      <th>size</th>\n",
       "      <th>mean</th>\n",
       "      <th>std</th>\n",
       "      <th>Range</th>\n",
       "      <th>Inter-Quartile_Range</th>\n",
       "    </tr>\n",
       "    <tr>\n",
       "      <th>sex</th>\n",
       "      <th>length_cat</th>\n",
       "      <th></th>\n",
       "      <th></th>\n",
       "      <th></th>\n",
       "      <th></th>\n",
       "      <th></th>\n",
       "    </tr>\n",
       "  </thead>\n",
       "  <tbody>\n",
       "    <tr>\n",
       "      <th rowspan=\"2\" valign=\"top\">F</th>\n",
       "      <th>length_long</th>\n",
       "      <td>889</td>\n",
       "      <td>1.261330</td>\n",
       "      <td>0.329656</td>\n",
       "      <td>0.850</td>\n",
       "      <td>0.127000</td>\n",
       "    </tr>\n",
       "    <tr>\n",
       "      <th>length_short</th>\n",
       "      <td>418</td>\n",
       "      <td>0.589702</td>\n",
       "      <td>0.202400</td>\n",
       "      <td>0.378</td>\n",
       "      <td>0.080500</td>\n",
       "    </tr>\n",
       "    <tr>\n",
       "      <th rowspan=\"2\" valign=\"top\">I</th>\n",
       "      <th>length_long</th>\n",
       "      <td>188</td>\n",
       "      <td>0.923215</td>\n",
       "      <td>0.218334</td>\n",
       "      <td>0.485</td>\n",
       "      <td>0.067875</td>\n",
       "    </tr>\n",
       "    <tr>\n",
       "      <th>length_short</th>\n",
       "      <td>1154</td>\n",
       "      <td>0.351234</td>\n",
       "      <td>0.204237</td>\n",
       "      <td>0.349</td>\n",
       "      <td>0.092750</td>\n",
       "    </tr>\n",
       "    <tr>\n",
       "      <th rowspan=\"2\" valign=\"top\">M</th>\n",
       "      <th>length_long</th>\n",
       "      <td>966</td>\n",
       "      <td>1.255182</td>\n",
       "      <td>0.354682</td>\n",
       "      <td>0.776</td>\n",
       "      <td>0.124000</td>\n",
       "    </tr>\n",
       "    <tr>\n",
       "      <th>length_short</th>\n",
       "      <td>562</td>\n",
       "      <td>0.538157</td>\n",
       "      <td>0.246498</td>\n",
       "      <td>0.375</td>\n",
       "      <td>0.102750</td>\n",
       "    </tr>\n",
       "  </tbody>\n",
       "</table>\n",
       "</div>"
      ],
      "text/plain": [
       "                 whole_weight                     shell_weight  \\\n",
       "                         size      mean       std        Range   \n",
       "sex length_cat                                                   \n",
       "F   length_long           889  1.261330  0.329656        0.850   \n",
       "    length_short          418  0.589702  0.202400        0.378   \n",
       "I   length_long           188  0.923215  0.218334        0.485   \n",
       "    length_short         1154  0.351234  0.204237        0.349   \n",
       "M   length_long           966  1.255182  0.354682        0.776   \n",
       "    length_short          562  0.538157  0.246498        0.375   \n",
       "\n",
       "                                       \n",
       "                 Inter-Quartile_Range  \n",
       "sex length_cat                         \n",
       "F   length_long              0.127000  \n",
       "    length_short             0.080500  \n",
       "I   length_long              0.067875  \n",
       "    length_short             0.092750  \n",
       "M   length_long              0.124000  \n",
       "    length_short             0.102750  "
      ]
     },
     "execution_count": 26,
     "metadata": {},
     "output_type": "execute_result"
    }
   ],
   "source": [
    "grouped.agg({'whole_weight': ['size', 'mean', 'std'],\n",
    "            'shell_weight': [('Range', range_func), ('Inter-Quartile_Range', iqr_func)]})"
   ]
  },
  {
   "cell_type": "markdown",
   "id": "7ac53700",
   "metadata": {},
   "source": [
    "# 과제 2"
   ]
  },
  {
   "cell_type": "code",
   "execution_count": 24,
   "id": "bd2ec8fe",
   "metadata": {
    "ExecuteTime": {
     "end_time": "2022-03-03T13:09:58.956462Z",
     "start_time": "2022-03-03T13:09:58.950437Z"
    }
   },
   "outputs": [],
   "source": [
    "df = pd.DataFrame({'grp_col_1' : ['a', 'a', 'a', 'a', 'a', 'b', 'b', 'b', 'b', 'b'], \n",
    "                   'grp_col_2' : ['c', 'c', 'd', 'd', 'd', 'e', 'e', 'f', 'f', 'f'], \n",
    "                   'val_1' : np.arange(10),                   \n",
    "                   'val_2' : np.random.randn(10)})"
   ]
  },
  {
   "cell_type": "code",
   "execution_count": 27,
   "id": "f9eab00a",
   "metadata": {
    "ExecuteTime": {
     "end_time": "2022-03-03T13:11:27.568609Z",
     "start_time": "2022-03-03T13:11:27.552573Z"
    }
   },
   "outputs": [
    {
     "data": {
      "text/html": [
       "<div>\n",
       "<style scoped>\n",
       "    .dataframe tbody tr th:only-of-type {\n",
       "        vertical-align: middle;\n",
       "    }\n",
       "\n",
       "    .dataframe tbody tr th {\n",
       "        vertical-align: top;\n",
       "    }\n",
       "\n",
       "    .dataframe thead th {\n",
       "        text-align: right;\n",
       "    }\n",
       "</style>\n",
       "<table border=\"1\" class=\"dataframe\">\n",
       "  <thead>\n",
       "    <tr style=\"text-align: right;\">\n",
       "      <th></th>\n",
       "      <th>grp_col_1</th>\n",
       "      <th>grp_col_2</th>\n",
       "      <th>val_1</th>\n",
       "      <th>val_2</th>\n",
       "    </tr>\n",
       "  </thead>\n",
       "  <tbody>\n",
       "    <tr>\n",
       "      <th>0</th>\n",
       "      <td>a</td>\n",
       "      <td>c</td>\n",
       "      <td>0</td>\n",
       "      <td>-0.272110</td>\n",
       "    </tr>\n",
       "    <tr>\n",
       "      <th>1</th>\n",
       "      <td>a</td>\n",
       "      <td>c</td>\n",
       "      <td>1</td>\n",
       "      <td>1.672979</td>\n",
       "    </tr>\n",
       "    <tr>\n",
       "      <th>2</th>\n",
       "      <td>a</td>\n",
       "      <td>d</td>\n",
       "      <td>2</td>\n",
       "      <td>-1.411327</td>\n",
       "    </tr>\n",
       "    <tr>\n",
       "      <th>3</th>\n",
       "      <td>a</td>\n",
       "      <td>d</td>\n",
       "      <td>3</td>\n",
       "      <td>-0.074964</td>\n",
       "    </tr>\n",
       "    <tr>\n",
       "      <th>4</th>\n",
       "      <td>a</td>\n",
       "      <td>d</td>\n",
       "      <td>4</td>\n",
       "      <td>-0.567623</td>\n",
       "    </tr>\n",
       "    <tr>\n",
       "      <th>5</th>\n",
       "      <td>b</td>\n",
       "      <td>e</td>\n",
       "      <td>5</td>\n",
       "      <td>-1.363419</td>\n",
       "    </tr>\n",
       "    <tr>\n",
       "      <th>6</th>\n",
       "      <td>b</td>\n",
       "      <td>e</td>\n",
       "      <td>6</td>\n",
       "      <td>-0.237726</td>\n",
       "    </tr>\n",
       "    <tr>\n",
       "      <th>7</th>\n",
       "      <td>b</td>\n",
       "      <td>f</td>\n",
       "      <td>7</td>\n",
       "      <td>-0.108379</td>\n",
       "    </tr>\n",
       "    <tr>\n",
       "      <th>8</th>\n",
       "      <td>b</td>\n",
       "      <td>f</td>\n",
       "      <td>8</td>\n",
       "      <td>-0.647866</td>\n",
       "    </tr>\n",
       "    <tr>\n",
       "      <th>9</th>\n",
       "      <td>b</td>\n",
       "      <td>f</td>\n",
       "      <td>9</td>\n",
       "      <td>-0.374491</td>\n",
       "    </tr>\n",
       "  </tbody>\n",
       "</table>\n",
       "</div>"
      ],
      "text/plain": [
       "  grp_col_1 grp_col_2  val_1     val_2\n",
       "0         a         c      0 -0.272110\n",
       "1         a         c      1  1.672979\n",
       "2         a         d      2 -1.411327\n",
       "3         a         d      3 -0.074964\n",
       "4         a         d      4 -0.567623\n",
       "5         b         e      5 -1.363419\n",
       "6         b         e      6 -0.237726\n",
       "7         b         f      7 -0.108379\n",
       "8         b         f      8 -0.647866\n",
       "9         b         f      9 -0.374491"
      ]
     },
     "execution_count": 27,
     "metadata": {},
     "output_type": "execute_result"
    }
   ],
   "source": [
    "df"
   ]
  },
  {
   "cell_type": "code",
   "execution_count": 28,
   "id": "ac11f9d9",
   "metadata": {
    "ExecuteTime": {
     "end_time": "2022-03-03T13:11:50.727233Z",
     "start_time": "2022-03-03T13:11:50.717237Z"
    }
   },
   "outputs": [],
   "source": [
    "def func(x):\n",
    "    d = {}\n",
    "    d['val_1_mean'] = x['val_1'].mean()\n",
    "    d['val_1_std'] = x['val_1'].std()\n",
    "    d['val_2_max'] = x['val_2'].max()\n",
    "    d['val_2_min'] = x['val_2'].min()\n",
    "    d['val_2_range'] = x['val_2'].max() - x['val_2'].min()\n",
    "    return pd.Series(d, index=['val_1_mean', 'val_1_std', 'val_2_max', 'val_2_min', 'val_2_range'])\n"
   ]
  },
  {
   "cell_type": "code",
   "execution_count": 29,
   "id": "5b0a10af",
   "metadata": {
    "ExecuteTime": {
     "end_time": "2022-03-03T13:12:15.750141Z",
     "start_time": "2022-03-03T13:12:15.731142Z"
    }
   },
   "outputs": [
    {
     "data": {
      "text/plain": [
       "val_1_mean     4.500000\n",
       "val_1_std      3.027650\n",
       "val_2_max      1.672979\n",
       "val_2_min     -1.411327\n",
       "val_2_range    3.084306\n",
       "dtype: float64"
      ]
     },
     "execution_count": 29,
     "metadata": {},
     "output_type": "execute_result"
    }
   ],
   "source": [
    "func(df)"
   ]
  },
  {
   "cell_type": "code",
   "execution_count": 30,
   "id": "83d4d333",
   "metadata": {
    "ExecuteTime": {
     "end_time": "2022-03-03T13:12:36.202402Z",
     "start_time": "2022-03-03T13:12:36.176437Z"
    }
   },
   "outputs": [
    {
     "data": {
      "text/html": [
       "<div>\n",
       "<style scoped>\n",
       "    .dataframe tbody tr th:only-of-type {\n",
       "        vertical-align: middle;\n",
       "    }\n",
       "\n",
       "    .dataframe tbody tr th {\n",
       "        vertical-align: top;\n",
       "    }\n",
       "\n",
       "    .dataframe thead th {\n",
       "        text-align: right;\n",
       "    }\n",
       "</style>\n",
       "<table border=\"1\" class=\"dataframe\">\n",
       "  <thead>\n",
       "    <tr style=\"text-align: right;\">\n",
       "      <th></th>\n",
       "      <th></th>\n",
       "      <th>val_1_mean</th>\n",
       "      <th>val_1_std</th>\n",
       "      <th>val_2_max</th>\n",
       "      <th>val_2_min</th>\n",
       "      <th>val_2_range</th>\n",
       "    </tr>\n",
       "    <tr>\n",
       "      <th>grp_col_1</th>\n",
       "      <th>grp_col_2</th>\n",
       "      <th></th>\n",
       "      <th></th>\n",
       "      <th></th>\n",
       "      <th></th>\n",
       "      <th></th>\n",
       "    </tr>\n",
       "  </thead>\n",
       "  <tbody>\n",
       "    <tr>\n",
       "      <th rowspan=\"2\" valign=\"top\">a</th>\n",
       "      <th>c</th>\n",
       "      <td>0.5</td>\n",
       "      <td>0.707107</td>\n",
       "      <td>1.672979</td>\n",
       "      <td>-0.272110</td>\n",
       "      <td>1.945090</td>\n",
       "    </tr>\n",
       "    <tr>\n",
       "      <th>d</th>\n",
       "      <td>3.0</td>\n",
       "      <td>1.000000</td>\n",
       "      <td>-0.074964</td>\n",
       "      <td>-1.411327</td>\n",
       "      <td>1.336363</td>\n",
       "    </tr>\n",
       "    <tr>\n",
       "      <th rowspan=\"2\" valign=\"top\">b</th>\n",
       "      <th>e</th>\n",
       "      <td>5.5</td>\n",
       "      <td>0.707107</td>\n",
       "      <td>-0.237726</td>\n",
       "      <td>-1.363419</td>\n",
       "      <td>1.125693</td>\n",
       "    </tr>\n",
       "    <tr>\n",
       "      <th>f</th>\n",
       "      <td>8.0</td>\n",
       "      <td>1.000000</td>\n",
       "      <td>-0.108379</td>\n",
       "      <td>-0.647866</td>\n",
       "      <td>0.539487</td>\n",
       "    </tr>\n",
       "  </tbody>\n",
       "</table>\n",
       "</div>"
      ],
      "text/plain": [
       "                     val_1_mean  val_1_std  val_2_max  val_2_min  val_2_range\n",
       "grp_col_1 grp_col_2                                                          \n",
       "a         c                 0.5   0.707107   1.672979  -0.272110     1.945090\n",
       "          d                 3.0   1.000000  -0.074964  -1.411327     1.336363\n",
       "b         e                 5.5   0.707107  -0.237726  -1.363419     1.125693\n",
       "          f                 8.0   1.000000  -0.108379  -0.647866     0.539487"
      ]
     },
     "execution_count": 30,
     "metadata": {},
     "output_type": "execute_result"
    }
   ],
   "source": [
    "df.groupby(['grp_col_1', 'grp_col_2']).apply(func)"
   ]
  },
  {
   "cell_type": "code",
   "execution_count": 31,
   "id": "d8fe030b",
   "metadata": {
    "ExecuteTime": {
     "end_time": "2022-03-03T13:14:22.062248Z",
     "start_time": "2022-03-03T13:14:22.046255Z"
    }
   },
   "outputs": [
    {
     "data": {
      "text/html": [
       "<div>\n",
       "<style scoped>\n",
       "    .dataframe tbody tr th:only-of-type {\n",
       "        vertical-align: middle;\n",
       "    }\n",
       "\n",
       "    .dataframe tbody tr th {\n",
       "        vertical-align: top;\n",
       "    }\n",
       "\n",
       "    .dataframe thead th {\n",
       "        text-align: right;\n",
       "    }\n",
       "</style>\n",
       "<table border=\"1\" class=\"dataframe\">\n",
       "  <thead>\n",
       "    <tr style=\"text-align: right;\">\n",
       "      <th></th>\n",
       "      <th>grp_col_1</th>\n",
       "      <th>grp_col_2</th>\n",
       "      <th>val_1_mean</th>\n",
       "      <th>val_1_std</th>\n",
       "      <th>val_2_max</th>\n",
       "      <th>val_2_min</th>\n",
       "      <th>val_2_range</th>\n",
       "    </tr>\n",
       "  </thead>\n",
       "  <tbody>\n",
       "    <tr>\n",
       "      <th>0</th>\n",
       "      <td>a</td>\n",
       "      <td>c</td>\n",
       "      <td>0.5</td>\n",
       "      <td>0.707107</td>\n",
       "      <td>1.672979</td>\n",
       "      <td>-0.272110</td>\n",
       "      <td>1.945090</td>\n",
       "    </tr>\n",
       "    <tr>\n",
       "      <th>1</th>\n",
       "      <td>a</td>\n",
       "      <td>d</td>\n",
       "      <td>3.0</td>\n",
       "      <td>1.000000</td>\n",
       "      <td>-0.074964</td>\n",
       "      <td>-1.411327</td>\n",
       "      <td>1.336363</td>\n",
       "    </tr>\n",
       "    <tr>\n",
       "      <th>2</th>\n",
       "      <td>b</td>\n",
       "      <td>e</td>\n",
       "      <td>5.5</td>\n",
       "      <td>0.707107</td>\n",
       "      <td>-0.237726</td>\n",
       "      <td>-1.363419</td>\n",
       "      <td>1.125693</td>\n",
       "    </tr>\n",
       "    <tr>\n",
       "      <th>3</th>\n",
       "      <td>b</td>\n",
       "      <td>f</td>\n",
       "      <td>8.0</td>\n",
       "      <td>1.000000</td>\n",
       "      <td>-0.108379</td>\n",
       "      <td>-0.647866</td>\n",
       "      <td>0.539487</td>\n",
       "    </tr>\n",
       "  </tbody>\n",
       "</table>\n",
       "</div>"
      ],
      "text/plain": [
       "  grp_col_1 grp_col_2  val_1_mean  val_1_std  val_2_max  val_2_min  \\\n",
       "0         a         c         0.5   0.707107   1.672979  -0.272110   \n",
       "1         a         d         3.0   1.000000  -0.074964  -1.411327   \n",
       "2         b         e         5.5   0.707107  -0.237726  -1.363419   \n",
       "3         b         f         8.0   1.000000  -0.108379  -0.647866   \n",
       "\n",
       "   val_2_range  \n",
       "0     1.945090  \n",
       "1     1.336363  \n",
       "2     1.125693  \n",
       "3     0.539487  "
      ]
     },
     "execution_count": 31,
     "metadata": {},
     "output_type": "execute_result"
    }
   ],
   "source": [
    "df.groupby(['grp_col_1', 'grp_col_2']).apply(func).reset_index()"
   ]
  },
  {
   "cell_type": "markdown",
   "id": "f29e05cb",
   "metadata": {},
   "source": [
    "# 과제 3"
   ]
  },
  {
   "cell_type": "code",
   "execution_count": 33,
   "id": "e167409a",
   "metadata": {
    "ExecuteTime": {
     "end_time": "2022-03-03T13:14:46.397164Z",
     "start_time": "2022-03-03T13:14:46.384174Z"
    }
   },
   "outputs": [
    {
     "data": {
      "text/html": [
       "<div>\n",
       "<style scoped>\n",
       "    .dataframe tbody tr th:only-of-type {\n",
       "        vertical-align: middle;\n",
       "    }\n",
       "\n",
       "    .dataframe tbody tr th {\n",
       "        vertical-align: top;\n",
       "    }\n",
       "\n",
       "    .dataframe thead th {\n",
       "        text-align: right;\n",
       "    }\n",
       "</style>\n",
       "<table border=\"1\" class=\"dataframe\">\n",
       "  <thead>\n",
       "    <tr style=\"text-align: right;\">\n",
       "      <th></th>\n",
       "      <th>grp_col</th>\n",
       "      <th>val</th>\n",
       "      <th>weight</th>\n",
       "    </tr>\n",
       "  </thead>\n",
       "  <tbody>\n",
       "    <tr>\n",
       "      <th>0</th>\n",
       "      <td>a</td>\n",
       "      <td>1</td>\n",
       "      <td>0.0</td>\n",
       "    </tr>\n",
       "    <tr>\n",
       "      <th>1</th>\n",
       "      <td>a</td>\n",
       "      <td>2</td>\n",
       "      <td>0.1</td>\n",
       "    </tr>\n",
       "    <tr>\n",
       "      <th>2</th>\n",
       "      <td>a</td>\n",
       "      <td>3</td>\n",
       "      <td>0.2</td>\n",
       "    </tr>\n",
       "    <tr>\n",
       "      <th>3</th>\n",
       "      <td>a</td>\n",
       "      <td>4</td>\n",
       "      <td>0.3</td>\n",
       "    </tr>\n",
       "    <tr>\n",
       "      <th>4</th>\n",
       "      <td>a</td>\n",
       "      <td>5</td>\n",
       "      <td>0.4</td>\n",
       "    </tr>\n",
       "    <tr>\n",
       "      <th>5</th>\n",
       "      <td>b</td>\n",
       "      <td>6</td>\n",
       "      <td>0.0</td>\n",
       "    </tr>\n",
       "    <tr>\n",
       "      <th>6</th>\n",
       "      <td>b</td>\n",
       "      <td>7</td>\n",
       "      <td>0.1</td>\n",
       "    </tr>\n",
       "    <tr>\n",
       "      <th>7</th>\n",
       "      <td>b</td>\n",
       "      <td>8</td>\n",
       "      <td>0.2</td>\n",
       "    </tr>\n",
       "    <tr>\n",
       "      <th>8</th>\n",
       "      <td>b</td>\n",
       "      <td>9</td>\n",
       "      <td>0.3</td>\n",
       "    </tr>\n",
       "    <tr>\n",
       "      <th>9</th>\n",
       "      <td>b</td>\n",
       "      <td>10</td>\n",
       "      <td>0.4</td>\n",
       "    </tr>\n",
       "  </tbody>\n",
       "</table>\n",
       "</div>"
      ],
      "text/plain": [
       "  grp_col  val  weight\n",
       "0       a    1     0.0\n",
       "1       a    2     0.1\n",
       "2       a    3     0.2\n",
       "3       a    4     0.3\n",
       "4       a    5     0.4\n",
       "5       b    6     0.0\n",
       "6       b    7     0.1\n",
       "7       b    8     0.2\n",
       "8       b    9     0.3\n",
       "9       b   10     0.4"
      ]
     },
     "execution_count": 33,
     "metadata": {},
     "output_type": "execute_result"
    }
   ],
   "source": [
    "df = pd.DataFrame({'grp_col' : ['a', 'a', 'a', 'a', 'a', 'b', 'b', 'b', 'b', 'b'], \n",
    "                   'val' : np.arange(10)+1,                   \n",
    "                   'weight' : [0.0, 0.1, 0.2, 0.3, 0.4, 0.0, 0.1, 0.2, 0.3, 0.4]})\n",
    "df"
   ]
  },
  {
   "cell_type": "code",
   "execution_count": 34,
   "id": "fab5d6d8",
   "metadata": {
    "ExecuteTime": {
     "end_time": "2022-03-03T13:15:32.479414Z",
     "start_time": "2022-03-03T13:15:32.471446Z"
    }
   },
   "outputs": [],
   "source": [
    "grouped = df.groupby('grp_col')"
   ]
  },
  {
   "cell_type": "code",
   "execution_count": 35,
   "id": "6dc1543f",
   "metadata": {
    "ExecuteTime": {
     "end_time": "2022-03-03T13:15:45.997500Z",
     "start_time": "2022-03-03T13:15:45.986473Z"
    }
   },
   "outputs": [],
   "source": [
    "weighted_avg_func = lambda g:np.average(g['val'], weights=g['weight'])"
   ]
  },
  {
   "cell_type": "code",
   "execution_count": 37,
   "id": "a4509949",
   "metadata": {
    "ExecuteTime": {
     "end_time": "2022-03-03T13:16:06.674500Z",
     "start_time": "2022-03-03T13:16:06.660501Z"
    }
   },
   "outputs": [
    {
     "data": {
      "text/plain": [
       "grp_col\n",
       "a    4.0\n",
       "b    9.0\n",
       "dtype: float64"
      ]
     },
     "execution_count": 37,
     "metadata": {},
     "output_type": "execute_result"
    }
   ],
   "source": [
    "grouped.apply(weighted_avg_func)"
   ]
  },
  {
   "cell_type": "markdown",
   "id": "737f832e",
   "metadata": {},
   "source": [
    "# 과제 4"
   ]
  },
  {
   "cell_type": "code",
   "execution_count": 38,
   "id": "de60ac54",
   "metadata": {
    "ExecuteTime": {
     "end_time": "2022-03-03T13:16:25.504887Z",
     "start_time": "2022-03-03T13:16:25.497915Z"
    }
   },
   "outputs": [],
   "source": [
    "np.random.seed(123)\n",
    "\n",
    "df = pd.DataFrame({'grp': ['a', 'a', 'a', 'a', 'b', 'b', 'b', 'b'],\n",
    "                   'col_1': np.random.randn(8),\n",
    "                   'col_2': np.random.randn(8)})\n",
    "\n",
    "df.loc[[1, 6], ['col_1', 'col_2']] = np.nan   "
   ]
  },
  {
   "cell_type": "code",
   "execution_count": 39,
   "id": "daecb6c6",
   "metadata": {
    "ExecuteTime": {
     "end_time": "2022-03-03T13:16:28.757511Z",
     "start_time": "2022-03-03T13:16:28.739482Z"
    }
   },
   "outputs": [
    {
     "data": {
      "text/html": [
       "<div>\n",
       "<style scoped>\n",
       "    .dataframe tbody tr th:only-of-type {\n",
       "        vertical-align: middle;\n",
       "    }\n",
       "\n",
       "    .dataframe tbody tr th {\n",
       "        vertical-align: top;\n",
       "    }\n",
       "\n",
       "    .dataframe thead th {\n",
       "        text-align: right;\n",
       "    }\n",
       "</style>\n",
       "<table border=\"1\" class=\"dataframe\">\n",
       "  <thead>\n",
       "    <tr style=\"text-align: right;\">\n",
       "      <th></th>\n",
       "      <th>grp</th>\n",
       "      <th>col_1</th>\n",
       "      <th>col_2</th>\n",
       "    </tr>\n",
       "  </thead>\n",
       "  <tbody>\n",
       "    <tr>\n",
       "      <th>0</th>\n",
       "      <td>a</td>\n",
       "      <td>-1.085631</td>\n",
       "      <td>1.265936</td>\n",
       "    </tr>\n",
       "    <tr>\n",
       "      <th>1</th>\n",
       "      <td>a</td>\n",
       "      <td>NaN</td>\n",
       "      <td>NaN</td>\n",
       "    </tr>\n",
       "    <tr>\n",
       "      <th>2</th>\n",
       "      <td>a</td>\n",
       "      <td>0.282978</td>\n",
       "      <td>-0.678886</td>\n",
       "    </tr>\n",
       "    <tr>\n",
       "      <th>3</th>\n",
       "      <td>a</td>\n",
       "      <td>-1.506295</td>\n",
       "      <td>-0.094709</td>\n",
       "    </tr>\n",
       "    <tr>\n",
       "      <th>4</th>\n",
       "      <td>b</td>\n",
       "      <td>-0.578600</td>\n",
       "      <td>1.491390</td>\n",
       "    </tr>\n",
       "    <tr>\n",
       "      <th>5</th>\n",
       "      <td>b</td>\n",
       "      <td>1.651437</td>\n",
       "      <td>-0.638902</td>\n",
       "    </tr>\n",
       "    <tr>\n",
       "      <th>6</th>\n",
       "      <td>b</td>\n",
       "      <td>NaN</td>\n",
       "      <td>NaN</td>\n",
       "    </tr>\n",
       "    <tr>\n",
       "      <th>7</th>\n",
       "      <td>b</td>\n",
       "      <td>-0.428913</td>\n",
       "      <td>-0.434351</td>\n",
       "    </tr>\n",
       "  </tbody>\n",
       "</table>\n",
       "</div>"
      ],
      "text/plain": [
       "  grp     col_1     col_2\n",
       "0   a -1.085631  1.265936\n",
       "1   a       NaN       NaN\n",
       "2   a  0.282978 -0.678886\n",
       "3   a -1.506295 -0.094709\n",
       "4   b -0.578600  1.491390\n",
       "5   b  1.651437 -0.638902\n",
       "6   b       NaN       NaN\n",
       "7   b -0.428913 -0.434351"
      ]
     },
     "execution_count": 39,
     "metadata": {},
     "output_type": "execute_result"
    }
   ],
   "source": [
    "df"
   ]
  },
  {
   "cell_type": "code",
   "execution_count": 40,
   "id": "dfb05675",
   "metadata": {
    "ExecuteTime": {
     "end_time": "2022-03-03T13:17:50.319590Z",
     "start_time": "2022-03-03T13:17:50.296590Z"
    }
   },
   "outputs": [
    {
     "name": "stderr",
     "output_type": "stream",
     "text": [
      "C:\\Users\\hskyu\\AppData\\Local\\Temp/ipykernel_7608/519922209.py:1: FutureWarning: Dropping of nuisance columns in DataFrame reductions (with 'numeric_only=None') is deprecated; in a future version this will raise TypeError.  Select only valid columns before calling the reduction.\n",
      "  df.groupby('grp').apply(lambda x:x.fillna(x.mean()))\n"
     ]
    },
    {
     "data": {
      "text/html": [
       "<div>\n",
       "<style scoped>\n",
       "    .dataframe tbody tr th:only-of-type {\n",
       "        vertical-align: middle;\n",
       "    }\n",
       "\n",
       "    .dataframe tbody tr th {\n",
       "        vertical-align: top;\n",
       "    }\n",
       "\n",
       "    .dataframe thead th {\n",
       "        text-align: right;\n",
       "    }\n",
       "</style>\n",
       "<table border=\"1\" class=\"dataframe\">\n",
       "  <thead>\n",
       "    <tr style=\"text-align: right;\">\n",
       "      <th></th>\n",
       "      <th></th>\n",
       "      <th>grp</th>\n",
       "      <th>col_1</th>\n",
       "      <th>col_2</th>\n",
       "    </tr>\n",
       "    <tr>\n",
       "      <th>grp</th>\n",
       "      <th></th>\n",
       "      <th></th>\n",
       "      <th></th>\n",
       "      <th></th>\n",
       "    </tr>\n",
       "  </thead>\n",
       "  <tbody>\n",
       "    <tr>\n",
       "      <th rowspan=\"4\" valign=\"top\">a</th>\n",
       "      <th>0</th>\n",
       "      <td>a</td>\n",
       "      <td>-1.085631</td>\n",
       "      <td>1.265936</td>\n",
       "    </tr>\n",
       "    <tr>\n",
       "      <th>1</th>\n",
       "      <td>a</td>\n",
       "      <td>-0.769649</td>\n",
       "      <td>0.164114</td>\n",
       "    </tr>\n",
       "    <tr>\n",
       "      <th>2</th>\n",
       "      <td>a</td>\n",
       "      <td>0.282978</td>\n",
       "      <td>-0.678886</td>\n",
       "    </tr>\n",
       "    <tr>\n",
       "      <th>3</th>\n",
       "      <td>a</td>\n",
       "      <td>-1.506295</td>\n",
       "      <td>-0.094709</td>\n",
       "    </tr>\n",
       "    <tr>\n",
       "      <th rowspan=\"4\" valign=\"top\">b</th>\n",
       "      <th>4</th>\n",
       "      <td>b</td>\n",
       "      <td>-0.578600</td>\n",
       "      <td>1.491390</td>\n",
       "    </tr>\n",
       "    <tr>\n",
       "      <th>5</th>\n",
       "      <td>b</td>\n",
       "      <td>1.651437</td>\n",
       "      <td>-0.638902</td>\n",
       "    </tr>\n",
       "    <tr>\n",
       "      <th>6</th>\n",
       "      <td>b</td>\n",
       "      <td>0.214641</td>\n",
       "      <td>0.139379</td>\n",
       "    </tr>\n",
       "    <tr>\n",
       "      <th>7</th>\n",
       "      <td>b</td>\n",
       "      <td>-0.428913</td>\n",
       "      <td>-0.434351</td>\n",
       "    </tr>\n",
       "  </tbody>\n",
       "</table>\n",
       "</div>"
      ],
      "text/plain": [
       "      grp     col_1     col_2\n",
       "grp                          \n",
       "a   0   a -1.085631  1.265936\n",
       "    1   a -0.769649  0.164114\n",
       "    2   a  0.282978 -0.678886\n",
       "    3   a -1.506295 -0.094709\n",
       "b   4   b -0.578600  1.491390\n",
       "    5   b  1.651437 -0.638902\n",
       "    6   b  0.214641  0.139379\n",
       "    7   b -0.428913 -0.434351"
      ]
     },
     "execution_count": 40,
     "metadata": {},
     "output_type": "execute_result"
    }
   ],
   "source": [
    "df.groupby('grp').apply(lambda x:x.fillna(x.mean()))"
   ]
  },
  {
   "cell_type": "code",
   "execution_count": 45,
   "id": "d492169f",
   "metadata": {
    "ExecuteTime": {
     "end_time": "2022-03-03T13:19:32.549821Z",
     "start_time": "2022-03-03T13:19:32.537825Z"
    }
   },
   "outputs": [
    {
     "data": {
      "text/html": [
       "<div>\n",
       "<style scoped>\n",
       "    .dataframe tbody tr th:only-of-type {\n",
       "        vertical-align: middle;\n",
       "    }\n",
       "\n",
       "    .dataframe tbody tr th {\n",
       "        vertical-align: top;\n",
       "    }\n",
       "\n",
       "    .dataframe thead th {\n",
       "        text-align: right;\n",
       "    }\n",
       "</style>\n",
       "<table border=\"1\" class=\"dataframe\">\n",
       "  <thead>\n",
       "    <tr style=\"text-align: right;\">\n",
       "      <th></th>\n",
       "      <th>group_1</th>\n",
       "      <th>group_2</th>\n",
       "      <th>col</th>\n",
       "    </tr>\n",
       "  </thead>\n",
       "  <tbody>\n",
       "    <tr>\n",
       "      <th>0</th>\n",
       "      <td>a</td>\n",
       "      <td>c</td>\n",
       "      <td>1.0</td>\n",
       "    </tr>\n",
       "    <tr>\n",
       "      <th>1</th>\n",
       "      <td>a</td>\n",
       "      <td>c</td>\n",
       "      <td>2.0</td>\n",
       "    </tr>\n",
       "    <tr>\n",
       "      <th>2</th>\n",
       "      <td>a</td>\n",
       "      <td>c</td>\n",
       "      <td>NaN</td>\n",
       "    </tr>\n",
       "    <tr>\n",
       "      <th>3</th>\n",
       "      <td>a</td>\n",
       "      <td>d</td>\n",
       "      <td>4.0</td>\n",
       "    </tr>\n",
       "    <tr>\n",
       "      <th>4</th>\n",
       "      <td>a</td>\n",
       "      <td>d</td>\n",
       "      <td>NaN</td>\n",
       "    </tr>\n",
       "    <tr>\n",
       "      <th>5</th>\n",
       "      <td>b</td>\n",
       "      <td>e</td>\n",
       "      <td>6.0</td>\n",
       "    </tr>\n",
       "    <tr>\n",
       "      <th>6</th>\n",
       "      <td>b</td>\n",
       "      <td>e</td>\n",
       "      <td>7.0</td>\n",
       "    </tr>\n",
       "    <tr>\n",
       "      <th>7</th>\n",
       "      <td>b</td>\n",
       "      <td>e</td>\n",
       "      <td>NaN</td>\n",
       "    </tr>\n",
       "    <tr>\n",
       "      <th>8</th>\n",
       "      <td>b</td>\n",
       "      <td>f</td>\n",
       "      <td>9.0</td>\n",
       "    </tr>\n",
       "    <tr>\n",
       "      <th>9</th>\n",
       "      <td>b</td>\n",
       "      <td>f</td>\n",
       "      <td>10.0</td>\n",
       "    </tr>\n",
       "  </tbody>\n",
       "</table>\n",
       "</div>"
      ],
      "text/plain": [
       "  group_1 group_2   col\n",
       "0       a       c   1.0\n",
       "1       a       c   2.0\n",
       "2       a       c   NaN\n",
       "3       a       d   4.0\n",
       "4       a       d   NaN\n",
       "5       b       e   6.0\n",
       "6       b       e   7.0\n",
       "7       b       e   NaN\n",
       "8       b       f   9.0\n",
       "9       b       f  10.0"
      ]
     },
     "execution_count": 45,
     "metadata": {},
     "output_type": "execute_result"
    }
   ],
   "source": [
    "df = pd.DataFrame({'group_1': ['a', 'a', 'a', 'a', 'a',  \n",
    "                             'b', 'b', 'b', 'b', 'b',], \n",
    "                 'group_2': ['c', 'c', 'c', 'd', 'd', \n",
    "                             'e', 'e', 'e', 'f', 'f'], \n",
    "                  'col': [1, 2, np.NaN, 4, np.NaN, \n",
    "                          6, 7, np.NaN, 9, 10]})\n",
    "df"
   ]
  },
  {
   "cell_type": "code",
   "execution_count": 46,
   "id": "bb760ab6",
   "metadata": {
    "ExecuteTime": {
     "end_time": "2022-03-03T13:19:41.141569Z",
     "start_time": "2022-03-03T13:19:41.132542Z"
    }
   },
   "outputs": [],
   "source": [
    "df['count_col'] = df.groupby(['group_1', 'group_2']).col.transform('count')"
   ]
  },
  {
   "cell_type": "code",
   "execution_count": 47,
   "id": "26bd17d7",
   "metadata": {
    "ExecuteTime": {
     "end_time": "2022-03-03T13:20:00.110641Z",
     "start_time": "2022-03-03T13:20:00.094646Z"
    }
   },
   "outputs": [],
   "source": [
    "df['count_col'] = df.groupby(['group_1', 'group_2']).col.transform('sum')"
   ]
  },
  {
   "cell_type": "code",
   "execution_count": 48,
   "id": "41c780d1",
   "metadata": {
    "ExecuteTime": {
     "end_time": "2022-03-03T13:20:00.431107Z",
     "start_time": "2022-03-03T13:20:00.413108Z"
    }
   },
   "outputs": [],
   "source": [
    " df['max_col'] = df.groupby(['group_1', 'group_2']).col.transform('max')"
   ]
  },
  {
   "cell_type": "code",
   "execution_count": 49,
   "id": "06f27da4",
   "metadata": {
    "ExecuteTime": {
     "end_time": "2022-03-03T13:20:00.888902Z",
     "start_time": "2022-03-03T13:20:00.873936Z"
    }
   },
   "outputs": [
    {
     "data": {
      "text/html": [
       "<div>\n",
       "<style scoped>\n",
       "    .dataframe tbody tr th:only-of-type {\n",
       "        vertical-align: middle;\n",
       "    }\n",
       "\n",
       "    .dataframe tbody tr th {\n",
       "        vertical-align: top;\n",
       "    }\n",
       "\n",
       "    .dataframe thead th {\n",
       "        text-align: right;\n",
       "    }\n",
       "</style>\n",
       "<table border=\"1\" class=\"dataframe\">\n",
       "  <thead>\n",
       "    <tr style=\"text-align: right;\">\n",
       "      <th></th>\n",
       "      <th>group_1</th>\n",
       "      <th>group_2</th>\n",
       "      <th>col</th>\n",
       "      <th>count_col</th>\n",
       "      <th>max_col</th>\n",
       "    </tr>\n",
       "  </thead>\n",
       "  <tbody>\n",
       "    <tr>\n",
       "      <th>0</th>\n",
       "      <td>a</td>\n",
       "      <td>c</td>\n",
       "      <td>1.0</td>\n",
       "      <td>3.0</td>\n",
       "      <td>2.0</td>\n",
       "    </tr>\n",
       "    <tr>\n",
       "      <th>1</th>\n",
       "      <td>a</td>\n",
       "      <td>c</td>\n",
       "      <td>2.0</td>\n",
       "      <td>3.0</td>\n",
       "      <td>2.0</td>\n",
       "    </tr>\n",
       "    <tr>\n",
       "      <th>2</th>\n",
       "      <td>a</td>\n",
       "      <td>c</td>\n",
       "      <td>NaN</td>\n",
       "      <td>3.0</td>\n",
       "      <td>2.0</td>\n",
       "    </tr>\n",
       "    <tr>\n",
       "      <th>3</th>\n",
       "      <td>a</td>\n",
       "      <td>d</td>\n",
       "      <td>4.0</td>\n",
       "      <td>4.0</td>\n",
       "      <td>4.0</td>\n",
       "    </tr>\n",
       "    <tr>\n",
       "      <th>4</th>\n",
       "      <td>a</td>\n",
       "      <td>d</td>\n",
       "      <td>NaN</td>\n",
       "      <td>4.0</td>\n",
       "      <td>4.0</td>\n",
       "    </tr>\n",
       "    <tr>\n",
       "      <th>5</th>\n",
       "      <td>b</td>\n",
       "      <td>e</td>\n",
       "      <td>6.0</td>\n",
       "      <td>13.0</td>\n",
       "      <td>7.0</td>\n",
       "    </tr>\n",
       "    <tr>\n",
       "      <th>6</th>\n",
       "      <td>b</td>\n",
       "      <td>e</td>\n",
       "      <td>7.0</td>\n",
       "      <td>13.0</td>\n",
       "      <td>7.0</td>\n",
       "    </tr>\n",
       "    <tr>\n",
       "      <th>7</th>\n",
       "      <td>b</td>\n",
       "      <td>e</td>\n",
       "      <td>NaN</td>\n",
       "      <td>13.0</td>\n",
       "      <td>7.0</td>\n",
       "    </tr>\n",
       "    <tr>\n",
       "      <th>8</th>\n",
       "      <td>b</td>\n",
       "      <td>f</td>\n",
       "      <td>9.0</td>\n",
       "      <td>19.0</td>\n",
       "      <td>10.0</td>\n",
       "    </tr>\n",
       "    <tr>\n",
       "      <th>9</th>\n",
       "      <td>b</td>\n",
       "      <td>f</td>\n",
       "      <td>10.0</td>\n",
       "      <td>19.0</td>\n",
       "      <td>10.0</td>\n",
       "    </tr>\n",
       "  </tbody>\n",
       "</table>\n",
       "</div>"
      ],
      "text/plain": [
       "  group_1 group_2   col  count_col  max_col\n",
       "0       a       c   1.0        3.0      2.0\n",
       "1       a       c   2.0        3.0      2.0\n",
       "2       a       c   NaN        3.0      2.0\n",
       "3       a       d   4.0        4.0      4.0\n",
       "4       a       d   NaN        4.0      4.0\n",
       "5       b       e   6.0       13.0      7.0\n",
       "6       b       e   7.0       13.0      7.0\n",
       "7       b       e   NaN       13.0      7.0\n",
       "8       b       f   9.0       19.0     10.0\n",
       "9       b       f  10.0       19.0     10.0"
      ]
     },
     "execution_count": 49,
     "metadata": {},
     "output_type": "execute_result"
    }
   ],
   "source": [
    "df"
   ]
  },
  {
   "cell_type": "code",
   "execution_count": null,
   "id": "59cffed2",
   "metadata": {},
   "outputs": [],
   "source": []
  }
 ],
 "metadata": {
  "kernelspec": {
   "display_name": "Python 3 (ipykernel)",
   "language": "python",
   "name": "python3"
  },
  "language_info": {
   "codemirror_mode": {
    "name": "ipython",
    "version": 3
   },
   "file_extension": ".py",
   "mimetype": "text/x-python",
   "name": "python",
   "nbconvert_exporter": "python",
   "pygments_lexer": "ipython3",
   "version": "3.9.7"
  },
  "toc": {
   "base_numbering": 1,
   "nav_menu": {},
   "number_sections": true,
   "sideBar": true,
   "skip_h1_title": false,
   "title_cell": "Table of Contents",
   "title_sidebar": "Contents",
   "toc_cell": false,
   "toc_position": {},
   "toc_section_display": true,
   "toc_window_display": false
  }
 },
 "nbformat": 4,
 "nbformat_minor": 5
}
