{
 "cells": [
  {
   "cell_type": "markdown",
   "id": "9d4c177b",
   "metadata": {},
   "source": [
    "## DAY 7"
   ]
  },
  {
   "cell_type": "code",
   "execution_count": 1,
   "id": "09e54c89",
   "metadata": {
    "ExecuteTime": {
     "end_time": "2022-02-19T12:55:44.358820Z",
     "start_time": "2022-02-19T12:55:43.991074Z"
    }
   },
   "outputs": [],
   "source": [
    "import numpy as np\n",
    "x = np.arange(12).reshape(3, 4)"
   ]
  },
  {
   "cell_type": "markdown",
   "id": "34772d8a",
   "metadata": {},
   "source": [
    "### 과제 1"
   ]
  },
  {
   "cell_type": "code",
   "execution_count": 2,
   "id": "f9395123",
   "metadata": {
    "ExecuteTime": {
     "end_time": "2022-02-19T12:55:50.892485Z",
     "start_time": "2022-02-19T12:55:50.873484Z"
    }
   },
   "outputs": [
    {
     "data": {
      "text/plain": [
       "array([[ 0,  1,  2,  3],\n",
       "       [ 4,  5,  6,  7],\n",
       "       [ 8,  9, 10, 11]])"
      ]
     },
     "execution_count": 2,
     "metadata": {},
     "output_type": "execute_result"
    }
   ],
   "source": [
    "x"
   ]
  },
  {
   "cell_type": "code",
   "execution_count": 3,
   "id": "cb71c145",
   "metadata": {
    "ExecuteTime": {
     "end_time": "2022-02-19T12:56:40.521295Z",
     "start_time": "2022-02-19T12:56:40.508262Z"
    }
   },
   "outputs": [
    {
     "data": {
      "text/plain": [
       "array([ 0,  1,  2,  3,  4,  5,  6,  7,  8,  9, 10, 11])"
      ]
     },
     "execution_count": 3,
     "metadata": {},
     "output_type": "execute_result"
    }
   ],
   "source": [
    "x.ravel()"
   ]
  },
  {
   "cell_type": "code",
   "execution_count": 5,
   "id": "bbf27e17",
   "metadata": {
    "ExecuteTime": {
     "end_time": "2022-02-19T12:57:21.871161Z",
     "start_time": "2022-02-19T12:57:21.866164Z"
    }
   },
   "outputs": [
    {
     "data": {
      "text/plain": [
       "array([ 0,  4,  8,  1,  5,  9,  2,  6, 10,  3,  7, 11])"
      ]
     },
     "execution_count": 5,
     "metadata": {},
     "output_type": "execute_result"
    }
   ],
   "source": [
    "np.ravel(x, order = 'F')\n",
    "#Fortran과 같은 순서로 인덱싱하여 평평하게 배열"
   ]
  },
  {
   "cell_type": "code",
   "execution_count": 8,
   "id": "febb7960",
   "metadata": {
    "ExecuteTime": {
     "end_time": "2022-02-19T12:57:56.996512Z",
     "start_time": "2022-02-19T12:57:56.989548Z"
    }
   },
   "outputs": [
    {
     "data": {
      "text/plain": [
       "array([[[ 0,  1],\n",
       "        [ 2,  3],\n",
       "        [ 4,  5]],\n",
       "\n",
       "       [[ 6,  7],\n",
       "        [ 8,  9],\n",
       "        [10, 11]]])"
      ]
     },
     "execution_count": 8,
     "metadata": {},
     "output_type": "execute_result"
    }
   ],
   "source": [
    "y = np.arange(12).reshape(2, 3, 2)\n",
    "y"
   ]
  },
  {
   "cell_type": "code",
   "execution_count": 9,
   "id": "5c3c137d",
   "metadata": {
    "ExecuteTime": {
     "end_time": "2022-02-19T12:58:08.328266Z",
     "start_time": "2022-02-19T12:58:08.319274Z"
    }
   },
   "outputs": [
    {
     "data": {
      "text/plain": [
       "array([ 0,  1,  2,  3,  4,  5,  6,  7,  8,  9, 10, 11])"
      ]
     },
     "execution_count": 9,
     "metadata": {},
     "output_type": "execute_result"
    }
   ],
   "source": [
    "np.ravel(y)"
   ]
  },
  {
   "cell_type": "markdown",
   "id": "4840e1fa",
   "metadata": {},
   "source": [
    "### 과제 2"
   ]
  },
  {
   "cell_type": "code",
   "execution_count": 11,
   "id": "0f6b5f65",
   "metadata": {
    "ExecuteTime": {
     "end_time": "2022-02-19T12:58:52.596264Z",
     "start_time": "2022-02-19T12:58:52.589294Z"
    }
   },
   "outputs": [],
   "source": [
    "a = np.array([1, 2, 3])\n",
    "b = np.array([4, 5, 6])"
   ]
  },
  {
   "cell_type": "code",
   "execution_count": 14,
   "id": "92c47597",
   "metadata": {
    "ExecuteTime": {
     "end_time": "2022-02-19T12:59:55.864240Z",
     "start_time": "2022-02-19T12:59:55.860222Z"
    }
   },
   "outputs": [
    {
     "data": {
      "text/plain": [
       "array([1, 2, 3, 4, 5, 6])"
      ]
     },
     "execution_count": 14,
     "metadata": {},
     "output_type": "execute_result"
    }
   ],
   "source": [
    "np.hstack([a, b])"
   ]
  },
  {
   "cell_type": "code",
   "execution_count": 15,
   "id": "8fb63bb4",
   "metadata": {
    "ExecuteTime": {
     "end_time": "2022-02-19T13:00:03.784529Z",
     "start_time": "2022-02-19T13:00:03.766499Z"
    }
   },
   "outputs": [
    {
     "data": {
      "text/plain": [
       "array([[1, 2, 3],\n",
       "       [4, 5, 6]])"
      ]
     },
     "execution_count": 15,
     "metadata": {},
     "output_type": "execute_result"
    }
   ],
   "source": [
    "np.vstack([a,b])"
   ]
  },
  {
   "cell_type": "code",
   "execution_count": 18,
   "id": "451ef7a9",
   "metadata": {
    "ExecuteTime": {
     "end_time": "2022-02-19T13:01:05.220792Z",
     "start_time": "2022-02-19T13:01:05.202765Z"
    }
   },
   "outputs": [
    {
     "data": {
      "text/plain": [
       "array([[1, 4],\n",
       "       [2, 5],\n",
       "       [3, 6]])"
      ]
     },
     "execution_count": 18,
     "metadata": {},
     "output_type": "execute_result"
    }
   ],
   "source": [
    "np.c_[a,b]"
   ]
  },
  {
   "cell_type": "code",
   "execution_count": 20,
   "id": "5a811133",
   "metadata": {
    "ExecuteTime": {
     "end_time": "2022-02-19T13:01:19.487326Z",
     "start_time": "2022-02-19T13:01:19.475363Z"
    }
   },
   "outputs": [
    {
     "data": {
      "text/plain": [
       "array([[1, 4],\n",
       "       [2, 5],\n",
       "       [3, 6]])"
      ]
     },
     "execution_count": 20,
     "metadata": {},
     "output_type": "execute_result"
    }
   ],
   "source": [
    "np.column_stack([a,b])"
   ]
  },
  {
   "cell_type": "code",
   "execution_count": 21,
   "id": "a27e78dd",
   "metadata": {
    "ExecuteTime": {
     "end_time": "2022-02-19T13:01:25.156355Z",
     "start_time": "2022-02-19T13:01:25.151317Z"
    }
   },
   "outputs": [],
   "source": [
    "c = np.array([[0, 1, 2], [3, 4, 5]])\n",
    "d = np.array([[6, 7, 8], [9, 10, 11]])"
   ]
  },
  {
   "cell_type": "code",
   "execution_count": 22,
   "id": "87a82c73",
   "metadata": {
    "ExecuteTime": {
     "end_time": "2022-02-19T13:01:29.604349Z",
     "start_time": "2022-02-19T13:01:29.598317Z"
    }
   },
   "outputs": [
    {
     "data": {
      "text/plain": [
       "array([[0, 1, 2],\n",
       "       [3, 4, 5]])"
      ]
     },
     "execution_count": 22,
     "metadata": {},
     "output_type": "execute_result"
    }
   ],
   "source": [
    "c"
   ]
  },
  {
   "cell_type": "code",
   "execution_count": 23,
   "id": "7b419b96",
   "metadata": {
    "ExecuteTime": {
     "end_time": "2022-02-19T13:01:30.662550Z",
     "start_time": "2022-02-19T13:01:30.648553Z"
    }
   },
   "outputs": [
    {
     "data": {
      "text/plain": [
       "array([[ 6,  7,  8],\n",
       "       [ 9, 10, 11]])"
      ]
     },
     "execution_count": 23,
     "metadata": {},
     "output_type": "execute_result"
    }
   ],
   "source": [
    "d"
   ]
  },
  {
   "cell_type": "code",
   "execution_count": 25,
   "id": "c93514ae",
   "metadata": {
    "ExecuteTime": {
     "end_time": "2022-02-19T13:02:19.550200Z",
     "start_time": "2022-02-19T13:02:19.532206Z"
    }
   },
   "outputs": [
    {
     "data": {
      "text/plain": [
       "array([[ 0,  3,  6,  9],\n",
       "       [ 1,  4,  7, 10],\n",
       "       [ 2,  5,  8, 11]])"
      ]
     },
     "execution_count": 25,
     "metadata": {},
     "output_type": "execute_result"
    }
   ],
   "source": [
    "np.concatenate((c.T, d.T), axis=1)"
   ]
  },
  {
   "cell_type": "markdown",
   "id": "9bffd215",
   "metadata": {},
   "source": [
    "### 과제 3"
   ]
  },
  {
   "cell_type": "code",
   "execution_count": 27,
   "id": "c9e19465",
   "metadata": {
    "ExecuteTime": {
     "end_time": "2022-02-19T13:04:17.804846Z",
     "start_time": "2022-02-19T13:04:17.787851Z"
    }
   },
   "outputs": [],
   "source": [
    "x = np.array([1, 2, 3, 4])\n",
    "y = np.array([3, 4, 6, 5])"
   ]
  },
  {
   "cell_type": "code",
   "execution_count": 28,
   "id": "f1c1bd3f",
   "metadata": {
    "ExecuteTime": {
     "end_time": "2022-02-19T13:04:30.576080Z",
     "start_time": "2022-02-19T13:04:30.563051Z"
    }
   },
   "outputs": [
    {
     "data": {
      "text/plain": [
       "array([3, 4])"
      ]
     },
     "execution_count": 28,
     "metadata": {},
     "output_type": "execute_result"
    }
   ],
   "source": [
    "#교집합 정렬 반환\n",
    "np.intersect1d(x, y)"
   ]
  },
  {
   "cell_type": "code",
   "execution_count": 29,
   "id": "91df78de",
   "metadata": {
    "ExecuteTime": {
     "end_time": "2022-02-19T13:04:43.366705Z",
     "start_time": "2022-02-19T13:04:43.359742Z"
    }
   },
   "outputs": [
    {
     "data": {
      "text/plain": [
       "array([1, 2, 3, 4, 5, 6])"
      ]
     },
     "execution_count": 29,
     "metadata": {},
     "output_type": "execute_result"
    }
   ],
   "source": [
    "#합집합을 정려하여 반환\n",
    "np.union1d(x, y)"
   ]
  },
  {
   "cell_type": "code",
   "execution_count": 30,
   "id": "94a6598e",
   "metadata": {
    "ExecuteTime": {
     "end_time": "2022-02-19T13:05:15.175819Z",
     "start_time": "2022-02-19T13:05:15.161816Z"
    }
   },
   "outputs": [
    {
     "data": {
      "text/plain": [
       "array([False, False,  True,  True])"
      ]
     },
     "execution_count": 30,
     "metadata": {},
     "output_type": "execute_result"
    }
   ],
   "source": [
    "# 첫번째 배열이 두번째 배열의 원소를 포함하고 있는지의 여부의 불리언 배열을 반환\n",
    "np.in1d(x,y)\n"
   ]
  },
  {
   "cell_type": "code",
   "execution_count": 32,
   "id": "41ba6167",
   "metadata": {
    "ExecuteTime": {
     "end_time": "2022-02-19T13:06:30.621395Z",
     "start_time": "2022-02-19T13:06:30.611423Z"
    }
   },
   "outputs": [
    {
     "data": {
      "text/plain": [
       "array([1, 2])"
      ]
     },
     "execution_count": 32,
     "metadata": {},
     "output_type": "execute_result"
    }
   ],
   "source": [
    "#첫번째 배열 x로부터 두번째 배열 y를 뺀 차집합을 반환\n",
    "np.setdiff1d(x,y)"
   ]
  },
  {
   "cell_type": "code",
   "execution_count": 31,
   "id": "768cfaa6",
   "metadata": {
    "ExecuteTime": {
     "end_time": "2022-02-19T13:05:43.370670Z",
     "start_time": "2022-02-19T13:05:43.352640Z"
    }
   },
   "outputs": [
    {
     "data": {
      "text/plain": [
       "array([1, 2, 5, 6])"
      ]
     },
     "execution_count": 31,
     "metadata": {},
     "output_type": "execute_result"
    }
   ],
   "source": [
    "#두 배열 x,y 합집합에서 교집합을 뺀 대칭차집합을 반환\n",
    "np.setxor1d(x,y)"
   ]
  },
  {
   "cell_type": "markdown",
   "id": "7bf82522",
   "metadata": {},
   "source": [
    "### 과제 4\n"
   ]
  },
  {
   "cell_type": "code",
   "execution_count": 33,
   "id": "9a4e2c52",
   "metadata": {
    "ExecuteTime": {
     "end_time": "2022-02-19T13:06:47.229291Z",
     "start_time": "2022-02-19T13:06:47.214260Z"
    }
   },
   "outputs": [],
   "source": [
    "x = np.array([5, 4, 3, 2, 1, 0])"
   ]
  },
  {
   "cell_type": "code",
   "execution_count": 34,
   "id": "9c8e5e64",
   "metadata": {
    "ExecuteTime": {
     "end_time": "2022-02-19T13:07:00.071753Z",
     "start_time": "2022-02-19T13:07:00.059746Z"
    }
   },
   "outputs": [
    {
     "data": {
      "text/plain": [
       "0"
      ]
     },
     "execution_count": 34,
     "metadata": {},
     "output_type": "execute_result"
    }
   ],
   "source": [
    "np.min(x)"
   ]
  },
  {
   "cell_type": "code",
   "execution_count": 35,
   "id": "6bc14662",
   "metadata": {
    "ExecuteTime": {
     "end_time": "2022-02-19T13:07:03.800440Z",
     "start_time": "2022-02-19T13:07:03.783473Z"
    }
   },
   "outputs": [
    {
     "data": {
      "text/plain": [
       "5"
      ]
     },
     "execution_count": 35,
     "metadata": {},
     "output_type": "execute_result"
    }
   ],
   "source": [
    "np.max(x)"
   ]
  },
  {
   "cell_type": "code",
   "execution_count": 37,
   "id": "5d48e072",
   "metadata": {
    "ExecuteTime": {
     "end_time": "2022-02-19T13:07:20.865720Z",
     "start_time": "2022-02-19T13:07:20.854754Z"
    }
   },
   "outputs": [
    {
     "data": {
      "text/plain": [
       "0"
      ]
     },
     "execution_count": 37,
     "metadata": {},
     "output_type": "execute_result"
    }
   ],
   "source": [
    "x.min()"
   ]
  },
  {
   "cell_type": "code",
   "execution_count": 38,
   "id": "efc904f9",
   "metadata": {
    "ExecuteTime": {
     "end_time": "2022-02-19T13:07:24.361952Z",
     "start_time": "2022-02-19T13:07:24.347923Z"
    }
   },
   "outputs": [
    {
     "data": {
      "text/plain": [
       "5"
      ]
     },
     "execution_count": 38,
     "metadata": {},
     "output_type": "execute_result"
    }
   ],
   "source": [
    "x.max()"
   ]
  },
  {
   "cell_type": "code",
   "execution_count": 39,
   "id": "193be1c1",
   "metadata": {
    "ExecuteTime": {
     "end_time": "2022-02-19T13:07:35.148233Z",
     "start_time": "2022-02-19T13:07:35.137269Z"
    }
   },
   "outputs": [
    {
     "data": {
      "text/plain": [
       "0"
      ]
     },
     "execution_count": 39,
     "metadata": {},
     "output_type": "execute_result"
    }
   ],
   "source": [
    "np.argmax(x)"
   ]
  },
  {
   "cell_type": "code",
   "execution_count": 40,
   "id": "3b7a037b",
   "metadata": {
    "ExecuteTime": {
     "end_time": "2022-02-19T13:07:41.666821Z",
     "start_time": "2022-02-19T13:07:41.653822Z"
    }
   },
   "outputs": [
    {
     "data": {
      "text/plain": [
       "5"
      ]
     },
     "execution_count": 40,
     "metadata": {},
     "output_type": "execute_result"
    }
   ],
   "source": [
    "np.argmin(x)"
   ]
  },
  {
   "cell_type": "code",
   "execution_count": 42,
   "id": "e3cd615d",
   "metadata": {
    "ExecuteTime": {
     "end_time": "2022-02-19T13:08:47.197587Z",
     "start_time": "2022-02-19T13:08:47.182625Z"
    }
   },
   "outputs": [
    {
     "data": {
      "text/plain": [
       "array([3, 3, 3, 2, 1, 0])"
      ]
     },
     "execution_count": 42,
     "metadata": {},
     "output_type": "execute_result"
    }
   ],
   "source": [
    "np.where(x>=3, 3, x)"
   ]
  },
  {
   "cell_type": "markdown",
   "id": "15c863e1",
   "metadata": {},
   "source": [
    "### 과제 5"
   ]
  },
  {
   "cell_type": "code",
   "execution_count": 43,
   "id": "3660e8a8",
   "metadata": {
    "ExecuteTime": {
     "end_time": "2022-02-19T13:09:18.549357Z",
     "start_time": "2022-02-19T13:09:18.533354Z"
    }
   },
   "outputs": [],
   "source": [
    "x = np.array([4, 2, 6, 5, 1, 3, 0])"
   ]
  },
  {
   "cell_type": "code",
   "execution_count": 44,
   "id": "6045b373",
   "metadata": {
    "ExecuteTime": {
     "end_time": "2022-02-19T13:09:29.373222Z",
     "start_time": "2022-02-19T13:09:29.358225Z"
    }
   },
   "outputs": [
    {
     "data": {
      "text/plain": [
       "array([0, 1, 2, 3, 4, 5, 6])"
      ]
     },
     "execution_count": 44,
     "metadata": {},
     "output_type": "execute_result"
    }
   ],
   "source": [
    "np.sort(x)"
   ]
  },
  {
   "cell_type": "code",
   "execution_count": 46,
   "id": "9af9cde3",
   "metadata": {
    "ExecuteTime": {
     "end_time": "2022-02-19T13:09:43.967652Z",
     "start_time": "2022-02-19T13:09:43.950682Z"
    }
   },
   "outputs": [
    {
     "data": {
      "text/plain": [
       "array([0, 1, 2, 3, 4, 5, 6])"
      ]
     },
     "execution_count": 46,
     "metadata": {},
     "output_type": "execute_result"
    }
   ],
   "source": [
    "x.sort()\n",
    "x"
   ]
  },
  {
   "cell_type": "code",
   "execution_count": 47,
   "id": "5d054ba0",
   "metadata": {
    "ExecuteTime": {
     "end_time": "2022-02-19T13:10:59.227177Z",
     "start_time": "2022-02-19T13:10:59.216149Z"
    }
   },
   "outputs": [
    {
     "data": {
      "text/plain": [
       "array([6, 5, 4, 3, 2, 1, 0])"
      ]
     },
     "execution_count": 47,
     "metadata": {},
     "output_type": "execute_result"
    }
   ],
   "source": [
    "np.sort(x)[::-1]"
   ]
  },
  {
   "cell_type": "code",
   "execution_count": 48,
   "id": "a3f74021",
   "metadata": {
    "ExecuteTime": {
     "end_time": "2022-02-19T13:11:57.889683Z",
     "start_time": "2022-02-19T13:11:57.869682Z"
    }
   },
   "outputs": [
    {
     "data": {
      "text/plain": [
       "array([6, 5, 4, 3, 2, 1, 0])"
      ]
     },
     "execution_count": 48,
     "metadata": {},
     "output_type": "execute_result"
    }
   ],
   "source": [
    "x[np.argsort(-x)]"
   ]
  },
  {
   "cell_type": "code",
   "execution_count": 49,
   "id": "6a40174a",
   "metadata": {
    "ExecuteTime": {
     "end_time": "2022-02-19T13:12:03.561397Z",
     "start_time": "2022-02-19T13:12:03.554434Z"
    }
   },
   "outputs": [],
   "source": [
    "x2 = np.array([[2, 1, 6],\n",
    "               [0, 7, 4],\n",
    "               [5, 3, 2]])"
   ]
  },
  {
   "cell_type": "code",
   "execution_count": 50,
   "id": "1893b24b",
   "metadata": {
    "ExecuteTime": {
     "end_time": "2022-02-19T13:12:18.081751Z",
     "start_time": "2022-02-19T13:12:18.075782Z"
    }
   },
   "outputs": [
    {
     "data": {
      "text/plain": [
       "array([[1, 2, 6],\n",
       "       [0, 4, 7],\n",
       "       [2, 3, 5]])"
      ]
     },
     "execution_count": 50,
     "metadata": {},
     "output_type": "execute_result"
    }
   ],
   "source": [
    "np.sort(x2, axis=1)"
   ]
  },
  {
   "cell_type": "code",
   "execution_count": null,
   "id": "4e81e09f",
   "metadata": {},
   "outputs": [],
   "source": []
  }
 ],
 "metadata": {
  "kernelspec": {
   "display_name": "Python 3 (ipykernel)",
   "language": "python",
   "name": "python3"
  },
  "language_info": {
   "codemirror_mode": {
    "name": "ipython",
    "version": 3
   },
   "file_extension": ".py",
   "mimetype": "text/x-python",
   "name": "python",
   "nbconvert_exporter": "python",
   "pygments_lexer": "ipython3",
   "version": "3.9.7"
  },
  "toc": {
   "base_numbering": 1,
   "nav_menu": {},
   "number_sections": true,
   "sideBar": true,
   "skip_h1_title": false,
   "title_cell": "Table of Contents",
   "title_sidebar": "Contents",
   "toc_cell": false,
   "toc_position": {},
   "toc_section_display": true,
   "toc_window_display": false
  }
 },
 "nbformat": 4,
 "nbformat_minor": 5
}
