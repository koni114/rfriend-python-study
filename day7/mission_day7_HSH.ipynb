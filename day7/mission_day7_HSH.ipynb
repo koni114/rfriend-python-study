{
 "cells": [
  {
   "cell_type": "code",
   "execution_count": 1,
   "id": "a48272ef",
   "metadata": {
    "ExecuteTime": {
     "end_time": "2022-02-05T13:02:26.486966Z",
     "start_time": "2022-02-05T13:02:25.393048Z"
    }
   },
   "outputs": [],
   "source": [
    "import numpy as np\n",
    "import pandas as pd"
   ]
  },
  {
   "cell_type": "markdown",
   "id": "13aae512",
   "metadata": {},
   "source": [
    "# Day 7\n",
    "## 과제 1\n",
    "```python\n",
    "import pandas as pd\n",
    "personnel_df = pd.DataFrame({'sequence': [1, 3, 2],\n",
    "                             'name': ['park', 'lee', 'choi'],\n",
    "                             'age': [30, 20, 40]})\n",
    "sequence 열을 기준을 오름차순 정렬을 해보세요\n",
    "다음과 같은 결과값이 나와야 합니다.\n",
    "이 때, 새로운 dataFrame 을 생성하지 말고, 기존 dataframe 을 정렬한 값을 도출해보세요\n",
    "\n",
    "```"
   ]
  },
  {
   "cell_type": "code",
   "execution_count": 2,
   "id": "660e50f7",
   "metadata": {
    "ExecuteTime": {
     "end_time": "2022-02-05T13:03:09.700123Z",
     "start_time": "2022-02-05T13:03:09.691124Z"
    }
   },
   "outputs": [],
   "source": [
    "personnel_df = pd.DataFrame({'sequence': [1, 3, 2],\n",
    "                             'name': ['park', 'lee', 'choi'],\n",
    "                             'age': [30, 20, 40]})"
   ]
  },
  {
   "cell_type": "code",
   "execution_count": 3,
   "id": "0bb522cc",
   "metadata": {
    "ExecuteTime": {
     "end_time": "2022-02-05T13:03:18.102516Z",
     "start_time": "2022-02-05T13:03:18.079552Z"
    }
   },
   "outputs": [
    {
     "data": {
      "text/html": [
       "<div>\n",
       "<style scoped>\n",
       "    .dataframe tbody tr th:only-of-type {\n",
       "        vertical-align: middle;\n",
       "    }\n",
       "\n",
       "    .dataframe tbody tr th {\n",
       "        vertical-align: top;\n",
       "    }\n",
       "\n",
       "    .dataframe thead th {\n",
       "        text-align: right;\n",
       "    }\n",
       "</style>\n",
       "<table border=\"1\" class=\"dataframe\">\n",
       "  <thead>\n",
       "    <tr style=\"text-align: right;\">\n",
       "      <th></th>\n",
       "      <th>sequence</th>\n",
       "      <th>name</th>\n",
       "      <th>age</th>\n",
       "    </tr>\n",
       "  </thead>\n",
       "  <tbody>\n",
       "    <tr>\n",
       "      <th>0</th>\n",
       "      <td>1</td>\n",
       "      <td>park</td>\n",
       "      <td>30</td>\n",
       "    </tr>\n",
       "    <tr>\n",
       "      <th>1</th>\n",
       "      <td>3</td>\n",
       "      <td>lee</td>\n",
       "      <td>20</td>\n",
       "    </tr>\n",
       "    <tr>\n",
       "      <th>2</th>\n",
       "      <td>2</td>\n",
       "      <td>choi</td>\n",
       "      <td>40</td>\n",
       "    </tr>\n",
       "  </tbody>\n",
       "</table>\n",
       "</div>"
      ],
      "text/plain": [
       "   sequence  name  age\n",
       "0         1  park   30\n",
       "1         3   lee   20\n",
       "2         2  choi   40"
      ]
     },
     "execution_count": 3,
     "metadata": {},
     "output_type": "execute_result"
    }
   ],
   "source": [
    "personnel_df"
   ]
  },
  {
   "cell_type": "markdown",
   "id": "9a701ba4",
   "metadata": {},
   "source": [
    "```\n",
    "   age  name  sequence\n",
    "0   30  park         1\n",
    "2   40  choi         2\n",
    "1   20   lee         3\n",
    "```"
   ]
  },
  {
   "cell_type": "code",
   "execution_count": 4,
   "id": "f96320df",
   "metadata": {
    "ExecuteTime": {
     "end_time": "2022-02-05T13:04:07.029899Z",
     "start_time": "2022-02-05T13:04:07.012903Z"
    }
   },
   "outputs": [
    {
     "data": {
      "text/html": [
       "<div>\n",
       "<style scoped>\n",
       "    .dataframe tbody tr th:only-of-type {\n",
       "        vertical-align: middle;\n",
       "    }\n",
       "\n",
       "    .dataframe tbody tr th {\n",
       "        vertical-align: top;\n",
       "    }\n",
       "\n",
       "    .dataframe thead th {\n",
       "        text-align: right;\n",
       "    }\n",
       "</style>\n",
       "<table border=\"1\" class=\"dataframe\">\n",
       "  <thead>\n",
       "    <tr style=\"text-align: right;\">\n",
       "      <th></th>\n",
       "      <th>sequence</th>\n",
       "      <th>name</th>\n",
       "      <th>age</th>\n",
       "    </tr>\n",
       "  </thead>\n",
       "  <tbody>\n",
       "    <tr>\n",
       "      <th>0</th>\n",
       "      <td>1</td>\n",
       "      <td>park</td>\n",
       "      <td>30</td>\n",
       "    </tr>\n",
       "    <tr>\n",
       "      <th>2</th>\n",
       "      <td>2</td>\n",
       "      <td>choi</td>\n",
       "      <td>40</td>\n",
       "    </tr>\n",
       "    <tr>\n",
       "      <th>1</th>\n",
       "      <td>3</td>\n",
       "      <td>lee</td>\n",
       "      <td>20</td>\n",
       "    </tr>\n",
       "  </tbody>\n",
       "</table>\n",
       "</div>"
      ],
      "text/plain": [
       "   sequence  name  age\n",
       "0         1  park   30\n",
       "2         2  choi   40\n",
       "1         3   lee   20"
      ]
     },
     "execution_count": 4,
     "metadata": {},
     "output_type": "execute_result"
    }
   ],
   "source": [
    "personnel_df.sort_values(by=['sequence'], axis = 0)"
   ]
  },
  {
   "cell_type": "markdown",
   "id": "9a153dae",
   "metadata": {},
   "source": [
    "```\n",
    "sequence 열을 기준을 내림차순 정렬을 해보세요\n",
    "   age  name  sequence\n",
    "1   20   lee         3\n",
    "2   40  choi         2\n",
    "0   30  park         1\n",
    "```\n"
   ]
  },
  {
   "cell_type": "code",
   "execution_count": 5,
   "id": "f50b0e72",
   "metadata": {
    "ExecuteTime": {
     "end_time": "2022-02-05T13:04:48.407372Z",
     "start_time": "2022-02-05T13:04:48.394343Z"
    }
   },
   "outputs": [
    {
     "data": {
      "text/html": [
       "<div>\n",
       "<style scoped>\n",
       "    .dataframe tbody tr th:only-of-type {\n",
       "        vertical-align: middle;\n",
       "    }\n",
       "\n",
       "    .dataframe tbody tr th {\n",
       "        vertical-align: top;\n",
       "    }\n",
       "\n",
       "    .dataframe thead th {\n",
       "        text-align: right;\n",
       "    }\n",
       "</style>\n",
       "<table border=\"1\" class=\"dataframe\">\n",
       "  <thead>\n",
       "    <tr style=\"text-align: right;\">\n",
       "      <th></th>\n",
       "      <th>sequence</th>\n",
       "      <th>name</th>\n",
       "      <th>age</th>\n",
       "    </tr>\n",
       "  </thead>\n",
       "  <tbody>\n",
       "    <tr>\n",
       "      <th>1</th>\n",
       "      <td>3</td>\n",
       "      <td>lee</td>\n",
       "      <td>20</td>\n",
       "    </tr>\n",
       "    <tr>\n",
       "      <th>2</th>\n",
       "      <td>2</td>\n",
       "      <td>choi</td>\n",
       "      <td>40</td>\n",
       "    </tr>\n",
       "    <tr>\n",
       "      <th>0</th>\n",
       "      <td>1</td>\n",
       "      <td>park</td>\n",
       "      <td>30</td>\n",
       "    </tr>\n",
       "  </tbody>\n",
       "</table>\n",
       "</div>"
      ],
      "text/plain": [
       "   sequence  name  age\n",
       "1         3   lee   20\n",
       "2         2  choi   40\n",
       "0         1  park   30"
      ]
     },
     "execution_count": 5,
     "metadata": {},
     "output_type": "execute_result"
    }
   ],
   "source": [
    "personnel_df.sort_values(by=['sequence'], axis = 0, ascending=False)"
   ]
  },
  {
   "cell_type": "markdown",
   "id": "deefb872",
   "metadata": {},
   "source": [
    "```\n",
    "열 이름을 내림차순으로 정렬하여 다음과 같은 결과값을 도출해보세요\n",
    "   sequence  name  age\n",
    "0         1  park   30\n",
    "1         3   lee   20\n",
    "2         2  choi   40\n",
    "```"
   ]
  },
  {
   "cell_type": "code",
   "execution_count": 9,
   "id": "06160d12",
   "metadata": {
    "ExecuteTime": {
     "end_time": "2022-02-05T13:07:33.049237Z",
     "start_time": "2022-02-05T13:07:33.039271Z"
    }
   },
   "outputs": [
    {
     "data": {
      "text/html": [
       "<div>\n",
       "<style scoped>\n",
       "    .dataframe tbody tr th:only-of-type {\n",
       "        vertical-align: middle;\n",
       "    }\n",
       "\n",
       "    .dataframe tbody tr th {\n",
       "        vertical-align: top;\n",
       "    }\n",
       "\n",
       "    .dataframe thead th {\n",
       "        text-align: right;\n",
       "    }\n",
       "</style>\n",
       "<table border=\"1\" class=\"dataframe\">\n",
       "  <thead>\n",
       "    <tr style=\"text-align: right;\">\n",
       "      <th></th>\n",
       "      <th>sequence</th>\n",
       "      <th>name</th>\n",
       "      <th>age</th>\n",
       "    </tr>\n",
       "  </thead>\n",
       "  <tbody>\n",
       "    <tr>\n",
       "      <th>0</th>\n",
       "      <td>1</td>\n",
       "      <td>park</td>\n",
       "      <td>30</td>\n",
       "    </tr>\n",
       "    <tr>\n",
       "      <th>1</th>\n",
       "      <td>3</td>\n",
       "      <td>lee</td>\n",
       "      <td>20</td>\n",
       "    </tr>\n",
       "    <tr>\n",
       "      <th>2</th>\n",
       "      <td>2</td>\n",
       "      <td>choi</td>\n",
       "      <td>40</td>\n",
       "    </tr>\n",
       "  </tbody>\n",
       "</table>\n",
       "</div>"
      ],
      "text/plain": [
       "   sequence  name  age\n",
       "0         1  park   30\n",
       "1         3   lee   20\n",
       "2         2  choi   40"
      ]
     },
     "execution_count": 9,
     "metadata": {},
     "output_type": "execute_result"
    }
   ],
   "source": [
    "personnel_df.sort_values(by=['name'], axis = 0, ascending=False)"
   ]
  },
  {
   "cell_type": "markdown",
   "id": "a24b1fb8",
   "metadata": {},
   "source": [
    "다음의 데이터를 로드해보세요"
   ]
  },
  {
   "cell_type": "code",
   "execution_count": 10,
   "id": "64bc0121",
   "metadata": {
    "ExecuteTime": {
     "end_time": "2022-02-05T13:07:51.282650Z",
     "start_time": "2022-02-05T13:07:51.265652Z"
    }
   },
   "outputs": [],
   "source": [
    "personnel_df = pd.DataFrame({'sequence': [1, 3, np.nan],\n",
    "                             'name': ['park', 'lee', 'choi'],\n",
    "                             'age': [30, 20, 40]})"
   ]
  },
  {
   "cell_type": "markdown",
   "id": "2fce0734",
   "metadata": {},
   "source": [
    "결측값을 처음에 나오도록 정렬해보세요\n",
    "다음과 같은 결과값이 도출되어야 합니다.\n",
    "```\n",
    "   age  name  sequence\n",
    "2   40  choi       NaN\n",
    "0   30  park       1.0\n",
    "1   20   lee       3.0\n",
    "```"
   ]
  },
  {
   "cell_type": "code",
   "execution_count": 11,
   "id": "fbf9f23c",
   "metadata": {
    "ExecuteTime": {
     "end_time": "2022-02-05T13:08:18.585903Z",
     "start_time": "2022-02-05T13:08:18.566871Z"
    }
   },
   "outputs": [
    {
     "data": {
      "text/html": [
       "<div>\n",
       "<style scoped>\n",
       "    .dataframe tbody tr th:only-of-type {\n",
       "        vertical-align: middle;\n",
       "    }\n",
       "\n",
       "    .dataframe tbody tr th {\n",
       "        vertical-align: top;\n",
       "    }\n",
       "\n",
       "    .dataframe thead th {\n",
       "        text-align: right;\n",
       "    }\n",
       "</style>\n",
       "<table border=\"1\" class=\"dataframe\">\n",
       "  <thead>\n",
       "    <tr style=\"text-align: right;\">\n",
       "      <th></th>\n",
       "      <th>sequence</th>\n",
       "      <th>name</th>\n",
       "      <th>age</th>\n",
       "    </tr>\n",
       "  </thead>\n",
       "  <tbody>\n",
       "    <tr>\n",
       "      <th>0</th>\n",
       "      <td>1.0</td>\n",
       "      <td>park</td>\n",
       "      <td>30</td>\n",
       "    </tr>\n",
       "    <tr>\n",
       "      <th>1</th>\n",
       "      <td>3.0</td>\n",
       "      <td>lee</td>\n",
       "      <td>20</td>\n",
       "    </tr>\n",
       "    <tr>\n",
       "      <th>2</th>\n",
       "      <td>NaN</td>\n",
       "      <td>choi</td>\n",
       "      <td>40</td>\n",
       "    </tr>\n",
       "  </tbody>\n",
       "</table>\n",
       "</div>"
      ],
      "text/plain": [
       "   sequence  name  age\n",
       "0       1.0  park   30\n",
       "1       3.0   lee   20\n",
       "2       NaN  choi   40"
      ]
     },
     "execution_count": 11,
     "metadata": {},
     "output_type": "execute_result"
    }
   ],
   "source": [
    "personnel_df"
   ]
  },
  {
   "cell_type": "code",
   "execution_count": 14,
   "id": "c87592b3",
   "metadata": {
    "ExecuteTime": {
     "end_time": "2022-02-05T13:09:31.669030Z",
     "start_time": "2022-02-05T13:09:31.651064Z"
    }
   },
   "outputs": [
    {
     "data": {
      "text/html": [
       "<div>\n",
       "<style scoped>\n",
       "    .dataframe tbody tr th:only-of-type {\n",
       "        vertical-align: middle;\n",
       "    }\n",
       "\n",
       "    .dataframe tbody tr th {\n",
       "        vertical-align: top;\n",
       "    }\n",
       "\n",
       "    .dataframe thead th {\n",
       "        text-align: right;\n",
       "    }\n",
       "</style>\n",
       "<table border=\"1\" class=\"dataframe\">\n",
       "  <thead>\n",
       "    <tr style=\"text-align: right;\">\n",
       "      <th></th>\n",
       "      <th>sequence</th>\n",
       "      <th>name</th>\n",
       "      <th>age</th>\n",
       "    </tr>\n",
       "  </thead>\n",
       "  <tbody>\n",
       "    <tr>\n",
       "      <th>2</th>\n",
       "      <td>NaN</td>\n",
       "      <td>choi</td>\n",
       "      <td>40</td>\n",
       "    </tr>\n",
       "    <tr>\n",
       "      <th>0</th>\n",
       "      <td>1.0</td>\n",
       "      <td>park</td>\n",
       "      <td>30</td>\n",
       "    </tr>\n",
       "    <tr>\n",
       "      <th>1</th>\n",
       "      <td>3.0</td>\n",
       "      <td>lee</td>\n",
       "      <td>20</td>\n",
       "    </tr>\n",
       "  </tbody>\n",
       "</table>\n",
       "</div>"
      ],
      "text/plain": [
       "   sequence  name  age\n",
       "2       NaN  choi   40\n",
       "0       1.0  park   30\n",
       "1       3.0   lee   20"
      ]
     },
     "execution_count": 14,
     "metadata": {},
     "output_type": "execute_result"
    }
   ],
   "source": [
    "personnel_df.sort_values(by=['sequence'], axis = 0, na_position='first')"
   ]
  },
  {
   "cell_type": "code",
   "execution_count": 15,
   "id": "d73967d9",
   "metadata": {
    "ExecuteTime": {
     "end_time": "2022-02-05T13:10:06.316802Z",
     "start_time": "2022-02-05T13:10:06.307771Z"
    }
   },
   "outputs": [],
   "source": [
    "personnel_tuple = [(1, 'park', 30),\n",
    "                   (3, 'lee', 20),\n",
    "                   (2, 'choi', 40)]"
   ]
  },
  {
   "cell_type": "markdown",
   "id": "70f81b61",
   "metadata": {},
   "source": [
    "```\n",
    "다음과 같은 결과값을 도출해보세요\n",
    "[(3, 'lee', 20), (1, 'park', 30), (2, 'choi', 40)]\n",
    "````"
   ]
  },
  {
   "cell_type": "code",
   "execution_count": 16,
   "id": "987b5b72",
   "metadata": {
    "ExecuteTime": {
     "end_time": "2022-02-05T13:10:56.764478Z",
     "start_time": "2022-02-05T13:10:56.746468Z"
    }
   },
   "outputs": [
    {
     "data": {
      "text/plain": [
       "[(1, 'park', 30), (3, 'lee', 20), (2, 'choi', 40)]"
      ]
     },
     "execution_count": 16,
     "metadata": {},
     "output_type": "execute_result"
    }
   ],
   "source": [
    "personnel_tuple"
   ]
  },
  {
   "cell_type": "code",
   "execution_count": 22,
   "id": "f9875f4a",
   "metadata": {
    "ExecuteTime": {
     "end_time": "2022-02-05T13:12:54.074275Z",
     "start_time": "2022-02-05T13:12:54.055225Z"
    }
   },
   "outputs": [
    {
     "data": {
      "text/plain": [
       "[(3, 'lee', 20), (2, 'choi', 40), (1, 'park', 30)]"
      ]
     },
     "execution_count": 22,
     "metadata": {},
     "output_type": "execute_result"
    }
   ],
   "source": [
    "sorted(personnel_tuple, key=lambda i:i[0], reverse=True)"
   ]
  },
  {
   "cell_type": "markdown",
   "id": "bf40faa6",
   "metadata": {},
   "source": [
    "## 과제 2\n",
    "### 과제 2-1\n"
   ]
  },
  {
   "cell_type": "code",
   "execution_count": 23,
   "id": "3eb951ce",
   "metadata": {
    "ExecuteTime": {
     "end_time": "2022-02-05T13:13:47.138115Z",
     "start_time": "2022-02-05T13:13:47.135084Z"
    }
   },
   "outputs": [],
   "source": [
    "s = pd.Series([0, 1, 2, 3, 4])"
   ]
  },
  {
   "cell_type": "code",
   "execution_count": 24,
   "id": "48396419",
   "metadata": {
    "ExecuteTime": {
     "end_time": "2022-02-05T13:13:57.001511Z",
     "start_time": "2022-02-05T13:13:56.984512Z"
    }
   },
   "outputs": [
    {
     "data": {
      "text/plain": [
       "0    0\n",
       "1    1\n",
       "2    2\n",
       "3    3\n",
       "4    4\n",
       "dtype: int64"
      ]
     },
     "execution_count": 24,
     "metadata": {},
     "output_type": "execute_result"
    }
   ],
   "source": [
    "s"
   ]
  },
  {
   "cell_type": "code",
   "execution_count": 26,
   "id": "d9e9f678",
   "metadata": {
    "ExecuteTime": {
     "end_time": "2022-02-05T13:14:25.562974Z",
     "start_time": "2022-02-05T13:14:25.555007Z"
    }
   },
   "outputs": [
    {
     "data": {
      "text/plain": [
       "0"
      ]
     },
     "execution_count": 26,
     "metadata": {},
     "output_type": "execute_result"
    }
   ],
   "source": [
    "s[0]"
   ]
  },
  {
   "cell_type": "code",
   "execution_count": 30,
   "id": "6b242777",
   "metadata": {
    "ExecuteTime": {
     "end_time": "2022-02-05T13:15:13.589067Z",
     "start_time": "2022-02-05T13:15:13.576067Z"
    }
   },
   "outputs": [
    {
     "data": {
      "text/plain": [
       "0    0\n",
       "1    1\n",
       "2    2\n",
       "dtype: int64"
      ]
     },
     "execution_count": 30,
     "metadata": {},
     "output_type": "execute_result"
    }
   ],
   "source": [
    "s[:3]"
   ]
  },
  {
   "cell_type": "code",
   "execution_count": 32,
   "id": "d7a6757f",
   "metadata": {
    "ExecuteTime": {
     "end_time": "2022-02-05T13:15:44.190692Z",
     "start_time": "2022-02-05T13:15:44.183690Z"
    }
   },
   "outputs": [
    {
     "data": {
      "text/plain": [
       "2    2\n",
       "3    3\n",
       "4    4\n",
       "dtype: int64"
      ]
     },
     "execution_count": 32,
     "metadata": {},
     "output_type": "execute_result"
    }
   ],
   "source": [
    "s[s >= s.mean()]"
   ]
  },
  {
   "cell_type": "code",
   "execution_count": 33,
   "id": "2ad4320a",
   "metadata": {
    "ExecuteTime": {
     "end_time": "2022-02-05T13:16:20.086567Z",
     "start_time": "2022-02-05T13:16:20.073564Z"
    }
   },
   "outputs": [
    {
     "data": {
      "text/plain": [
       "4    4\n",
       "2    2\n",
       "0    0\n",
       "dtype: int64"
      ]
     },
     "execution_count": 33,
     "metadata": {},
     "output_type": "execute_result"
    }
   ],
   "source": [
    "s[[4,2,0]]"
   ]
  },
  {
   "cell_type": "markdown",
   "id": "44cc628e",
   "metadata": {},
   "source": [
    "### 과제 2-2"
   ]
  },
  {
   "cell_type": "code",
   "execution_count": 34,
   "id": "a53010c5",
   "metadata": {
    "ExecuteTime": {
     "end_time": "2022-02-05T13:16:35.658027Z",
     "start_time": "2022-02-05T13:16:35.640028Z"
    }
   },
   "outputs": [
    {
     "data": {
      "text/plain": [
       "a    0\n",
       "b    1\n",
       "c    2\n",
       "d    3\n",
       "e    4\n",
       "dtype: int64"
      ]
     },
     "execution_count": 34,
     "metadata": {},
     "output_type": "execute_result"
    }
   ],
   "source": [
    "s = pd.Series([0, 1, 2, 3, 4], index=['a', 'b', 'c', 'd', 'e'])\n",
    "s"
   ]
  },
  {
   "cell_type": "code",
   "execution_count": 36,
   "id": "df1ffcae",
   "metadata": {
    "ExecuteTime": {
     "end_time": "2022-02-05T13:16:55.460273Z",
     "start_time": "2022-02-05T13:16:55.450235Z"
    }
   },
   "outputs": [
    {
     "data": {
      "text/plain": [
       "a    0\n",
       "b    1\n",
       "e    4\n",
       "dtype: int64"
      ]
     },
     "execution_count": 36,
     "metadata": {},
     "output_type": "execute_result"
    }
   ],
   "source": [
    "s[[0,1,4]]"
   ]
  },
  {
   "cell_type": "code",
   "execution_count": 37,
   "id": "f33e2d8c",
   "metadata": {
    "ExecuteTime": {
     "end_time": "2022-02-05T13:17:44.703007Z",
     "start_time": "2022-02-05T13:17:44.696979Z"
    }
   },
   "outputs": [
    {
     "data": {
      "text/plain": [
       "a    0\n",
       "b    1\n",
       "e    4\n",
       "dtype: int64"
      ]
     },
     "execution_count": 37,
     "metadata": {},
     "output_type": "execute_result"
    }
   ],
   "source": [
    "s.get(['a','b','e'])"
   ]
  },
  {
   "cell_type": "markdown",
   "id": "6af66476",
   "metadata": {},
   "source": [
    "### 과제 2-3"
   ]
  },
  {
   "cell_type": "code",
   "execution_count": 39,
   "id": "2ab4d02e",
   "metadata": {
    "ExecuteTime": {
     "end_time": "2022-02-05T13:18:08.225547Z",
     "start_time": "2022-02-05T13:18:08.217579Z"
    }
   },
   "outputs": [
    {
     "data": {
      "text/html": [
       "<div>\n",
       "<style scoped>\n",
       "    .dataframe tbody tr th:only-of-type {\n",
       "        vertical-align: middle;\n",
       "    }\n",
       "\n",
       "    .dataframe tbody tr th {\n",
       "        vertical-align: top;\n",
       "    }\n",
       "\n",
       "    .dataframe thead th {\n",
       "        text-align: right;\n",
       "    }\n",
       "</style>\n",
       "<table border=\"1\" class=\"dataframe\">\n",
       "  <thead>\n",
       "    <tr style=\"text-align: right;\">\n",
       "      <th></th>\n",
       "      <th>C1</th>\n",
       "      <th>C2</th>\n",
       "      <th>C3</th>\n",
       "    </tr>\n",
       "  </thead>\n",
       "  <tbody>\n",
       "    <tr>\n",
       "      <th>R1</th>\n",
       "      <td>0</td>\n",
       "      <td>4</td>\n",
       "      <td>8.0</td>\n",
       "    </tr>\n",
       "    <tr>\n",
       "      <th>R2</th>\n",
       "      <td>1</td>\n",
       "      <td>5</td>\n",
       "      <td>9.0</td>\n",
       "    </tr>\n",
       "    <tr>\n",
       "      <th>R3</th>\n",
       "      <td>2</td>\n",
       "      <td>6</td>\n",
       "      <td>10.0</td>\n",
       "    </tr>\n",
       "    <tr>\n",
       "      <th>R4</th>\n",
       "      <td>3</td>\n",
       "      <td>7</td>\n",
       "      <td>NaN</td>\n",
       "    </tr>\n",
       "  </tbody>\n",
       "</table>\n",
       "</div>"
      ],
      "text/plain": [
       "    C1  C2    C3\n",
       "R1   0   4   8.0\n",
       "R2   1   5   9.0\n",
       "R3   2   6  10.0\n",
       "R4   3   7   NaN"
      ]
     },
     "execution_count": 39,
     "metadata": {},
     "output_type": "execute_result"
    }
   ],
   "source": [
    "import pandas as pd\n",
    "df = pd.DataFrame({'C1': [0, 1, 2, 3],\n",
    "                   'C2': [4, 5, 6, 7],\n",
    "                   'C3': [8, 9, 10, np.nan]},\n",
    "                  index=['R1', 'R2', 'R3', 'R4'])\n",
    "df"
   ]
  },
  {
   "cell_type": "markdown",
   "id": "b1bb1224",
   "metadata": {},
   "source": [
    "```\n",
    "다음 데이터의 index 와 column 을 확인해보세요\n",
    "다음 데이터에서 index 가 R1, R3, column 은 C1, C3 인 dataFrame 을 만들어보세요\n",
    "이 때, 최소 3가지 방법 이상으로 만들어보세요\n",
    "\n",
    "```"
   ]
  },
  {
   "cell_type": "code",
   "execution_count": 40,
   "id": "07535b26",
   "metadata": {
    "ExecuteTime": {
     "end_time": "2022-02-05T13:18:15.783468Z",
     "start_time": "2022-02-05T13:18:15.767473Z"
    }
   },
   "outputs": [
    {
     "data": {
      "text/plain": [
       "Index(['C1', 'C2', 'C3'], dtype='object')"
      ]
     },
     "execution_count": 40,
     "metadata": {},
     "output_type": "execute_result"
    }
   ],
   "source": [
    "df.columns"
   ]
  },
  {
   "cell_type": "code",
   "execution_count": 41,
   "id": "b523a976",
   "metadata": {
    "ExecuteTime": {
     "end_time": "2022-02-05T13:18:20.222611Z",
     "start_time": "2022-02-05T13:18:20.216613Z"
    }
   },
   "outputs": [
    {
     "data": {
      "text/plain": [
       "Index(['R1', 'R2', 'R3', 'R4'], dtype='object')"
      ]
     },
     "execution_count": 41,
     "metadata": {},
     "output_type": "execute_result"
    }
   ],
   "source": [
    "df.index"
   ]
  },
  {
   "cell_type": "markdown",
   "id": "48e613d5",
   "metadata": {},
   "source": [
    "방법(1)"
   ]
  },
  {
   "cell_type": "code",
   "execution_count": 42,
   "id": "82dbb78f",
   "metadata": {
    "ExecuteTime": {
     "end_time": "2022-02-05T13:19:39.432610Z",
     "start_time": "2022-02-05T13:19:39.412645Z"
    }
   },
   "outputs": [
    {
     "data": {
      "text/html": [
       "<div>\n",
       "<style scoped>\n",
       "    .dataframe tbody tr th:only-of-type {\n",
       "        vertical-align: middle;\n",
       "    }\n",
       "\n",
       "    .dataframe tbody tr th {\n",
       "        vertical-align: top;\n",
       "    }\n",
       "\n",
       "    .dataframe thead th {\n",
       "        text-align: right;\n",
       "    }\n",
       "</style>\n",
       "<table border=\"1\" class=\"dataframe\">\n",
       "  <thead>\n",
       "    <tr style=\"text-align: right;\">\n",
       "      <th></th>\n",
       "      <th>C1</th>\n",
       "      <th>C3</th>\n",
       "    </tr>\n",
       "  </thead>\n",
       "  <tbody>\n",
       "    <tr>\n",
       "      <th>R1</th>\n",
       "      <td>0</td>\n",
       "      <td>8.0</td>\n",
       "    </tr>\n",
       "    <tr>\n",
       "      <th>R3</th>\n",
       "      <td>2</td>\n",
       "      <td>10.0</td>\n",
       "    </tr>\n",
       "  </tbody>\n",
       "</table>\n",
       "</div>"
      ],
      "text/plain": [
       "    C1    C3\n",
       "R1   0   8.0\n",
       "R3   2  10.0"
      ]
     },
     "execution_count": 42,
     "metadata": {},
     "output_type": "execute_result"
    }
   ],
   "source": [
    "df2 = pd.DataFrame(df, index=['R1', 'R3'], columns=['C1','C3'])\n",
    "df2"
   ]
  },
  {
   "cell_type": "markdown",
   "id": "02b3c7b9",
   "metadata": {},
   "source": [
    "방법(2)"
   ]
  },
  {
   "cell_type": "code",
   "execution_count": 64,
   "id": "dc3c9cd8",
   "metadata": {
    "ExecuteTime": {
     "end_time": "2022-02-05T13:26:47.780205Z",
     "start_time": "2022-02-05T13:26:47.763234Z"
    }
   },
   "outputs": [
    {
     "data": {
      "text/html": [
       "<div>\n",
       "<style scoped>\n",
       "    .dataframe tbody tr th:only-of-type {\n",
       "        vertical-align: middle;\n",
       "    }\n",
       "\n",
       "    .dataframe tbody tr th {\n",
       "        vertical-align: top;\n",
       "    }\n",
       "\n",
       "    .dataframe thead th {\n",
       "        text-align: right;\n",
       "    }\n",
       "</style>\n",
       "<table border=\"1\" class=\"dataframe\">\n",
       "  <thead>\n",
       "    <tr style=\"text-align: right;\">\n",
       "      <th></th>\n",
       "      <th>C1</th>\n",
       "      <th>C3</th>\n",
       "    </tr>\n",
       "  </thead>\n",
       "  <tbody>\n",
       "    <tr>\n",
       "      <th>R1</th>\n",
       "      <td>0</td>\n",
       "      <td>8.0</td>\n",
       "    </tr>\n",
       "    <tr>\n",
       "      <th>R3</th>\n",
       "      <td>2</td>\n",
       "      <td>10.0</td>\n",
       "    </tr>\n",
       "  </tbody>\n",
       "</table>\n",
       "</div>"
      ],
      "text/plain": [
       "    C1    C3\n",
       "R1   0   8.0\n",
       "R3   2  10.0"
      ]
     },
     "execution_count": 64,
     "metadata": {},
     "output_type": "execute_result"
    }
   ],
   "source": [
    "df3 = df[['C1','C3']].loc[['R1', 'R3']]\n",
    "df3"
   ]
  },
  {
   "cell_type": "markdown",
   "id": "f1e9ccbf",
   "metadata": {
    "ExecuteTime": {
     "end_time": "2022-02-05T13:27:02.897021Z",
     "start_time": "2022-02-05T13:27:02.881989Z"
    }
   },
   "source": [
    "방법(3)"
   ]
  },
  {
   "cell_type": "code",
   "execution_count": 70,
   "id": "14cbd24d",
   "metadata": {
    "ExecuteTime": {
     "end_time": "2022-02-05T13:29:20.970020Z",
     "start_time": "2022-02-05T13:29:20.960051Z"
    }
   },
   "outputs": [
    {
     "data": {
      "text/html": [
       "<div>\n",
       "<style scoped>\n",
       "    .dataframe tbody tr th:only-of-type {\n",
       "        vertical-align: middle;\n",
       "    }\n",
       "\n",
       "    .dataframe tbody tr th {\n",
       "        vertical-align: top;\n",
       "    }\n",
       "\n",
       "    .dataframe thead th {\n",
       "        text-align: right;\n",
       "    }\n",
       "</style>\n",
       "<table border=\"1\" class=\"dataframe\">\n",
       "  <thead>\n",
       "    <tr style=\"text-align: right;\">\n",
       "      <th></th>\n",
       "      <th>C1</th>\n",
       "      <th>C3</th>\n",
       "    </tr>\n",
       "  </thead>\n",
       "  <tbody>\n",
       "    <tr>\n",
       "      <th>R1</th>\n",
       "      <td>0</td>\n",
       "      <td>8.0</td>\n",
       "    </tr>\n",
       "    <tr>\n",
       "      <th>R3</th>\n",
       "      <td>2</td>\n",
       "      <td>10.0</td>\n",
       "    </tr>\n",
       "  </tbody>\n",
       "</table>\n",
       "</div>"
      ],
      "text/plain": [
       "    C1    C3\n",
       "R1   0   8.0\n",
       "R3   2  10.0"
      ]
     },
     "execution_count": 70,
     "metadata": {},
     "output_type": "execute_result"
    }
   ],
   "source": [
    "df4 = df.drop(columns='C2', index = ['R2', 'R4'])\n",
    "df4"
   ]
  },
  {
   "cell_type": "markdown",
   "id": "0cdea607",
   "metadata": {},
   "source": [
    "```\n",
    "다음 데이터에서 C1 컬럼과 C2 컬럼의 값을 더한 C4 컬럼을 만들어보세요\n",
    "이 때 2가지 방법으로 만들어 보세요\n",
    "다음 데이터에서 C4 컬럼을 삭제해 보세요\n",
    "이 때 2가지 방법이 있는데, 2가지 방법 모두 기술해보시고, 어떤 차이가 있는지 설명해보세요\n",
    "다음 코드의 실행 결과는 어떻게 될까요?\n",
    "결과를 설명해 보시고, 만약 문제가 있다면 어떻게 개선해야 하는지 설명해보세요\n",
    "```"
   ]
  },
  {
   "cell_type": "code",
   "execution_count": 102,
   "id": "715eb401",
   "metadata": {
    "ExecuteTime": {
     "end_time": "2022-02-05T13:38:05.588038Z",
     "start_time": "2022-02-05T13:38:05.566039Z"
    }
   },
   "outputs": [
    {
     "data": {
      "text/html": [
       "<div>\n",
       "<style scoped>\n",
       "    .dataframe tbody tr th:only-of-type {\n",
       "        vertical-align: middle;\n",
       "    }\n",
       "\n",
       "    .dataframe tbody tr th {\n",
       "        vertical-align: top;\n",
       "    }\n",
       "\n",
       "    .dataframe thead th {\n",
       "        text-align: right;\n",
       "    }\n",
       "</style>\n",
       "<table border=\"1\" class=\"dataframe\">\n",
       "  <thead>\n",
       "    <tr style=\"text-align: right;\">\n",
       "      <th></th>\n",
       "      <th>C1</th>\n",
       "      <th>C2</th>\n",
       "      <th>C3</th>\n",
       "      <th>C4</th>\n",
       "    </tr>\n",
       "  </thead>\n",
       "  <tbody>\n",
       "    <tr>\n",
       "      <th>R1</th>\n",
       "      <td>0</td>\n",
       "      <td>4</td>\n",
       "      <td>8.0</td>\n",
       "      <td>4</td>\n",
       "    </tr>\n",
       "    <tr>\n",
       "      <th>R2</th>\n",
       "      <td>1</td>\n",
       "      <td>5</td>\n",
       "      <td>9.0</td>\n",
       "      <td>6</td>\n",
       "    </tr>\n",
       "    <tr>\n",
       "      <th>R3</th>\n",
       "      <td>2</td>\n",
       "      <td>6</td>\n",
       "      <td>10.0</td>\n",
       "      <td>8</td>\n",
       "    </tr>\n",
       "    <tr>\n",
       "      <th>R4</th>\n",
       "      <td>3</td>\n",
       "      <td>7</td>\n",
       "      <td>NaN</td>\n",
       "      <td>10</td>\n",
       "    </tr>\n",
       "  </tbody>\n",
       "</table>\n",
       "</div>"
      ],
      "text/plain": [
       "    C1  C2    C3  C4\n",
       "R1   0   4   8.0   4\n",
       "R2   1   5   9.0   6\n",
       "R3   2   6  10.0   8\n",
       "R4   3   7   NaN  10"
      ]
     },
     "execution_count": 102,
     "metadata": {},
     "output_type": "execute_result"
    }
   ],
   "source": [
    "df"
   ]
  },
  {
   "cell_type": "code",
   "execution_count": 103,
   "id": "864d10fc",
   "metadata": {
    "ExecuteTime": {
     "end_time": "2022-02-05T13:38:08.204902Z",
     "start_time": "2022-02-05T13:38:08.187904Z"
    }
   },
   "outputs": [
    {
     "data": {
      "text/html": [
       "<div>\n",
       "<style scoped>\n",
       "    .dataframe tbody tr th:only-of-type {\n",
       "        vertical-align: middle;\n",
       "    }\n",
       "\n",
       "    .dataframe tbody tr th {\n",
       "        vertical-align: top;\n",
       "    }\n",
       "\n",
       "    .dataframe thead th {\n",
       "        text-align: right;\n",
       "    }\n",
       "</style>\n",
       "<table border=\"1\" class=\"dataframe\">\n",
       "  <thead>\n",
       "    <tr style=\"text-align: right;\">\n",
       "      <th></th>\n",
       "      <th>C1</th>\n",
       "      <th>C2</th>\n",
       "      <th>C3</th>\n",
       "      <th>C4</th>\n",
       "    </tr>\n",
       "  </thead>\n",
       "  <tbody>\n",
       "    <tr>\n",
       "      <th>R1</th>\n",
       "      <td>0</td>\n",
       "      <td>4</td>\n",
       "      <td>8.0</td>\n",
       "      <td>4</td>\n",
       "    </tr>\n",
       "    <tr>\n",
       "      <th>R2</th>\n",
       "      <td>1</td>\n",
       "      <td>5</td>\n",
       "      <td>9.0</td>\n",
       "      <td>6</td>\n",
       "    </tr>\n",
       "    <tr>\n",
       "      <th>R3</th>\n",
       "      <td>2</td>\n",
       "      <td>6</td>\n",
       "      <td>10.0</td>\n",
       "      <td>8</td>\n",
       "    </tr>\n",
       "    <tr>\n",
       "      <th>R4</th>\n",
       "      <td>3</td>\n",
       "      <td>7</td>\n",
       "      <td>NaN</td>\n",
       "      <td>10</td>\n",
       "    </tr>\n",
       "  </tbody>\n",
       "</table>\n",
       "</div>"
      ],
      "text/plain": [
       "    C1  C2    C3  C4\n",
       "R1   0   4   8.0   4\n",
       "R2   1   5   9.0   6\n",
       "R3   2   6  10.0   8\n",
       "R4   3   7   NaN  10"
      ]
     },
     "execution_count": 103,
     "metadata": {},
     "output_type": "execute_result"
    }
   ],
   "source": [
    "df_new = df\n",
    "df_new['C4'] = df_new['C1']+df_new['C2']\n",
    "df_new"
   ]
  },
  {
   "cell_type": "markdown",
   "id": "258d003c",
   "metadata": {},
   "source": [
    "삭제 - (1)"
   ]
  },
  {
   "cell_type": "code",
   "execution_count": 104,
   "id": "a560a464",
   "metadata": {
    "ExecuteTime": {
     "end_time": "2022-02-05T13:38:11.780896Z",
     "start_time": "2022-02-05T13:38:11.757896Z"
    }
   },
   "outputs": [
    {
     "data": {
      "text/html": [
       "<div>\n",
       "<style scoped>\n",
       "    .dataframe tbody tr th:only-of-type {\n",
       "        vertical-align: middle;\n",
       "    }\n",
       "\n",
       "    .dataframe tbody tr th {\n",
       "        vertical-align: top;\n",
       "    }\n",
       "\n",
       "    .dataframe thead th {\n",
       "        text-align: right;\n",
       "    }\n",
       "</style>\n",
       "<table border=\"1\" class=\"dataframe\">\n",
       "  <thead>\n",
       "    <tr style=\"text-align: right;\">\n",
       "      <th></th>\n",
       "      <th>C1</th>\n",
       "      <th>C2</th>\n",
       "      <th>C3</th>\n",
       "    </tr>\n",
       "  </thead>\n",
       "  <tbody>\n",
       "    <tr>\n",
       "      <th>R1</th>\n",
       "      <td>0</td>\n",
       "      <td>4</td>\n",
       "      <td>8.0</td>\n",
       "    </tr>\n",
       "    <tr>\n",
       "      <th>R2</th>\n",
       "      <td>1</td>\n",
       "      <td>5</td>\n",
       "      <td>9.0</td>\n",
       "    </tr>\n",
       "    <tr>\n",
       "      <th>R3</th>\n",
       "      <td>2</td>\n",
       "      <td>6</td>\n",
       "      <td>10.0</td>\n",
       "    </tr>\n",
       "    <tr>\n",
       "      <th>R4</th>\n",
       "      <td>3</td>\n",
       "      <td>7</td>\n",
       "      <td>NaN</td>\n",
       "    </tr>\n",
       "  </tbody>\n",
       "</table>\n",
       "</div>"
      ],
      "text/plain": [
       "    C1  C2    C3\n",
       "R1   0   4   8.0\n",
       "R2   1   5   9.0\n",
       "R3   2   6  10.0\n",
       "R4   3   7   NaN"
      ]
     },
     "execution_count": 104,
     "metadata": {},
     "output_type": "execute_result"
    }
   ],
   "source": [
    "df_new.drop(columns='C4')"
   ]
  },
  {
   "cell_type": "markdown",
   "id": "c825f7ec",
   "metadata": {},
   "source": [
    "삭제 - (2)"
   ]
  },
  {
   "cell_type": "code",
   "execution_count": 105,
   "id": "5e6c7460",
   "metadata": {
    "ExecuteTime": {
     "end_time": "2022-02-05T13:38:14.088499Z",
     "start_time": "2022-02-05T13:38:14.067501Z"
    }
   },
   "outputs": [
    {
     "data": {
      "text/html": [
       "<div>\n",
       "<style scoped>\n",
       "    .dataframe tbody tr th:only-of-type {\n",
       "        vertical-align: middle;\n",
       "    }\n",
       "\n",
       "    .dataframe tbody tr th {\n",
       "        vertical-align: top;\n",
       "    }\n",
       "\n",
       "    .dataframe thead th {\n",
       "        text-align: right;\n",
       "    }\n",
       "</style>\n",
       "<table border=\"1\" class=\"dataframe\">\n",
       "  <thead>\n",
       "    <tr style=\"text-align: right;\">\n",
       "      <th></th>\n",
       "      <th>C1</th>\n",
       "      <th>C2</th>\n",
       "      <th>C3</th>\n",
       "    </tr>\n",
       "  </thead>\n",
       "  <tbody>\n",
       "    <tr>\n",
       "      <th>R1</th>\n",
       "      <td>0</td>\n",
       "      <td>4</td>\n",
       "      <td>8.0</td>\n",
       "    </tr>\n",
       "    <tr>\n",
       "      <th>R2</th>\n",
       "      <td>1</td>\n",
       "      <td>5</td>\n",
       "      <td>9.0</td>\n",
       "    </tr>\n",
       "    <tr>\n",
       "      <th>R3</th>\n",
       "      <td>2</td>\n",
       "      <td>6</td>\n",
       "      <td>10.0</td>\n",
       "    </tr>\n",
       "    <tr>\n",
       "      <th>R4</th>\n",
       "      <td>3</td>\n",
       "      <td>7</td>\n",
       "      <td>NaN</td>\n",
       "    </tr>\n",
       "  </tbody>\n",
       "</table>\n",
       "</div>"
      ],
      "text/plain": [
       "    C1  C2    C3\n",
       "R1   0   4   8.0\n",
       "R2   1   5   9.0\n",
       "R3   2   6  10.0\n",
       "R4   3   7   NaN"
      ]
     },
     "execution_count": 105,
     "metadata": {},
     "output_type": "execute_result"
    }
   ],
   "source": [
    "del df_new['C4']\n",
    "df_new"
   ]
  },
  {
   "cell_type": "code",
   "execution_count": 107,
   "id": "48f14883",
   "metadata": {
    "ExecuteTime": {
     "end_time": "2022-02-05T13:38:44.765200Z",
     "start_time": "2022-02-05T13:38:44.749233Z"
    }
   },
   "outputs": [
    {
     "data": {
      "text/plain": [
       "C1    0.0\n",
       "C2    4.0\n",
       "C3    8.0\n",
       "Name: R1, dtype: float64"
      ]
     },
     "execution_count": 107,
     "metadata": {},
     "output_type": "execute_result"
    }
   ],
   "source": [
    "df.iloc[0]"
   ]
  },
  {
   "cell_type": "markdown",
   "id": "83a0e97e",
   "metadata": {},
   "source": [
    "## 과제 3\n"
   ]
  },
  {
   "cell_type": "markdown",
   "id": "5d673c8f",
   "metadata": {},
   "source": [
    "array([1, 2, 3, 4, 5])"
   ]
  },
  {
   "cell_type": "code",
   "execution_count": 108,
   "id": "7ad145ac",
   "metadata": {
    "ExecuteTime": {
     "end_time": "2022-02-05T13:39:45.613863Z",
     "start_time": "2022-02-05T13:39:45.606898Z"
    }
   },
   "outputs": [
    {
     "data": {
      "text/plain": [
       "array([1, 2, 3, 4, 5])"
      ]
     },
     "execution_count": 108,
     "metadata": {},
     "output_type": "execute_result"
    }
   ],
   "source": [
    "np.array([1,2,3,4,5])"
   ]
  },
  {
   "cell_type": "code",
   "execution_count": 114,
   "id": "5b3bb3da",
   "metadata": {
    "ExecuteTime": {
     "end_time": "2022-02-05T13:41:44.467498Z",
     "start_time": "2022-02-05T13:41:44.461469Z"
    }
   },
   "outputs": [
    {
     "data": {
      "text/plain": [
       "array([[ 1,  2,  3,  4,  5],\n",
       "       [ 6,  7,  8,  9, 10]])"
      ]
     },
     "execution_count": 114,
     "metadata": {},
     "output_type": "execute_result"
    }
   ],
   "source": [
    "a = [[1,2,3,4,5], [6,7,8,9,10]]\n",
    "np.array(a)"
   ]
  },
  {
   "cell_type": "markdown",
   "id": "e7114b37",
   "metadata": {},
   "source": [
    "np.array() 와 np.asarray() 는 어떤 차이가 있나요?\n",
    "간단하게 설명해 보세요\n",
    "\n",
    "np.array는 데이터 형태 일치 여부에 상관없이 복사함.\n",
    "np.asarray는 데이터 형태가 같을 때 복사하지 않는다. (다를 때 복사)"
   ]
  },
  {
   "cell_type": "code",
   "execution_count": 115,
   "id": "00cbcfaf",
   "metadata": {
    "ExecuteTime": {
     "end_time": "2022-02-05T13:42:40.038729Z",
     "start_time": "2022-02-05T13:42:40.022702Z"
    }
   },
   "outputs": [
    {
     "data": {
      "text/plain": [
       "array([[ 1,  2,  3,  4,  5],\n",
       "       [ 6,  7,  8,  9, 10]])"
      ]
     },
     "execution_count": 115,
     "metadata": {},
     "output_type": "execute_result"
    }
   ],
   "source": [
    "np.asarray([[1,2,3,4,5], [6,7,8,9,10]])"
   ]
  },
  {
   "cell_type": "markdown",
   "id": "cbc7ba90",
   "metadata": {},
   "source": [
    "다음의 코드를 실행시키면 어떤 결과가 나오나요?\n",
    "np.asarray_chkfinite 함수를 중심으로 설명해 보세요\n",
    "\n",
    "\n",
    "===> asarray_chkfinite : 리스트 -> 배열형 변환, inf나 nan 값이 있으면 value error 반환\n"
   ]
  },
  {
   "cell_type": "code",
   "execution_count": 118,
   "id": "575d5a90",
   "metadata": {
    "ExecuteTime": {
     "end_time": "2022-02-05T13:45:05.319557Z",
     "start_time": "2022-02-05T13:45:05.303606Z"
    }
   },
   "outputs": [
    {
     "ename": "ValueError",
     "evalue": "array must not contain infs or NaNs",
     "output_type": "error",
     "traceback": [
      "\u001b[1;31m---------------------------------------------------------------------------\u001b[0m",
      "\u001b[1;31mValueError\u001b[0m                                Traceback (most recent call last)",
      "\u001b[1;32m~\\AppData\\Local\\Temp/ipykernel_14548/550477197.py\u001b[0m in \u001b[0;36m<module>\u001b[1;34m\u001b[0m\n\u001b[0;32m      1\u001b[0m \u001b[0me_2\u001b[0m \u001b[1;33m=\u001b[0m \u001b[1;33m[\u001b[0m\u001b[1;36m11\u001b[0m\u001b[1;33m,\u001b[0m \u001b[1;36m12\u001b[0m\u001b[1;33m,\u001b[0m \u001b[1;36m13\u001b[0m\u001b[1;33m,\u001b[0m \u001b[0mnp\u001b[0m\u001b[1;33m.\u001b[0m\u001b[0mnan\u001b[0m\u001b[1;33m,\u001b[0m \u001b[1;36m15\u001b[0m\u001b[1;33m]\u001b[0m\u001b[1;33m\u001b[0m\u001b[1;33m\u001b[0m\u001b[0m\n\u001b[1;32m----> 2\u001b[1;33m \u001b[0mnp\u001b[0m\u001b[1;33m.\u001b[0m\u001b[0masarray_chkfinite\u001b[0m\u001b[1;33m(\u001b[0m\u001b[0me_2\u001b[0m\u001b[1;33m,\u001b[0m \u001b[0mdtype\u001b[0m\u001b[1;33m=\u001b[0m\u001b[0mfloat\u001b[0m\u001b[1;33m)\u001b[0m\u001b[1;33m\u001b[0m\u001b[1;33m\u001b[0m\u001b[0m\n\u001b[0m",
      "\u001b[1;32m~\\anaconda3\\lib\\site-packages\\numpy\\lib\\function_base.py\u001b[0m in \u001b[0;36masarray_chkfinite\u001b[1;34m(a, dtype, order)\u001b[0m\n\u001b[0;32m    486\u001b[0m     \u001b[0ma\u001b[0m \u001b[1;33m=\u001b[0m \u001b[0masarray\u001b[0m\u001b[1;33m(\u001b[0m\u001b[0ma\u001b[0m\u001b[1;33m,\u001b[0m \u001b[0mdtype\u001b[0m\u001b[1;33m=\u001b[0m\u001b[0mdtype\u001b[0m\u001b[1;33m,\u001b[0m \u001b[0morder\u001b[0m\u001b[1;33m=\u001b[0m\u001b[0morder\u001b[0m\u001b[1;33m)\u001b[0m\u001b[1;33m\u001b[0m\u001b[1;33m\u001b[0m\u001b[0m\n\u001b[0;32m    487\u001b[0m     \u001b[1;32mif\u001b[0m \u001b[0ma\u001b[0m\u001b[1;33m.\u001b[0m\u001b[0mdtype\u001b[0m\u001b[1;33m.\u001b[0m\u001b[0mchar\u001b[0m \u001b[1;32min\u001b[0m \u001b[0mtypecodes\u001b[0m\u001b[1;33m[\u001b[0m\u001b[1;34m'AllFloat'\u001b[0m\u001b[1;33m]\u001b[0m \u001b[1;32mand\u001b[0m \u001b[1;32mnot\u001b[0m \u001b[0mnp\u001b[0m\u001b[1;33m.\u001b[0m\u001b[0misfinite\u001b[0m\u001b[1;33m(\u001b[0m\u001b[0ma\u001b[0m\u001b[1;33m)\u001b[0m\u001b[1;33m.\u001b[0m\u001b[0mall\u001b[0m\u001b[1;33m(\u001b[0m\u001b[1;33m)\u001b[0m\u001b[1;33m:\u001b[0m\u001b[1;33m\u001b[0m\u001b[1;33m\u001b[0m\u001b[0m\n\u001b[1;32m--> 488\u001b[1;33m         raise ValueError(\n\u001b[0m\u001b[0;32m    489\u001b[0m             \"array must not contain infs or NaNs\")\n\u001b[0;32m    490\u001b[0m     \u001b[1;32mreturn\u001b[0m \u001b[0ma\u001b[0m\u001b[1;33m\u001b[0m\u001b[1;33m\u001b[0m\u001b[0m\n",
      "\u001b[1;31mValueError\u001b[0m: array must not contain infs or NaNs"
     ]
    }
   ],
   "source": [
    "e_2 = [11, 12, 13, np.nan, 15]\n",
    "np.asarray_chkfinite(e_2, dtype=float)"
   ]
  },
  {
   "cell_type": "markdown",
   "id": "3651cf7d",
   "metadata": {},
   "source": [
    "다음의 결과를 NumPy 함수만을 사용해서 도출해보세요(-- 5)\n",
    "array([ 0., 0., 0., 0., 0.])"
   ]
  },
  {
   "cell_type": "code",
   "execution_count": 119,
   "id": "fb6fd411",
   "metadata": {
    "ExecuteTime": {
     "end_time": "2022-02-05T13:47:53.070920Z",
     "start_time": "2022-02-05T13:47:53.053889Z"
    }
   },
   "outputs": [
    {
     "data": {
      "text/plain": [
       "array([0., 0., 0., 0., 0.])"
      ]
     },
     "execution_count": 119,
     "metadata": {},
     "output_type": "execute_result"
    }
   ],
   "source": [
    "np.zeros(5)"
   ]
  },
  {
   "cell_type": "markdown",
   "id": "1682d852",
   "metadata": {},
   "source": [
    "다음의 결과를 NumPy 함수만을 사용해서 도출해보세요(-- 6)\n",
    "array([ 1., 1., 1., 1., 1., 1., 1., 1., 1., 1.])"
   ]
  },
  {
   "cell_type": "code",
   "execution_count": 120,
   "id": "2d401b86",
   "metadata": {
    "ExecuteTime": {
     "end_time": "2022-02-05T13:48:08.229900Z",
     "start_time": "2022-02-05T13:48:08.217867Z"
    }
   },
   "outputs": [
    {
     "data": {
      "text/plain": [
       "array([1., 1., 1., 1., 1., 1., 1., 1., 1., 1.])"
      ]
     },
     "execution_count": 120,
     "metadata": {},
     "output_type": "execute_result"
    }
   ],
   "source": [
    "np.ones(10)"
   ]
  },
  {
   "cell_type": "code",
   "execution_count": 121,
   "id": "c5f60bfa",
   "metadata": {
    "ExecuteTime": {
     "end_time": "2022-02-05T13:48:33.941364Z",
     "start_time": "2022-02-05T13:48:33.937364Z"
    }
   },
   "outputs": [
    {
     "data": {
      "text/plain": [
       "array([[0., 0., 0., 0., 0.],\n",
       "       [0., 0., 0., 0., 0.]])"
      ]
     },
     "execution_count": 121,
     "metadata": {},
     "output_type": "execute_result"
    }
   ],
   "source": [
    "np.zeros([2,5])"
   ]
  },
  {
   "cell_type": "code",
   "execution_count": 123,
   "id": "b87f32d6",
   "metadata": {
    "ExecuteTime": {
     "end_time": "2022-02-05T13:49:52.057704Z",
     "start_time": "2022-02-05T13:49:52.044706Z"
    }
   },
   "outputs": [
    {
     "data": {
      "text/plain": [
       "array([[0, 1, 2, 3, 4],\n",
       "       [5, 6, 7, 8, 9]])"
      ]
     },
     "execution_count": 123,
     "metadata": {},
     "output_type": "execute_result"
    }
   ],
   "source": [
    "np.arange(10).reshape(2,5)"
   ]
  },
  {
   "cell_type": "markdown",
   "id": "d069f9ec",
   "metadata": {},
   "source": [
    "```\n",
    "array([[ 1.,  0.,  0.,  0.,  0.],\n",
    "        [ 0.,  1.,  0.,  0.,  0.],\n",
    "        [ 0.,  0.,  1.,  0.,  0.],\n",
    "        [ 0.,  0.,  0.,  1.,  0.],\n",
    "        [ 0.,  0.,  0.,  0.,  1.]])\n",
    " \n",
    " ```"
   ]
  },
  {
   "cell_type": "code",
   "execution_count": 124,
   "id": "e00a651e",
   "metadata": {
    "ExecuteTime": {
     "end_time": "2022-02-05T13:50:42.436644Z",
     "start_time": "2022-02-05T13:50:42.426652Z"
    }
   },
   "outputs": [
    {
     "data": {
      "text/plain": [
       "array([[1., 0., 0., 0., 0.],\n",
       "       [0., 1., 0., 0., 0.],\n",
       "       [0., 0., 1., 0., 0.],\n",
       "       [0., 0., 0., 1., 0.],\n",
       "       [0., 0., 0., 0., 1.]])"
      ]
     },
     "execution_count": 124,
     "metadata": {},
     "output_type": "execute_result"
    }
   ],
   "source": [
    "np.eye(5)"
   ]
  },
  {
   "cell_type": "code",
   "execution_count": 125,
   "id": "6739605f",
   "metadata": {
    "ExecuteTime": {
     "end_time": "2022-02-05T13:50:46.943415Z",
     "start_time": "2022-02-05T13:50:46.933415Z"
    }
   },
   "outputs": [
    {
     "data": {
      "text/plain": [
       "array([[1., 0., 0., 0., 0.],\n",
       "       [0., 1., 0., 0., 0.],\n",
       "       [0., 0., 1., 0., 0.],\n",
       "       [0., 0., 0., 1., 0.],\n",
       "       [0., 0., 0., 0., 1.]])"
      ]
     },
     "execution_count": 125,
     "metadata": {},
     "output_type": "execute_result"
    }
   ],
   "source": [
    "np.identity(5)"
   ]
  },
  {
   "cell_type": "markdown",
   "id": "82168cc3",
   "metadata": {},
   "source": [
    "## 과제 4\n",
    "+ NumPy 를 활용해서 정규분포(Normal distribution)를 따르는 개수가 24개인 무작위 샘플을 만들어보세요\n",
    " 이 때, 무작위 샘플은 한 번 실행되면 바뀌지 않아야 합니다.\n",
    "matrix 구조는 (2, 3, 4) 3차원 구조이어야 합니다.\n",
    "+ 앞(head) 또는 뒤(tail) 가 나올 확률이 50% 인 동전 던지기를 20번 해본 결과 샘플을 만들어보세요\n",
    "+ good 이 5개, bad 가 20개인 모집단에서 5개의 샘플을 무작위로 비복원추출 하는 것을 100번 시뮬레이션 한 결과 샘플을 만들어보세요\n",
    "+ 자유도가 2인 카이제곱분포로부터 100개의 난수를 생성해보세요\n",
    "이를 히스토그램을 그려서 분포를 확인해보세요"
   ]
  },
  {
   "cell_type": "code",
   "execution_count": 135,
   "id": "f25a1166",
   "metadata": {
    "ExecuteTime": {
     "end_time": "2022-02-05T13:53:38.948148Z",
     "start_time": "2022-02-05T13:53:38.928149Z"
    }
   },
   "outputs": [
    {
     "data": {
      "text/plain": [
       "array([[[ 1.62434536, -0.61175641, -0.52817175, -1.07296862],\n",
       "        [ 0.86540763, -2.3015387 ,  1.74481176, -0.7612069 ],\n",
       "        [ 0.3190391 , -0.24937038,  1.46210794, -2.06014071]],\n",
       "\n",
       "       [[-0.3224172 , -0.38405435,  1.13376944, -1.09989127],\n",
       "        [-0.17242821, -0.87785842,  0.04221375,  0.58281521],\n",
       "        [-1.10061918,  1.14472371,  0.90159072,  0.50249434]]])"
      ]
     },
     "execution_count": 135,
     "metadata": {},
     "output_type": "execute_result"
    }
   ],
   "source": [
    "np.random.seed(1)\n",
    "data = np.random.normal(size=(2,3,4))\n",
    "data"
   ]
  },
  {
   "cell_type": "code",
   "execution_count": 137,
   "id": "ae84ad4d",
   "metadata": {
    "ExecuteTime": {
     "end_time": "2022-02-05T13:54:46.247370Z",
     "start_time": "2022-02-05T13:54:46.240402Z"
    }
   },
   "outputs": [
    {
     "data": {
      "text/plain": [
       "array([0, 1, 0, 0, 0, 0, 0, 0, 0, 1, 0, 1, 0, 1, 0, 1, 0, 1, 0, 0])"
      ]
     },
     "execution_count": 137,
     "metadata": {},
     "output_type": "execute_result"
    }
   ],
   "source": [
    "np.random.seed(1)\n",
    "np.random.binomial(1, 0.5, size=20)"
   ]
  },
  {
   "cell_type": "code",
   "execution_count": 140,
   "id": "bea4a6e5",
   "metadata": {
    "ExecuteTime": {
     "end_time": "2022-02-05T13:56:32.716604Z",
     "start_time": "2022-02-05T13:56:32.699633Z"
    }
   },
   "outputs": [
    {
     "data": {
      "text/plain": [
       "array([0, 0, 1, 0, 3, 2, 1, 1, 1, 1, 0, 0, 0, 1, 1, 1, 1, 2, 1, 1, 2, 2,\n",
       "       1, 1, 1, 1, 1, 2, 0, 0, 1, 2, 1, 0, 1, 0, 0, 2, 1, 2, 2, 2, 1, 2,\n",
       "       1, 3, 1, 1, 1, 1, 2, 1, 2, 0, 1, 1, 2, 1, 0, 1, 2, 0, 2, 1, 0, 0,\n",
       "       1, 2, 2, 1, 0, 2, 2, 1, 0, 1, 1, 0, 1, 1, 1, 1, 1, 2, 0, 0, 1, 1,\n",
       "       1, 2, 2, 1, 2, 1, 2, 1, 1, 0, 1, 3])"
      ]
     },
     "execution_count": 140,
     "metadata": {},
     "output_type": "execute_result"
    }
   ],
   "source": [
    "np.random.seed(1)\n",
    "rand_hyp = np.random.hypergeometric(ngood= 5, nbad=20, nsample=5, size=100)\n",
    "rand_hyp"
   ]
  },
  {
   "cell_type": "code",
   "execution_count": 146,
   "id": "cbceb1fb",
   "metadata": {
    "ExecuteTime": {
     "end_time": "2022-02-05T14:00:14.825214Z",
     "start_time": "2022-02-05T14:00:14.804215Z"
    }
   },
   "outputs": [
    {
     "data": {
      "text/plain": [
       "array([1.07921167e+00, 2.54825051e+00, 2.28762717e-04, 7.20025510e-01,\n",
       "       3.17419190e-01, 1.93767743e-01, 4.12229268e-01, 8.47952964e-01,\n",
       "       1.01090508e+00, 1.54791955e+00, 1.08667874e+00, 2.31175942e+00,\n",
       "       4.57448815e-01, 4.20939458e+00, 5.55392495e-02, 2.22016065e+00,\n",
       "       1.08018209e+00, 1.63601463e+00, 3.02545839e-01, 4.41546448e-01,\n",
       "       3.22633541e+00, 6.90045442e+00, 7.52077226e-01, 2.35740700e+00,\n",
       "       4.18123395e+00, 4.50011173e+00, 1.77759067e-01, 7.96757562e-02,\n",
       "       3.72250571e-01, 4.20980596e+00, 2.07050699e-01, 1.09327740e+00,\n",
       "       6.33491776e+00, 1.52356003e+00, 2.35451319e+00, 7.58178940e-01,\n",
       "       2.31991776e+00, 3.59908744e+00, 3.69151504e-02, 2.77374358e+00,\n",
       "       8.99462159e+00, 2.75796753e+00, 6.58241826e-01, 3.11444371e+00,\n",
       "       2.17902814e-01, 1.18802873e+00, 4.78492120e+00, 6.95187317e-01,\n",
       "       6.78723763e-01, 2.78589819e-01, 3.91139090e-02, 2.27160386e+00,\n",
       "       4.75570733e-01, 6.17257621e-01, 1.35286789e+00, 1.09678189e-01,\n",
       "       1.70718408e+00, 3.17355163e-01, 1.77981148e+00, 2.40633532e+00,\n",
       "       2.15915390e-01, 1.06906207e+00, 2.37095748e+00, 1.06948291e+00,\n",
       "       1.02488610e-01, 1.53529498e+00, 2.18006626e+00, 1.44675556e+00,\n",
       "       5.78616207e+00, 1.76646176e+00, 4.67439273e+00, 2.95781604e-01,\n",
       "       2.99963574e-01, 3.29418910e+00, 1.01392232e+00, 3.61495665e-01,\n",
       "       5.24857415e+00, 8.54703341e-01, 2.77909612e+00, 2.58923964e+00,\n",
       "       4.29640187e+00, 1.95458945e+00, 2.78014244e+00, 8.58178984e-01,\n",
       "       6.29223943e-01, 4.52454184e+00, 1.11755145e+00, 6.69569509e+00,\n",
       "       2.17796658e+00, 1.94411287e+00, 2.43761278e-01, 5.97113853e+00,\n",
       "       1.19535451e+00, 1.72734730e+00, 1.04895951e+00, 5.41065218e-01,\n",
       "       4.67392912e+00, 1.70512767e+00, 5.74890864e-03, 1.92019745e+00])"
      ]
     },
     "execution_count": 146,
     "metadata": {},
     "output_type": "execute_result"
    }
   ],
   "source": [
    "import matplotlib.pyplot as plt\n",
    "\n",
    "np.random.seed(1)\n",
    "chisq = np.random.chisquare(df=2, size=100)\n",
    "chisq"
   ]
  },
  {
   "cell_type": "code",
   "execution_count": 150,
   "id": "769ac44c",
   "metadata": {
    "ExecuteTime": {
     "end_time": "2022-02-05T14:01:00.353895Z",
     "start_time": "2022-02-05T14:01:00.239863Z"
    }
   },
   "outputs": [
    {
     "data": {
      "text/plain": [
       "(array([24., 14., 12., 11.,  6.,  9.,  5.,  2.,  1.,  4.,  5.,  1.,  1.,\n",
       "         1.,  2.,  1.,  0.,  0.,  0.,  1.]),\n",
       " array([2.28762717e-04, 4.49948404e-01, 8.99668046e-01, 1.34938769e+00,\n",
       "        1.79910733e+00, 2.24882697e+00, 2.69854661e+00, 3.14826625e+00,\n",
       "        3.59798589e+00, 4.04770554e+00, 4.49742518e+00, 4.94714482e+00,\n",
       "        5.39686446e+00, 5.84658410e+00, 6.29630374e+00, 6.74602339e+00,\n",
       "        7.19574303e+00, 7.64546267e+00, 8.09518231e+00, 8.54490195e+00,\n",
       "        8.99462159e+00]),\n",
       " <BarContainer object of 20 artists>)"
      ]
     },
     "execution_count": 150,
     "metadata": {},
     "output_type": "execute_result"
    },
    {
     "data": {
      "image/png": "[encoded data removed]",
      "text/plain": [
       "<Figure size 432x288 with 1 Axes>"
      ]
     },
     "metadata": {
      "needs_background": "light"
     },
     "output_type": "display_data"
    }
   ],
   "source": [
    "plt.hist(chisq, color = 'olive',bins=20)"
   ]
  },
  {
   "cell_type": "markdown",
   "id": "fae19c66",
   "metadata": {},
   "source": [
    "## 과제 5\n",
    "다음의 list 자료구조를 NumPy의 float64 로 변경해주세요\n",
    "이 때, 3가지 방법으로 변경하여 x_float64 에 저장해주세요"
   ]
  },
  {
   "cell_type": "code",
   "execution_count": 143,
   "id": "686654ff",
   "metadata": {
    "ExecuteTime": {
     "end_time": "2022-02-05T13:57:41.213865Z",
     "start_time": "2022-02-05T13:57:41.200865Z"
    }
   },
   "outputs": [],
   "source": [
    "arr = [1.4, 2.6, 3.0, 4.9, 5.32]"
   ]
  },
  {
   "cell_type": "markdown",
   "id": "461e8134",
   "metadata": {},
   "source": [
    "방법(1)"
   ]
  },
  {
   "cell_type": "code",
   "execution_count": 155,
   "id": "af232447",
   "metadata": {
    "ExecuteTime": {
     "end_time": "2022-02-05T14:03:11.801831Z",
     "start_time": "2022-02-05T14:03:11.783831Z"
    }
   },
   "outputs": [
    {
     "name": "stdout",
     "output_type": "stream",
     "text": [
      "[1.4  2.6  3.   4.9  5.32]\n",
      "float64\n"
     ]
    }
   ],
   "source": [
    "x_float64 = np.array(arr, dtype=np.float64)\n",
    "print(x_float64)\n",
    "print(x_float64.dtype)"
   ]
  },
  {
   "cell_type": "markdown",
   "id": "eac1b45d",
   "metadata": {},
   "source": [
    "방법(2) - 타입코드"
   ]
  },
  {
   "cell_type": "code",
   "execution_count": 156,
   "id": "b7652870",
   "metadata": {
    "ExecuteTime": {
     "end_time": "2022-02-05T14:03:24.494140Z",
     "start_time": "2022-02-05T14:03:24.484137Z"
    }
   },
   "outputs": [
    {
     "name": "stdout",
     "output_type": "stream",
     "text": [
      "[1.4  2.6  3.   4.9  5.32]\n",
      "float64\n"
     ]
    }
   ],
   "source": [
    "x_float64 = np.array(arr, dtype='f8')\n",
    "print(x_float64)\n",
    "print(x_float64.dtype)"
   ]
  },
  {
   "cell_type": "markdown",
   "id": "98dadc4e",
   "metadata": {},
   "source": [
    "방법(3)"
   ]
  },
  {
   "cell_type": "code",
   "execution_count": 158,
   "id": "882b5172",
   "metadata": {
    "ExecuteTime": {
     "end_time": "2022-02-05T14:04:20.920966Z",
     "start_time": "2022-02-05T14:04:20.902970Z"
    }
   },
   "outputs": [
    {
     "name": "stdout",
     "output_type": "stream",
     "text": [
      "[1.4  2.6  3.   4.9  5.32]\n",
      "float64\n"
     ]
    }
   ],
   "source": [
    "x_float64 = np.float64(arr)\n",
    "print(x_float64)\n",
    "print(x_float64.dtype)"
   ]
  },
  {
   "cell_type": "markdown",
   "id": "9dc8a6c2",
   "metadata": {},
   "source": [
    "위의 저장된 x_float64 를 다시 NumPy의 int64로 변경해보세요\n",
    "이 때, 2가지 방법으로 변경해주세요"
   ]
  },
  {
   "cell_type": "markdown",
   "id": "9f6c3e38",
   "metadata": {},
   "source": [
    "방법(1)"
   ]
  },
  {
   "cell_type": "code",
   "execution_count": 161,
   "id": "7f3b899c",
   "metadata": {
    "ExecuteTime": {
     "end_time": "2022-02-05T14:05:57.593665Z",
     "start_time": "2022-02-05T14:05:57.588614Z"
    }
   },
   "outputs": [
    {
     "name": "stdout",
     "output_type": "stream",
     "text": [
      "[1 2 3 4 5]\n",
      "int64\n"
     ]
    }
   ],
   "source": [
    "x_int64 = x_float64.astype(np.int64)\n",
    "print(x_int64)\n",
    "print(x_int64.dtype)"
   ]
  },
  {
   "cell_type": "markdown",
   "id": "d87df46c",
   "metadata": {
    "ExecuteTime": {
     "end_time": "2022-02-05T14:06:03.927324Z",
     "start_time": "2022-02-05T14:06:03.905358Z"
    }
   },
   "source": [
    "방법(2)"
   ]
  },
  {
   "cell_type": "code",
   "execution_count": 163,
   "id": "2993cb6a",
   "metadata": {
    "ExecuteTime": {
     "end_time": "2022-02-05T14:06:32.780333Z",
     "start_time": "2022-02-05T14:06:32.772366Z"
    }
   },
   "outputs": [
    {
     "name": "stdout",
     "output_type": "stream",
     "text": [
      "[1 2 3 4 5]\n",
      "int64\n"
     ]
    }
   ],
   "source": [
    "x_int64 = np.int64(x_float64)\n",
    "print(x_int64)\n",
    "print(x_int64.dtype)"
   ]
  },
  {
   "cell_type": "markdown",
   "id": "9ce76b50",
   "metadata": {},
   "source": [
    "x_float64 를 문자열(string) 으로 변경해주세요"
   ]
  },
  {
   "cell_type": "code",
   "execution_count": 164,
   "id": "012999ed",
   "metadata": {
    "ExecuteTime": {
     "end_time": "2022-02-05T14:07:21.654980Z",
     "start_time": "2022-02-05T14:07:21.646986Z"
    }
   },
   "outputs": [
    {
     "data": {
      "text/plain": [
       "array([b'1.4', b'2.6', b'3.0', b'4.9', b'5.32'], dtype='|S32')"
      ]
     },
     "execution_count": 164,
     "metadata": {},
     "output_type": "execute_result"
    }
   ],
   "source": [
    "x_float64.astype(np.string_)"
   ]
  },
  {
   "cell_type": "code",
   "execution_count": null,
   "id": "0a96b55c",
   "metadata": {},
   "outputs": [],
   "source": []
  }
 ],
 "metadata": {
  "kernelspec": {
   "display_name": "Python 3 (ipykernel)",
   "language": "python",
   "name": "python3"
  },
  "language_info": {
   "codemirror_mode": {
    "name": "ipython",
    "version": 3
   },
   "file_extension": ".py",
   "mimetype": "text/x-python",
   "name": "python",
   "nbconvert_exporter": "python",
   "pygments_lexer": "ipython3",
   "version": "3.9.7"
  },
  "toc": {
   "base_numbering": 1,
   "nav_menu": {},
   "number_sections": true,
   "sideBar": true,
   "skip_h1_title": false,
   "title_cell": "Table of Contents",
   "title_sidebar": "Contents",
   "toc_cell": false,
   "toc_position": {},
   "toc_section_display": true,
   "toc_window_display": false
  }
 },
 "nbformat": 4,
 "nbformat_minor": 5
}
