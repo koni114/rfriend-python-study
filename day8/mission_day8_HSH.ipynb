{
 "cells": [
  {
   "cell_type": "markdown",
   "id": "6b29eb58",
   "metadata": {},
   "source": [
    "# DAY 8\n",
    "## 과제 1"
   ]
  },
  {
   "cell_type": "code",
   "execution_count": 1,
   "id": "bde7a429",
   "metadata": {
    "ExecuteTime": {
     "end_time": "2022-02-07T13:34:26.771680Z",
     "start_time": "2022-02-07T13:34:25.693052Z"
    }
   },
   "outputs": [],
   "source": [
    "import numpy as np\n",
    "import pandas as pd"
   ]
  },
  {
   "cell_type": "code",
   "execution_count": 15,
   "id": "de413499",
   "metadata": {
    "ExecuteTime": {
     "end_time": "2022-02-07T13:41:02.142866Z",
     "start_time": "2022-02-07T13:41:02.124809Z"
    }
   },
   "outputs": [],
   "source": [
    "x = np.array([1, 1, 2, 2])\n",
    "y = np.array([1, 2, 3, 4])"
   ]
  },
  {
   "cell_type": "code",
   "execution_count": 13,
   "id": "90de7792",
   "metadata": {
    "ExecuteTime": {
     "end_time": "2022-02-07T13:40:56.598510Z",
     "start_time": "2022-02-07T13:40:56.582298Z"
    }
   },
   "outputs": [
    {
     "data": {
      "text/plain": [
       "array([2, 3, 5, 6])"
      ]
     },
     "execution_count": 13,
     "metadata": {},
     "output_type": "execute_result"
    }
   ],
   "source": [
    "# 다음의 결과를 도출해보세요. 이 때 Vectorization 연산으로 결과를 도출해보세요(-- 1)\n",
    "# Out[6]: array([ 2., 3., 4., 5.])\n",
    "x+y"
   ]
  },
  {
   "cell_type": "code",
   "execution_count": 17,
   "id": "9843b4db",
   "metadata": {
    "ExecuteTime": {
     "end_time": "2022-02-07T13:41:13.338189Z",
     "start_time": "2022-02-07T13:41:13.328187Z"
    }
   },
   "outputs": [
    {
     "data": {
      "text/plain": [
       "array([0, 1, 1, 2])"
      ]
     },
     "execution_count": 17,
     "metadata": {},
     "output_type": "execute_result"
    }
   ],
   "source": [
    "# 다음의 결과를 도출해보세요. 이 때 Vectorization 연산으로 결과를 도출해보세요(-- 2)\n",
    "# Out[10]: array([ 0., 1., 1., 2.])\n",
    "abs(x-y)"
   ]
  },
  {
   "cell_type": "code",
   "execution_count": 20,
   "id": "8016f277",
   "metadata": {
    "ExecuteTime": {
     "end_time": "2022-02-07T13:43:27.091993Z",
     "start_time": "2022-02-07T13:43:27.073996Z"
    }
   },
   "outputs": [
    {
     "data": {
      "text/plain": [
       "array([ 1,  1,  8, 16], dtype=int32)"
      ]
     },
     "execution_count": 20,
     "metadata": {},
     "output_type": "execute_result"
    }
   ],
   "source": [
    "# 다음의 결과를 도출해보세요. 이 때 Vectorization 연산으로 결과를 도출해보세요(-- 4)\n",
    "# Out[13]: array([ 1., 1., 8., 16.])\n",
    "x**y\n"
   ]
  },
  {
   "cell_type": "code",
   "execution_count": 21,
   "id": "6962584d",
   "metadata": {
    "ExecuteTime": {
     "end_time": "2022-02-07T13:43:48.628007Z",
     "start_time": "2022-02-07T13:43:48.615012Z"
    }
   },
   "outputs": [
    {
     "data": {
      "text/plain": [
       "array([1, 2, 6, 8])"
      ]
     },
     "execution_count": 21,
     "metadata": {},
     "output_type": "execute_result"
    }
   ],
   "source": [
    "# 다음의 결과를 도출해보세요. 이 때 Vectorization 연산으로 결과를 도출해보세요(-- 5)\n",
    "# Out[25]: array([ 1., 2., 6., 8.])\n",
    "\n",
    "x*y"
   ]
  },
  {
   "cell_type": "code",
   "execution_count": 22,
   "id": "b9dd506e",
   "metadata": {
    "ExecuteTime": {
     "end_time": "2022-02-07T13:44:10.001939Z",
     "start_time": "2022-02-07T13:44:09.983945Z"
    }
   },
   "outputs": [
    {
     "data": {
      "text/plain": [
       "array([1. , 2. , 1.5, 2. ])"
      ]
     },
     "execution_count": 22,
     "metadata": {},
     "output_type": "execute_result"
    }
   ],
   "source": [
    "# 다음의 결과를 도출해보세요. 이 때 Vectorization 연산으로 결과를 도출해보세요(-- 6)\n",
    "# Out[26]: array([ 1. , 2. , 1.5, 2. ])\n",
    "\n",
    "y/x"
   ]
  },
  {
   "cell_type": "code",
   "execution_count": 28,
   "id": "4243b08b",
   "metadata": {
    "ExecuteTime": {
     "end_time": "2022-02-07T13:48:07.789684Z",
     "start_time": "2022-02-07T13:48:07.780688Z"
    }
   },
   "outputs": [
    {
     "data": {
      "text/plain": [
       "array([ 1,  2,  9, 16], dtype=int32)"
      ]
     },
     "execution_count": 28,
     "metadata": {},
     "output_type": "execute_result"
    }
   ],
   "source": [
    "# 다음의 결과를 도출해보세요. 이 때 Vectorization 연산으로 결과를 도출해보세요(-- 7)\n",
    "# Out[29]: array([ 1., 2., 9., 16.])\n",
    "y ** x"
   ]
  },
  {
   "cell_type": "code",
   "execution_count": 35,
   "id": "eb3ea17d",
   "metadata": {
    "ExecuteTime": {
     "end_time": "2022-02-07T13:50:29.753996Z",
     "start_time": "2022-02-07T13:50:29.744972Z"
    }
   },
   "outputs": [],
   "source": [
    "x = np.array([1, 1, 2, 2])\n",
    "y = np.array([1, 2, 3, 4])"
   ]
  },
  {
   "cell_type": "code",
   "execution_count": 26,
   "id": "d0c9179d",
   "metadata": {
    "ExecuteTime": {
     "end_time": "2022-02-07T13:47:09.249870Z",
     "start_time": "2022-02-07T13:47:09.232910Z"
    }
   },
   "outputs": [
    {
     "data": {
      "text/plain": [
       "'\\nOut[32]: array([ True, False, False, False], dtype=bool)\\nOut[33]: array([False, True, True, True], dtype=bool)\\nOut[34]: array([False, False, False, False], dtype=bool)\\nOut[35]: array([ True, False, False, False], dtype=bool)\\nOut[36]: array([False, True, True, True], dtype=bool)\\nOut[37]: array([ True, True, True, True], dtype=bool)\\n'"
      ]
     },
     "execution_count": 26,
     "metadata": {},
     "output_type": "execute_result"
    }
   ],
   "source": [
    "# 배열간 비교 연산을 통해, =, !=, >=, >, <=, < 6가지 케이스를 비교해서 boolean 형태로 출력해보세요\n",
    "# 다음과 같은 결과값이 도출되어야 합니다.\n",
    "\n",
    "\"\"\"\n",
    "Out[32]: array([ True, False, False, False], dtype=bool)\n",
    "Out[33]: array([False, True, True, True], dtype=bool)\n",
    "Out[34]: array([False, False, False, False], dtype=bool)\n",
    "Out[35]: array([ True, False, False, False], dtype=bool)\n",
    "Out[36]: array([False, True, True, True], dtype=bool)\n",
    "Out[37]: array([ True, True, True, True], dtype=bool)\n",
    "\"\"\""
   ]
  },
  {
   "cell_type": "code",
   "execution_count": 42,
   "id": "0af1e49f",
   "metadata": {
    "ExecuteTime": {
     "end_time": "2022-02-07T13:52:20.843044Z",
     "start_time": "2022-02-07T13:52:20.827075Z"
    }
   },
   "outputs": [
    {
     "name": "stdout",
     "output_type": "stream",
     "text": [
      "[ True False False False]\n",
      "[False  True  True  True]\n",
      "[False False False False]\n",
      "[ True False False False]\n",
      "[False  True  True  True]\n",
      "[ True  True  True  True]\n"
     ]
    }
   ],
   "source": [
    "print(x==y)\n",
    "print(x!=y)\n",
    "print(x>y)\n",
    "print(x>=y)\n",
    "print(x<y)\n",
    "print(x<=y)"
   ]
  },
  {
   "cell_type": "code",
   "execution_count": 47,
   "id": "71e05a14",
   "metadata": {
    "ExecuteTime": {
     "end_time": "2022-02-07T13:56:19.735018Z",
     "start_time": "2022-02-07T13:56:19.730018Z"
    }
   },
   "outputs": [
    {
     "name": "stdout",
     "output_type": "stream",
     "text": [
      "False\n",
      "True\n"
     ]
    }
   ],
   "source": [
    "x = np.array([1, 1, 2, 2])\n",
    "y = np.array([1, 2, 3, 4])\n",
    "\n",
    "z = y.copy()\n",
    "\n",
    "# np.array_equal(x, y) # -- (1) ? \n",
    "# np.array_euqal(y, z) # -- (2) ?\n",
    "\n",
    "print(np.array_equal(x, y))\n",
    "print(np.array_equal(y, z))"
   ]
  },
  {
   "cell_type": "code",
   "execution_count": 54,
   "id": "aa199ffa",
   "metadata": {
    "ExecuteTime": {
     "end_time": "2022-02-07T14:01:43.060926Z",
     "start_time": "2022-02-07T14:01:43.049927Z"
    }
   },
   "outputs": [
    {
     "name": "stdout",
     "output_type": "stream",
     "text": [
      "x4:  [1 1 0 0]\n",
      "x5:  [1 0 1 0]\n"
     ]
    }
   ],
   "source": [
    "x4 = np.array([1, 1, 0, 0])\n",
    "x5 = np.array([1, 0, 1, 0])\n",
    "\n",
    "print(\"x4: \", x4)\n",
    "print(\"x5: \", x5)"
   ]
  },
  {
   "cell_type": "code",
   "execution_count": 55,
   "id": "5837bc3e",
   "metadata": {
    "ExecuteTime": {
     "end_time": "2022-02-07T14:01:45.617136Z",
     "start_time": "2022-02-07T14:01:45.612106Z"
    }
   },
   "outputs": [
    {
     "name": "stdout",
     "output_type": "stream",
     "text": [
      "[ True False False False]\n",
      "[ True  True  True False]\n",
      "[False  True  True False]\n"
     ]
    }
   ],
   "source": [
    "print(np.logical_and(x4, x5))\n",
    "print(np.logical_or(x4, x5))\n",
    "print(np.logical_xor(x4, x5))"
   ]
  },
  {
   "cell_type": "code",
   "execution_count": 57,
   "id": "9624daef",
   "metadata": {
    "ExecuteTime": {
     "end_time": "2022-02-07T14:02:34.227058Z",
     "start_time": "2022-02-07T14:02:34.215082Z"
    }
   },
   "outputs": [
    {
     "name": "stdout",
     "output_type": "stream",
     "text": [
      "x4:  [1 1 2 2]\n",
      "x5:  [0 1 2 3 4]\n"
     ]
    },
    {
     "ename": "ValueError",
     "evalue": "operands could not be broadcast together with shapes (4,) (5,) ",
     "output_type": "error",
     "traceback": [
      "\u001b[1;31m---------------------------------------------------------------------------\u001b[0m",
      "\u001b[1;31mValueError\u001b[0m                                Traceback (most recent call last)",
      "\u001b[1;32m~\\AppData\\Local\\Temp/ipykernel_14340/2514380852.py\u001b[0m in \u001b[0;36m<module>\u001b[1;34m\u001b[0m\n\u001b[0;32m      5\u001b[0m \u001b[0mprint\u001b[0m\u001b[1;33m(\u001b[0m\u001b[1;34m\"x5: \"\u001b[0m\u001b[1;33m,\u001b[0m \u001b[0mx5\u001b[0m\u001b[1;33m)\u001b[0m\u001b[1;33m\u001b[0m\u001b[1;33m\u001b[0m\u001b[0m\n\u001b[0;32m      6\u001b[0m \u001b[1;33m\u001b[0m\u001b[0m\n\u001b[1;32m----> 7\u001b[1;33m \u001b[0mprint\u001b[0m\u001b[1;33m(\u001b[0m\u001b[0mx4\u001b[0m \u001b[1;33m+\u001b[0m \u001b[0mx5\u001b[0m\u001b[1;33m)\u001b[0m\u001b[1;33m\u001b[0m\u001b[1;33m\u001b[0m\u001b[0m\n\u001b[0m",
      "\u001b[1;31mValueError\u001b[0m: operands could not be broadcast together with shapes (4,) (5,) "
     ]
    }
   ],
   "source": [
    "x4 = np.array([1, 1, 2, 2])\n",
    "x5 = np.arange(5)\n",
    "\n",
    "print(\"x4: \", x4)\n",
    "print(\"x5: \", x5)\n",
    "\n",
    "print(x4 + x5) # 에러가 나염 -> 브로드 캐스팅이 필요"
   ]
  },
  {
   "cell_type": "markdown",
   "id": "f58cced6",
   "metadata": {},
   "source": [
    "## 과제 2 "
   ]
  },
  {
   "cell_type": "code",
   "execution_count": 59,
   "id": "ed343b0d",
   "metadata": {
    "ExecuteTime": {
     "end_time": "2022-02-07T14:03:51.062717Z",
     "start_time": "2022-02-07T14:03:51.043648Z"
    }
   },
   "outputs": [
    {
     "data": {
      "text/html": [
       "<div>\n",
       "<style scoped>\n",
       "    .dataframe tbody tr th:only-of-type {\n",
       "        vertical-align: middle;\n",
       "    }\n",
       "\n",
       "    .dataframe tbody tr th {\n",
       "        vertical-align: top;\n",
       "    }\n",
       "\n",
       "    .dataframe thead th {\n",
       "        text-align: right;\n",
       "    }\n",
       "</style>\n",
       "<table border=\"1\" class=\"dataframe\">\n",
       "  <thead>\n",
       "    <tr style=\"text-align: right;\">\n",
       "      <th></th>\n",
       "      <th>x1</th>\n",
       "      <th>x2</th>\n",
       "    </tr>\n",
       "  </thead>\n",
       "  <tbody>\n",
       "    <tr>\n",
       "      <th>0</th>\n",
       "      <td>1</td>\n",
       "      <td>5</td>\n",
       "    </tr>\n",
       "    <tr>\n",
       "      <th>1</th>\n",
       "      <td>2</td>\n",
       "      <td>6</td>\n",
       "    </tr>\n",
       "    <tr>\n",
       "      <th>2</th>\n",
       "      <td>3</td>\n",
       "      <td>7</td>\n",
       "    </tr>\n",
       "    <tr>\n",
       "      <th>3</th>\n",
       "      <td>4</td>\n",
       "      <td>8</td>\n",
       "    </tr>\n",
       "  </tbody>\n",
       "</table>\n",
       "</div>"
      ],
      "text/plain": [
       "   x1  x2\n",
       "0   1   5\n",
       "1   2   6\n",
       "2   3   7\n",
       "3   4   8"
      ]
     },
     "execution_count": 59,
     "metadata": {},
     "output_type": "execute_result"
    }
   ],
   "source": [
    "a_df = pd.DataFrame({'x1': [1, 2, 3, 4],\n",
    "                     'x2': [5, 6, 7, 8]})\n",
    "a_df"
   ]
  },
  {
   "cell_type": "code",
   "execution_count": 60,
   "id": "c0677808",
   "metadata": {
    "ExecuteTime": {
     "end_time": "2022-02-07T14:04:17.823629Z",
     "start_time": "2022-02-07T14:04:17.810634Z"
    }
   },
   "outputs": [
    {
     "data": {
      "text/html": [
       "<div>\n",
       "<style scoped>\n",
       "    .dataframe tbody tr th:only-of-type {\n",
       "        vertical-align: middle;\n",
       "    }\n",
       "\n",
       "    .dataframe tbody tr th {\n",
       "        vertical-align: top;\n",
       "    }\n",
       "\n",
       "    .dataframe thead th {\n",
       "        text-align: right;\n",
       "    }\n",
       "</style>\n",
       "<table border=\"1\" class=\"dataframe\">\n",
       "  <thead>\n",
       "    <tr style=\"text-align: right;\">\n",
       "      <th></th>\n",
       "      <th>x1</th>\n",
       "      <th>x2</th>\n",
       "    </tr>\n",
       "  </thead>\n",
       "  <tbody>\n",
       "    <tr>\n",
       "      <th>0</th>\n",
       "      <td>2</td>\n",
       "      <td>6</td>\n",
       "    </tr>\n",
       "    <tr>\n",
       "      <th>1</th>\n",
       "      <td>3</td>\n",
       "      <td>7</td>\n",
       "    </tr>\n",
       "    <tr>\n",
       "      <th>2</th>\n",
       "      <td>4</td>\n",
       "      <td>8</td>\n",
       "    </tr>\n",
       "    <tr>\n",
       "      <th>3</th>\n",
       "      <td>5</td>\n",
       "      <td>9</td>\n",
       "    </tr>\n",
       "  </tbody>\n",
       "</table>\n",
       "</div>"
      ],
      "text/plain": [
       "   x1  x2\n",
       "0   2   6\n",
       "1   3   7\n",
       "2   4   8\n",
       "3   5   9"
      ]
     },
     "execution_count": 60,
     "metadata": {},
     "output_type": "execute_result"
    }
   ],
   "source": [
    "a_df+1"
   ]
  },
  {
   "cell_type": "code",
   "execution_count": 68,
   "id": "5b13e7a9",
   "metadata": {
    "ExecuteTime": {
     "end_time": "2022-02-07T14:05:57.645020Z",
     "start_time": "2022-02-07T14:05:57.626027Z"
    }
   },
   "outputs": [
    {
     "data": {
      "text/plain": [
       "array([[ 0,  1,  2],\n",
       "       [ 3,  4,  5],\n",
       "       [ 6,  7,  8],\n",
       "       [ 9, 10, 11]])"
      ]
     },
     "execution_count": 68,
     "metadata": {},
     "output_type": "execute_result"
    }
   ],
   "source": [
    "b = np.arange(12).reshape((4, 3))\n",
    "b"
   ]
  },
  {
   "cell_type": "code",
   "execution_count": 69,
   "id": "3e1c9457",
   "metadata": {
    "ExecuteTime": {
     "end_time": "2022-02-07T14:05:59.774003Z",
     "start_time": "2022-02-07T14:05:59.767971Z"
    }
   },
   "outputs": [
    {
     "data": {
      "text/plain": [
       "array([[ 0,  2,  4],\n",
       "       [ 3,  5,  7],\n",
       "       [ 6,  8, 10],\n",
       "       [ 9, 11, 13]])"
      ]
     },
     "execution_count": 69,
     "metadata": {},
     "output_type": "execute_result"
    }
   ],
   "source": [
    "b[:,1] += 1\n",
    "b[:,2] += 2 \n",
    "b"
   ]
  },
  {
   "cell_type": "code",
   "execution_count": 71,
   "id": "403978c5",
   "metadata": {
    "ExecuteTime": {
     "end_time": "2022-02-07T14:07:49.515875Z",
     "start_time": "2022-02-07T14:07:49.499911Z"
    }
   },
   "outputs": [
    {
     "data": {
      "text/plain": [
       "array([[ 0,  1,  2],\n",
       "       [ 3,  4,  5],\n",
       "       [ 6,  7,  8],\n",
       "       [ 9, 10, 11]])"
      ]
     },
     "execution_count": 71,
     "metadata": {},
     "output_type": "execute_result"
    }
   ],
   "source": [
    "b = np.arange(12).reshape((4, 3))\n",
    "b"
   ]
  },
  {
   "cell_type": "code",
   "execution_count": 72,
   "id": "322fde2c",
   "metadata": {
    "ExecuteTime": {
     "end_time": "2022-02-07T14:08:04.382535Z",
     "start_time": "2022-02-07T14:08:04.365524Z"
    }
   },
   "outputs": [
    {
     "data": {
      "text/plain": [
       "array([[ 0,  2,  4],\n",
       "       [ 3,  5,  7],\n",
       "       [ 6,  8, 10],\n",
       "       [ 9, 11, 13]])"
      ]
     },
     "execution_count": 72,
     "metadata": {},
     "output_type": "execute_result"
    }
   ],
   "source": [
    "c = np.array([0, 1, 2])\n",
    "b + c"
   ]
  },
  {
   "cell_type": "code",
   "execution_count": 70,
   "id": "512ace18",
   "metadata": {
    "ExecuteTime": {
     "end_time": "2022-02-07T14:07:25.054737Z",
     "start_time": "2022-02-07T14:07:25.048771Z"
    }
   },
   "outputs": [],
   "source": [
    "# 배열의 차원 크기, 모양이 다르다고 해서 Broadcasting 이 아무때나 되는 것은 아닙니다. \n",
    "#Broadcasting을 시키려면 기준 축에 있는 원소의 크기(개수)가 서로 같아야지 짝을 맞추어서 확산(broadcasting, propagating)을 할 수 있습니다.\n",
    "\n",
    "# 출처: https://rfriend.tistory.com/287?category=675917 [R, Python 분석과 프로그래밍의 친구 (by R Friend)]"
   ]
  },
  {
   "cell_type": "code",
   "execution_count": 73,
   "id": "3712807e",
   "metadata": {
    "ExecuteTime": {
     "end_time": "2022-02-07T14:08:30.009437Z",
     "start_time": "2022-02-07T14:08:29.997416Z"
    }
   },
   "outputs": [
    {
     "ename": "ValueError",
     "evalue": "operands could not be broadcast together with shapes (4,3) (4,) ",
     "output_type": "error",
     "traceback": [
      "\u001b[1;31m---------------------------------------------------------------------------\u001b[0m",
      "\u001b[1;31mValueError\u001b[0m                                Traceback (most recent call last)",
      "\u001b[1;32m~\\AppData\\Local\\Temp/ipykernel_14340/2695552415.py\u001b[0m in \u001b[0;36m<module>\u001b[1;34m\u001b[0m\n\u001b[0;32m      1\u001b[0m \u001b[0md\u001b[0m \u001b[1;33m=\u001b[0m \u001b[0mnp\u001b[0m\u001b[1;33m.\u001b[0m\u001b[0marray\u001b[0m\u001b[1;33m(\u001b[0m\u001b[1;33m[\u001b[0m\u001b[1;36m0\u001b[0m\u001b[1;33m,\u001b[0m \u001b[1;36m1\u001b[0m\u001b[1;33m,\u001b[0m \u001b[1;36m2\u001b[0m\u001b[1;33m,\u001b[0m \u001b[1;36m3\u001b[0m\u001b[1;33m]\u001b[0m\u001b[1;33m)\u001b[0m\u001b[1;33m\u001b[0m\u001b[1;33m\u001b[0m\u001b[0m\n\u001b[1;32m----> 2\u001b[1;33m \u001b[0mb\u001b[0m \u001b[1;33m+\u001b[0m \u001b[0md\u001b[0m\u001b[1;33m\u001b[0m\u001b[1;33m\u001b[0m\u001b[0m\n\u001b[0m",
      "\u001b[1;31mValueError\u001b[0m: operands could not be broadcast together with shapes (4,3) (4,) "
     ]
    }
   ],
   "source": [
    "d = np.array([0, 1, 2, 3])\n",
    "b + d"
   ]
  },
  {
   "cell_type": "code",
   "execution_count": 74,
   "id": "3302376b",
   "metadata": {
    "ExecuteTime": {
     "end_time": "2022-02-07T14:09:01.006971Z",
     "start_time": "2022-02-07T14:09:00.989942Z"
    }
   },
   "outputs": [
    {
     "data": {
      "text/plain": [
       "array([[[ 0,  1,  2],\n",
       "        [ 3,  4,  5],\n",
       "        [ 6,  7,  8],\n",
       "        [ 9, 10, 11]],\n",
       "\n",
       "       [[12, 13, 14],\n",
       "        [15, 16, 17],\n",
       "        [18, 19, 20],\n",
       "        [21, 22, 23]]])"
      ]
     },
     "execution_count": 74,
     "metadata": {},
     "output_type": "execute_result"
    }
   ],
   "source": [
    "f = np.arange(24).reshape((2,4,3))\n",
    "f"
   ]
  },
  {
   "cell_type": "code",
   "execution_count": 80,
   "id": "5d991248",
   "metadata": {
    "ExecuteTime": {
     "end_time": "2022-02-07T14:12:27.182807Z",
     "start_time": "2022-02-07T14:12:27.174809Z"
    }
   },
   "outputs": [],
   "source": [
    "g = np.array([1, 1, 1])\n",
    "# h = np.array([1, 1, 1])"
   ]
  },
  {
   "cell_type": "code",
   "execution_count": 81,
   "id": "bccf0a57",
   "metadata": {
    "ExecuteTime": {
     "end_time": "2022-02-07T14:12:30.017806Z",
     "start_time": "2022-02-07T14:12:29.997775Z"
    }
   },
   "outputs": [
    {
     "data": {
      "text/plain": [
       "array([[[ 1,  2,  3],\n",
       "        [ 4,  5,  6],\n",
       "        [ 7,  8,  9],\n",
       "        [10, 11, 12]],\n",
       "\n",
       "       [[13, 14, 15],\n",
       "        [16, 17, 18],\n",
       "        [19, 20, 21],\n",
       "        [22, 23, 24]]])"
      ]
     },
     "execution_count": 81,
     "metadata": {},
     "output_type": "execute_result"
    }
   ],
   "source": [
    "f+g"
   ]
  },
  {
   "cell_type": "markdown",
   "id": "32a08061",
   "metadata": {},
   "source": [
    "## 과제 3"
   ]
  },
  {
   "cell_type": "code",
   "execution_count": 85,
   "id": "15873ee3",
   "metadata": {
    "ExecuteTime": {
     "end_time": "2022-02-07T14:13:12.825489Z",
     "start_time": "2022-02-07T14:13:12.818500Z"
    }
   },
   "outputs": [
    {
     "name": "stdout",
     "output_type": "stream",
     "text": [
      "[[1]\n",
      " [2]\n",
      " [3]\n",
      " [4]]\n"
     ]
    }
   ],
   "source": [
    "a = np.array([1, 2, 3, 4])\n",
    "a_4_1 = a.reshape(-1,1)\n",
    "print(a_4_1)\n",
    "\n",
    "# result\n",
    "# Out[6]:\n",
    "# array([[ 1.],\n",
    "#        [ 2.],\n",
    "#        [ 3.],\n",
    "#        [ 4.]])"
   ]
  },
  {
   "cell_type": "code",
   "execution_count": 91,
   "id": "5bf3d2a9",
   "metadata": {
    "ExecuteTime": {
     "end_time": "2022-02-07T14:16:16.774556Z",
     "start_time": "2022-02-07T14:16:16.767553Z"
    }
   },
   "outputs": [
    {
     "data": {
      "text/plain": [
       "array([[1],\n",
       "       [2],\n",
       "       [3],\n",
       "       [4]])"
      ]
     },
     "execution_count": 91,
     "metadata": {},
     "output_type": "execute_result"
    }
   ],
   "source": [
    "a_4_1 = a[..., np.newaxis]\n",
    "a_4_1"
   ]
  },
  {
   "cell_type": "code",
   "execution_count": 89,
   "id": "551b9886",
   "metadata": {
    "ExecuteTime": {
     "end_time": "2022-02-07T14:14:39.597725Z",
     "start_time": "2022-02-07T14:14:39.580729Z"
    }
   },
   "outputs": [
    {
     "name": "stdout",
     "output_type": "stream",
     "text": [
      "[[[ 0]\n",
      "  [ 1]\n",
      "  [ 2]\n",
      "  [ 3]]\n",
      "\n",
      " [[ 4]\n",
      "  [ 5]\n",
      "  [ 6]\n",
      "  [ 7]]\n",
      "\n",
      " [[ 8]\n",
      "  [ 9]\n",
      "  [10]\n",
      "  [11]]]\n"
     ]
    }
   ],
   "source": [
    "b = np.arange(12).reshape(3, 4)\n",
    "b_3_4_1 = b.reshape(3,4,1)\n",
    "print(b_3_4_1)"
   ]
  },
  {
   "cell_type": "code",
   "execution_count": 93,
   "id": "2aad3516",
   "metadata": {
    "ExecuteTime": {
     "end_time": "2022-02-07T14:17:19.026570Z",
     "start_time": "2022-02-07T14:17:19.015570Z"
    }
   },
   "outputs": [
    {
     "name": "stdout",
     "output_type": "stream",
     "text": [
      "[[[ 0]\n",
      "  [ 1]\n",
      "  [ 2]\n",
      "  [ 3]]\n",
      "\n",
      " [[ 4]\n",
      "  [ 5]\n",
      "  [ 6]\n",
      "  [ 7]]\n",
      "\n",
      " [[ 8]\n",
      "  [ 9]\n",
      "  [10]\n",
      "  [11]]]\n"
     ]
    }
   ],
   "source": [
    "b = np.arange(12).reshape(3, 4)\n",
    "b_3_4_1 = b[:,:, np.newaxis]\n",
    "print(b_3_4_1)"
   ]
  },
  {
   "cell_type": "code",
   "execution_count": 104,
   "id": "2003e3d5",
   "metadata": {
    "ExecuteTime": {
     "end_time": "2022-02-07T14:18:53.530298Z",
     "start_time": "2022-02-07T14:18:53.524298Z"
    }
   },
   "outputs": [
    {
     "data": {
      "text/plain": [
       "array([[0, 1, 2, 3, 0, 1, 2, 3],\n",
       "       [0, 1, 2, 3, 0, 1, 2, 3]])"
      ]
     },
     "execution_count": 104,
     "metadata": {},
     "output_type": "execute_result"
    }
   ],
   "source": [
    "A = np.array([0, 1, 2, 3])\n",
    "A_2_8 = np.tile(A,(2,2))\n",
    "A_2_8"
   ]
  },
  {
   "cell_type": "code",
   "execution_count": 105,
   "id": "d6d416dd",
   "metadata": {
    "ExecuteTime": {
     "end_time": "2022-02-07T14:19:07.441490Z",
     "start_time": "2022-02-07T14:19:07.432493Z"
    }
   },
   "outputs": [
    {
     "data": {
      "text/plain": [
       "array([[0, 1, 2, 3],\n",
       "       [4, 5, 6, 7]])"
      ]
     },
     "execution_count": 105,
     "metadata": {},
     "output_type": "execute_result"
    }
   ],
   "source": [
    "B = np.arange(8).reshape(2, 4)\n",
    "B"
   ]
  },
  {
   "cell_type": "code",
   "execution_count": 106,
   "id": "4113db29",
   "metadata": {
    "ExecuteTime": {
     "end_time": "2022-02-07T14:19:29.261789Z",
     "start_time": "2022-02-07T14:19:29.257776Z"
    }
   },
   "outputs": [
    {
     "name": "stdout",
     "output_type": "stream",
     "text": [
      "[[0 1 2 3]\n",
      " [4 5 6 7]\n",
      " [0 1 2 3]\n",
      " [4 5 6 7]]\n"
     ]
    }
   ],
   "source": [
    "B_2_8 = np.tile(B, (2,1))\n",
    "print(B_2_8)"
   ]
  },
  {
   "cell_type": "markdown",
   "id": "211dcb48",
   "metadata": {},
   "source": [
    "## 과제 4"
   ]
  },
  {
   "cell_type": "code",
   "execution_count": 108,
   "id": "4c8d8187",
   "metadata": {
    "ExecuteTime": {
     "end_time": "2022-02-07T14:20:05.360696Z",
     "start_time": "2022-02-07T14:20:05.347698Z"
    }
   },
   "outputs": [
    {
     "name": "stdout",
     "output_type": "stream",
     "text": [
      "[[ 0  1  2  3  4]\n",
      " [ 5  6  7  8  9]\n",
      " [10 11 12 13 14]]\n",
      "\n",
      "[[ 0  5 10]\n",
      " [ 1  6 11]\n",
      " [ 2  7 12]\n",
      " [ 3  8 13]\n",
      " [ 4  9 14]]\n"
     ]
    }
   ],
   "source": [
    "a = np.arange(15).reshape(3, 5)\n",
    "print(a)\n",
    "print()\n",
    "print(a.T)"
   ]
  },
  {
   "cell_type": "code",
   "execution_count": 110,
   "id": "e25ceadc",
   "metadata": {
    "ExecuteTime": {
     "end_time": "2022-02-07T14:20:34.462014Z",
     "start_time": "2022-02-07T14:20:34.453012Z"
    }
   },
   "outputs": [
    {
     "name": "stdout",
     "output_type": "stream",
     "text": [
      "[[[ 0  1  2  3]\n",
      "  [ 4  5  6  7]\n",
      "  [ 8  9 10 11]]\n",
      "\n",
      " [[12 13 14 15]\n",
      "  [16 17 18 19]\n",
      "  [20 21 22 23]]]\n",
      "(2, 3, 4)\n"
     ]
    }
   ],
   "source": [
    "# 다음 데이터의 shape은 (2, 3, 4) 입니다.\n",
    "# 이를 (2, 4, 3) 으로 변경한 결과를 최소 2가지 방법 이상으로 도출해보세요\n",
    "b = np.arange(24).reshape(2, 3, 4)\n",
    "print(b)\n",
    "print(b.shape)"
   ]
  },
  {
   "cell_type": "code",
   "execution_count": 112,
   "id": "e50a4afd",
   "metadata": {
    "ExecuteTime": {
     "end_time": "2022-02-07T14:20:52.359455Z",
     "start_time": "2022-02-07T14:20:52.342488Z"
    }
   },
   "outputs": [
    {
     "data": {
      "text/plain": [
       "array([[[ 0,  1,  2],\n",
       "        [ 3,  4,  5],\n",
       "        [ 6,  7,  8],\n",
       "        [ 9, 10, 11]],\n",
       "\n",
       "       [[12, 13, 14],\n",
       "        [15, 16, 17],\n",
       "        [18, 19, 20],\n",
       "        [21, 22, 23]]])"
      ]
     },
     "execution_count": 112,
     "metadata": {},
     "output_type": "execute_result"
    }
   ],
   "source": [
    "b.reshape(2,4,3)"
   ]
  },
  {
   "cell_type": "code",
   "execution_count": 123,
   "id": "22a35130",
   "metadata": {
    "ExecuteTime": {
     "end_time": "2022-02-07T14:24:45.056513Z",
     "start_time": "2022-02-07T14:24:45.048483Z"
    }
   },
   "outputs": [
    {
     "data": {
      "text/plain": [
       "array([[[ 0,  4,  8],\n",
       "        [ 1,  5,  9],\n",
       "        [ 2,  6, 10],\n",
       "        [ 3,  7, 11]],\n",
       "\n",
       "       [[12, 16, 20],\n",
       "        [13, 17, 21],\n",
       "        [14, 18, 22],\n",
       "        [15, 19, 23]]])"
      ]
     },
     "execution_count": 123,
     "metadata": {},
     "output_type": "execute_result"
    }
   ],
   "source": [
    "np.swapaxes(b, 1,2)"
   ]
  },
  {
   "cell_type": "markdown",
   "id": "4ad6a5b3",
   "metadata": {},
   "source": [
    "## 과제 5"
   ]
  },
  {
   "cell_type": "code",
   "execution_count": 127,
   "id": "32fd6667",
   "metadata": {
    "ExecuteTime": {
     "end_time": "2022-02-07T14:25:49.437217Z",
     "start_time": "2022-02-07T14:25:49.425188Z"
    }
   },
   "outputs": [
    {
     "data": {
      "text/plain": [
       "array([[ 0,  1,  2,  3,  4],\n",
       "       [ 5,  6,  7,  8,  9],\n",
       "       [10, 11, 12, 13, 14],\n",
       "       [15, 16, 17, 18, 19]])"
      ]
     },
     "execution_count": 127,
     "metadata": {},
     "output_type": "execute_result"
    }
   ],
   "source": [
    "# 다음의 코드에서 -- 1 과 -- 2 는 같은 결과를 도출하나요?\n",
    "# 아니면 다른 결과를 도출하나요? 그 이유는 무엇인가요 ?\n",
    "d = np.arange(20).reshape(4, 5)\n",
    "d"
   ]
  },
  {
   "cell_type": "code",
   "execution_count": 126,
   "id": "880c6ffb",
   "metadata": {
    "ExecuteTime": {
     "end_time": "2022-02-07T14:25:16.273404Z",
     "start_time": "2022-02-07T14:25:16.265407Z"
    }
   },
   "outputs": [
    {
     "name": "stdout",
     "output_type": "stream",
     "text": [
      "[[ 1  2]\n",
      " [ 6  7]\n",
      " [11 12]]\n",
      "\n",
      "[[ 5  6  7  8  9]\n",
      " [10 11 12 13 14]]\n"
     ]
    }
   ],
   "source": [
    "print(d[0:3, 1:3]) # -- 1\n",
    "print()\n",
    "print(d[0:3][1:3]) # -- 2"
   ]
  },
  {
   "cell_type": "code",
   "execution_count": null,
   "id": "8034441f",
   "metadata": {},
   "outputs": [],
   "source": [
    "# -- 1 \n",
    "# d행렬의 0,1,2 열의 1,2 열의 선택하는 명령\n",
    "\n",
    "# -- 2\n",
    "# d행렬의 0,1,2 행을 가져 온 뒤 1, 2 열만 가져옴 -> working sequencially"
   ]
  },
  {
   "cell_type": "code",
   "execution_count": null,
   "id": "e5c15d3e",
   "metadata": {},
   "outputs": [],
   "source": []
  }
 ],
 "metadata": {
  "kernelspec": {
   "display_name": "Python 3 (ipykernel)",
   "language": "python",
   "name": "python3"
  },
  "language_info": {
   "codemirror_mode": {
    "name": "ipython",
    "version": 3
   },
   "file_extension": ".py",
   "mimetype": "text/x-python",
   "name": "python",
   "nbconvert_exporter": "python",
   "pygments_lexer": "ipython3",
   "version": "3.9.7"
  },
  "toc": {
   "base_numbering": 1,
   "nav_menu": {},
   "number_sections": true,
   "sideBar": true,
   "skip_h1_title": false,
   "title_cell": "Table of Contents",
   "title_sidebar": "Contents",
   "toc_cell": false,
   "toc_position": {},
   "toc_section_display": true,
   "toc_window_display": false
  }
 },
 "nbformat": 4,
 "nbformat_minor": 5
}
