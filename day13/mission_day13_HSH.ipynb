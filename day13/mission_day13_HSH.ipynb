{
 "cells": [
  {
   "cell_type": "markdown",
   "id": "782f21d4",
   "metadata": {},
   "source": [
    "DAY13\n",
    "https://rfriend.tistory.com/389?category=675917"
   ]
  },
  {
   "cell_type": "code",
   "execution_count": 1,
   "id": "285c0c79",
   "metadata": {
    "ExecuteTime": {
     "end_time": "2022-02-23T12:10:24.253818Z",
     "start_time": "2022-02-23T12:10:23.074417Z"
    }
   },
   "outputs": [],
   "source": [
    "import pandas as pd\n",
    "import numpy as np"
   ]
  },
  {
   "cell_type": "markdown",
   "id": "8f452719",
   "metadata": {},
   "source": [
    "# 과제 1"
   ]
  },
  {
   "cell_type": "code",
   "execution_count": 6,
   "id": "8dd77160",
   "metadata": {
    "ExecuteTime": {
     "end_time": "2022-02-23T12:13:18.714976Z",
     "start_time": "2022-02-23T12:13:18.687839Z"
    }
   },
   "outputs": [
    {
     "data": {
      "text/html": [
       "<div>\n",
       "<style scoped>\n",
       "    .dataframe tbody tr th:only-of-type {\n",
       "        vertical-align: middle;\n",
       "    }\n",
       "\n",
       "    .dataframe tbody tr th {\n",
       "        vertical-align: top;\n",
       "    }\n",
       "\n",
       "    .dataframe thead th {\n",
       "        text-align: right;\n",
       "    }\n",
       "</style>\n",
       "<table border=\"1\" class=\"dataframe\">\n",
       "  <thead>\n",
       "    <tr style=\"text-align: right;\">\n",
       "      <th></th>\n",
       "      <th>sex</th>\n",
       "      <th>length</th>\n",
       "      <th>diameter</th>\n",
       "      <th>height</th>\n",
       "      <th>whole_weight</th>\n",
       "      <th>shucked_weight</th>\n",
       "      <th>viscera_weight</th>\n",
       "      <th>shell_weight</th>\n",
       "      <th>rings</th>\n",
       "    </tr>\n",
       "  </thead>\n",
       "  <tbody>\n",
       "    <tr>\n",
       "      <th>0</th>\n",
       "      <td>M</td>\n",
       "      <td>0.455</td>\n",
       "      <td>0.365</td>\n",
       "      <td>0.095</td>\n",
       "      <td>0.5140</td>\n",
       "      <td>0.2245</td>\n",
       "      <td>0.1010</td>\n",
       "      <td>0.150</td>\n",
       "      <td>15</td>\n",
       "    </tr>\n",
       "    <tr>\n",
       "      <th>1</th>\n",
       "      <td>M</td>\n",
       "      <td>0.350</td>\n",
       "      <td>0.265</td>\n",
       "      <td>0.090</td>\n",
       "      <td>0.2255</td>\n",
       "      <td>0.0995</td>\n",
       "      <td>0.0485</td>\n",
       "      <td>0.070</td>\n",
       "      <td>7</td>\n",
       "    </tr>\n",
       "    <tr>\n",
       "      <th>2</th>\n",
       "      <td>F</td>\n",
       "      <td>0.530</td>\n",
       "      <td>0.420</td>\n",
       "      <td>0.135</td>\n",
       "      <td>0.6770</td>\n",
       "      <td>0.2565</td>\n",
       "      <td>0.1415</td>\n",
       "      <td>0.210</td>\n",
       "      <td>9</td>\n",
       "    </tr>\n",
       "    <tr>\n",
       "      <th>3</th>\n",
       "      <td>M</td>\n",
       "      <td>0.440</td>\n",
       "      <td>0.365</td>\n",
       "      <td>0.125</td>\n",
       "      <td>0.5160</td>\n",
       "      <td>0.2155</td>\n",
       "      <td>0.1140</td>\n",
       "      <td>0.155</td>\n",
       "      <td>10</td>\n",
       "    </tr>\n",
       "    <tr>\n",
       "      <th>4</th>\n",
       "      <td>I</td>\n",
       "      <td>0.330</td>\n",
       "      <td>0.255</td>\n",
       "      <td>0.080</td>\n",
       "      <td>0.2050</td>\n",
       "      <td>0.0895</td>\n",
       "      <td>0.0395</td>\n",
       "      <td>0.055</td>\n",
       "      <td>7</td>\n",
       "    </tr>\n",
       "  </tbody>\n",
       "</table>\n",
       "</div>"
      ],
      "text/plain": [
       "  sex  length  diameter  height  whole_weight  shucked_weight  viscera_weight  \\\n",
       "0   M   0.455     0.365   0.095        0.5140          0.2245          0.1010   \n",
       "1   M   0.350     0.265   0.090        0.2255          0.0995          0.0485   \n",
       "2   F   0.530     0.420   0.135        0.6770          0.2565          0.1415   \n",
       "3   M   0.440     0.365   0.125        0.5160          0.2155          0.1140   \n",
       "4   I   0.330     0.255   0.080        0.2050          0.0895          0.0395   \n",
       "\n",
       "   shell_weight  rings  \n",
       "0         0.150     15  \n",
       "1         0.070      7  \n",
       "2         0.210      9  \n",
       "3         0.155     10  \n",
       "4         0.055      7  "
      ]
     },
     "execution_count": 6,
     "metadata": {},
     "output_type": "execute_result"
    }
   ],
   "source": [
    "abalone = pd.read_csv('abalone.txt', names = ['sex', 'length', 'diameter', 'height', \n",
    "                               'whole_weight', 'shucked_weight', 'viscera_weight', \n",
    "                               'shell_weight', 'rings'],header=None)\n",
    "abalone.head()"
   ]
  },
  {
   "cell_type": "code",
   "execution_count": 7,
   "id": "be9f5f8c",
   "metadata": {
    "ExecuteTime": {
     "end_time": "2022-02-23T12:14:20.576364Z",
     "start_time": "2022-02-23T12:14:20.560367Z"
    }
   },
   "outputs": [],
   "source": [
    "abalone['length_cat'] = np.where(abalone.length > np.median(abalone.length), 'length_long', 'length_short')"
   ]
  },
  {
   "cell_type": "code",
   "execution_count": 9,
   "id": "aaaf11ca",
   "metadata": {
    "ExecuteTime": {
     "end_time": "2022-02-23T12:14:37.372353Z",
     "start_time": "2022-02-23T12:14:37.353353Z"
    }
   },
   "outputs": [
    {
     "data": {
      "text/html": [
       "<div>\n",
       "<style scoped>\n",
       "    .dataframe tbody tr th:only-of-type {\n",
       "        vertical-align: middle;\n",
       "    }\n",
       "\n",
       "    .dataframe tbody tr th {\n",
       "        vertical-align: top;\n",
       "    }\n",
       "\n",
       "    .dataframe thead th {\n",
       "        text-align: right;\n",
       "    }\n",
       "</style>\n",
       "<table border=\"1\" class=\"dataframe\">\n",
       "  <thead>\n",
       "    <tr style=\"text-align: right;\">\n",
       "      <th></th>\n",
       "      <th>sex</th>\n",
       "      <th>length</th>\n",
       "      <th>diameter</th>\n",
       "      <th>height</th>\n",
       "      <th>whole_weight</th>\n",
       "      <th>shucked_weight</th>\n",
       "      <th>viscera_weight</th>\n",
       "      <th>shell_weight</th>\n",
       "      <th>rings</th>\n",
       "      <th>length_cat</th>\n",
       "    </tr>\n",
       "  </thead>\n",
       "  <tbody>\n",
       "    <tr>\n",
       "      <th>0</th>\n",
       "      <td>M</td>\n",
       "      <td>0.455</td>\n",
       "      <td>0.365</td>\n",
       "      <td>0.095</td>\n",
       "      <td>0.5140</td>\n",
       "      <td>0.2245</td>\n",
       "      <td>0.1010</td>\n",
       "      <td>0.150</td>\n",
       "      <td>15</td>\n",
       "      <td>length_short</td>\n",
       "    </tr>\n",
       "    <tr>\n",
       "      <th>1</th>\n",
       "      <td>M</td>\n",
       "      <td>0.350</td>\n",
       "      <td>0.265</td>\n",
       "      <td>0.090</td>\n",
       "      <td>0.2255</td>\n",
       "      <td>0.0995</td>\n",
       "      <td>0.0485</td>\n",
       "      <td>0.070</td>\n",
       "      <td>7</td>\n",
       "      <td>length_short</td>\n",
       "    </tr>\n",
       "    <tr>\n",
       "      <th>2</th>\n",
       "      <td>F</td>\n",
       "      <td>0.530</td>\n",
       "      <td>0.420</td>\n",
       "      <td>0.135</td>\n",
       "      <td>0.6770</td>\n",
       "      <td>0.2565</td>\n",
       "      <td>0.1415</td>\n",
       "      <td>0.210</td>\n",
       "      <td>9</td>\n",
       "      <td>length_short</td>\n",
       "    </tr>\n",
       "    <tr>\n",
       "      <th>3</th>\n",
       "      <td>M</td>\n",
       "      <td>0.440</td>\n",
       "      <td>0.365</td>\n",
       "      <td>0.125</td>\n",
       "      <td>0.5160</td>\n",
       "      <td>0.2155</td>\n",
       "      <td>0.1140</td>\n",
       "      <td>0.155</td>\n",
       "      <td>10</td>\n",
       "      <td>length_short</td>\n",
       "    </tr>\n",
       "    <tr>\n",
       "      <th>4</th>\n",
       "      <td>I</td>\n",
       "      <td>0.330</td>\n",
       "      <td>0.255</td>\n",
       "      <td>0.080</td>\n",
       "      <td>0.2050</td>\n",
       "      <td>0.0895</td>\n",
       "      <td>0.0395</td>\n",
       "      <td>0.055</td>\n",
       "      <td>7</td>\n",
       "      <td>length_short</td>\n",
       "    </tr>\n",
       "    <tr>\n",
       "      <th>5</th>\n",
       "      <td>I</td>\n",
       "      <td>0.425</td>\n",
       "      <td>0.300</td>\n",
       "      <td>0.095</td>\n",
       "      <td>0.3515</td>\n",
       "      <td>0.1410</td>\n",
       "      <td>0.0775</td>\n",
       "      <td>0.120</td>\n",
       "      <td>8</td>\n",
       "      <td>length_short</td>\n",
       "    </tr>\n",
       "    <tr>\n",
       "      <th>6</th>\n",
       "      <td>F</td>\n",
       "      <td>0.530</td>\n",
       "      <td>0.415</td>\n",
       "      <td>0.150</td>\n",
       "      <td>0.7775</td>\n",
       "      <td>0.2370</td>\n",
       "      <td>0.1415</td>\n",
       "      <td>0.330</td>\n",
       "      <td>20</td>\n",
       "      <td>length_short</td>\n",
       "    </tr>\n",
       "    <tr>\n",
       "      <th>7</th>\n",
       "      <td>F</td>\n",
       "      <td>0.545</td>\n",
       "      <td>0.425</td>\n",
       "      <td>0.125</td>\n",
       "      <td>0.7680</td>\n",
       "      <td>0.2940</td>\n",
       "      <td>0.1495</td>\n",
       "      <td>0.260</td>\n",
       "      <td>16</td>\n",
       "      <td>length_short</td>\n",
       "    </tr>\n",
       "    <tr>\n",
       "      <th>8</th>\n",
       "      <td>M</td>\n",
       "      <td>0.475</td>\n",
       "      <td>0.370</td>\n",
       "      <td>0.125</td>\n",
       "      <td>0.5095</td>\n",
       "      <td>0.2165</td>\n",
       "      <td>0.1125</td>\n",
       "      <td>0.165</td>\n",
       "      <td>9</td>\n",
       "      <td>length_short</td>\n",
       "    </tr>\n",
       "    <tr>\n",
       "      <th>9</th>\n",
       "      <td>F</td>\n",
       "      <td>0.550</td>\n",
       "      <td>0.440</td>\n",
       "      <td>0.150</td>\n",
       "      <td>0.8945</td>\n",
       "      <td>0.3145</td>\n",
       "      <td>0.1510</td>\n",
       "      <td>0.320</td>\n",
       "      <td>19</td>\n",
       "      <td>length_long</td>\n",
       "    </tr>\n",
       "  </tbody>\n",
       "</table>\n",
       "</div>"
      ],
      "text/plain": [
       "  sex  length  diameter  height  whole_weight  shucked_weight  viscera_weight  \\\n",
       "0   M   0.455     0.365   0.095        0.5140          0.2245          0.1010   \n",
       "1   M   0.350     0.265   0.090        0.2255          0.0995          0.0485   \n",
       "2   F   0.530     0.420   0.135        0.6770          0.2565          0.1415   \n",
       "3   M   0.440     0.365   0.125        0.5160          0.2155          0.1140   \n",
       "4   I   0.330     0.255   0.080        0.2050          0.0895          0.0395   \n",
       "5   I   0.425     0.300   0.095        0.3515          0.1410          0.0775   \n",
       "6   F   0.530     0.415   0.150        0.7775          0.2370          0.1415   \n",
       "7   F   0.545     0.425   0.125        0.7680          0.2940          0.1495   \n",
       "8   M   0.475     0.370   0.125        0.5095          0.2165          0.1125   \n",
       "9   F   0.550     0.440   0.150        0.8945          0.3145          0.1510   \n",
       "\n",
       "   shell_weight  rings    length_cat  \n",
       "0         0.150     15  length_short  \n",
       "1         0.070      7  length_short  \n",
       "2         0.210      9  length_short  \n",
       "3         0.155     10  length_short  \n",
       "4         0.055      7  length_short  \n",
       "5         0.120      8  length_short  \n",
       "6         0.330     20  length_short  \n",
       "7         0.260     16  length_short  \n",
       "8         0.165      9  length_short  \n",
       "9         0.320     19   length_long  "
      ]
     },
     "execution_count": 9,
     "metadata": {},
     "output_type": "execute_result"
    }
   ],
   "source": [
    "abalone.head(10)"
   ]
  },
  {
   "cell_type": "code",
   "execution_count": 12,
   "id": "47f57747",
   "metadata": {
    "ExecuteTime": {
     "end_time": "2022-02-23T12:18:53.532956Z",
     "start_time": "2022-02-23T12:18:53.505735Z"
    }
   },
   "outputs": [
    {
     "name": "stdout",
     "output_type": "stream",
     "text": [
      "F\n",
      "   sex    length_cat  whole_weight  rings\n",
      "2    F  length_short        0.6770      9\n",
      "6    F  length_short        0.7775     20\n",
      "7    F  length_short        0.7680     16\n",
      "9    F   length_long        0.8945     19\n",
      "10   F  length_short        0.6065     14\n",
      "I\n",
      "   sex    length_cat  whole_weight  rings\n",
      "4    I  length_short        0.2050      7\n",
      "5    I  length_short        0.3515      8\n",
      "16   I  length_short        0.2905      7\n",
      "21   I  length_short        0.2255     10\n",
      "42   I  length_short        0.0700      5\n",
      "M\n",
      "   sex    length_cat  whole_weight  rings\n",
      "0    M  length_short        0.5140     15\n",
      "1    M  length_short        0.2255      7\n",
      "3    M  length_short        0.5160     10\n",
      "8    M  length_short        0.5095      9\n",
      "11   M  length_short        0.4060     10\n"
     ]
    }
   ],
   "source": [
    "for sex, group_data in abalone[['sex', 'length_cat', 'whole_weight', 'rings']].groupby('sex'):\n",
    "    print(sex)\n",
    "    print(group_data[:5])"
   ]
  },
  {
   "cell_type": "code",
   "execution_count": 16,
   "id": "35670381",
   "metadata": {
    "ExecuteTime": {
     "end_time": "2022-02-23T12:25:27.860065Z",
     "start_time": "2022-02-23T12:25:27.822992Z"
    }
   },
   "outputs": [
    {
     "name": "stdout",
     "output_type": "stream",
     "text": [
      "F length_long\n",
      "   sex   length_cat  whole_weight  rings\n",
      "9    F  length_long        0.8945     19\n",
      "22   F  length_long        0.9395     12\n",
      "23   F  length_long        0.7635      9\n",
      "24   F  length_long        1.1615     10\n",
      "25   F  length_long        0.9285     11\n",
      "F length_short\n",
      "   sex    length_cat  whole_weight  rings\n",
      "2    F  length_short        0.6770      9\n",
      "6    F  length_short        0.7775     20\n",
      "7    F  length_short        0.7680     16\n",
      "10   F  length_short        0.6065     14\n",
      "13   F  length_short        0.6845     10\n",
      "I length_long\n",
      "    sex   length_cat  whole_weight  rings\n",
      "509   I  length_long        0.8735     16\n",
      "510   I  length_long        1.1095     10\n",
      "549   I  length_long        0.8750     11\n",
      "550   I  length_long        1.1625     17\n",
      "551   I  length_long        0.9885     13\n",
      "I length_short\n",
      "   sex    length_cat  whole_weight  rings\n",
      "4    I  length_short        0.2050      7\n",
      "5    I  length_short        0.3515      8\n",
      "16   I  length_short        0.2905      7\n",
      "21   I  length_short        0.2255     10\n",
      "42   I  length_short        0.0700      5\n",
      "M length_long\n",
      "   sex   length_cat  whole_weight  rings\n",
      "27   M  length_long        0.9310     12\n",
      "28   M  length_long        0.9365     15\n",
      "29   M  length_long        0.8635     11\n",
      "30   M  length_long        0.9975     10\n",
      "32   M  length_long        1.3380     18\n",
      "M length_short\n",
      "   sex    length_cat  whole_weight  rings\n",
      "0    M  length_short        0.5140     15\n",
      "1    M  length_short        0.2255      7\n",
      "3    M  length_short        0.5160     10\n",
      "8    M  length_short        0.5095      9\n",
      "11   M  length_short        0.4060     10\n"
     ]
    }
   ],
   "source": [
    "for (sex, length_cat), group_data in abalone[['sex', 'length_cat', 'whole_weight', 'rings']].groupby(['sex', 'length_cat']):\n",
    "    print(sex, length_cat)\n",
    "    print(group_data[:5])"
   ]
  },
  {
   "cell_type": "code",
   "execution_count": 17,
   "id": "c8f98fe4",
   "metadata": {
    "ExecuteTime": {
     "end_time": "2022-02-23T12:27:56.049009Z",
     "start_time": "2022-02-23T12:27:56.030015Z"
    }
   },
   "outputs": [
    {
     "data": {
      "text/plain": [
       "{'F':   sex    length_cat  whole_weight  rings\n",
       " 2   F  length_short        0.6770      9\n",
       " 6   F  length_short        0.7775     20\n",
       " 7   F  length_short        0.7680     16\n",
       " 9   F   length_long        0.8945     19,\n",
       " 'I':   sex    length_cat  whole_weight  rings\n",
       " 4   I  length_short        0.2050      7\n",
       " 5   I  length_short        0.3515      8,\n",
       " 'M':   sex    length_cat  whole_weight  rings\n",
       " 0   M  length_short        0.5140     15\n",
       " 1   M  length_short        0.2255      7\n",
       " 3   M  length_short        0.5160     10\n",
       " 8   M  length_short        0.5095      9}"
      ]
     },
     "execution_count": 17,
     "metadata": {},
     "output_type": "execute_result"
    }
   ],
   "source": [
    "dict(list(abalone[:10][['sex', 'length_cat', 'whole_weight', 'rings']]\n",
    "                              .groupby('sex')))"
   ]
  },
  {
   "cell_type": "markdown",
   "id": "eb2d4bed",
   "metadata": {},
   "source": [
    "# 과제 2"
   ]
  },
  {
   "cell_type": "code",
   "execution_count": 18,
   "id": "4405c33b",
   "metadata": {
    "ExecuteTime": {
     "end_time": "2022-02-23T12:30:41.140470Z",
     "start_time": "2022-02-23T12:30:41.127440Z"
    }
   },
   "outputs": [],
   "source": [
    "df = pd.DataFrame({'name': ['kim', 'KIM', 'Kim', 'lee', 'LEE', 'Lee', 'wang', 'hong'], \n",
    "                'value': [1, 2, 3, 4, 5, 6, 7, 8], \n",
    "                'value_2': [100, 300, 200, 100, 100, 300, 50, 80]\n",
    "               })"
   ]
  },
  {
   "cell_type": "code",
   "execution_count": 19,
   "id": "862d2400",
   "metadata": {
    "ExecuteTime": {
     "end_time": "2022-02-23T12:30:43.009007Z",
     "start_time": "2022-02-23T12:30:42.993976Z"
    }
   },
   "outputs": [
    {
     "data": {
      "text/html": [
       "<div>\n",
       "<style scoped>\n",
       "    .dataframe tbody tr th:only-of-type {\n",
       "        vertical-align: middle;\n",
       "    }\n",
       "\n",
       "    .dataframe tbody tr th {\n",
       "        vertical-align: top;\n",
       "    }\n",
       "\n",
       "    .dataframe thead th {\n",
       "        text-align: right;\n",
       "    }\n",
       "</style>\n",
       "<table border=\"1\" class=\"dataframe\">\n",
       "  <thead>\n",
       "    <tr style=\"text-align: right;\">\n",
       "      <th></th>\n",
       "      <th>name</th>\n",
       "      <th>value</th>\n",
       "      <th>value_2</th>\n",
       "    </tr>\n",
       "  </thead>\n",
       "  <tbody>\n",
       "    <tr>\n",
       "      <th>0</th>\n",
       "      <td>kim</td>\n",
       "      <td>1</td>\n",
       "      <td>100</td>\n",
       "    </tr>\n",
       "    <tr>\n",
       "      <th>1</th>\n",
       "      <td>KIM</td>\n",
       "      <td>2</td>\n",
       "      <td>300</td>\n",
       "    </tr>\n",
       "    <tr>\n",
       "      <th>2</th>\n",
       "      <td>Kim</td>\n",
       "      <td>3</td>\n",
       "      <td>200</td>\n",
       "    </tr>\n",
       "    <tr>\n",
       "      <th>3</th>\n",
       "      <td>lee</td>\n",
       "      <td>4</td>\n",
       "      <td>100</td>\n",
       "    </tr>\n",
       "    <tr>\n",
       "      <th>4</th>\n",
       "      <td>LEE</td>\n",
       "      <td>5</td>\n",
       "      <td>100</td>\n",
       "    </tr>\n",
       "    <tr>\n",
       "      <th>5</th>\n",
       "      <td>Lee</td>\n",
       "      <td>6</td>\n",
       "      <td>300</td>\n",
       "    </tr>\n",
       "    <tr>\n",
       "      <th>6</th>\n",
       "      <td>wang</td>\n",
       "      <td>7</td>\n",
       "      <td>50</td>\n",
       "    </tr>\n",
       "    <tr>\n",
       "      <th>7</th>\n",
       "      <td>hong</td>\n",
       "      <td>8</td>\n",
       "      <td>80</td>\n",
       "    </tr>\n",
       "  </tbody>\n",
       "</table>\n",
       "</div>"
      ],
      "text/plain": [
       "   name  value  value_2\n",
       "0   kim      1      100\n",
       "1   KIM      2      300\n",
       "2   Kim      3      200\n",
       "3   lee      4      100\n",
       "4   LEE      5      100\n",
       "5   Lee      6      300\n",
       "6  wang      7       50\n",
       "7  hong      8       80"
      ]
     },
     "execution_count": 19,
     "metadata": {},
     "output_type": "execute_result"
    }
   ],
   "source": [
    "df"
   ]
  },
  {
   "cell_type": "code",
   "execution_count": 20,
   "id": "dd8d7dc9",
   "metadata": {
    "ExecuteTime": {
     "end_time": "2022-02-23T12:32:53.496674Z",
     "start_time": "2022-02-23T12:32:53.485677Z"
    }
   },
   "outputs": [],
   "source": [
    "name_mapping = {\n",
    "    'KIM': 'kim',\n",
    "    'Kim': 'kim', \n",
    "    'LEE': 'lee', \n",
    "    'Lee': 'lee', \n",
    "    'wang': 'others', \n",
    "    'hong': 'others'\n",
    "}"
   ]
  },
  {
   "cell_type": "code",
   "execution_count": 21,
   "id": "e4aa2257",
   "metadata": {
    "ExecuteTime": {
     "end_time": "2022-02-23T12:33:12.868304Z",
     "start_time": "2022-02-23T12:33:12.856307Z"
    }
   },
   "outputs": [
    {
     "data": {
      "text/plain": [
       "<function __main__.<lambda>(x)>"
      ]
     },
     "execution_count": 21,
     "metadata": {},
     "output_type": "execute_result"
    }
   ],
   "source": [
    "func = lambda x: name_mapping.get(x, x)\n",
    "func"
   ]
  },
  {
   "cell_type": "code",
   "execution_count": 22,
   "id": "09451efd",
   "metadata": {
    "ExecuteTime": {
     "end_time": "2022-02-23T12:33:44.976134Z",
     "start_time": "2022-02-23T12:33:44.968133Z"
    }
   },
   "outputs": [],
   "source": [
    "df['name_2'] = df['name'].map(func)"
   ]
  },
  {
   "cell_type": "code",
   "execution_count": 23,
   "id": "9a21bcef",
   "metadata": {
    "ExecuteTime": {
     "end_time": "2022-02-23T12:33:46.600434Z",
     "start_time": "2022-02-23T12:33:46.590468Z"
    }
   },
   "outputs": [
    {
     "data": {
      "text/html": [
       "<div>\n",
       "<style scoped>\n",
       "    .dataframe tbody tr th:only-of-type {\n",
       "        vertical-align: middle;\n",
       "    }\n",
       "\n",
       "    .dataframe tbody tr th {\n",
       "        vertical-align: top;\n",
       "    }\n",
       "\n",
       "    .dataframe thead th {\n",
       "        text-align: right;\n",
       "    }\n",
       "</style>\n",
       "<table border=\"1\" class=\"dataframe\">\n",
       "  <thead>\n",
       "    <tr style=\"text-align: right;\">\n",
       "      <th></th>\n",
       "      <th>name</th>\n",
       "      <th>value</th>\n",
       "      <th>value_2</th>\n",
       "      <th>name_2</th>\n",
       "    </tr>\n",
       "  </thead>\n",
       "  <tbody>\n",
       "    <tr>\n",
       "      <th>0</th>\n",
       "      <td>kim</td>\n",
       "      <td>1</td>\n",
       "      <td>100</td>\n",
       "      <td>kim</td>\n",
       "    </tr>\n",
       "    <tr>\n",
       "      <th>1</th>\n",
       "      <td>KIM</td>\n",
       "      <td>2</td>\n",
       "      <td>300</td>\n",
       "      <td>kim</td>\n",
       "    </tr>\n",
       "    <tr>\n",
       "      <th>2</th>\n",
       "      <td>Kim</td>\n",
       "      <td>3</td>\n",
       "      <td>200</td>\n",
       "      <td>kim</td>\n",
       "    </tr>\n",
       "    <tr>\n",
       "      <th>3</th>\n",
       "      <td>lee</td>\n",
       "      <td>4</td>\n",
       "      <td>100</td>\n",
       "      <td>lee</td>\n",
       "    </tr>\n",
       "    <tr>\n",
       "      <th>4</th>\n",
       "      <td>LEE</td>\n",
       "      <td>5</td>\n",
       "      <td>100</td>\n",
       "      <td>lee</td>\n",
       "    </tr>\n",
       "    <tr>\n",
       "      <th>5</th>\n",
       "      <td>Lee</td>\n",
       "      <td>6</td>\n",
       "      <td>300</td>\n",
       "      <td>lee</td>\n",
       "    </tr>\n",
       "    <tr>\n",
       "      <th>6</th>\n",
       "      <td>wang</td>\n",
       "      <td>7</td>\n",
       "      <td>50</td>\n",
       "      <td>others</td>\n",
       "    </tr>\n",
       "    <tr>\n",
       "      <th>7</th>\n",
       "      <td>hong</td>\n",
       "      <td>8</td>\n",
       "      <td>80</td>\n",
       "      <td>others</td>\n",
       "    </tr>\n",
       "  </tbody>\n",
       "</table>\n",
       "</div>"
      ],
      "text/plain": [
       "   name  value  value_2  name_2\n",
       "0   kim      1      100     kim\n",
       "1   KIM      2      300     kim\n",
       "2   Kim      3      200     kim\n",
       "3   lee      4      100     lee\n",
       "4   LEE      5      100     lee\n",
       "5   Lee      6      300     lee\n",
       "6  wang      7       50  others\n",
       "7  hong      8       80  others"
      ]
     },
     "execution_count": 23,
     "metadata": {},
     "output_type": "execute_result"
    }
   ],
   "source": [
    "df"
   ]
  },
  {
   "cell_type": "code",
   "execution_count": 25,
   "id": "80e9e780",
   "metadata": {
    "ExecuteTime": {
     "end_time": "2022-02-23T12:37:35.266063Z",
     "start_time": "2022-02-23T12:37:35.248062Z"
    }
   },
   "outputs": [
    {
     "data": {
      "text/html": [
       "<div>\n",
       "<style scoped>\n",
       "    .dataframe tbody tr th:only-of-type {\n",
       "        vertical-align: middle;\n",
       "    }\n",
       "\n",
       "    .dataframe tbody tr th {\n",
       "        vertical-align: top;\n",
       "    }\n",
       "\n",
       "    .dataframe thead th {\n",
       "        text-align: right;\n",
       "    }\n",
       "</style>\n",
       "<table border=\"1\" class=\"dataframe\">\n",
       "  <thead>\n",
       "    <tr style=\"text-align: right;\">\n",
       "      <th></th>\n",
       "      <th>value</th>\n",
       "      <th>value_2</th>\n",
       "    </tr>\n",
       "    <tr>\n",
       "      <th>name_2</th>\n",
       "      <th></th>\n",
       "      <th></th>\n",
       "    </tr>\n",
       "  </thead>\n",
       "  <tbody>\n",
       "    <tr>\n",
       "      <th>kim</th>\n",
       "      <td>6</td>\n",
       "      <td>600</td>\n",
       "    </tr>\n",
       "    <tr>\n",
       "      <th>lee</th>\n",
       "      <td>15</td>\n",
       "      <td>500</td>\n",
       "    </tr>\n",
       "    <tr>\n",
       "      <th>others</th>\n",
       "      <td>15</td>\n",
       "      <td>130</td>\n",
       "    </tr>\n",
       "  </tbody>\n",
       "</table>\n",
       "</div>"
      ],
      "text/plain": [
       "        value  value_2\n",
       "name_2                \n",
       "kim         6      600\n",
       "lee        15      500\n",
       "others     15      130"
      ]
     },
     "execution_count": 25,
     "metadata": {},
     "output_type": "execute_result"
    }
   ],
   "source": [
    "df.groupby('name_2').sum()"
   ]
  },
  {
   "cell_type": "markdown",
   "id": "3a893850",
   "metadata": {},
   "source": [
    "# 과제 3"
   ]
  },
  {
   "cell_type": "code",
   "execution_count": 26,
   "id": "a7919d26",
   "metadata": {
    "ExecuteTime": {
     "end_time": "2022-02-23T12:37:48.265968Z",
     "start_time": "2022-02-23T12:37:48.256953Z"
    }
   },
   "outputs": [
    {
     "data": {
      "text/html": [
       "<div>\n",
       "<style scoped>\n",
       "    .dataframe tbody tr th:only-of-type {\n",
       "        vertical-align: middle;\n",
       "    }\n",
       "\n",
       "    .dataframe tbody tr th {\n",
       "        vertical-align: top;\n",
       "    }\n",
       "\n",
       "    .dataframe thead th {\n",
       "        text-align: right;\n",
       "    }\n",
       "</style>\n",
       "<table border=\"1\" class=\"dataframe\">\n",
       "  <thead>\n",
       "    <tr style=\"text-align: right;\">\n",
       "      <th></th>\n",
       "      <th>id</th>\n",
       "      <th>name</th>\n",
       "    </tr>\n",
       "  </thead>\n",
       "  <tbody>\n",
       "    <tr>\n",
       "      <th>0</th>\n",
       "      <td>1</td>\n",
       "      <td>aaa</td>\n",
       "    </tr>\n",
       "    <tr>\n",
       "      <th>1</th>\n",
       "      <td>2</td>\n",
       "      <td>bbb</td>\n",
       "    </tr>\n",
       "    <tr>\n",
       "      <th>2</th>\n",
       "      <td>10</td>\n",
       "      <td>ccc</td>\n",
       "    </tr>\n",
       "    <tr>\n",
       "      <th>3</th>\n",
       "      <td>20</td>\n",
       "      <td>ddd</td>\n",
       "    </tr>\n",
       "    <tr>\n",
       "      <th>4</th>\n",
       "      <td>100</td>\n",
       "      <td>eee</td>\n",
       "    </tr>\n",
       "    <tr>\n",
       "      <th>5</th>\n",
       "      <td>200</td>\n",
       "      <td>fff</td>\n",
       "    </tr>\n",
       "  </tbody>\n",
       "</table>\n",
       "</div>"
      ],
      "text/plain": [
       "    id name\n",
       "0    1  aaa\n",
       "1    2  bbb\n",
       "2   10  ccc\n",
       "3   20  ddd\n",
       "4  100  eee\n",
       "5  200  fff"
      ]
     },
     "execution_count": 26,
     "metadata": {},
     "output_type": "execute_result"
    }
   ],
   "source": [
    "df = pd.DataFrame({'id': [1, 2, 10, 20, 100, 200], \n",
    "                   'name': ['aaa', 'bbb', 'ccc', 'ddd', 'eee', 'fff']})\n",
    "df"
   ]
  },
  {
   "cell_type": "code",
   "execution_count": 27,
   "id": "fb948ac5",
   "metadata": {
    "ExecuteTime": {
     "end_time": "2022-02-23T12:38:48.703465Z",
     "start_time": "2022-02-23T12:38:48.690466Z"
    }
   },
   "outputs": [
    {
     "data": {
      "text/html": [
       "<div>\n",
       "<style scoped>\n",
       "    .dataframe tbody tr th:only-of-type {\n",
       "        vertical-align: middle;\n",
       "    }\n",
       "\n",
       "    .dataframe tbody tr th {\n",
       "        vertical-align: top;\n",
       "    }\n",
       "\n",
       "    .dataframe thead th {\n",
       "        text-align: right;\n",
       "    }\n",
       "</style>\n",
       "<table border=\"1\" class=\"dataframe\">\n",
       "  <thead>\n",
       "    <tr style=\"text-align: right;\">\n",
       "      <th></th>\n",
       "      <th>id</th>\n",
       "      <th>name</th>\n",
       "      <th>id_2</th>\n",
       "    </tr>\n",
       "  </thead>\n",
       "  <tbody>\n",
       "    <tr>\n",
       "      <th>0</th>\n",
       "      <td>1</td>\n",
       "      <td>aaa</td>\n",
       "      <td>00001</td>\n",
       "    </tr>\n",
       "    <tr>\n",
       "      <th>1</th>\n",
       "      <td>2</td>\n",
       "      <td>bbb</td>\n",
       "      <td>00002</td>\n",
       "    </tr>\n",
       "    <tr>\n",
       "      <th>2</th>\n",
       "      <td>10</td>\n",
       "      <td>ccc</td>\n",
       "      <td>00010</td>\n",
       "    </tr>\n",
       "    <tr>\n",
       "      <th>3</th>\n",
       "      <td>20</td>\n",
       "      <td>ddd</td>\n",
       "      <td>00020</td>\n",
       "    </tr>\n",
       "    <tr>\n",
       "      <th>4</th>\n",
       "      <td>100</td>\n",
       "      <td>eee</td>\n",
       "      <td>00100</td>\n",
       "    </tr>\n",
       "    <tr>\n",
       "      <th>5</th>\n",
       "      <td>200</td>\n",
       "      <td>fff</td>\n",
       "      <td>00200</td>\n",
       "    </tr>\n",
       "  </tbody>\n",
       "</table>\n",
       "</div>"
      ],
      "text/plain": [
       "    id name   id_2\n",
       "0    1  aaa  00001\n",
       "1    2  bbb  00002\n",
       "2   10  ccc  00010\n",
       "3   20  ddd  00020\n",
       "4  100  eee  00100\n",
       "5  200  fff  00200"
      ]
     },
     "execution_count": 27,
     "metadata": {},
     "output_type": "execute_result"
    }
   ],
   "source": [
    "df['id_2'] = df['id'].apply(lambda x: \"{:0>5d}\".format(x))\n",
    "df"
   ]
  },
  {
   "cell_type": "code",
   "execution_count": 29,
   "id": "46cb60a6",
   "metadata": {
    "ExecuteTime": {
     "end_time": "2022-02-23T12:40:53.253738Z",
     "start_time": "2022-02-23T12:40:53.235746Z"
    }
   },
   "outputs": [
    {
     "data": {
      "text/html": [
       "<div>\n",
       "<style scoped>\n",
       "    .dataframe tbody tr th:only-of-type {\n",
       "        vertical-align: middle;\n",
       "    }\n",
       "\n",
       "    .dataframe tbody tr th {\n",
       "        vertical-align: top;\n",
       "    }\n",
       "\n",
       "    .dataframe thead th {\n",
       "        text-align: right;\n",
       "    }\n",
       "</style>\n",
       "<table border=\"1\" class=\"dataframe\">\n",
       "  <thead>\n",
       "    <tr style=\"text-align: right;\">\n",
       "      <th></th>\n",
       "      <th>id</th>\n",
       "      <th>name</th>\n",
       "      <th>id_2</th>\n",
       "      <th>id_name</th>\n",
       "    </tr>\n",
       "  </thead>\n",
       "  <tbody>\n",
       "    <tr>\n",
       "      <th>0</th>\n",
       "      <td>1</td>\n",
       "      <td>aaa</td>\n",
       "      <td>00001</td>\n",
       "      <td>00001_aaa</td>\n",
       "    </tr>\n",
       "    <tr>\n",
       "      <th>1</th>\n",
       "      <td>2</td>\n",
       "      <td>bbb</td>\n",
       "      <td>00002</td>\n",
       "      <td>00002_bbb</td>\n",
       "    </tr>\n",
       "    <tr>\n",
       "      <th>2</th>\n",
       "      <td>10</td>\n",
       "      <td>ccc</td>\n",
       "      <td>00010</td>\n",
       "      <td>00010_ccc</td>\n",
       "    </tr>\n",
       "    <tr>\n",
       "      <th>3</th>\n",
       "      <td>20</td>\n",
       "      <td>ddd</td>\n",
       "      <td>00020</td>\n",
       "      <td>00020_ddd</td>\n",
       "    </tr>\n",
       "    <tr>\n",
       "      <th>4</th>\n",
       "      <td>100</td>\n",
       "      <td>eee</td>\n",
       "      <td>00100</td>\n",
       "      <td>00100_eee</td>\n",
       "    </tr>\n",
       "    <tr>\n",
       "      <th>5</th>\n",
       "      <td>200</td>\n",
       "      <td>fff</td>\n",
       "      <td>00200</td>\n",
       "      <td>00200_fff</td>\n",
       "    </tr>\n",
       "  </tbody>\n",
       "</table>\n",
       "</div>"
      ],
      "text/plain": [
       "    id name   id_2    id_name\n",
       "0    1  aaa  00001  00001_aaa\n",
       "1    2  bbb  00002  00002_bbb\n",
       "2   10  ccc  00010  00010_ccc\n",
       "3   20  ddd  00020  00020_ddd\n",
       "4  100  eee  00100  00100_eee\n",
       "5  200  fff  00200  00200_fff"
      ]
     },
     "execution_count": 29,
     "metadata": {},
     "output_type": "execute_result"
    }
   ],
   "source": [
    "df['id_name'] = df[['id_2', 'name']].apply(lambda x:'_'.join(x), axis=1)\n",
    "df"
   ]
  },
  {
   "cell_type": "markdown",
   "id": "e582064f",
   "metadata": {},
   "source": [
    "# 과제 4"
   ]
  },
  {
   "cell_type": "code",
   "execution_count": 30,
   "id": "4257afa2",
   "metadata": {
    "ExecuteTime": {
     "end_time": "2022-02-23T12:41:29.232964Z",
     "start_time": "2022-02-23T12:41:29.214968Z"
    }
   },
   "outputs": [
    {
     "data": {
      "text/html": [
       "<div>\n",
       "<style scoped>\n",
       "    .dataframe tbody tr th:only-of-type {\n",
       "        vertical-align: middle;\n",
       "    }\n",
       "\n",
       "    .dataframe tbody tr th {\n",
       "        vertical-align: top;\n",
       "    }\n",
       "\n",
       "    .dataframe thead th {\n",
       "        text-align: right;\n",
       "    }\n",
       "</style>\n",
       "<table border=\"1\" class=\"dataframe\">\n",
       "  <thead>\n",
       "    <tr style=\"text-align: right;\">\n",
       "      <th></th>\n",
       "      <th>c1</th>\n",
       "      <th>c2</th>\n",
       "      <th>c3</th>\n",
       "      <th>c4</th>\n",
       "      <th>c5</th>\n",
       "    </tr>\n",
       "  </thead>\n",
       "  <tbody>\n",
       "    <tr>\n",
       "      <th>r1</th>\n",
       "      <td>0</td>\n",
       "      <td>1</td>\n",
       "      <td>2</td>\n",
       "      <td>3</td>\n",
       "      <td>4</td>\n",
       "    </tr>\n",
       "    <tr>\n",
       "      <th>r2</th>\n",
       "      <td>5</td>\n",
       "      <td>6</td>\n",
       "      <td>7</td>\n",
       "      <td>8</td>\n",
       "      <td>9</td>\n",
       "    </tr>\n",
       "    <tr>\n",
       "      <th>r3</th>\n",
       "      <td>10</td>\n",
       "      <td>11</td>\n",
       "      <td>12</td>\n",
       "      <td>13</td>\n",
       "      <td>14</td>\n",
       "    </tr>\n",
       "    <tr>\n",
       "      <th>r4</th>\n",
       "      <td>15</td>\n",
       "      <td>16</td>\n",
       "      <td>17</td>\n",
       "      <td>18</td>\n",
       "      <td>19</td>\n",
       "    </tr>\n",
       "  </tbody>\n",
       "</table>\n",
       "</div>"
      ],
      "text/plain": [
       "    c1  c2  c3  c4  c5\n",
       "r1   0   1   2   3   4\n",
       "r2   5   6   7   8   9\n",
       "r3  10  11  12  13  14\n",
       "r4  15  16  17  18  19"
      ]
     },
     "execution_count": 30,
     "metadata": {},
     "output_type": "execute_result"
    }
   ],
   "source": [
    "df = pd.DataFrame(data=np.arange(20).reshape(4, 5),\n",
    "               columns = ['c1', 'c2', 'c3', 'c4', 'c5'], \n",
    "               index = ['r1', 'r2', 'r3', 'r4'])\n",
    "df"
   ]
  },
  {
   "cell_type": "code",
   "execution_count": 32,
   "id": "70195ba5",
   "metadata": {
    "ExecuteTime": {
     "end_time": "2022-02-23T12:43:04.069022Z",
     "start_time": "2022-02-23T12:43:04.056053Z"
    }
   },
   "outputs": [
    {
     "data": {
      "text/html": [
       "<div>\n",
       "<style scoped>\n",
       "    .dataframe tbody tr th:only-of-type {\n",
       "        vertical-align: middle;\n",
       "    }\n",
       "\n",
       "    .dataframe tbody tr th {\n",
       "        vertical-align: top;\n",
       "    }\n",
       "\n",
       "    .dataframe thead th {\n",
       "        text-align: right;\n",
       "    }\n",
       "</style>\n",
       "<table border=\"1\" class=\"dataframe\">\n",
       "  <thead>\n",
       "    <tr style=\"text-align: right;\">\n",
       "      <th></th>\n",
       "      <th>c1</th>\n",
       "      <th>c2</th>\n",
       "      <th>c3</th>\n",
       "      <th>c4</th>\n",
       "      <th>c5</th>\n",
       "    </tr>\n",
       "  </thead>\n",
       "  <tbody>\n",
       "    <tr>\n",
       "      <th>row_g1</th>\n",
       "      <td>5</td>\n",
       "      <td>7</td>\n",
       "      <td>9</td>\n",
       "      <td>11</td>\n",
       "      <td>13</td>\n",
       "    </tr>\n",
       "    <tr>\n",
       "      <th>row_g2</th>\n",
       "      <td>25</td>\n",
       "      <td>27</td>\n",
       "      <td>29</td>\n",
       "      <td>31</td>\n",
       "      <td>33</td>\n",
       "    </tr>\n",
       "  </tbody>\n",
       "</table>\n",
       "</div>"
      ],
      "text/plain": [
       "        c1  c2  c3  c4  c5\n",
       "row_g1   5   7   9  11  13\n",
       "row_g2  25  27  29  31  33"
      ]
     },
     "execution_count": 32,
     "metadata": {},
     "output_type": "execute_result"
    }
   ],
   "source": [
    "mapping_dict_row = {\n",
    "    'r1': 'row_g1',\n",
    "    'r2': 'row_g1',\n",
    "    'r3': 'row_g2',\n",
    "    'r4': 'row_g2'\n",
    "}\n",
    "df.groupby(mapping_dict_row).sum()"
   ]
  },
  {
   "cell_type": "code",
   "execution_count": 37,
   "id": "3ec78330",
   "metadata": {
    "ExecuteTime": {
     "end_time": "2022-02-23T12:45:03.220834Z",
     "start_time": "2022-02-23T12:45:03.197866Z"
    }
   },
   "outputs": [
    {
     "data": {
      "text/html": [
       "<div>\n",
       "<style scoped>\n",
       "    .dataframe tbody tr th:only-of-type {\n",
       "        vertical-align: middle;\n",
       "    }\n",
       "\n",
       "    .dataframe tbody tr th {\n",
       "        vertical-align: top;\n",
       "    }\n",
       "\n",
       "    .dataframe thead th {\n",
       "        text-align: right;\n",
       "    }\n",
       "</style>\n",
       "<table border=\"1\" class=\"dataframe\">\n",
       "  <thead>\n",
       "    <tr style=\"text-align: right;\">\n",
       "      <th></th>\n",
       "      <th>col_g1</th>\n",
       "      <th>col_g2</th>\n",
       "    </tr>\n",
       "  </thead>\n",
       "  <tbody>\n",
       "    <tr>\n",
       "      <th>r1</th>\n",
       "      <td>1</td>\n",
       "      <td>9</td>\n",
       "    </tr>\n",
       "    <tr>\n",
       "      <th>r2</th>\n",
       "      <td>11</td>\n",
       "      <td>24</td>\n",
       "    </tr>\n",
       "    <tr>\n",
       "      <th>r3</th>\n",
       "      <td>21</td>\n",
       "      <td>39</td>\n",
       "    </tr>\n",
       "    <tr>\n",
       "      <th>r4</th>\n",
       "      <td>31</td>\n",
       "      <td>54</td>\n",
       "    </tr>\n",
       "  </tbody>\n",
       "</table>\n",
       "</div>"
      ],
      "text/plain": [
       "    col_g1  col_g2\n",
       "r1       1       9\n",
       "r2      11      24\n",
       "r3      21      39\n",
       "r4      31      54"
      ]
     },
     "execution_count": 37,
     "metadata": {},
     "output_type": "execute_result"
    }
   ],
   "source": [
    " mapping_dict_col = {'c1': 'col_g1', \n",
    "                   'c2': 'col_g1', \n",
    "                   'c3': 'col_g2', \n",
    "                   'c4': 'col_g2', \n",
    "                   'c5': 'col_g2'}\n",
    "df.groupby(mapping_dict_col, axis=1).sum()"
   ]
  },
  {
   "cell_type": "code",
   "execution_count": 38,
   "id": "b9e59a4e",
   "metadata": {
    "ExecuteTime": {
     "end_time": "2022-02-23T12:46:59.167306Z",
     "start_time": "2022-02-23T12:46:59.155273Z"
    }
   },
   "outputs": [],
   "source": [
    " hier_columns = pd.MultiIndex.from_arrays([['col_g1', 'col_g1', 'col_g2', 'col_g2', 'col_g2'],\n",
    "                                         ['c1', 'c2', 'c3', 'c4', 'c5']], \n",
    "                                        names = ['col_level_1', 'col_level_2'])\n"
   ]
  },
  {
   "cell_type": "code",
   "execution_count": 40,
   "id": "d62e3f56",
   "metadata": {
    "ExecuteTime": {
     "end_time": "2022-02-23T12:47:23.089975Z",
     "start_time": "2022-02-23T12:47:23.073991Z"
    }
   },
   "outputs": [
    {
     "data": {
      "text/html": [
       "<div>\n",
       "<style scoped>\n",
       "    .dataframe tbody tr th:only-of-type {\n",
       "        vertical-align: middle;\n",
       "    }\n",
       "\n",
       "    .dataframe tbody tr th {\n",
       "        vertical-align: top;\n",
       "    }\n",
       "\n",
       "    .dataframe thead tr th {\n",
       "        text-align: left;\n",
       "    }\n",
       "</style>\n",
       "<table border=\"1\" class=\"dataframe\">\n",
       "  <thead>\n",
       "    <tr>\n",
       "      <th>col_level_1</th>\n",
       "      <th colspan=\"2\" halign=\"left\">col_g1</th>\n",
       "      <th colspan=\"3\" halign=\"left\">col_g2</th>\n",
       "    </tr>\n",
       "    <tr>\n",
       "      <th>col_level_2</th>\n",
       "      <th>c1</th>\n",
       "      <th>c2</th>\n",
       "      <th>c3</th>\n",
       "      <th>c4</th>\n",
       "      <th>c5</th>\n",
       "    </tr>\n",
       "  </thead>\n",
       "  <tbody>\n",
       "    <tr>\n",
       "      <th>r1</th>\n",
       "      <td>0</td>\n",
       "      <td>1</td>\n",
       "      <td>2</td>\n",
       "      <td>3</td>\n",
       "      <td>4</td>\n",
       "    </tr>\n",
       "    <tr>\n",
       "      <th>r2</th>\n",
       "      <td>5</td>\n",
       "      <td>6</td>\n",
       "      <td>7</td>\n",
       "      <td>8</td>\n",
       "      <td>9</td>\n",
       "    </tr>\n",
       "    <tr>\n",
       "      <th>r3</th>\n",
       "      <td>10</td>\n",
       "      <td>11</td>\n",
       "      <td>12</td>\n",
       "      <td>13</td>\n",
       "      <td>14</td>\n",
       "    </tr>\n",
       "    <tr>\n",
       "      <th>r4</th>\n",
       "      <td>15</td>\n",
       "      <td>16</td>\n",
       "      <td>17</td>\n",
       "      <td>18</td>\n",
       "      <td>19</td>\n",
       "    </tr>\n",
       "  </tbody>\n",
       "</table>\n",
       "</div>"
      ],
      "text/plain": [
       "col_level_1 col_g1     col_g2        \n",
       "col_level_2     c1  c2     c3  c4  c5\n",
       "r1               0   1      2   3   4\n",
       "r2               5   6      7   8   9\n",
       "r3              10  11     12  13  14\n",
       "r4              15  16     17  18  19"
      ]
     },
     "execution_count": 40,
     "metadata": {},
     "output_type": "execute_result"
    }
   ],
   "source": [
    "hier_df = pd.DataFrame(data = np.arange(20).reshape(4,5), \n",
    "                   columns = hier_columns, \n",
    "                   index = ['r1', 'r2', 'r3', 'r4'])\n",
    "hier_df"
   ]
  },
  {
   "cell_type": "code",
   "execution_count": 41,
   "id": "eca74196",
   "metadata": {
    "ExecuteTime": {
     "end_time": "2022-02-23T12:47:32.792800Z",
     "start_time": "2022-02-23T12:47:32.780800Z"
    }
   },
   "outputs": [
    {
     "data": {
      "text/html": [
       "<div>\n",
       "<style scoped>\n",
       "    .dataframe tbody tr th:only-of-type {\n",
       "        vertical-align: middle;\n",
       "    }\n",
       "\n",
       "    .dataframe tbody tr th {\n",
       "        vertical-align: top;\n",
       "    }\n",
       "\n",
       "    .dataframe thead th {\n",
       "        text-align: right;\n",
       "    }\n",
       "</style>\n",
       "<table border=\"1\" class=\"dataframe\">\n",
       "  <thead>\n",
       "    <tr style=\"text-align: right;\">\n",
       "      <th>col_level_1</th>\n",
       "      <th>col_g1</th>\n",
       "      <th>col_g2</th>\n",
       "    </tr>\n",
       "  </thead>\n",
       "  <tbody>\n",
       "    <tr>\n",
       "      <th>r1</th>\n",
       "      <td>0.5</td>\n",
       "      <td>3.0</td>\n",
       "    </tr>\n",
       "    <tr>\n",
       "      <th>r2</th>\n",
       "      <td>5.5</td>\n",
       "      <td>8.0</td>\n",
       "    </tr>\n",
       "    <tr>\n",
       "      <th>r3</th>\n",
       "      <td>10.5</td>\n",
       "      <td>13.0</td>\n",
       "    </tr>\n",
       "    <tr>\n",
       "      <th>r4</th>\n",
       "      <td>15.5</td>\n",
       "      <td>18.0</td>\n",
       "    </tr>\n",
       "  </tbody>\n",
       "</table>\n",
       "</div>"
      ],
      "text/plain": [
       "col_level_1  col_g1  col_g2\n",
       "r1              0.5     3.0\n",
       "r2              5.5     8.0\n",
       "r3             10.5    13.0\n",
       "r4             15.5    18.0"
      ]
     },
     "execution_count": 41,
     "metadata": {},
     "output_type": "execute_result"
    }
   ],
   "source": [
    "hier_df.groupby(level = 'col_level_1', axis=1).mean()"
   ]
  },
  {
   "cell_type": "markdown",
   "id": "8f8910d8",
   "metadata": {},
   "source": [
    "# 과제 5"
   ]
  },
  {
   "cell_type": "code",
   "execution_count": 42,
   "id": "2fcf097f",
   "metadata": {
    "ExecuteTime": {
     "end_time": "2022-02-23T12:47:46.413701Z",
     "start_time": "2022-02-23T12:47:46.394707Z"
    }
   },
   "outputs": [
    {
     "data": {
      "text/html": [
       "<div>\n",
       "<style scoped>\n",
       "    .dataframe tbody tr th:only-of-type {\n",
       "        vertical-align: middle;\n",
       "    }\n",
       "\n",
       "    .dataframe tbody tr th {\n",
       "        vertical-align: top;\n",
       "    }\n",
       "\n",
       "    .dataframe thead th {\n",
       "        text-align: right;\n",
       "    }\n",
       "</style>\n",
       "<table border=\"1\" class=\"dataframe\">\n",
       "  <thead>\n",
       "    <tr style=\"text-align: right;\">\n",
       "      <th></th>\n",
       "      <th>group</th>\n",
       "      <th>value_1</th>\n",
       "      <th>value_2</th>\n",
       "    </tr>\n",
       "  </thead>\n",
       "  <tbody>\n",
       "    <tr>\n",
       "      <th>0</th>\n",
       "      <td>a</td>\n",
       "      <td>0</td>\n",
       "      <td>-0.873456</td>\n",
       "    </tr>\n",
       "    <tr>\n",
       "      <th>1</th>\n",
       "      <td>a</td>\n",
       "      <td>1</td>\n",
       "      <td>-1.838954</td>\n",
       "    </tr>\n",
       "    <tr>\n",
       "      <th>2</th>\n",
       "      <td>a</td>\n",
       "      <td>2</td>\n",
       "      <td>-1.338087</td>\n",
       "    </tr>\n",
       "    <tr>\n",
       "      <th>3</th>\n",
       "      <td>b</td>\n",
       "      <td>3</td>\n",
       "      <td>0.643153</td>\n",
       "    </tr>\n",
       "    <tr>\n",
       "      <th>4</th>\n",
       "      <td>b</td>\n",
       "      <td>4</td>\n",
       "      <td>-1.083612</td>\n",
       "    </tr>\n",
       "    <tr>\n",
       "      <th>5</th>\n",
       "      <td>b</td>\n",
       "      <td>5</td>\n",
       "      <td>0.511560</td>\n",
       "    </tr>\n",
       "  </tbody>\n",
       "</table>\n",
       "</div>"
      ],
      "text/plain": [
       "  group  value_1   value_2\n",
       "0     a        0 -0.873456\n",
       "1     a        1 -1.838954\n",
       "2     a        2 -1.338087\n",
       "3     b        3  0.643153\n",
       "4     b        4 -1.083612\n",
       "5     b        5  0.511560"
      ]
     },
     "execution_count": 42,
     "metadata": {},
     "output_type": "execute_result"
    }
   ],
   "source": [
    "df = pd.DataFrame({'group': ['a', 'a', 'a', 'b', 'b', 'b'], \n",
    "                   'value_1': np.arange(6), \n",
    "                   'value_2': np.random.randn(6)})\n",
    "df"
   ]
  },
  {
   "cell_type": "code",
   "execution_count": 44,
   "id": "1c0fda80",
   "metadata": {
    "ExecuteTime": {
     "end_time": "2022-02-23T12:49:59.586945Z",
     "start_time": "2022-02-23T12:49:59.570911Z"
    }
   },
   "outputs": [
    {
     "data": {
      "text/html": [
       "<div>\n",
       "<style scoped>\n",
       "    .dataframe tbody tr th:only-of-type {\n",
       "        vertical-align: middle;\n",
       "    }\n",
       "\n",
       "    .dataframe tbody tr th {\n",
       "        vertical-align: top;\n",
       "    }\n",
       "\n",
       "    .dataframe thead th {\n",
       "        text-align: right;\n",
       "    }\n",
       "</style>\n",
       "<table border=\"1\" class=\"dataframe\">\n",
       "  <thead>\n",
       "    <tr style=\"text-align: right;\">\n",
       "      <th></th>\n",
       "      <th>value_1</th>\n",
       "      <th>value_2</th>\n",
       "    </tr>\n",
       "    <tr>\n",
       "      <th>group</th>\n",
       "      <th></th>\n",
       "      <th></th>\n",
       "    </tr>\n",
       "  </thead>\n",
       "  <tbody>\n",
       "    <tr>\n",
       "      <th>a</th>\n",
       "      <td>3</td>\n",
       "      <td>3</td>\n",
       "    </tr>\n",
       "    <tr>\n",
       "      <th>b</th>\n",
       "      <td>3</td>\n",
       "      <td>3</td>\n",
       "    </tr>\n",
       "  </tbody>\n",
       "</table>\n",
       "</div>"
      ],
      "text/plain": [
       "       value_1  value_2\n",
       "group                  \n",
       "a            3        3\n",
       "b            3        3"
      ]
     },
     "execution_count": 44,
     "metadata": {},
     "output_type": "execute_result"
    }
   ],
   "source": [
    "df.groupby('group').count()"
   ]
  },
  {
   "cell_type": "code",
   "execution_count": 45,
   "id": "9e48fae6",
   "metadata": {
    "ExecuteTime": {
     "end_time": "2022-02-23T12:50:21.147490Z",
     "start_time": "2022-02-23T12:50:21.131498Z"
    }
   },
   "outputs": [
    {
     "data": {
      "text/html": [
       "<div>\n",
       "<style scoped>\n",
       "    .dataframe tbody tr th:only-of-type {\n",
       "        vertical-align: middle;\n",
       "    }\n",
       "\n",
       "    .dataframe tbody tr th {\n",
       "        vertical-align: top;\n",
       "    }\n",
       "\n",
       "    .dataframe thead th {\n",
       "        text-align: right;\n",
       "    }\n",
       "</style>\n",
       "<table border=\"1\" class=\"dataframe\">\n",
       "  <thead>\n",
       "    <tr style=\"text-align: right;\">\n",
       "      <th></th>\n",
       "      <th>value_1</th>\n",
       "      <th>value_2</th>\n",
       "    </tr>\n",
       "    <tr>\n",
       "      <th>group</th>\n",
       "      <th></th>\n",
       "      <th></th>\n",
       "    </tr>\n",
       "  </thead>\n",
       "  <tbody>\n",
       "    <tr>\n",
       "      <th>a</th>\n",
       "      <td>0</td>\n",
       "      <td>-1.838954</td>\n",
       "    </tr>\n",
       "    <tr>\n",
       "      <th>b</th>\n",
       "      <td>3</td>\n",
       "      <td>-1.083612</td>\n",
       "    </tr>\n",
       "  </tbody>\n",
       "</table>\n",
       "</div>"
      ],
      "text/plain": [
       "       value_1   value_2\n",
       "group                   \n",
       "a            0 -1.838954\n",
       "b            3 -1.083612"
      ]
     },
     "execution_count": 45,
     "metadata": {},
     "output_type": "execute_result"
    }
   ],
   "source": [
    "df.groupby('group').min()"
   ]
  },
  {
   "cell_type": "code",
   "execution_count": 46,
   "id": "6f488354",
   "metadata": {
    "ExecuteTime": {
     "end_time": "2022-02-23T12:50:25.989710Z",
     "start_time": "2022-02-23T12:50:25.970681Z"
    }
   },
   "outputs": [
    {
     "data": {
      "text/html": [
       "<div>\n",
       "<style scoped>\n",
       "    .dataframe tbody tr th:only-of-type {\n",
       "        vertical-align: middle;\n",
       "    }\n",
       "\n",
       "    .dataframe tbody tr th {\n",
       "        vertical-align: top;\n",
       "    }\n",
       "\n",
       "    .dataframe thead th {\n",
       "        text-align: right;\n",
       "    }\n",
       "</style>\n",
       "<table border=\"1\" class=\"dataframe\">\n",
       "  <thead>\n",
       "    <tr style=\"text-align: right;\">\n",
       "      <th></th>\n",
       "      <th>value_1</th>\n",
       "      <th>value_2</th>\n",
       "    </tr>\n",
       "    <tr>\n",
       "      <th>group</th>\n",
       "      <th></th>\n",
       "      <th></th>\n",
       "    </tr>\n",
       "  </thead>\n",
       "  <tbody>\n",
       "    <tr>\n",
       "      <th>a</th>\n",
       "      <td>2</td>\n",
       "      <td>-0.873456</td>\n",
       "    </tr>\n",
       "    <tr>\n",
       "      <th>b</th>\n",
       "      <td>5</td>\n",
       "      <td>0.643153</td>\n",
       "    </tr>\n",
       "  </tbody>\n",
       "</table>\n",
       "</div>"
      ],
      "text/plain": [
       "       value_1   value_2\n",
       "group                   \n",
       "a            2 -0.873456\n",
       "b            5  0.643153"
      ]
     },
     "execution_count": 46,
     "metadata": {},
     "output_type": "execute_result"
    }
   ],
   "source": [
    "df.groupby('group').max()"
   ]
  },
  {
   "cell_type": "code",
   "execution_count": 47,
   "id": "ca87734f",
   "metadata": {
    "ExecuteTime": {
     "end_time": "2022-02-23T12:50:59.411369Z",
     "start_time": "2022-02-23T12:50:59.386370Z"
    }
   },
   "outputs": [
    {
     "data": {
      "text/html": [
       "<div>\n",
       "<style scoped>\n",
       "    .dataframe tbody tr th:only-of-type {\n",
       "        vertical-align: middle;\n",
       "    }\n",
       "\n",
       "    .dataframe tbody tr th {\n",
       "        vertical-align: top;\n",
       "    }\n",
       "\n",
       "    .dataframe thead th {\n",
       "        text-align: right;\n",
       "    }\n",
       "</style>\n",
       "<table border=\"1\" class=\"dataframe\">\n",
       "  <thead>\n",
       "    <tr style=\"text-align: right;\">\n",
       "      <th></th>\n",
       "      <th>value_1</th>\n",
       "      <th>value_2</th>\n",
       "    </tr>\n",
       "    <tr>\n",
       "      <th>group</th>\n",
       "      <th></th>\n",
       "      <th></th>\n",
       "    </tr>\n",
       "  </thead>\n",
       "  <tbody>\n",
       "    <tr>\n",
       "      <th>a</th>\n",
       "      <td>1.0</td>\n",
       "      <td>-1.338087</td>\n",
       "    </tr>\n",
       "    <tr>\n",
       "      <th>b</th>\n",
       "      <td>4.0</td>\n",
       "      <td>0.511560</td>\n",
       "    </tr>\n",
       "  </tbody>\n",
       "</table>\n",
       "</div>"
      ],
      "text/plain": [
       "       value_1   value_2\n",
       "group                   \n",
       "a          1.0 -1.338087\n",
       "b          4.0  0.511560"
      ]
     },
     "execution_count": 47,
     "metadata": {},
     "output_type": "execute_result"
    }
   ],
   "source": [
    "df.groupby('group').quantile()"
   ]
  },
  {
   "cell_type": "code",
   "execution_count": null,
   "id": "3d043a52",
   "metadata": {},
   "outputs": [],
   "source": []
  }
 ],
 "metadata": {
  "kernelspec": {
   "display_name": "Python 3 (ipykernel)",
   "language": "python",
   "name": "python3"
  },
  "language_info": {
   "codemirror_mode": {
    "name": "ipython",
    "version": 3
   },
   "file_extension": ".py",
   "mimetype": "text/x-python",
   "name": "python",
   "nbconvert_exporter": "python",
   "pygments_lexer": "ipython3",
   "version": "3.9.7"
  },
  "toc": {
   "base_numbering": 1,
   "nav_menu": {},
   "number_sections": true,
   "sideBar": true,
   "skip_h1_title": false,
   "title_cell": "Table of Contents",
   "title_sidebar": "Contents",
   "toc_cell": false,
   "toc_position": {},
   "toc_section_display": true,
   "toc_window_display": false
  }
 },
 "nbformat": 4,
 "nbformat_minor": 5
}
