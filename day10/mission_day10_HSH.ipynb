{
 "cells": [
  {
   "cell_type": "markdown",
   "id": "4da6866f",
   "metadata": {},
   "source": [
    "# DAY 10\n",
    "## 과제 1"
   ]
  },
  {
   "cell_type": "code",
   "execution_count": 2,
   "id": "50915e9d",
   "metadata": {
    "ExecuteTime": {
     "end_time": "2022-02-13T12:29:39.123012Z",
     "start_time": "2022-02-13T12:29:38.856977Z"
    }
   },
   "outputs": [],
   "source": [
    "import numpy as np\n",
    "import matplotlib.pyplot as plt"
   ]
  },
  {
   "cell_type": "code",
   "execution_count": 8,
   "id": "9c168ffc",
   "metadata": {
    "ExecuteTime": {
     "end_time": "2022-02-13T12:31:58.776844Z",
     "start_time": "2022-02-13T12:31:58.771868Z"
    }
   },
   "outputs": [
    {
     "data": {
      "text/plain": [
       "[0.0, -0.9880316240928618, -0.3048106211022167, 0.8939966636005579]"
      ]
     },
     "execution_count": 8,
     "metadata": {},
     "output_type": "execute_result"
    }
   ],
   "source": [
    "# sin(0°), sin(30°), sin(45°), sin(60°), sin(90°) 의 값을 구해보세요\n",
    "# 다음의 곡선 그래프를 그려보세요\n",
    "\n",
    "sin_value = [np.sin(0), np.sin(30), np.sin(60), np.sin(90)]\n",
    "\n",
    "sin_value"
   ]
  },
  {
   "cell_type": "code",
   "execution_count": 9,
   "id": "e4bb69d4",
   "metadata": {
    "ExecuteTime": {
     "end_time": "2022-02-13T12:32:42.514355Z",
     "start_time": "2022-02-13T12:32:42.404355Z"
    }
   },
   "outputs": [
    {
     "data": {
      "image/png": "[encoded data removed]",
      "text/plain": [
       "<Figure size 432x288 with 1 Axes>"
      ]
     },
     "metadata": {
      "needs_background": "light"
     },
     "output_type": "display_data"
    }
   ],
   "source": [
    "x = np.arange(0, 2*np.pi, 0.1)\n",
    "y = np.sin(x)\n",
    "plt.plot(x, y)\n",
    "plt.show()"
   ]
  },
  {
   "cell_type": "code",
   "execution_count": 11,
   "id": "36953ff8",
   "metadata": {
    "ExecuteTime": {
     "end_time": "2022-02-13T12:33:32.395249Z",
     "start_time": "2022-02-13T12:33:32.384203Z"
    }
   },
   "outputs": [
    {
     "data": {
      "text/plain": [
       "1.5707963267948966"
      ]
     },
     "execution_count": 11,
     "metadata": {},
     "output_type": "execute_result"
    }
   ],
   "source": [
    "np.arcsin(1)"
   ]
  },
  {
   "cell_type": "code",
   "execution_count": 12,
   "id": "00a51a00",
   "metadata": {
    "ExecuteTime": {
     "end_time": "2022-02-13T12:33:41.178323Z",
     "start_time": "2022-02-13T12:33:41.165294Z"
    }
   },
   "outputs": [
    {
     "data": {
      "text/plain": [
       "3.141592653589793"
      ]
     },
     "execution_count": 12,
     "metadata": {},
     "output_type": "execute_result"
    }
   ],
   "source": [
    "np.arccos(-1)"
   ]
  },
  {
   "cell_type": "code",
   "execution_count": 13,
   "id": "0c33e89e",
   "metadata": {
    "ExecuteTime": {
     "end_time": "2022-02-13T12:33:46.018749Z",
     "start_time": "2022-02-13T12:33:46.002747Z"
    }
   },
   "outputs": [
    {
     "data": {
      "text/plain": [
       "0.0"
      ]
     },
     "execution_count": 13,
     "metadata": {},
     "output_type": "execute_result"
    }
   ],
   "source": [
    "np.arctan(0)"
   ]
  },
  {
   "cell_type": "code",
   "execution_count": 14,
   "id": "50b9f1c5",
   "metadata": {
    "ExecuteTime": {
     "end_time": "2022-02-13T12:34:05.921440Z",
     "start_time": "2022-02-13T12:34:05.909411Z"
    }
   },
   "outputs": [
    {
     "data": {
      "text/plain": [
       "3.141592653589793"
      ]
     },
     "execution_count": 14,
     "metadata": {},
     "output_type": "execute_result"
    }
   ],
   "source": [
    "np.deg2rad(180)"
   ]
  },
  {
   "cell_type": "markdown",
   "id": "5cdd311f",
   "metadata": {},
   "source": [
    "## 과제 2"
   ]
  },
  {
   "cell_type": "code",
   "execution_count": 15,
   "id": "beb9b90f",
   "metadata": {
    "ExecuteTime": {
     "end_time": "2022-02-13T12:34:55.764762Z",
     "start_time": "2022-02-13T12:34:55.745743Z"
    }
   },
   "outputs": [
    {
     "data": {
      "text/plain": [
       "array([-1, -1,  0,  1,  1])"
      ]
     },
     "execution_count": 15,
     "metadata": {},
     "output_type": "execute_result"
    }
   ],
   "source": [
    "c = np.array([-2, -1, 0, 1, 2])\n",
    "np.sign(c)"
   ]
  },
  {
   "cell_type": "code",
   "execution_count": 18,
   "id": "245486f9",
   "metadata": {
    "ExecuteTime": {
     "end_time": "2022-02-13T12:35:19.414089Z",
     "start_time": "2022-02-13T12:35:19.403090Z"
    }
   },
   "outputs": [
    {
     "data": {
      "text/plain": [
       "(array([ 0.5,  0.8, -0.3]), array([  3.,   7., -10.]))"
      ]
     },
     "execution_count": 18,
     "metadata": {},
     "output_type": "execute_result"
    }
   ],
   "source": [
    "z = np.array([3.5, 7.8, -10.3])\n",
    "np.modf(z)"
   ]
  },
  {
   "cell_type": "code",
   "execution_count": 20,
   "id": "67dc9cc1",
   "metadata": {
    "ExecuteTime": {
     "end_time": "2022-02-13T12:35:49.493463Z",
     "start_time": "2022-02-13T12:35:49.484466Z"
    }
   },
   "outputs": [
    {
     "data": {
      "text/plain": [
       "array([    1,    16, 10000], dtype=int32)"
      ]
     },
     "execution_count": 20,
     "metadata": {},
     "output_type": "execute_result"
    }
   ],
   "source": [
    "y = np.array([1, 4, 100])\n",
    "np.square(y)"
   ]
  },
  {
   "cell_type": "code",
   "execution_count": 21,
   "id": "9a7f0df0",
   "metadata": {
    "ExecuteTime": {
     "end_time": "2022-02-13T12:35:56.425651Z",
     "start_time": "2022-02-13T12:35:56.417652Z"
    }
   },
   "outputs": [
    {
     "data": {
      "text/plain": [
       "array([100,   1,   4, 100])"
      ]
     },
     "execution_count": 21,
     "metadata": {},
     "output_type": "execute_result"
    }
   ],
   "source": [
    "x = np.array([-100, 1, -4, 100])\n",
    "np.abs(x)"
   ]
  },
  {
   "cell_type": "markdown",
   "id": "26429c60",
   "metadata": {},
   "source": [
    "## 과제 3"
   ]
  },
  {
   "cell_type": "code",
   "execution_count": 22,
   "id": "4b999cb3",
   "metadata": {
    "ExecuteTime": {
     "end_time": "2022-02-13T12:36:16.288529Z",
     "start_time": "2022-02-13T12:36:16.276530Z"
    }
   },
   "outputs": [
    {
     "data": {
      "text/plain": [
       "array([  0.,   1.,   2.,  nan,   4.,  inf, -inf,  inf])"
      ]
     },
     "execution_count": 22,
     "metadata": {},
     "output_type": "execute_result"
    }
   ],
   "source": [
    "a = np.array([0, 1, 2, np.nan, 4, np.inf, np.NINF, np.PINF])\n",
    "a"
   ]
  },
  {
   "cell_type": "code",
   "execution_count": 23,
   "id": "ea6f141c",
   "metadata": {
    "ExecuteTime": {
     "end_time": "2022-02-13T12:36:37.893803Z",
     "start_time": "2022-02-13T12:36:37.876838Z"
    }
   },
   "outputs": [
    {
     "data": {
      "text/plain": [
       "array([False, False, False,  True, False, False, False, False])"
      ]
     },
     "execution_count": 23,
     "metadata": {},
     "output_type": "execute_result"
    }
   ],
   "source": [
    "np.isnan(a)"
   ]
  },
  {
   "cell_type": "code",
   "execution_count": 24,
   "id": "01098b82",
   "metadata": {
    "ExecuteTime": {
     "end_time": "2022-02-13T12:37:25.361950Z",
     "start_time": "2022-02-13T12:37:25.342956Z"
    }
   },
   "outputs": [
    {
     "data": {
      "text/plain": [
       "array([ True,  True,  True, False,  True, False, False, False])"
      ]
     },
     "execution_count": 24,
     "metadata": {},
     "output_type": "execute_result"
    }
   ],
   "source": [
    "np.isfinite(a)"
   ]
  },
  {
   "cell_type": "code",
   "execution_count": 25,
   "id": "78f45637",
   "metadata": {
    "ExecuteTime": {
     "end_time": "2022-02-13T12:37:32.689520Z",
     "start_time": "2022-02-13T12:37:32.682531Z"
    }
   },
   "outputs": [
    {
     "data": {
      "text/plain": [
       "array([False, False, False, False, False,  True,  True,  True])"
      ]
     },
     "execution_count": 25,
     "metadata": {},
     "output_type": "execute_result"
    }
   ],
   "source": [
    "np.isinf(a)"
   ]
  },
  {
   "cell_type": "code",
   "execution_count": 26,
   "id": "a1dd92bc",
   "metadata": {
    "ExecuteTime": {
     "end_time": "2022-02-13T12:37:44.465487Z",
     "start_time": "2022-02-13T12:37:44.450462Z"
    }
   },
   "outputs": [
    {
     "data": {
      "text/plain": [
       "array([False, False, False, False, False, False,  True, False])"
      ]
     },
     "execution_count": 26,
     "metadata": {},
     "output_type": "execute_result"
    }
   ],
   "source": [
    "np.isneginf(a)"
   ]
  },
  {
   "cell_type": "code",
   "execution_count": 27,
   "id": "70d12ffe",
   "metadata": {
    "ExecuteTime": {
     "end_time": "2022-02-13T12:37:48.874100Z",
     "start_time": "2022-02-13T12:37:48.866130Z"
    }
   },
   "outputs": [
    {
     "data": {
      "text/plain": [
       "array([False, False, False, False, False,  True, False,  True])"
      ]
     },
     "execution_count": 27,
     "metadata": {},
     "output_type": "execute_result"
    }
   ],
   "source": [
    "np.isposinf(a)"
   ]
  },
  {
   "cell_type": "code",
   "execution_count": 28,
   "id": "6f314345",
   "metadata": {
    "ExecuteTime": {
     "end_time": "2022-02-13T12:37:54.366444Z",
     "start_time": "2022-02-13T12:37:54.349447Z"
    }
   },
   "outputs": [],
   "source": [
    "all_TF = [[True, False], [True, True]]"
   ]
  },
  {
   "cell_type": "code",
   "execution_count": 29,
   "id": "e484c4ee",
   "metadata": {
    "ExecuteTime": {
     "end_time": "2022-02-13T12:38:03.746479Z",
     "start_time": "2022-02-13T12:38:03.737515Z"
    }
   },
   "outputs": [
    {
     "data": {
      "text/plain": [
       "[[True, False], [True, True]]"
      ]
     },
     "execution_count": 29,
     "metadata": {},
     "output_type": "execute_result"
    }
   ],
   "source": [
    "all_TF"
   ]
  },
  {
   "cell_type": "code",
   "execution_count": 30,
   "id": "ea9a79a2",
   "metadata": {
    "ExecuteTime": {
     "end_time": "2022-02-13T12:38:14.664279Z",
     "start_time": "2022-02-13T12:38:14.658278Z"
    }
   },
   "outputs": [
    {
     "data": {
      "text/plain": [
       "False"
      ]
     },
     "execution_count": 30,
     "metadata": {},
     "output_type": "execute_result"
    }
   ],
   "source": [
    "np.all(all_TF)"
   ]
  },
  {
   "cell_type": "code",
   "execution_count": 34,
   "id": "69b9c842",
   "metadata": {
    "ExecuteTime": {
     "end_time": "2022-02-13T12:40:12.160401Z",
     "start_time": "2022-02-13T12:40:12.149441Z"
    }
   },
   "outputs": [
    {
     "data": {
      "text/plain": [
       "array([ True, False])"
      ]
     },
     "execution_count": 34,
     "metadata": {},
     "output_type": "execute_result"
    }
   ],
   "source": [
    "np.all(all_TF, axis = 0)"
   ]
  },
  {
   "cell_type": "code",
   "execution_count": 35,
   "id": "98cf2eaf",
   "metadata": {
    "ExecuteTime": {
     "end_time": "2022-02-13T12:40:25.090915Z",
     "start_time": "2022-02-13T12:40:25.072924Z"
    }
   },
   "outputs": [
    {
     "data": {
      "text/plain": [
       "array([False,  True])"
      ]
     },
     "execution_count": 35,
     "metadata": {},
     "output_type": "execute_result"
    }
   ],
   "source": [
    "np.all(all_TF, axis =1)"
   ]
  },
  {
   "cell_type": "code",
   "execution_count": 32,
   "id": "00b5227c",
   "metadata": {
    "ExecuteTime": {
     "end_time": "2022-02-13T12:39:07.250364Z",
     "start_time": "2022-02-13T12:39:07.241335Z"
    }
   },
   "outputs": [
    {
     "data": {
      "text/plain": [
       "array([ True,  True])"
      ]
     },
     "execution_count": 32,
     "metadata": {},
     "output_type": "execute_result"
    }
   ],
   "source": [
    "np.any(all_TF, axis = 0)"
   ]
  },
  {
   "cell_type": "code",
   "execution_count": 33,
   "id": "74d9163f",
   "metadata": {
    "ExecuteTime": {
     "end_time": "2022-02-13T12:39:14.149803Z",
     "start_time": "2022-02-13T12:39:14.133803Z"
    }
   },
   "outputs": [
    {
     "data": {
      "text/plain": [
       "array([ True,  True])"
      ]
     },
     "execution_count": 33,
     "metadata": {},
     "output_type": "execute_result"
    }
   ],
   "source": [
    "np.any(all_TF, axis = 1)"
   ]
  },
  {
   "cell_type": "markdown",
   "id": "7519e6cd",
   "metadata": {},
   "source": [
    "## 과제 4"
   ]
  },
  {
   "cell_type": "code",
   "execution_count": 36,
   "id": "2f74b6ef",
   "metadata": {
    "ExecuteTime": {
     "end_time": "2022-02-13T12:40:53.611091Z",
     "start_time": "2022-02-13T12:40:53.593090Z"
    }
   },
   "outputs": [],
   "source": [
    "# 평균이 0, 표준편차가 1인 정규분포로부터 난수 10000개를 생성해보세요\n",
    "# 해당 데이터의 기술 통계량을 알아보고, 히스토그램으로 분포를 살펴보세요\n",
    "# 해당 데이터 중 -3, 3 의 값을 벗어나는 데이터를 slicing 해보시고, 이의 개수를 출력해보세요\n",
    "# np.sign() 함수를 사용해, +- sigma 를 벗어나는 관측치값을 모두 +- 3으로 대체해 보세요"
   ]
  },
  {
   "cell_type": "code",
   "execution_count": 39,
   "id": "47e680af",
   "metadata": {
    "ExecuteTime": {
     "end_time": "2022-02-13T12:42:13.089769Z",
     "start_time": "2022-02-13T12:42:13.084778Z"
    }
   },
   "outputs": [
    {
     "data": {
      "text/plain": [
       "(10000,)"
      ]
     },
     "execution_count": 39,
     "metadata": {},
     "output_type": "execute_result"
    }
   ],
   "source": [
    "data = np.random.normal(0, 1, 10000)\n",
    "data.shape"
   ]
  },
  {
   "cell_type": "code",
   "execution_count": 43,
   "id": "6279d522",
   "metadata": {
    "ExecuteTime": {
     "end_time": "2022-02-13T12:43:23.462109Z",
     "start_time": "2022-02-13T12:43:22.668085Z"
    }
   },
   "outputs": [],
   "source": [
    "import pandas as pd"
   ]
  },
  {
   "cell_type": "code",
   "execution_count": 46,
   "id": "841f8e92",
   "metadata": {
    "ExecuteTime": {
     "end_time": "2022-02-13T12:43:49.798369Z",
     "start_time": "2022-02-13T12:43:49.790372Z"
    }
   },
   "outputs": [],
   "source": [
    "data2 = pd.DataFrame(data)"
   ]
  },
  {
   "cell_type": "code",
   "execution_count": 48,
   "id": "a20f290a",
   "metadata": {
    "ExecuteTime": {
     "end_time": "2022-02-13T12:43:52.377608Z",
     "start_time": "2022-02-13T12:43:52.347641Z"
    }
   },
   "outputs": [
    {
     "data": {
      "text/html": [
       "<div>\n",
       "<style scoped>\n",
       "    .dataframe tbody tr th:only-of-type {\n",
       "        vertical-align: middle;\n",
       "    }\n",
       "\n",
       "    .dataframe tbody tr th {\n",
       "        vertical-align: top;\n",
       "    }\n",
       "\n",
       "    .dataframe thead th {\n",
       "        text-align: right;\n",
       "    }\n",
       "</style>\n",
       "<table border=\"1\" class=\"dataframe\">\n",
       "  <thead>\n",
       "    <tr style=\"text-align: right;\">\n",
       "      <th></th>\n",
       "      <th>0</th>\n",
       "    </tr>\n",
       "  </thead>\n",
       "  <tbody>\n",
       "    <tr>\n",
       "      <th>count</th>\n",
       "      <td>10000.000000</td>\n",
       "    </tr>\n",
       "    <tr>\n",
       "      <th>mean</th>\n",
       "      <td>0.002263</td>\n",
       "    </tr>\n",
       "    <tr>\n",
       "      <th>std</th>\n",
       "      <td>1.005518</td>\n",
       "    </tr>\n",
       "    <tr>\n",
       "      <th>min</th>\n",
       "      <td>-3.671756</td>\n",
       "    </tr>\n",
       "    <tr>\n",
       "      <th>25%</th>\n",
       "      <td>-0.668031</td>\n",
       "    </tr>\n",
       "    <tr>\n",
       "      <th>50%</th>\n",
       "      <td>-0.000419</td>\n",
       "    </tr>\n",
       "    <tr>\n",
       "      <th>75%</th>\n",
       "      <td>0.689002</td>\n",
       "    </tr>\n",
       "    <tr>\n",
       "      <th>max</th>\n",
       "      <td>4.498658</td>\n",
       "    </tr>\n",
       "  </tbody>\n",
       "</table>\n",
       "</div>"
      ],
      "text/plain": [
       "                  0\n",
       "count  10000.000000\n",
       "mean       0.002263\n",
       "std        1.005518\n",
       "min       -3.671756\n",
       "25%       -0.668031\n",
       "50%       -0.000419\n",
       "75%        0.689002\n",
       "max        4.498658"
      ]
     },
     "execution_count": 48,
     "metadata": {},
     "output_type": "execute_result"
    }
   ],
   "source": [
    "data2.describe()"
   ]
  },
  {
   "cell_type": "code",
   "execution_count": 49,
   "id": "b965e5f8",
   "metadata": {
    "ExecuteTime": {
     "end_time": "2022-02-13T12:44:12.324102Z",
     "start_time": "2022-02-13T12:44:12.197139Z"
    }
   },
   "outputs": [
    {
     "data": {
      "image/png": "[encoded data removed]",
      "text/plain": [
       "<Figure size 432x288 with 1 Axes>"
      ]
     },
     "metadata": {
      "needs_background": "light"
     },
     "output_type": "display_data"
    }
   ],
   "source": [
    "plt.hist(data2)\n",
    "plt.show()"
   ]
  },
  {
   "cell_type": "code",
   "execution_count": 50,
   "id": "7685a892",
   "metadata": {
    "ExecuteTime": {
     "end_time": "2022-02-13T12:45:17.676589Z",
     "start_time": "2022-02-13T12:45:17.653590Z"
    }
   },
   "outputs": [
    {
     "data": {
      "text/html": [
       "<div>\n",
       "<style scoped>\n",
       "    .dataframe tbody tr th:only-of-type {\n",
       "        vertical-align: middle;\n",
       "    }\n",
       "\n",
       "    .dataframe tbody tr th {\n",
       "        vertical-align: top;\n",
       "    }\n",
       "\n",
       "    .dataframe thead th {\n",
       "        text-align: right;\n",
       "    }\n",
       "</style>\n",
       "<table border=\"1\" class=\"dataframe\">\n",
       "  <thead>\n",
       "    <tr style=\"text-align: right;\">\n",
       "      <th></th>\n",
       "      <th>0</th>\n",
       "    </tr>\n",
       "  </thead>\n",
       "  <tbody>\n",
       "    <tr>\n",
       "      <th>2</th>\n",
       "      <td>-3.134693</td>\n",
       "    </tr>\n",
       "    <tr>\n",
       "      <th>42</th>\n",
       "      <td>-3.242111</td>\n",
       "    </tr>\n",
       "    <tr>\n",
       "      <th>49</th>\n",
       "      <td>-3.323561</td>\n",
       "    </tr>\n",
       "    <tr>\n",
       "      <th>213</th>\n",
       "      <td>-3.307544</td>\n",
       "    </tr>\n",
       "    <tr>\n",
       "      <th>947</th>\n",
       "      <td>-3.463552</td>\n",
       "    </tr>\n",
       "    <tr>\n",
       "      <th>1005</th>\n",
       "      <td>-3.671756</td>\n",
       "    </tr>\n",
       "    <tr>\n",
       "      <th>1427</th>\n",
       "      <td>3.247852</td>\n",
       "    </tr>\n",
       "    <tr>\n",
       "      <th>1562</th>\n",
       "      <td>3.005614</td>\n",
       "    </tr>\n",
       "    <tr>\n",
       "      <th>1749</th>\n",
       "      <td>3.612388</td>\n",
       "    </tr>\n",
       "    <tr>\n",
       "      <th>2460</th>\n",
       "      <td>3.209467</td>\n",
       "    </tr>\n",
       "    <tr>\n",
       "      <th>2475</th>\n",
       "      <td>3.994284</td>\n",
       "    </tr>\n",
       "    <tr>\n",
       "      <th>2985</th>\n",
       "      <td>-3.019558</td>\n",
       "    </tr>\n",
       "    <tr>\n",
       "      <th>3171</th>\n",
       "      <td>3.364983</td>\n",
       "    </tr>\n",
       "    <tr>\n",
       "      <th>3408</th>\n",
       "      <td>-3.080991</td>\n",
       "    </tr>\n",
       "    <tr>\n",
       "      <th>4733</th>\n",
       "      <td>3.098269</td>\n",
       "    </tr>\n",
       "    <tr>\n",
       "      <th>5008</th>\n",
       "      <td>-3.098433</td>\n",
       "    </tr>\n",
       "    <tr>\n",
       "      <th>5067</th>\n",
       "      <td>-3.246314</td>\n",
       "    </tr>\n",
       "    <tr>\n",
       "      <th>5124</th>\n",
       "      <td>3.158261</td>\n",
       "    </tr>\n",
       "    <tr>\n",
       "      <th>5941</th>\n",
       "      <td>4.498658</td>\n",
       "    </tr>\n",
       "    <tr>\n",
       "      <th>7348</th>\n",
       "      <td>-3.619198</td>\n",
       "    </tr>\n",
       "    <tr>\n",
       "      <th>7963</th>\n",
       "      <td>-3.061578</td>\n",
       "    </tr>\n",
       "    <tr>\n",
       "      <th>7995</th>\n",
       "      <td>3.006733</td>\n",
       "    </tr>\n",
       "    <tr>\n",
       "      <th>8076</th>\n",
       "      <td>-3.113770</td>\n",
       "    </tr>\n",
       "    <tr>\n",
       "      <th>8671</th>\n",
       "      <td>-3.051110</td>\n",
       "    </tr>\n",
       "    <tr>\n",
       "      <th>9251</th>\n",
       "      <td>-3.110232</td>\n",
       "    </tr>\n",
       "    <tr>\n",
       "      <th>9269</th>\n",
       "      <td>3.069840</td>\n",
       "    </tr>\n",
       "  </tbody>\n",
       "</table>\n",
       "</div>"
      ],
      "text/plain": [
       "             0\n",
       "2    -3.134693\n",
       "42   -3.242111\n",
       "49   -3.323561\n",
       "213  -3.307544\n",
       "947  -3.463552\n",
       "1005 -3.671756\n",
       "1427  3.247852\n",
       "1562  3.005614\n",
       "1749  3.612388\n",
       "2460  3.209467\n",
       "2475  3.994284\n",
       "2985 -3.019558\n",
       "3171  3.364983\n",
       "3408 -3.080991\n",
       "4733  3.098269\n",
       "5008 -3.098433\n",
       "5067 -3.246314\n",
       "5124  3.158261\n",
       "5941  4.498658\n",
       "7348 -3.619198\n",
       "7963 -3.061578\n",
       "7995  3.006733\n",
       "8076 -3.113770\n",
       "8671 -3.051110\n",
       "9251 -3.110232\n",
       "9269  3.069840"
      ]
     },
     "execution_count": 50,
     "metadata": {},
     "output_type": "execute_result"
    }
   ],
   "source": [
    "data2[(np.abs(data2) > 3).any(1)]"
   ]
  },
  {
   "cell_type": "code",
   "execution_count": 51,
   "id": "21ba7105",
   "metadata": {
    "ExecuteTime": {
     "end_time": "2022-02-13T12:45:37.218185Z",
     "start_time": "2022-02-13T12:45:37.212185Z"
    }
   },
   "outputs": [
    {
     "data": {
      "text/plain": [
       "0    26\n",
       "dtype: int64"
      ]
     },
     "execution_count": 51,
     "metadata": {},
     "output_type": "execute_result"
    }
   ],
   "source": [
    "data2[(np.abs(data2) > 3).any(1)].count()"
   ]
  },
  {
   "cell_type": "code",
   "execution_count": 58,
   "id": "947d4008",
   "metadata": {
    "ExecuteTime": {
     "end_time": "2022-02-13T12:49:12.393563Z",
     "start_time": "2022-02-13T12:49:12.379605Z"
    }
   },
   "outputs": [
    {
     "data": {
      "text/html": [
       "<div>\n",
       "<style scoped>\n",
       "    .dataframe tbody tr th:only-of-type {\n",
       "        vertical-align: middle;\n",
       "    }\n",
       "\n",
       "    .dataframe tbody tr th {\n",
       "        vertical-align: top;\n",
       "    }\n",
       "\n",
       "    .dataframe thead th {\n",
       "        text-align: right;\n",
       "    }\n",
       "</style>\n",
       "<table border=\"1\" class=\"dataframe\">\n",
       "  <thead>\n",
       "    <tr style=\"text-align: right;\">\n",
       "      <th></th>\n",
       "      <th>0</th>\n",
       "    </tr>\n",
       "  </thead>\n",
       "  <tbody>\n",
       "    <tr>\n",
       "      <th>2</th>\n",
       "      <td>-3.0</td>\n",
       "    </tr>\n",
       "    <tr>\n",
       "      <th>42</th>\n",
       "      <td>-3.0</td>\n",
       "    </tr>\n",
       "    <tr>\n",
       "      <th>49</th>\n",
       "      <td>-3.0</td>\n",
       "    </tr>\n",
       "    <tr>\n",
       "      <th>213</th>\n",
       "      <td>-3.0</td>\n",
       "    </tr>\n",
       "    <tr>\n",
       "      <th>947</th>\n",
       "      <td>-3.0</td>\n",
       "    </tr>\n",
       "    <tr>\n",
       "      <th>1005</th>\n",
       "      <td>-3.0</td>\n",
       "    </tr>\n",
       "    <tr>\n",
       "      <th>1427</th>\n",
       "      <td>3.0</td>\n",
       "    </tr>\n",
       "    <tr>\n",
       "      <th>1562</th>\n",
       "      <td>3.0</td>\n",
       "    </tr>\n",
       "    <tr>\n",
       "      <th>1749</th>\n",
       "      <td>3.0</td>\n",
       "    </tr>\n",
       "    <tr>\n",
       "      <th>2460</th>\n",
       "      <td>3.0</td>\n",
       "    </tr>\n",
       "    <tr>\n",
       "      <th>2475</th>\n",
       "      <td>3.0</td>\n",
       "    </tr>\n",
       "    <tr>\n",
       "      <th>2985</th>\n",
       "      <td>-3.0</td>\n",
       "    </tr>\n",
       "    <tr>\n",
       "      <th>3171</th>\n",
       "      <td>3.0</td>\n",
       "    </tr>\n",
       "    <tr>\n",
       "      <th>3408</th>\n",
       "      <td>-3.0</td>\n",
       "    </tr>\n",
       "    <tr>\n",
       "      <th>4733</th>\n",
       "      <td>3.0</td>\n",
       "    </tr>\n",
       "    <tr>\n",
       "      <th>5008</th>\n",
       "      <td>-3.0</td>\n",
       "    </tr>\n",
       "    <tr>\n",
       "      <th>5067</th>\n",
       "      <td>-3.0</td>\n",
       "    </tr>\n",
       "    <tr>\n",
       "      <th>5124</th>\n",
       "      <td>3.0</td>\n",
       "    </tr>\n",
       "    <tr>\n",
       "      <th>5941</th>\n",
       "      <td>3.0</td>\n",
       "    </tr>\n",
       "    <tr>\n",
       "      <th>7348</th>\n",
       "      <td>-3.0</td>\n",
       "    </tr>\n",
       "    <tr>\n",
       "      <th>7963</th>\n",
       "      <td>-3.0</td>\n",
       "    </tr>\n",
       "    <tr>\n",
       "      <th>7995</th>\n",
       "      <td>3.0</td>\n",
       "    </tr>\n",
       "    <tr>\n",
       "      <th>8076</th>\n",
       "      <td>-3.0</td>\n",
       "    </tr>\n",
       "    <tr>\n",
       "      <th>8671</th>\n",
       "      <td>-3.0</td>\n",
       "    </tr>\n",
       "    <tr>\n",
       "      <th>9251</th>\n",
       "      <td>-3.0</td>\n",
       "    </tr>\n",
       "    <tr>\n",
       "      <th>9269</th>\n",
       "      <td>3.0</td>\n",
       "    </tr>\n",
       "  </tbody>\n",
       "</table>\n",
       "</div>"
      ],
      "text/plain": [
       "        0\n",
       "2    -3.0\n",
       "42   -3.0\n",
       "49   -3.0\n",
       "213  -3.0\n",
       "947  -3.0\n",
       "1005 -3.0\n",
       "1427  3.0\n",
       "1562  3.0\n",
       "1749  3.0\n",
       "2460  3.0\n",
       "2475  3.0\n",
       "2985 -3.0\n",
       "3171  3.0\n",
       "3408 -3.0\n",
       "4733  3.0\n",
       "5008 -3.0\n",
       "5067 -3.0\n",
       "5124  3.0\n",
       "5941  3.0\n",
       "7348 -3.0\n",
       "7963 -3.0\n",
       "7995  3.0\n",
       "8076 -3.0\n",
       "8671 -3.0\n",
       "9251 -3.0\n",
       "9269  3.0"
      ]
     },
     "execution_count": 58,
     "metadata": {},
     "output_type": "execute_result"
    }
   ],
   "source": [
    "data2[np.abs(data2) > 3] = np.sign(data2)*3\n",
    "data2[(np.abs(data2) >= 3).any(1)]"
   ]
  },
  {
   "cell_type": "code",
   "execution_count": null,
   "id": "48fb5853",
   "metadata": {},
   "outputs": [],
   "source": []
  }
 ],
 "metadata": {
  "kernelspec": {
   "display_name": "Python 3 (ipykernel)",
   "language": "python",
   "name": "python3"
  },
  "language_info": {
   "codemirror_mode": {
    "name": "ipython",
    "version": 3
   },
   "file_extension": ".py",
   "mimetype": "text/x-python",
   "name": "python",
   "nbconvert_exporter": "python",
   "pygments_lexer": "ipython3",
   "version": "3.9.7"
  },
  "toc": {
   "base_numbering": 1,
   "nav_menu": {},
   "number_sections": true,
   "sideBar": true,
   "skip_h1_title": false,
   "title_cell": "Table of Contents",
   "title_sidebar": "Contents",
   "toc_cell": false,
   "toc_position": {},
   "toc_section_display": true,
   "toc_window_display": false
  }
 },
 "nbformat": 4,
 "nbformat_minor": 5
}
