{
 "cells": [
  {
   "cell_type": "markdown",
   "id": "6b11b7f4",
   "metadata": {},
   "source": [
    "# DAY 5\n",
    "## 과제 1\n",
    "\n",
    "+ 다음의 train DataFrame data 를 0 ~ 1 범위로 변환하는 scaler를 만들어보세요\n",
    "+ 해당 scaler 로 train Data 를 변환한 결과를 출력해보세요\n",
    "+  test DataFrame data 를 해당 scaler 로 변환해 보세요\n"
   ]
  },
  {
   "cell_type": "code",
   "execution_count": 11,
   "id": "8681f2f4",
   "metadata": {
    "ExecuteTime": {
     "end_time": "2022-02-01T13:10:00.385213Z",
     "start_time": "2022-02-01T13:10:00.374247Z"
    }
   },
   "outputs": [],
   "source": [
    "import pandas as pd\n",
    "import numpy as np\n",
    "import matplotlib.pyplot as plt\n",
    "\n",
    "from sklearn.preprocessing import StandardScaler\n",
    "from sklearn.preprocessing import MinMaxScaler\n",
    "\n",
    "train = np.array([[10., -10., 1.],\n",
    "                  [5., 0., 2.],\n",
    "                  [0., 10., 3.]])\n",
    "\n",
    "test = np.array([[9., -10., 1.],\n",
    "                 [5., -5., 3.],\n",
    "                 [1., 0., 5.]])"
   ]
  },
  {
   "cell_type": "code",
   "execution_count": 12,
   "id": "58445ca8",
   "metadata": {
    "ExecuteTime": {
     "end_time": "2022-02-01T13:10:10.773759Z",
     "start_time": "2022-02-01T13:10:10.758778Z"
    }
   },
   "outputs": [
    {
     "data": {
      "text/plain": [
       "array([[1.  ],\n",
       "       [0.  ],\n",
       "       [0.55],\n",
       "       [0.75],\n",
       "       [0.5 ],\n",
       "       [0.6 ],\n",
       "       [0.5 ],\n",
       "       [1.  ],\n",
       "       [0.65]])"
      ]
     },
     "execution_count": 12,
     "metadata": {},
     "output_type": "execute_result"
    }
   ],
   "source": [
    "MinMaxScaler().fit_transform(train.reshape(-1,1))"
   ]
  },
  {
   "cell_type": "code",
   "execution_count": 13,
   "id": "3b8e3c5f",
   "metadata": {
    "ExecuteTime": {
     "end_time": "2022-02-01T13:10:42.198167Z",
     "start_time": "2022-02-01T13:10:42.182169Z"
    }
   },
   "outputs": [
    {
     "data": {
      "text/plain": [
       "array([[1.        ],\n",
       "       [0.        ],\n",
       "       [0.57894737],\n",
       "       [0.78947368],\n",
       "       [0.26315789],\n",
       "       [0.68421053],\n",
       "       [0.57894737],\n",
       "       [0.52631579],\n",
       "       [0.78947368]])"
      ]
     },
     "execution_count": 13,
     "metadata": {},
     "output_type": "execute_result"
    }
   ],
   "source": [
    "MinMaxScaler().fit_transform(test.reshape(-1,1))"
   ]
  },
  {
   "cell_type": "markdown",
   "id": "45fd1371",
   "metadata": {},
   "source": [
    "## 과제 2\n",
    "- 다음 X의 데이터를 이항변수화 변환을 수행해보세요\n",
    "- 이 때, 기준값(threshold) 은 2.0 으로 설정하여 이항변수화를 변환해보세요"
   ]
  },
  {
   "cell_type": "code",
   "execution_count": 14,
   "id": "5a67b1fe",
   "metadata": {
    "ExecuteTime": {
     "end_time": "2022-02-01T13:11:14.499578Z",
     "start_time": "2022-02-01T13:11:14.489611Z"
    }
   },
   "outputs": [],
   "source": [
    "X = np.array([[ 10., -10., 1.],\n",
    "              [ 5., 0., 2.],\n",
    "              [ 0., 10., 3.]])"
   ]
  },
  {
   "cell_type": "code",
   "execution_count": 16,
   "id": "c4fdc3b5",
   "metadata": {
    "ExecuteTime": {
     "end_time": "2022-02-01T13:12:36.940959Z",
     "start_time": "2022-02-01T13:12:36.934993Z"
    }
   },
   "outputs": [
    {
     "data": {
      "text/plain": [
       "array([[ 10., -10.,   1.],\n",
       "       [  5.,   0.,   2.],\n",
       "       [  0.,  10.,   3.]])"
      ]
     },
     "execution_count": 16,
     "metadata": {},
     "output_type": "execute_result"
    }
   ],
   "source": [
    "X"
   ]
  },
  {
   "cell_type": "code",
   "execution_count": 18,
   "id": "7c25211c",
   "metadata": {
    "ExecuteTime": {
     "end_time": "2022-02-01T13:13:11.984299Z",
     "start_time": "2022-02-01T13:13:11.969314Z"
    }
   },
   "outputs": [
    {
     "data": {
      "text/plain": [
       "array([[1., 0., 0.],\n",
       "       [1., 0., 0.],\n",
       "       [0., 1., 1.]])"
      ]
     },
     "execution_count": 18,
     "metadata": {},
     "output_type": "execute_result"
    }
   ],
   "source": [
    "from sklearn.preprocessing import Binarizer\n",
    "binarizer = Binarizer(threshold=2.0).fit(X)\n",
    "binarizer.transform(X)"
   ]
  },
  {
   "cell_type": "markdown",
   "id": "13dda1e9",
   "metadata": {},
   "source": [
    "## 과제 3\n",
    "- 다음의 train 데이터(범주형) 를 이항변수화(One-Hot encoding) 해보세요\n",
    "- 이 때, 다음의 제약조건을 충족하여야 합니다.\n",
    "- train data 에 포함되어있지 않은 category 가 발생할 경우, 무시"
   ]
  },
  {
   "cell_type": "code",
   "execution_count": 19,
   "id": "eedbfd3f",
   "metadata": {
    "ExecuteTime": {
     "end_time": "2022-02-01T13:13:48.818512Z",
     "start_time": "2022-02-01T13:13:48.808549Z"
    }
   },
   "outputs": [],
   "source": [
    "data_train = np.array([[0, 0, 0],\n",
    "                       [0, 1, 1],\n",
    "                       [0, 2, 2],\n",
    "                       [1, 0, 3],\n",
    "                       [1, 1, 4]])"
   ]
  },
  {
   "cell_type": "code",
   "execution_count": 35,
   "id": "68654e27",
   "metadata": {
    "ExecuteTime": {
     "end_time": "2022-02-01T13:26:02.985341Z",
     "start_time": "2022-02-01T13:26:02.972341Z"
    }
   },
   "outputs": [
    {
     "data": {
      "text/plain": [
       "array([[1., 0., 1., 0., 0., 1., 0., 0., 0., 0.],\n",
       "       [1., 0., 0., 1., 0., 0., 1., 0., 0., 0.],\n",
       "       [1., 0., 0., 0., 1., 0., 0., 1., 0., 0.],\n",
       "       [0., 1., 1., 0., 0., 0., 0., 0., 1., 0.],\n",
       "       [0., 1., 0., 1., 0., 0., 0., 0., 0., 1.]])"
      ]
     },
     "execution_count": 35,
     "metadata": {},
     "output_type": "execute_result"
    }
   ],
   "source": [
    "from sklearn.preprocessing import OneHotEncoder\n",
    "\n",
    "enc = OneHotEncoder()\n",
    "enc.fit(data_train)\n",
    "enc.transform(data_train).toarray()"
   ]
  },
  {
   "cell_type": "markdown",
   "id": "5f96275f",
   "metadata": {},
   "source": [
    "## 과제 4\n",
    "+ 다음의 데이터를 활용하여 연속형 변수 C1 을 이산형화 시켜보세요\n",
    "+ C1 컬럼의 데이터를 10개의 구간으로 나누고, 이를 (1 ~ 10) 까지로 만들어본 후, C1_bin 컬럼에 넣어 보세요.\n",
    "+ 만든 C1_bin 컬럼 값을 다시 one-hot encoding 을 수행해보세요\n",
    "+ 이 때, 첫 번째 변수를 삭제해보세요"
   ]
  },
  {
   "cell_type": "code",
   "execution_count": 38,
   "id": "4001f7cf",
   "metadata": {
    "ExecuteTime": {
     "end_time": "2022-02-01T13:27:11.859082Z",
     "start_time": "2022-02-01T13:27:11.842115Z"
    }
   },
   "outputs": [],
   "source": [
    "np.random.seed(10)\n",
    "df = pd.DataFrame({'C1': np.random.randn(20),\n",
    "                   'C2': ['a', 'a', 'a', 'a', 'a', 'a', 'a', 'a', 'a', 'a',\n",
    "                          'b', 'b', 'b', 'b', 'b', 'b', 'b', 'b', 'b', 'b']})"
   ]
  },
  {
   "cell_type": "code",
   "execution_count": 39,
   "id": "ada271a3",
   "metadata": {
    "ExecuteTime": {
     "end_time": "2022-02-01T13:27:13.941134Z",
     "start_time": "2022-02-01T13:27:13.915134Z"
    }
   },
   "outputs": [
    {
     "data": {
      "text/html": [
       "<div>\n",
       "<style scoped>\n",
       "    .dataframe tbody tr th:only-of-type {\n",
       "        vertical-align: middle;\n",
       "    }\n",
       "\n",
       "    .dataframe tbody tr th {\n",
       "        vertical-align: top;\n",
       "    }\n",
       "\n",
       "    .dataframe thead th {\n",
       "        text-align: right;\n",
       "    }\n",
       "</style>\n",
       "<table border=\"1\" class=\"dataframe\">\n",
       "  <thead>\n",
       "    <tr style=\"text-align: right;\">\n",
       "      <th></th>\n",
       "      <th>C1</th>\n",
       "      <th>C2</th>\n",
       "    </tr>\n",
       "  </thead>\n",
       "  <tbody>\n",
       "    <tr>\n",
       "      <th>0</th>\n",
       "      <td>1.331587</td>\n",
       "      <td>a</td>\n",
       "    </tr>\n",
       "    <tr>\n",
       "      <th>1</th>\n",
       "      <td>0.715279</td>\n",
       "      <td>a</td>\n",
       "    </tr>\n",
       "    <tr>\n",
       "      <th>2</th>\n",
       "      <td>-1.545400</td>\n",
       "      <td>a</td>\n",
       "    </tr>\n",
       "    <tr>\n",
       "      <th>3</th>\n",
       "      <td>-0.008384</td>\n",
       "      <td>a</td>\n",
       "    </tr>\n",
       "    <tr>\n",
       "      <th>4</th>\n",
       "      <td>0.621336</td>\n",
       "      <td>a</td>\n",
       "    </tr>\n",
       "    <tr>\n",
       "      <th>5</th>\n",
       "      <td>-0.720086</td>\n",
       "      <td>a</td>\n",
       "    </tr>\n",
       "    <tr>\n",
       "      <th>6</th>\n",
       "      <td>0.265512</td>\n",
       "      <td>a</td>\n",
       "    </tr>\n",
       "    <tr>\n",
       "      <th>7</th>\n",
       "      <td>0.108549</td>\n",
       "      <td>a</td>\n",
       "    </tr>\n",
       "    <tr>\n",
       "      <th>8</th>\n",
       "      <td>0.004291</td>\n",
       "      <td>a</td>\n",
       "    </tr>\n",
       "    <tr>\n",
       "      <th>9</th>\n",
       "      <td>-0.174600</td>\n",
       "      <td>a</td>\n",
       "    </tr>\n",
       "    <tr>\n",
       "      <th>10</th>\n",
       "      <td>0.433026</td>\n",
       "      <td>b</td>\n",
       "    </tr>\n",
       "    <tr>\n",
       "      <th>11</th>\n",
       "      <td>1.203037</td>\n",
       "      <td>b</td>\n",
       "    </tr>\n",
       "    <tr>\n",
       "      <th>12</th>\n",
       "      <td>-0.965066</td>\n",
       "      <td>b</td>\n",
       "    </tr>\n",
       "    <tr>\n",
       "      <th>13</th>\n",
       "      <td>1.028274</td>\n",
       "      <td>b</td>\n",
       "    </tr>\n",
       "    <tr>\n",
       "      <th>14</th>\n",
       "      <td>0.228630</td>\n",
       "      <td>b</td>\n",
       "    </tr>\n",
       "    <tr>\n",
       "      <th>15</th>\n",
       "      <td>0.445138</td>\n",
       "      <td>b</td>\n",
       "    </tr>\n",
       "    <tr>\n",
       "      <th>16</th>\n",
       "      <td>-1.136602</td>\n",
       "      <td>b</td>\n",
       "    </tr>\n",
       "    <tr>\n",
       "      <th>17</th>\n",
       "      <td>0.135137</td>\n",
       "      <td>b</td>\n",
       "    </tr>\n",
       "    <tr>\n",
       "      <th>18</th>\n",
       "      <td>1.484537</td>\n",
       "      <td>b</td>\n",
       "    </tr>\n",
       "    <tr>\n",
       "      <th>19</th>\n",
       "      <td>-1.079805</td>\n",
       "      <td>b</td>\n",
       "    </tr>\n",
       "  </tbody>\n",
       "</table>\n",
       "</div>"
      ],
      "text/plain": [
       "          C1 C2\n",
       "0   1.331587  a\n",
       "1   0.715279  a\n",
       "2  -1.545400  a\n",
       "3  -0.008384  a\n",
       "4   0.621336  a\n",
       "5  -0.720086  a\n",
       "6   0.265512  a\n",
       "7   0.108549  a\n",
       "8   0.004291  a\n",
       "9  -0.174600  a\n",
       "10  0.433026  b\n",
       "11  1.203037  b\n",
       "12 -0.965066  b\n",
       "13  1.028274  b\n",
       "14  0.228630  b\n",
       "15  0.445138  b\n",
       "16 -1.136602  b\n",
       "17  0.135137  b\n",
       "18  1.484537  b\n",
       "19 -1.079805  b"
      ]
     },
     "execution_count": 39,
     "metadata": {},
     "output_type": "execute_result"
    }
   ],
   "source": [
    "df"
   ]
  },
  {
   "cell_type": "markdown",
   "id": "91b012bd",
   "metadata": {},
   "source": [
    "  (1) np.digitize(data, bins)를 이용한 연속형 변수의 이산형화 (discretization)\n",
    "\n",
    "출처: https://rfriend.tistory.com/273?category=675917 [R, Python 분석과 프로그래밍의 친구 (by R Friend)]"
   ]
  },
  {
   "cell_type": "code",
   "execution_count": 40,
   "id": "41d03c90",
   "metadata": {
    "ExecuteTime": {
     "end_time": "2022-02-01T13:30:46.199133Z",
     "start_time": "2022-02-01T13:30:46.195167Z"
    }
   },
   "outputs": [],
   "source": [
    "bins = np.linspace(df.C1.min(), df.C1.max(), 10)"
   ]
  },
  {
   "cell_type": "code",
   "execution_count": 41,
   "id": "34312124",
   "metadata": {
    "ExecuteTime": {
     "end_time": "2022-02-01T13:30:48.508720Z",
     "start_time": "2022-02-01T13:30:48.500752Z"
    }
   },
   "outputs": [
    {
     "data": {
      "text/plain": [
       "array([-1.54540029, -1.20874059, -0.87208089, -0.53542119, -0.19876149,\n",
       "        0.1378982 ,  0.4745579 ,  0.8112176 ,  1.1478773 ,  1.484537  ])"
      ]
     },
     "execution_count": 41,
     "metadata": {},
     "output_type": "execute_result"
    }
   ],
   "source": [
    "bins"
   ]
  },
  {
   "cell_type": "code",
   "execution_count": 42,
   "id": "9eacc55d",
   "metadata": {
    "ExecuteTime": {
     "end_time": "2022-02-01T13:34:24.997674Z",
     "start_time": "2022-02-01T13:34:24.972651Z"
    }
   },
   "outputs": [
    {
     "data": {
      "text/html": [
       "<div>\n",
       "<style scoped>\n",
       "    .dataframe tbody tr th:only-of-type {\n",
       "        vertical-align: middle;\n",
       "    }\n",
       "\n",
       "    .dataframe tbody tr th {\n",
       "        vertical-align: top;\n",
       "    }\n",
       "\n",
       "    .dataframe thead th {\n",
       "        text-align: right;\n",
       "    }\n",
       "</style>\n",
       "<table border=\"1\" class=\"dataframe\">\n",
       "  <thead>\n",
       "    <tr style=\"text-align: right;\">\n",
       "      <th></th>\n",
       "      <th>C1</th>\n",
       "      <th>C2</th>\n",
       "      <th>C1_bin</th>\n",
       "    </tr>\n",
       "  </thead>\n",
       "  <tbody>\n",
       "    <tr>\n",
       "      <th>0</th>\n",
       "      <td>1.331587</td>\n",
       "      <td>a</td>\n",
       "      <td>9</td>\n",
       "    </tr>\n",
       "    <tr>\n",
       "      <th>1</th>\n",
       "      <td>0.715279</td>\n",
       "      <td>a</td>\n",
       "      <td>7</td>\n",
       "    </tr>\n",
       "    <tr>\n",
       "      <th>2</th>\n",
       "      <td>-1.545400</td>\n",
       "      <td>a</td>\n",
       "      <td>1</td>\n",
       "    </tr>\n",
       "    <tr>\n",
       "      <th>3</th>\n",
       "      <td>-0.008384</td>\n",
       "      <td>a</td>\n",
       "      <td>5</td>\n",
       "    </tr>\n",
       "    <tr>\n",
       "      <th>4</th>\n",
       "      <td>0.621336</td>\n",
       "      <td>a</td>\n",
       "      <td>7</td>\n",
       "    </tr>\n",
       "    <tr>\n",
       "      <th>5</th>\n",
       "      <td>-0.720086</td>\n",
       "      <td>a</td>\n",
       "      <td>3</td>\n",
       "    </tr>\n",
       "    <tr>\n",
       "      <th>6</th>\n",
       "      <td>0.265512</td>\n",
       "      <td>a</td>\n",
       "      <td>6</td>\n",
       "    </tr>\n",
       "    <tr>\n",
       "      <th>7</th>\n",
       "      <td>0.108549</td>\n",
       "      <td>a</td>\n",
       "      <td>5</td>\n",
       "    </tr>\n",
       "    <tr>\n",
       "      <th>8</th>\n",
       "      <td>0.004291</td>\n",
       "      <td>a</td>\n",
       "      <td>5</td>\n",
       "    </tr>\n",
       "    <tr>\n",
       "      <th>9</th>\n",
       "      <td>-0.174600</td>\n",
       "      <td>a</td>\n",
       "      <td>5</td>\n",
       "    </tr>\n",
       "    <tr>\n",
       "      <th>10</th>\n",
       "      <td>0.433026</td>\n",
       "      <td>b</td>\n",
       "      <td>6</td>\n",
       "    </tr>\n",
       "    <tr>\n",
       "      <th>11</th>\n",
       "      <td>1.203037</td>\n",
       "      <td>b</td>\n",
       "      <td>9</td>\n",
       "    </tr>\n",
       "    <tr>\n",
       "      <th>12</th>\n",
       "      <td>-0.965066</td>\n",
       "      <td>b</td>\n",
       "      <td>2</td>\n",
       "    </tr>\n",
       "    <tr>\n",
       "      <th>13</th>\n",
       "      <td>1.028274</td>\n",
       "      <td>b</td>\n",
       "      <td>8</td>\n",
       "    </tr>\n",
       "    <tr>\n",
       "      <th>14</th>\n",
       "      <td>0.228630</td>\n",
       "      <td>b</td>\n",
       "      <td>6</td>\n",
       "    </tr>\n",
       "    <tr>\n",
       "      <th>15</th>\n",
       "      <td>0.445138</td>\n",
       "      <td>b</td>\n",
       "      <td>6</td>\n",
       "    </tr>\n",
       "    <tr>\n",
       "      <th>16</th>\n",
       "      <td>-1.136602</td>\n",
       "      <td>b</td>\n",
       "      <td>2</td>\n",
       "    </tr>\n",
       "    <tr>\n",
       "      <th>17</th>\n",
       "      <td>0.135137</td>\n",
       "      <td>b</td>\n",
       "      <td>5</td>\n",
       "    </tr>\n",
       "    <tr>\n",
       "      <th>18</th>\n",
       "      <td>1.484537</td>\n",
       "      <td>b</td>\n",
       "      <td>10</td>\n",
       "    </tr>\n",
       "    <tr>\n",
       "      <th>19</th>\n",
       "      <td>-1.079805</td>\n",
       "      <td>b</td>\n",
       "      <td>2</td>\n",
       "    </tr>\n",
       "  </tbody>\n",
       "</table>\n",
       "</div>"
      ],
      "text/plain": [
       "          C1 C2  C1_bin\n",
       "0   1.331587  a       9\n",
       "1   0.715279  a       7\n",
       "2  -1.545400  a       1\n",
       "3  -0.008384  a       5\n",
       "4   0.621336  a       7\n",
       "5  -0.720086  a       3\n",
       "6   0.265512  a       6\n",
       "7   0.108549  a       5\n",
       "8   0.004291  a       5\n",
       "9  -0.174600  a       5\n",
       "10  0.433026  b       6\n",
       "11  1.203037  b       9\n",
       "12 -0.965066  b       2\n",
       "13  1.028274  b       8\n",
       "14  0.228630  b       6\n",
       "15  0.445138  b       6\n",
       "16 -1.136602  b       2\n",
       "17  0.135137  b       5\n",
       "18  1.484537  b      10\n",
       "19 -1.079805  b       2"
      ]
     },
     "execution_count": 42,
     "metadata": {},
     "output_type": "execute_result"
    }
   ],
   "source": [
    "df['C1_bin'] = np.digitize(df['C1'], bins)\n",
    "df"
   ]
  },
  {
   "cell_type": "code",
   "execution_count": 45,
   "id": "a21aa0ab",
   "metadata": {
    "ExecuteTime": {
     "end_time": "2022-02-01T13:37:31.506188Z",
     "start_time": "2022-02-01T13:37:31.483224Z"
    }
   },
   "outputs": [
    {
     "data": {
      "text/html": [
       "<div>\n",
       "<style scoped>\n",
       "    .dataframe tbody tr th:only-of-type {\n",
       "        vertical-align: middle;\n",
       "    }\n",
       "\n",
       "    .dataframe tbody tr th {\n",
       "        vertical-align: top;\n",
       "    }\n",
       "\n",
       "    .dataframe thead th {\n",
       "        text-align: right;\n",
       "    }\n",
       "</style>\n",
       "<table border=\"1\" class=\"dataframe\">\n",
       "  <thead>\n",
       "    <tr style=\"text-align: right;\">\n",
       "      <th></th>\n",
       "      <th>2</th>\n",
       "      <th>3</th>\n",
       "      <th>5</th>\n",
       "      <th>6</th>\n",
       "      <th>7</th>\n",
       "      <th>8</th>\n",
       "      <th>9</th>\n",
       "      <th>10</th>\n",
       "    </tr>\n",
       "  </thead>\n",
       "  <tbody>\n",
       "    <tr>\n",
       "      <th>0</th>\n",
       "      <td>0</td>\n",
       "      <td>0</td>\n",
       "      <td>0</td>\n",
       "      <td>0</td>\n",
       "      <td>0</td>\n",
       "      <td>0</td>\n",
       "      <td>1</td>\n",
       "      <td>0</td>\n",
       "    </tr>\n",
       "    <tr>\n",
       "      <th>1</th>\n",
       "      <td>0</td>\n",
       "      <td>0</td>\n",
       "      <td>0</td>\n",
       "      <td>0</td>\n",
       "      <td>1</td>\n",
       "      <td>0</td>\n",
       "      <td>0</td>\n",
       "      <td>0</td>\n",
       "    </tr>\n",
       "    <tr>\n",
       "      <th>2</th>\n",
       "      <td>0</td>\n",
       "      <td>0</td>\n",
       "      <td>0</td>\n",
       "      <td>0</td>\n",
       "      <td>0</td>\n",
       "      <td>0</td>\n",
       "      <td>0</td>\n",
       "      <td>0</td>\n",
       "    </tr>\n",
       "    <tr>\n",
       "      <th>3</th>\n",
       "      <td>0</td>\n",
       "      <td>0</td>\n",
       "      <td>1</td>\n",
       "      <td>0</td>\n",
       "      <td>0</td>\n",
       "      <td>0</td>\n",
       "      <td>0</td>\n",
       "      <td>0</td>\n",
       "    </tr>\n",
       "    <tr>\n",
       "      <th>4</th>\n",
       "      <td>0</td>\n",
       "      <td>0</td>\n",
       "      <td>0</td>\n",
       "      <td>0</td>\n",
       "      <td>1</td>\n",
       "      <td>0</td>\n",
       "      <td>0</td>\n",
       "      <td>0</td>\n",
       "    </tr>\n",
       "    <tr>\n",
       "      <th>5</th>\n",
       "      <td>0</td>\n",
       "      <td>1</td>\n",
       "      <td>0</td>\n",
       "      <td>0</td>\n",
       "      <td>0</td>\n",
       "      <td>0</td>\n",
       "      <td>0</td>\n",
       "      <td>0</td>\n",
       "    </tr>\n",
       "    <tr>\n",
       "      <th>6</th>\n",
       "      <td>0</td>\n",
       "      <td>0</td>\n",
       "      <td>0</td>\n",
       "      <td>1</td>\n",
       "      <td>0</td>\n",
       "      <td>0</td>\n",
       "      <td>0</td>\n",
       "      <td>0</td>\n",
       "    </tr>\n",
       "    <tr>\n",
       "      <th>7</th>\n",
       "      <td>0</td>\n",
       "      <td>0</td>\n",
       "      <td>1</td>\n",
       "      <td>0</td>\n",
       "      <td>0</td>\n",
       "      <td>0</td>\n",
       "      <td>0</td>\n",
       "      <td>0</td>\n",
       "    </tr>\n",
       "    <tr>\n",
       "      <th>8</th>\n",
       "      <td>0</td>\n",
       "      <td>0</td>\n",
       "      <td>1</td>\n",
       "      <td>0</td>\n",
       "      <td>0</td>\n",
       "      <td>0</td>\n",
       "      <td>0</td>\n",
       "      <td>0</td>\n",
       "    </tr>\n",
       "    <tr>\n",
       "      <th>9</th>\n",
       "      <td>0</td>\n",
       "      <td>0</td>\n",
       "      <td>1</td>\n",
       "      <td>0</td>\n",
       "      <td>0</td>\n",
       "      <td>0</td>\n",
       "      <td>0</td>\n",
       "      <td>0</td>\n",
       "    </tr>\n",
       "    <tr>\n",
       "      <th>10</th>\n",
       "      <td>0</td>\n",
       "      <td>0</td>\n",
       "      <td>0</td>\n",
       "      <td>1</td>\n",
       "      <td>0</td>\n",
       "      <td>0</td>\n",
       "      <td>0</td>\n",
       "      <td>0</td>\n",
       "    </tr>\n",
       "    <tr>\n",
       "      <th>11</th>\n",
       "      <td>0</td>\n",
       "      <td>0</td>\n",
       "      <td>0</td>\n",
       "      <td>0</td>\n",
       "      <td>0</td>\n",
       "      <td>0</td>\n",
       "      <td>1</td>\n",
       "      <td>0</td>\n",
       "    </tr>\n",
       "    <tr>\n",
       "      <th>12</th>\n",
       "      <td>1</td>\n",
       "      <td>0</td>\n",
       "      <td>0</td>\n",
       "      <td>0</td>\n",
       "      <td>0</td>\n",
       "      <td>0</td>\n",
       "      <td>0</td>\n",
       "      <td>0</td>\n",
       "    </tr>\n",
       "    <tr>\n",
       "      <th>13</th>\n",
       "      <td>0</td>\n",
       "      <td>0</td>\n",
       "      <td>0</td>\n",
       "      <td>0</td>\n",
       "      <td>0</td>\n",
       "      <td>1</td>\n",
       "      <td>0</td>\n",
       "      <td>0</td>\n",
       "    </tr>\n",
       "    <tr>\n",
       "      <th>14</th>\n",
       "      <td>0</td>\n",
       "      <td>0</td>\n",
       "      <td>0</td>\n",
       "      <td>1</td>\n",
       "      <td>0</td>\n",
       "      <td>0</td>\n",
       "      <td>0</td>\n",
       "      <td>0</td>\n",
       "    </tr>\n",
       "    <tr>\n",
       "      <th>15</th>\n",
       "      <td>0</td>\n",
       "      <td>0</td>\n",
       "      <td>0</td>\n",
       "      <td>1</td>\n",
       "      <td>0</td>\n",
       "      <td>0</td>\n",
       "      <td>0</td>\n",
       "      <td>0</td>\n",
       "    </tr>\n",
       "    <tr>\n",
       "      <th>16</th>\n",
       "      <td>1</td>\n",
       "      <td>0</td>\n",
       "      <td>0</td>\n",
       "      <td>0</td>\n",
       "      <td>0</td>\n",
       "      <td>0</td>\n",
       "      <td>0</td>\n",
       "      <td>0</td>\n",
       "    </tr>\n",
       "    <tr>\n",
       "      <th>17</th>\n",
       "      <td>0</td>\n",
       "      <td>0</td>\n",
       "      <td>1</td>\n",
       "      <td>0</td>\n",
       "      <td>0</td>\n",
       "      <td>0</td>\n",
       "      <td>0</td>\n",
       "      <td>0</td>\n",
       "    </tr>\n",
       "    <tr>\n",
       "      <th>18</th>\n",
       "      <td>0</td>\n",
       "      <td>0</td>\n",
       "      <td>0</td>\n",
       "      <td>0</td>\n",
       "      <td>0</td>\n",
       "      <td>0</td>\n",
       "      <td>0</td>\n",
       "      <td>1</td>\n",
       "    </tr>\n",
       "    <tr>\n",
       "      <th>19</th>\n",
       "      <td>1</td>\n",
       "      <td>0</td>\n",
       "      <td>0</td>\n",
       "      <td>0</td>\n",
       "      <td>0</td>\n",
       "      <td>0</td>\n",
       "      <td>0</td>\n",
       "      <td>0</td>\n",
       "    </tr>\n",
       "  </tbody>\n",
       "</table>\n",
       "</div>"
      ],
      "text/plain": [
       "    2   3   5   6   7   8   9   10\n",
       "0    0   0   0   0   0   0   1   0\n",
       "1    0   0   0   0   1   0   0   0\n",
       "2    0   0   0   0   0   0   0   0\n",
       "3    0   0   1   0   0   0   0   0\n",
       "4    0   0   0   0   1   0   0   0\n",
       "5    0   1   0   0   0   0   0   0\n",
       "6    0   0   0   1   0   0   0   0\n",
       "7    0   0   1   0   0   0   0   0\n",
       "8    0   0   1   0   0   0   0   0\n",
       "9    0   0   1   0   0   0   0   0\n",
       "10   0   0   0   1   0   0   0   0\n",
       "11   0   0   0   0   0   0   1   0\n",
       "12   1   0   0   0   0   0   0   0\n",
       "13   0   0   0   0   0   1   0   0\n",
       "14   0   0   0   1   0   0   0   0\n",
       "15   0   0   0   1   0   0   0   0\n",
       "16   1   0   0   0   0   0   0   0\n",
       "17   0   0   1   0   0   0   0   0\n",
       "18   0   0   0   0   0   0   0   1\n",
       "19   1   0   0   0   0   0   0   0"
      ]
     },
     "execution_count": 45,
     "metadata": {},
     "output_type": "execute_result"
    }
   ],
   "source": [
    "pd.get_dummies(df['C1_bin'], drop_first= True)"
   ]
  },
  {
   "cell_type": "markdown",
   "id": "ab40fe6d",
   "metadata": {},
   "source": [
    "+ 다음의 데이터를 활용하여 연속형 변수 C1을 이산형화 시켜보세요\n",
    "- C1 컬럼의 데이터의 1분위수(Q1), 3분위수(Q3)를 계산해보세요\n",
    "- 계산된 Q1, Q3 값을 토대로 4개의 구간을 해당 값 --> (quarter01, quarter02, quarter03, quarter04) 으로 나누고 quarter 컬럼에 할당해보세요"
   ]
  },
  {
   "cell_type": "code",
   "execution_count": 50,
   "id": "ddae8cc9",
   "metadata": {
    "ExecuteTime": {
     "end_time": "2022-02-01T13:43:58.830886Z",
     "start_time": "2022-02-01T13:43:58.815886Z"
    }
   },
   "outputs": [],
   "source": [
    "np.random.seed(10)\n",
    "df = pd.DataFrame({'C1': np.random.randn(20),\n",
    "                   'C2': ['a', 'a', 'a', 'a', 'a', 'a', 'a', 'a', 'a', 'a',\n",
    "                          'b', 'b', 'b', 'b', 'b', 'b', 'b', 'b', 'b', 'b']})"
   ]
  },
  {
   "cell_type": "code",
   "execution_count": 47,
   "id": "7cbfb559",
   "metadata": {
    "ExecuteTime": {
     "end_time": "2022-02-01T13:40:43.774107Z",
     "start_time": "2022-02-01T13:40:43.763135Z"
    }
   },
   "outputs": [
    {
     "data": {
      "text/html": [
       "<div>\n",
       "<style scoped>\n",
       "    .dataframe tbody tr th:only-of-type {\n",
       "        vertical-align: middle;\n",
       "    }\n",
       "\n",
       "    .dataframe tbody tr th {\n",
       "        vertical-align: top;\n",
       "    }\n",
       "\n",
       "    .dataframe thead th {\n",
       "        text-align: right;\n",
       "    }\n",
       "</style>\n",
       "<table border=\"1\" class=\"dataframe\">\n",
       "  <thead>\n",
       "    <tr style=\"text-align: right;\">\n",
       "      <th></th>\n",
       "      <th>C1</th>\n",
       "      <th>C2</th>\n",
       "    </tr>\n",
       "  </thead>\n",
       "  <tbody>\n",
       "    <tr>\n",
       "      <th>0</th>\n",
       "      <td>1.331587</td>\n",
       "      <td>a</td>\n",
       "    </tr>\n",
       "    <tr>\n",
       "      <th>1</th>\n",
       "      <td>0.715279</td>\n",
       "      <td>a</td>\n",
       "    </tr>\n",
       "    <tr>\n",
       "      <th>2</th>\n",
       "      <td>-1.545400</td>\n",
       "      <td>a</td>\n",
       "    </tr>\n",
       "    <tr>\n",
       "      <th>3</th>\n",
       "      <td>-0.008384</td>\n",
       "      <td>a</td>\n",
       "    </tr>\n",
       "    <tr>\n",
       "      <th>4</th>\n",
       "      <td>0.621336</td>\n",
       "      <td>a</td>\n",
       "    </tr>\n",
       "    <tr>\n",
       "      <th>5</th>\n",
       "      <td>-0.720086</td>\n",
       "      <td>a</td>\n",
       "    </tr>\n",
       "    <tr>\n",
       "      <th>6</th>\n",
       "      <td>0.265512</td>\n",
       "      <td>a</td>\n",
       "    </tr>\n",
       "    <tr>\n",
       "      <th>7</th>\n",
       "      <td>0.108549</td>\n",
       "      <td>a</td>\n",
       "    </tr>\n",
       "    <tr>\n",
       "      <th>8</th>\n",
       "      <td>0.004291</td>\n",
       "      <td>a</td>\n",
       "    </tr>\n",
       "    <tr>\n",
       "      <th>9</th>\n",
       "      <td>-0.174600</td>\n",
       "      <td>a</td>\n",
       "    </tr>\n",
       "    <tr>\n",
       "      <th>10</th>\n",
       "      <td>0.433026</td>\n",
       "      <td>b</td>\n",
       "    </tr>\n",
       "    <tr>\n",
       "      <th>11</th>\n",
       "      <td>1.203037</td>\n",
       "      <td>b</td>\n",
       "    </tr>\n",
       "    <tr>\n",
       "      <th>12</th>\n",
       "      <td>-0.965066</td>\n",
       "      <td>b</td>\n",
       "    </tr>\n",
       "    <tr>\n",
       "      <th>13</th>\n",
       "      <td>1.028274</td>\n",
       "      <td>b</td>\n",
       "    </tr>\n",
       "    <tr>\n",
       "      <th>14</th>\n",
       "      <td>0.228630</td>\n",
       "      <td>b</td>\n",
       "    </tr>\n",
       "    <tr>\n",
       "      <th>15</th>\n",
       "      <td>0.445138</td>\n",
       "      <td>b</td>\n",
       "    </tr>\n",
       "    <tr>\n",
       "      <th>16</th>\n",
       "      <td>-1.136602</td>\n",
       "      <td>b</td>\n",
       "    </tr>\n",
       "    <tr>\n",
       "      <th>17</th>\n",
       "      <td>0.135137</td>\n",
       "      <td>b</td>\n",
       "    </tr>\n",
       "    <tr>\n",
       "      <th>18</th>\n",
       "      <td>1.484537</td>\n",
       "      <td>b</td>\n",
       "    </tr>\n",
       "    <tr>\n",
       "      <th>19</th>\n",
       "      <td>-1.079805</td>\n",
       "      <td>b</td>\n",
       "    </tr>\n",
       "  </tbody>\n",
       "</table>\n",
       "</div>"
      ],
      "text/plain": [
       "          C1 C2\n",
       "0   1.331587  a\n",
       "1   0.715279  a\n",
       "2  -1.545400  a\n",
       "3  -0.008384  a\n",
       "4   0.621336  a\n",
       "5  -0.720086  a\n",
       "6   0.265512  a\n",
       "7   0.108549  a\n",
       "8   0.004291  a\n",
       "9  -0.174600  a\n",
       "10  0.433026  b\n",
       "11  1.203037  b\n",
       "12 -0.965066  b\n",
       "13  1.028274  b\n",
       "14  0.228630  b\n",
       "15  0.445138  b\n",
       "16 -1.136602  b\n",
       "17  0.135137  b\n",
       "18  1.484537  b\n",
       "19 -1.079805  b"
      ]
     },
     "execution_count": 47,
     "metadata": {},
     "output_type": "execute_result"
    }
   ],
   "source": [
    "df"
   ]
  },
  {
   "cell_type": "code",
   "execution_count": 56,
   "id": "55d6e50c",
   "metadata": {
    "ExecuteTime": {
     "end_time": "2022-02-01T13:49:02.994113Z",
     "start_time": "2022-02-01T13:49:02.986145Z"
    }
   },
   "outputs": [],
   "source": [
    "Q1 = np.percentile(df['C1'], 25)\n",
    "Q2 = np.percentile(df['C1'], 50)\n",
    "Q3 = np.percentile(df['C1'], 75)\n",
    "\n",
    "df['quarter'] = np.where(df['C1'] >= Q3, 'quarter01', np.where(df['C1'] >= Q1, 'quarter02',\n",
    "                                                               np.where(df['C1']== Q2, 'quarter03', 'quarter04')))"
   ]
  },
  {
   "cell_type": "code",
   "execution_count": 57,
   "id": "1d6b2bed",
   "metadata": {
    "ExecuteTime": {
     "end_time": "2022-02-01T13:49:05.102550Z",
     "start_time": "2022-02-01T13:49:05.084521Z"
    }
   },
   "outputs": [
    {
     "data": {
      "text/html": [
       "<div>\n",
       "<style scoped>\n",
       "    .dataframe tbody tr th:only-of-type {\n",
       "        vertical-align: middle;\n",
       "    }\n",
       "\n",
       "    .dataframe tbody tr th {\n",
       "        vertical-align: top;\n",
       "    }\n",
       "\n",
       "    .dataframe thead th {\n",
       "        text-align: right;\n",
       "    }\n",
       "</style>\n",
       "<table border=\"1\" class=\"dataframe\">\n",
       "  <thead>\n",
       "    <tr style=\"text-align: right;\">\n",
       "      <th></th>\n",
       "      <th>C1</th>\n",
       "      <th>C2</th>\n",
       "      <th>quarter</th>\n",
       "    </tr>\n",
       "  </thead>\n",
       "  <tbody>\n",
       "    <tr>\n",
       "      <th>0</th>\n",
       "      <td>1.331587</td>\n",
       "      <td>a</td>\n",
       "      <td>quarter01</td>\n",
       "    </tr>\n",
       "    <tr>\n",
       "      <th>1</th>\n",
       "      <td>0.715279</td>\n",
       "      <td>a</td>\n",
       "      <td>quarter01</td>\n",
       "    </tr>\n",
       "    <tr>\n",
       "      <th>2</th>\n",
       "      <td>-1.545400</td>\n",
       "      <td>a</td>\n",
       "      <td>quarter04</td>\n",
       "    </tr>\n",
       "    <tr>\n",
       "      <th>3</th>\n",
       "      <td>-0.008384</td>\n",
       "      <td>a</td>\n",
       "      <td>quarter02</td>\n",
       "    </tr>\n",
       "    <tr>\n",
       "      <th>4</th>\n",
       "      <td>0.621336</td>\n",
       "      <td>a</td>\n",
       "      <td>quarter02</td>\n",
       "    </tr>\n",
       "    <tr>\n",
       "      <th>5</th>\n",
       "      <td>-0.720086</td>\n",
       "      <td>a</td>\n",
       "      <td>quarter04</td>\n",
       "    </tr>\n",
       "    <tr>\n",
       "      <th>6</th>\n",
       "      <td>0.265512</td>\n",
       "      <td>a</td>\n",
       "      <td>quarter02</td>\n",
       "    </tr>\n",
       "    <tr>\n",
       "      <th>7</th>\n",
       "      <td>0.108549</td>\n",
       "      <td>a</td>\n",
       "      <td>quarter02</td>\n",
       "    </tr>\n",
       "    <tr>\n",
       "      <th>8</th>\n",
       "      <td>0.004291</td>\n",
       "      <td>a</td>\n",
       "      <td>quarter02</td>\n",
       "    </tr>\n",
       "    <tr>\n",
       "      <th>9</th>\n",
       "      <td>-0.174600</td>\n",
       "      <td>a</td>\n",
       "      <td>quarter02</td>\n",
       "    </tr>\n",
       "    <tr>\n",
       "      <th>10</th>\n",
       "      <td>0.433026</td>\n",
       "      <td>b</td>\n",
       "      <td>quarter02</td>\n",
       "    </tr>\n",
       "    <tr>\n",
       "      <th>11</th>\n",
       "      <td>1.203037</td>\n",
       "      <td>b</td>\n",
       "      <td>quarter01</td>\n",
       "    </tr>\n",
       "    <tr>\n",
       "      <th>12</th>\n",
       "      <td>-0.965066</td>\n",
       "      <td>b</td>\n",
       "      <td>quarter04</td>\n",
       "    </tr>\n",
       "    <tr>\n",
       "      <th>13</th>\n",
       "      <td>1.028274</td>\n",
       "      <td>b</td>\n",
       "      <td>quarter01</td>\n",
       "    </tr>\n",
       "    <tr>\n",
       "      <th>14</th>\n",
       "      <td>0.228630</td>\n",
       "      <td>b</td>\n",
       "      <td>quarter02</td>\n",
       "    </tr>\n",
       "    <tr>\n",
       "      <th>15</th>\n",
       "      <td>0.445138</td>\n",
       "      <td>b</td>\n",
       "      <td>quarter02</td>\n",
       "    </tr>\n",
       "    <tr>\n",
       "      <th>16</th>\n",
       "      <td>-1.136602</td>\n",
       "      <td>b</td>\n",
       "      <td>quarter04</td>\n",
       "    </tr>\n",
       "    <tr>\n",
       "      <th>17</th>\n",
       "      <td>0.135137</td>\n",
       "      <td>b</td>\n",
       "      <td>quarter02</td>\n",
       "    </tr>\n",
       "    <tr>\n",
       "      <th>18</th>\n",
       "      <td>1.484537</td>\n",
       "      <td>b</td>\n",
       "      <td>quarter01</td>\n",
       "    </tr>\n",
       "    <tr>\n",
       "      <th>19</th>\n",
       "      <td>-1.079805</td>\n",
       "      <td>b</td>\n",
       "      <td>quarter04</td>\n",
       "    </tr>\n",
       "  </tbody>\n",
       "</table>\n",
       "</div>"
      ],
      "text/plain": [
       "          C1 C2    quarter\n",
       "0   1.331587  a  quarter01\n",
       "1   0.715279  a  quarter01\n",
       "2  -1.545400  a  quarter04\n",
       "3  -0.008384  a  quarter02\n",
       "4   0.621336  a  quarter02\n",
       "5  -0.720086  a  quarter04\n",
       "6   0.265512  a  quarter02\n",
       "7   0.108549  a  quarter02\n",
       "8   0.004291  a  quarter02\n",
       "9  -0.174600  a  quarter02\n",
       "10  0.433026  b  quarter02\n",
       "11  1.203037  b  quarter01\n",
       "12 -0.965066  b  quarter04\n",
       "13  1.028274  b  quarter01\n",
       "14  0.228630  b  quarter02\n",
       "15  0.445138  b  quarter02\n",
       "16 -1.136602  b  quarter04\n",
       "17  0.135137  b  quarter02\n",
       "18  1.484537  b  quarter01\n",
       "19 -1.079805  b  quarter04"
      ]
     },
     "execution_count": 57,
     "metadata": {},
     "output_type": "execute_result"
    }
   ],
   "source": [
    "df"
   ]
  },
  {
   "cell_type": "markdown",
   "id": "79f82054",
   "metadata": {},
   "source": [
    "## 과제 5\n",
    "다음의 데이터를 아래와 같이 변환해보세요\n",
    "x1, x2 컬럼 데이터를 가지고, 다항 2차수(1, x1, x2, x1^2, x1*x2, x2^2) 컬럼을 만들어보세요"
   ]
  },
  {
   "cell_type": "code",
   "execution_count": 59,
   "id": "dab24733",
   "metadata": {
    "ExecuteTime": {
     "end_time": "2022-02-01T13:50:29.437229Z",
     "start_time": "2022-02-01T13:50:29.433243Z"
    }
   },
   "outputs": [],
   "source": [
    "X = np.arange(6).reshape(3, 2)"
   ]
  },
  {
   "cell_type": "code",
   "execution_count": 105,
   "id": "c4b7868b",
   "metadata": {
    "ExecuteTime": {
     "end_time": "2022-02-01T14:06:54.766878Z",
     "start_time": "2022-02-01T14:06:54.751882Z"
    }
   },
   "outputs": [
    {
     "data": {
      "text/plain": [
       "array([[ 1,  0,  1,  0,  0,  1],\n",
       "       [ 1,  2,  3,  4,  6,  9],\n",
       "       [ 1,  4,  5, 16, 20, 25]])"
      ]
     },
     "execution_count": 105,
     "metadata": {},
     "output_type": "execute_result"
    }
   ],
   "source": [
    "np.hstack([X[:, 0].reshape(-1,1)**0  ,X[:, 0].reshape(-1,1), X[:, 1].reshape(-1,1), \n",
    "         X[:, 0].reshape(-1,1) *  X[:, 0].reshape(-1,1), \n",
    "          X[:, 0].reshape(-1,1) * X[:, 1].reshape(-1,1),\n",
    "          X[:, 1].reshape(-1,1) * X[:, 1].reshape(-1,1)\n",
    "     ])"
   ]
  },
  {
   "cell_type": "code",
   "execution_count": 90,
   "id": "439fe880",
   "metadata": {
    "ExecuteTime": {
     "end_time": "2022-02-01T14:02:40.877076Z",
     "start_time": "2022-02-01T14:02:40.867109Z"
    }
   },
   "outputs": [
    {
     "data": {
      "text/plain": [
       "(3, 1)"
      ]
     },
     "execution_count": 90,
     "metadata": {},
     "output_type": "execute_result"
    }
   ],
   "source": [
    "X[:, 0].reshape(-1,1).shape"
   ]
  },
  {
   "cell_type": "markdown",
   "id": "d96d7e0b",
   "metadata": {},
   "source": [
    "sklearn.preprocessing.PolynomialFeatures()\n",
    "\n",
    "출처: https://rfriend.tistory.com/274?category=675917 [R, Python 분석과 프로그래밍의 친구 (by R Friend)]\n",
    "방법도 있음.."
   ]
  },
  {
   "cell_type": "code",
   "execution_count": 106,
   "id": "1bc932fb",
   "metadata": {
    "ExecuteTime": {
     "end_time": "2022-02-01T14:07:43.929161Z",
     "start_time": "2022-02-01T14:07:43.913132Z"
    }
   },
   "outputs": [],
   "source": [
    "X2 = np.arange(9).reshape(3, 3)"
   ]
  },
  {
   "cell_type": "code",
   "execution_count": 107,
   "id": "ee4bc1c4",
   "metadata": {
    "ExecuteTime": {
     "end_time": "2022-02-01T14:08:52.996740Z",
     "start_time": "2022-02-01T14:08:52.981713Z"
    }
   },
   "outputs": [
    {
     "data": {
      "text/plain": [
       "array([[ 1.,  0.,  1.,  2.,  0.,  0.,  0.,  1.,  2.,  4.],\n",
       "       [ 1.,  3.,  4.,  5.,  9., 12., 15., 16., 20., 25.],\n",
       "       [ 1.,  6.,  7.,  8., 36., 42., 48., 49., 56., 64.]])"
      ]
     },
     "execution_count": 107,
     "metadata": {},
     "output_type": "execute_result"
    }
   ],
   "source": [
    "from sklearn.preprocessing import PolynomialFeatures\n",
    "\n",
    "poly = PolynomialFeatures(degree=2)\n",
    "poly.fit_transform(X2)"
   ]
  },
  {
   "cell_type": "code",
   "execution_count": null,
   "id": "725d3042",
   "metadata": {},
   "outputs": [],
   "source": []
  }
 ],
 "metadata": {
  "kernelspec": {
   "display_name": "Python 3 (ipykernel)",
   "language": "python",
   "name": "python3"
  },
  "language_info": {
   "codemirror_mode": {
    "name": "ipython",
    "version": 3
   },
   "file_extension": ".py",
   "mimetype": "text/x-python",
   "name": "python",
   "nbconvert_exporter": "python",
   "pygments_lexer": "ipython3",
   "version": "3.9.7"
  },
  "toc": {
   "base_numbering": 1,
   "nav_menu": {},
   "number_sections": true,
   "sideBar": true,
   "skip_h1_title": false,
   "title_cell": "Table of Contents",
   "title_sidebar": "Contents",
   "toc_cell": false,
   "toc_position": {},
   "toc_section_display": true,
   "toc_window_display": false
  }
 },
 "nbformat": 4,
 "nbformat_minor": 5
}
