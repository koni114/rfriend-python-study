{
 "cells": [
  {
   "cell_type": "markdown",
   "id": "d6375289",
   "metadata": {},
   "source": [
    "# DAY12"
   ]
  },
  {
   "cell_type": "markdown",
   "id": "459b00d3",
   "metadata": {},
   "source": [
    "## 과제 1"
   ]
  },
  {
   "cell_type": "code",
   "execution_count": 1,
   "id": "59614945",
   "metadata": {
    "ExecuteTime": {
     "end_time": "2022-02-19T13:13:19.845196Z",
     "start_time": "2022-02-19T13:13:19.700163Z"
    }
   },
   "outputs": [],
   "source": [
    "import numpy as np\n",
    "import os\n",
    "x = np.arange(5)"
   ]
  },
  {
   "cell_type": "code",
   "execution_count": 2,
   "id": "46099372",
   "metadata": {
    "ExecuteTime": {
     "end_time": "2022-02-19T13:14:03.294670Z",
     "start_time": "2022-02-19T13:14:03.283671Z"
    }
   },
   "outputs": [
    {
     "data": {
      "text/plain": [
       "array([0, 1, 2, 3, 4])"
      ]
     },
     "execution_count": 2,
     "metadata": {},
     "output_type": "execute_result"
    }
   ],
   "source": [
    "x"
   ]
  },
  {
   "cell_type": "code",
   "execution_count": 3,
   "id": "56cc207d",
   "metadata": {
    "ExecuteTime": {
     "end_time": "2022-02-19T13:14:19.650121Z",
     "start_time": "2022-02-19T13:14:19.637126Z"
    }
   },
   "outputs": [],
   "source": [
    "np.save('x_save', x)"
   ]
  },
  {
   "cell_type": "code",
   "execution_count": 4,
   "id": "1b41048d",
   "metadata": {
    "ExecuteTime": {
     "end_time": "2022-02-19T13:14:43.378712Z",
     "start_time": "2022-02-19T13:14:43.368717Z"
    }
   },
   "outputs": [],
   "source": [
    "# 배열 불러오기\n",
    "x_save_load = np.load('x_save.npy')"
   ]
  },
  {
   "cell_type": "code",
   "execution_count": 5,
   "id": "22aaee67",
   "metadata": {
    "ExecuteTime": {
     "end_time": "2022-02-19T13:14:48.258587Z",
     "start_time": "2022-02-19T13:14:48.246556Z"
    }
   },
   "outputs": [
    {
     "data": {
      "text/plain": [
       "array([0, 1, 2, 3, 4])"
      ]
     },
     "execution_count": 5,
     "metadata": {},
     "output_type": "execute_result"
    }
   ],
   "source": [
    "x_save_load"
   ]
  },
  {
   "cell_type": "code",
   "execution_count": 6,
   "id": "786f7e69",
   "metadata": {
    "ExecuteTime": {
     "end_time": "2022-02-19T13:15:25.492953Z",
     "start_time": "2022-02-19T13:15:25.476925Z"
    }
   },
   "outputs": [],
   "source": [
    "x = np.array([0, 1, 2, 3, 4])\n",
    "y = np.array([5, 6, 7, 8, 9])"
   ]
  },
  {
   "cell_type": "code",
   "execution_count": 8,
   "id": "21bd7c2c",
   "metadata": {
    "ExecuteTime": {
     "end_time": "2022-02-19T13:16:09.242607Z",
     "start_time": "2022-02-19T13:16:09.229605Z"
    }
   },
   "outputs": [],
   "source": [
    "np.savez('xy_savez', x=x, y=y)"
   ]
  },
  {
   "cell_type": "code",
   "execution_count": 9,
   "id": "769ff188",
   "metadata": {
    "ExecuteTime": {
     "end_time": "2022-02-19T13:16:26.769248Z",
     "start_time": "2022-02-19T13:16:26.754252Z"
    }
   },
   "outputs": [],
   "source": [
    "xy_savez_load = np.load('xy_savez.npz')"
   ]
  },
  {
   "cell_type": "code",
   "execution_count": 11,
   "id": "cb1eda86",
   "metadata": {
    "ExecuteTime": {
     "end_time": "2022-02-19T13:16:36.746616Z",
     "start_time": "2022-02-19T13:16:36.740618Z"
    }
   },
   "outputs": [
    {
     "data": {
      "text/plain": [
       "array([0, 1, 2, 3, 4])"
      ]
     },
     "execution_count": 11,
     "metadata": {},
     "output_type": "execute_result"
    }
   ],
   "source": [
    "xy_savez_load['x']"
   ]
  },
  {
   "cell_type": "code",
   "execution_count": 12,
   "id": "1f9c122b",
   "metadata": {
    "ExecuteTime": {
     "end_time": "2022-02-19T13:16:46.431711Z",
     "start_time": "2022-02-19T13:16:46.415712Z"
    }
   },
   "outputs": [
    {
     "data": {
      "text/plain": [
       "array([5, 6, 7, 8, 9])"
      ]
     },
     "execution_count": 12,
     "metadata": {},
     "output_type": "execute_result"
    }
   ],
   "source": [
    "xy_savez_load['y']"
   ]
  },
  {
   "cell_type": "code",
   "execution_count": 13,
   "id": "daf31f33",
   "metadata": {
    "ExecuteTime": {
     "end_time": "2022-02-19T13:16:58.357111Z",
     "start_time": "2022-02-19T13:16:58.347091Z"
    }
   },
   "outputs": [],
   "source": [
    "x = np.array([0, 1, 2, 3, 4])\n",
    "y = np.array([5, 6, 7, 8, 9])"
   ]
  },
  {
   "cell_type": "code",
   "execution_count": 14,
   "id": "749f91f1",
   "metadata": {
    "ExecuteTime": {
     "end_time": "2022-02-19T13:18:01.140200Z",
     "start_time": "2022-02-19T13:18:01.126204Z"
    }
   },
   "outputs": [],
   "source": [
    "np.savetxt('xy_savetxt.txt', (x,y), header ='--xy save start --', footer='--xy save end--', fmt='%1.2f')"
   ]
  },
  {
   "cell_type": "code",
   "execution_count": 18,
   "id": "b16422c7",
   "metadata": {
    "ExecuteTime": {
     "end_time": "2022-02-19T13:18:57.430845Z",
     "start_time": "2022-02-19T13:18:57.414879Z"
    }
   },
   "outputs": [
    {
     "data": {
      "text/plain": [
       "array([[0., 1., 2., 3., 4.],\n",
       "       [5., 6., 7., 8., 9.]])"
      ]
     },
     "execution_count": 18,
     "metadata": {},
     "output_type": "execute_result"
    }
   ],
   "source": [
    "xy_txt = np.loadtxt('xy_savetxt.txt')\n",
    "xy_txt"
   ]
  },
  {
   "cell_type": "markdown",
   "id": "5b49797c",
   "metadata": {},
   "source": [
    "## 과제 2"
   ]
  },
  {
   "cell_type": "code",
   "execution_count": 19,
   "id": "36ec78d2",
   "metadata": {
    "ExecuteTime": {
     "end_time": "2022-02-19T13:19:12.246947Z",
     "start_time": "2022-02-19T13:19:12.237916Z"
    }
   },
   "outputs": [],
   "source": [
    "x = np.arange(18).reshape(3, 6)"
   ]
  },
  {
   "cell_type": "code",
   "execution_count": 21,
   "id": "deca967a",
   "metadata": {
    "ExecuteTime": {
     "end_time": "2022-02-19T13:19:19.600638Z",
     "start_time": "2022-02-19T13:19:19.587670Z"
    }
   },
   "outputs": [
    {
     "data": {
      "text/plain": [
       "array([[ 0,  1,  2,  3,  4,  5],\n",
       "       [ 6,  7,  8,  9, 10, 11],\n",
       "       [12, 13, 14, 15, 16, 17]])"
      ]
     },
     "execution_count": 21,
     "metadata": {},
     "output_type": "execute_result"
    }
   ],
   "source": [
    "x"
   ]
  },
  {
   "cell_type": "code",
   "execution_count": 22,
   "id": "f7cdc725",
   "metadata": {
    "ExecuteTime": {
     "end_time": "2022-02-19T13:19:40.364192Z",
     "start_time": "2022-02-19T13:19:40.348158Z"
    }
   },
   "outputs": [
    {
     "data": {
      "text/plain": [
       "[array([[ 0,  1],\n",
       "        [ 6,  7],\n",
       "        [12, 13]]),\n",
       " array([[ 2,  3],\n",
       "        [ 8,  9],\n",
       "        [14, 15]]),\n",
       " array([[ 4,  5],\n",
       "        [10, 11],\n",
       "        [16, 17]])]"
      ]
     },
     "execution_count": 22,
     "metadata": {},
     "output_type": "execute_result"
    }
   ],
   "source": [
    "np.hsplit(x, 3)"
   ]
  },
  {
   "cell_type": "code",
   "execution_count": 23,
   "id": "79a12db2",
   "metadata": {
    "ExecuteTime": {
     "end_time": "2022-02-19T13:19:50.435469Z",
     "start_time": "2022-02-19T13:19:50.422439Z"
    }
   },
   "outputs": [
    {
     "data": {
      "text/plain": [
       "[array([[ 0,  1],\n",
       "        [ 6,  7],\n",
       "        [12, 13]]),\n",
       " array([[ 2,  3],\n",
       "        [ 8,  9],\n",
       "        [14, 15]]),\n",
       " array([[ 4,  5],\n",
       "        [10, 11],\n",
       "        [16, 17]])]"
      ]
     },
     "execution_count": 23,
     "metadata": {},
     "output_type": "execute_result"
    }
   ],
   "source": [
    "np.hsplit(x, (2,4))"
   ]
  },
  {
   "cell_type": "code",
   "execution_count": 24,
   "id": "008f835e",
   "metadata": {
    "ExecuteTime": {
     "end_time": "2022-02-19T13:20:00.733453Z",
     "start_time": "2022-02-19T13:20:00.723429Z"
    }
   },
   "outputs": [
    {
     "data": {
      "text/plain": [
       "array([[ 0,  1,  2,  3,  4,  5],\n",
       "       [ 6,  7,  8,  9, 10, 11],\n",
       "       [12, 13, 14, 15, 16, 17]])"
      ]
     },
     "execution_count": 24,
     "metadata": {},
     "output_type": "execute_result"
    }
   ],
   "source": [
    "x = np.arange(18).reshape(3, 6)\n",
    "x"
   ]
  },
  {
   "cell_type": "code",
   "execution_count": 26,
   "id": "476128a1",
   "metadata": {
    "ExecuteTime": {
     "end_time": "2022-02-19T13:20:31.174018Z",
     "start_time": "2022-02-19T13:20:31.169022Z"
    }
   },
   "outputs": [],
   "source": [
    "x = np.arange(18).reshape(3,6)"
   ]
  },
  {
   "cell_type": "code",
   "execution_count": 28,
   "id": "a1e0b115",
   "metadata": {
    "ExecuteTime": {
     "end_time": "2022-02-19T13:20:44.908091Z",
     "start_time": "2022-02-19T13:20:44.890120Z"
    }
   },
   "outputs": [
    {
     "data": {
      "text/plain": [
       "[array([[0, 1, 2, 3, 4, 5]]),\n",
       " array([[ 6,  7,  8,  9, 10, 11]]),\n",
       " array([[12, 13, 14, 15, 16, 17]])]"
      ]
     },
     "execution_count": 28,
     "metadata": {},
     "output_type": "execute_result"
    }
   ],
   "source": [
    "np.vsplit(x, 3)"
   ]
  },
  {
   "cell_type": "code",
   "execution_count": 29,
   "id": "6425917a",
   "metadata": {
    "ExecuteTime": {
     "end_time": "2022-02-19T13:20:51.412159Z",
     "start_time": "2022-02-19T13:20:51.404152Z"
    }
   },
   "outputs": [
    {
     "data": {
      "text/plain": [
       "[array([[0, 1, 2, 3, 4, 5]]),\n",
       " array([[ 6,  7,  8,  9, 10, 11]]),\n",
       " array([[12, 13, 14, 15, 16, 17]])]"
      ]
     },
     "execution_count": 29,
     "metadata": {},
     "output_type": "execute_result"
    }
   ],
   "source": [
    "np.vsplit(x, (1,2))"
   ]
  },
  {
   "cell_type": "markdown",
   "id": "c60883be",
   "metadata": {},
   "source": [
    "## 과제 3"
   ]
  },
  {
   "cell_type": "code",
   "execution_count": 30,
   "id": "d72d68ee",
   "metadata": {
    "ExecuteTime": {
     "end_time": "2022-02-19T13:21:10.621809Z",
     "start_time": "2022-02-19T13:21:10.603809Z"
    }
   },
   "outputs": [
    {
     "data": {
      "text/plain": [
       "array([[1., 0., 0., 0.],\n",
       "       [0., 1., 0., 0.],\n",
       "       [0., 0., 1., 0.],\n",
       "       [0., 0., 0., 1.]])"
      ]
     },
     "execution_count": 30,
     "metadata": {},
     "output_type": "execute_result"
    }
   ],
   "source": [
    "np.eye(4)"
   ]
  },
  {
   "cell_type": "code",
   "execution_count": 31,
   "id": "12ac874c",
   "metadata": {
    "ExecuteTime": {
     "end_time": "2022-02-19T13:21:19.065571Z",
     "start_time": "2022-02-19T13:21:19.048543Z"
    }
   },
   "outputs": [
    {
     "data": {
      "text/plain": [
       "array([[0, 1, 2],\n",
       "       [3, 4, 5],\n",
       "       [6, 7, 8]])"
      ]
     },
     "execution_count": 31,
     "metadata": {},
     "output_type": "execute_result"
    }
   ],
   "source": [
    "x = np.arange(9).reshape(3, 3)\n",
    "x"
   ]
  },
  {
   "cell_type": "code",
   "execution_count": 32,
   "id": "70ac56d8",
   "metadata": {
    "ExecuteTime": {
     "end_time": "2022-02-19T13:21:43.628792Z",
     "start_time": "2022-02-19T13:21:43.610759Z"
    }
   },
   "outputs": [
    {
     "data": {
      "text/plain": [
       "array([0, 4, 8])"
      ]
     },
     "execution_count": 32,
     "metadata": {},
     "output_type": "execute_result"
    }
   ],
   "source": [
    "np.diag(x)"
   ]
  },
  {
   "cell_type": "code",
   "execution_count": 33,
   "id": "edcc0f19",
   "metadata": {
    "ExecuteTime": {
     "end_time": "2022-02-19T13:21:53.105501Z",
     "start_time": "2022-02-19T13:21:53.089473Z"
    }
   },
   "outputs": [
    {
     "data": {
      "text/plain": [
       "array([[0, 0, 0],\n",
       "       [0, 4, 0],\n",
       "       [0, 0, 8]])"
      ]
     },
     "execution_count": 33,
     "metadata": {},
     "output_type": "execute_result"
    }
   ],
   "source": [
    "np.diag(np.diag(x))"
   ]
  },
  {
   "cell_type": "code",
   "execution_count": 34,
   "id": "04bcaf0a",
   "metadata": {
    "ExecuteTime": {
     "end_time": "2022-02-19T13:21:59.533794Z",
     "start_time": "2022-02-19T13:21:59.522801Z"
    }
   },
   "outputs": [
    {
     "data": {
      "text/plain": [
       "array([[0, 1],\n",
       "       [2, 3]])"
      ]
     },
     "execution_count": 34,
     "metadata": {},
     "output_type": "execute_result"
    }
   ],
   "source": [
    "a = np.arange(4).reshape(2, 2)\n",
    "a"
   ]
  },
  {
   "cell_type": "code",
   "execution_count": 35,
   "id": "c9f40234",
   "metadata": {
    "ExecuteTime": {
     "end_time": "2022-02-19T13:22:11.986069Z",
     "start_time": "2022-02-19T13:22:11.968073Z"
    }
   },
   "outputs": [
    {
     "data": {
      "text/plain": [
       "array([[0, 1],\n",
       "       [4, 9]])"
      ]
     },
     "execution_count": 35,
     "metadata": {},
     "output_type": "execute_result"
    }
   ],
   "source": [
    "a * a"
   ]
  },
  {
   "cell_type": "code",
   "execution_count": 37,
   "id": "dca8ca62",
   "metadata": {
    "ExecuteTime": {
     "end_time": "2022-02-19T13:22:47.750277Z",
     "start_time": "2022-02-19T13:22:47.735279Z"
    }
   },
   "outputs": [
    {
     "data": {
      "text/plain": [
       "array([[ 2,  3],\n",
       "       [ 6, 11]])"
      ]
     },
     "execution_count": 37,
     "metadata": {},
     "output_type": "execute_result"
    }
   ],
   "source": [
    "a.dot(a, a)"
   ]
  },
  {
   "cell_type": "code",
   "execution_count": 38,
   "id": "3ca2e844",
   "metadata": {
    "ExecuteTime": {
     "end_time": "2022-02-19T13:22:55.794056Z",
     "start_time": "2022-02-19T13:22:55.777029Z"
    }
   },
   "outputs": [
    {
     "data": {
      "text/plain": [
       "array([[[ 0,  1,  2],\n",
       "        [ 3,  4,  5],\n",
       "        [ 6,  7,  8]],\n",
       "\n",
       "       [[ 9, 10, 11],\n",
       "        [12, 13, 14],\n",
       "        [15, 16, 17]],\n",
       "\n",
       "       [[18, 19, 20],\n",
       "        [21, 22, 23],\n",
       "        [24, 25, 26]]])"
      ]
     },
     "execution_count": 38,
     "metadata": {},
     "output_type": "execute_result"
    }
   ],
   "source": [
    "c = np.arange(27).reshape(3, 3, 3)\n",
    "c"
   ]
  },
  {
   "cell_type": "code",
   "execution_count": 41,
   "id": "cf5b9d6b",
   "metadata": {
    "ExecuteTime": {
     "end_time": "2022-02-19T13:23:16.007061Z",
     "start_time": "2022-02-19T13:23:15.998093Z"
    }
   },
   "outputs": [
    {
     "data": {
      "text/plain": [
       "array([36, 39, 42])"
      ]
     },
     "execution_count": 41,
     "metadata": {},
     "output_type": "execute_result"
    }
   ],
   "source": [
    "np.trace(c)"
   ]
  },
  {
   "cell_type": "code",
   "execution_count": 42,
   "id": "756ead53",
   "metadata": {
    "ExecuteTime": {
     "end_time": "2022-02-19T13:23:26.770482Z",
     "start_time": "2022-02-19T13:23:26.754452Z"
    }
   },
   "outputs": [
    {
     "data": {
      "text/plain": [
       "array([[1, 2],\n",
       "       [3, 4]])"
      ]
     },
     "execution_count": 42,
     "metadata": {},
     "output_type": "execute_result"
    }
   ],
   "source": [
    "d = np.array([[1, 2], [3, 4]])\n",
    "d"
   ]
  },
  {
   "cell_type": "code",
   "execution_count": 43,
   "id": "ff626b2e",
   "metadata": {
    "ExecuteTime": {
     "end_time": "2022-02-19T13:23:40.987163Z",
     "start_time": "2022-02-19T13:23:40.970163Z"
    }
   },
   "outputs": [
    {
     "data": {
      "text/plain": [
       "-2.0000000000000004"
      ]
     },
     "execution_count": 43,
     "metadata": {},
     "output_type": "execute_result"
    }
   ],
   "source": [
    "np.linalg.det(d)"
   ]
  },
  {
   "cell_type": "code",
   "execution_count": 44,
   "id": "2ae64bf3",
   "metadata": {
    "ExecuteTime": {
     "end_time": "2022-02-19T13:23:50.894131Z",
     "start_time": "2022-02-19T13:23:50.885098Z"
    }
   },
   "outputs": [],
   "source": [
    "a = np.array(range(4)).reshape(2, 2)"
   ]
  },
  {
   "cell_type": "code",
   "execution_count": 45,
   "id": "0dc068ac",
   "metadata": {
    "ExecuteTime": {
     "end_time": "2022-02-19T13:23:53.039658Z",
     "start_time": "2022-02-19T13:23:53.024660Z"
    }
   },
   "outputs": [
    {
     "data": {
      "text/plain": [
       "array([[0, 2],\n",
       "       [1, 3]])"
      ]
     },
     "execution_count": 45,
     "metadata": {},
     "output_type": "execute_result"
    }
   ],
   "source": [
    "a.T"
   ]
  },
  {
   "cell_type": "code",
   "execution_count": 46,
   "id": "579e9950",
   "metadata": {
    "ExecuteTime": {
     "end_time": "2022-02-19T13:24:03.421306Z",
     "start_time": "2022-02-19T13:24:03.413278Z"
    }
   },
   "outputs": [
    {
     "data": {
      "text/plain": [
       "array([[4, 2],\n",
       "       [3, 5]])"
      ]
     },
     "execution_count": 46,
     "metadata": {},
     "output_type": "execute_result"
    }
   ],
   "source": [
    "# 다음 데이터의 고유값(eigenvalue)과 고유벡터(eigenvector)를 구해보세요\n",
    "e = np.array([[4, 2],[3, 5]])\n",
    "e"
   ]
  },
  {
   "cell_type": "code",
   "execution_count": 49,
   "id": "45019404",
   "metadata": {
    "ExecuteTime": {
     "end_time": "2022-02-19T13:24:48.200210Z",
     "start_time": "2022-02-19T13:24:48.192179Z"
    }
   },
   "outputs": [],
   "source": [
    "w,v = np.linalg.eig(e)"
   ]
  },
  {
   "cell_type": "code",
   "execution_count": 50,
   "id": "d8eb3c9f",
   "metadata": {
    "ExecuteTime": {
     "end_time": "2022-02-19T13:24:49.745073Z",
     "start_time": "2022-02-19T13:24:49.735076Z"
    }
   },
   "outputs": [
    {
     "data": {
      "text/plain": [
       "array([2., 7.])"
      ]
     },
     "execution_count": 50,
     "metadata": {},
     "output_type": "execute_result"
    }
   ],
   "source": [
    "w"
   ]
  },
  {
   "cell_type": "code",
   "execution_count": 51,
   "id": "9d372ca0",
   "metadata": {
    "ExecuteTime": {
     "end_time": "2022-02-19T13:24:51.461290Z",
     "start_time": "2022-02-19T13:24:51.449261Z"
    }
   },
   "outputs": [
    {
     "data": {
      "text/plain": [
       "array([[-0.70710678, -0.5547002 ],\n",
       "       [ 0.70710678, -0.83205029]])"
      ]
     },
     "execution_count": 51,
     "metadata": {},
     "output_type": "execute_result"
    }
   ],
   "source": [
    "v"
   ]
  },
  {
   "cell_type": "code",
   "execution_count": 52,
   "id": "73148ff2",
   "metadata": {
    "ExecuteTime": {
     "end_time": "2022-02-19T13:25:03.134903Z",
     "start_time": "2022-02-19T13:25:03.128936Z"
    }
   },
   "outputs": [
    {
     "data": {
      "text/plain": [
       "array([[3, 6],\n",
       "       [2, 3],\n",
       "       [0, 0],\n",
       "       [0, 0]])"
      ]
     },
     "execution_count": 52,
     "metadata": {},
     "output_type": "execute_result"
    }
   ],
   "source": [
    "A = np.array([[3,6], [2,3], [0,0], [0,0]])\n",
    "A"
   ]
  },
  {
   "cell_type": "code",
   "execution_count": 53,
   "id": "8c1a82b9",
   "metadata": {
    "ExecuteTime": {
     "end_time": "2022-02-19T13:25:20.859229Z",
     "start_time": "2022-02-19T13:25:20.794197Z"
    }
   },
   "outputs": [],
   "source": [
    "u, s, vh = np.linalg.svd(A)"
   ]
  },
  {
   "cell_type": "code",
   "execution_count": 55,
   "id": "5ff98b22",
   "metadata": {
    "ExecuteTime": {
     "end_time": "2022-02-19T13:25:27.924611Z",
     "start_time": "2022-02-19T13:25:27.915582Z"
    }
   },
   "outputs": [
    {
     "data": {
      "text/plain": [
       "array([[-0.8816746 , -0.47185793,  0.        ,  0.        ],\n",
       "       [-0.47185793,  0.8816746 ,  0.        ,  0.        ],\n",
       "       [ 0.        ,  0.        ,  1.        ,  0.        ],\n",
       "       [ 0.        ,  0.        ,  0.        ,  1.        ]])"
      ]
     },
     "execution_count": 55,
     "metadata": {},
     "output_type": "execute_result"
    }
   ],
   "source": [
    "u"
   ]
  },
  {
   "cell_type": "code",
   "execution_count": 56,
   "id": "2902681d",
   "metadata": {
    "ExecuteTime": {
     "end_time": "2022-02-19T13:25:29.500080Z",
     "start_time": "2022-02-19T13:25:29.493113Z"
    }
   },
   "outputs": [
    {
     "data": {
      "text/plain": [
       "array([7.60555128, 0.39444872])"
      ]
     },
     "execution_count": 56,
     "metadata": {},
     "output_type": "execute_result"
    }
   ],
   "source": [
    "s"
   ]
  },
  {
   "cell_type": "code",
   "execution_count": 58,
   "id": "5c42a8d7",
   "metadata": {
    "ExecuteTime": {
     "end_time": "2022-02-19T13:25:34.226872Z",
     "start_time": "2022-02-19T13:25:34.209908Z"
    }
   },
   "outputs": [
    {
     "data": {
      "text/plain": [
       "array([[-0.47185793, -0.8816746 ],\n",
       "       [ 0.8816746 , -0.47185793]])"
      ]
     },
     "execution_count": 58,
     "metadata": {},
     "output_type": "execute_result"
    }
   ],
   "source": [
    "vh"
   ]
  },
  {
   "cell_type": "code",
   "execution_count": 59,
   "id": "096fa27a",
   "metadata": {
    "ExecuteTime": {
     "end_time": "2022-02-19T13:26:16.998869Z",
     "start_time": "2022-02-19T13:26:16.993904Z"
    }
   },
   "outputs": [],
   "source": [
    "a = np.array([[4, 3], [3, 2]])\n",
    "b = np.array([23, 16])\n",
    "x = np.linalg.solve(a, b)"
   ]
  },
  {
   "cell_type": "code",
   "execution_count": 60,
   "id": "de4c3cc3",
   "metadata": {
    "ExecuteTime": {
     "end_time": "2022-02-19T13:26:18.392764Z",
     "start_time": "2022-02-19T13:26:18.374735Z"
    }
   },
   "outputs": [
    {
     "data": {
      "text/plain": [
       "array([2., 5.])"
      ]
     },
     "execution_count": 60,
     "metadata": {},
     "output_type": "execute_result"
    }
   ],
   "source": [
    "x"
   ]
  },
  {
   "cell_type": "code",
   "execution_count": 62,
   "id": "7e01e409",
   "metadata": {
    "ExecuteTime": {
     "end_time": "2022-02-19T13:26:45.027851Z",
     "start_time": "2022-02-19T13:26:45.023844Z"
    }
   },
   "outputs": [],
   "source": [
    "x = np.array([0, 1, 2, 3])\n",
    "y = np.array([-1, 0.2, 0.9, 2.1])"
   ]
  },
  {
   "cell_type": "code",
   "execution_count": 63,
   "id": "a3324dd1",
   "metadata": {
    "ExecuteTime": {
     "end_time": "2022-02-19T13:27:11.847125Z",
     "start_time": "2022-02-19T13:27:11.827129Z"
    }
   },
   "outputs": [
    {
     "data": {
      "text/plain": [
       "array([[0., 1.],\n",
       "       [1., 1.],\n",
       "       [2., 1.],\n",
       "       [3., 1.]])"
      ]
     },
     "execution_count": 63,
     "metadata": {},
     "output_type": "execute_result"
    }
   ],
   "source": [
    "A = np.vstack([x, np.ones(len(x))]).T\n",
    "A"
   ]
  },
  {
   "cell_type": "code",
   "execution_count": 65,
   "id": "6d4b7d3f",
   "metadata": {
    "ExecuteTime": {
     "end_time": "2022-02-19T13:27:53.696013Z",
     "start_time": "2022-02-19T13:27:53.689016Z"
    }
   },
   "outputs": [
    {
     "name": "stdout",
     "output_type": "stream",
     "text": [
      "0.9999999999999997 -0.949999999999999\n"
     ]
    }
   ],
   "source": [
    "m, c = np.linalg.lstsq(A, y, rcond=None)[0]\n",
    "print(m, c)"
   ]
  },
  {
   "cell_type": "code",
   "execution_count": 71,
   "id": "7a20854c",
   "metadata": {
    "ExecuteTime": {
     "end_time": "2022-02-19T13:29:38.882718Z",
     "start_time": "2022-02-19T13:29:38.767717Z"
    }
   },
   "outputs": [
    {
     "data": {
      "image/png": "[encoded data removed]",
      "text/plain": [
       "<Figure size 432x288 with 1 Axes>"
      ]
     },
     "metadata": {
      "needs_background": "light"
     },
     "output_type": "display_data"
    }
   ],
   "source": [
    "import matplotlib.pyplot as plt\n",
    "plt.plot(x, y,'o' , label = 'Original data', markersize =10)\n",
    "plt.plot(x, m*x + c , 'r', label = 'Faitted Line')\n",
    "plt.legend()\n",
    "plt.show()"
   ]
  },
  {
   "cell_type": "markdown",
   "id": "ccf20c52",
   "metadata": {},
   "source": [
    "## 과제 4"
   ]
  },
  {
   "cell_type": "code",
   "execution_count": 73,
   "id": "d8431c7e",
   "metadata": {
    "ExecuteTime": {
     "end_time": "2022-02-19T13:30:05.041803Z",
     "start_time": "2022-02-19T13:30:04.342635Z"
    }
   },
   "outputs": [],
   "source": [
    "import pandas as pd\n",
    "music_df = pd.DataFrame({'music_id': [1, 2, 3, 4, 5],\n",
    "                         'music_genre': ['rock',\n",
    "                                         'disco',\n",
    "                                         'pop',\n",
    "                                         'rock',\n",
    "                                         'pop']})"
   ]
  },
  {
   "cell_type": "code",
   "execution_count": 74,
   "id": "225c460f",
   "metadata": {
    "ExecuteTime": {
     "end_time": "2022-02-19T13:30:09.177491Z",
     "start_time": "2022-02-19T13:30:09.151495Z"
    }
   },
   "outputs": [
    {
     "data": {
      "text/html": [
       "<div>\n",
       "<style scoped>\n",
       "    .dataframe tbody tr th:only-of-type {\n",
       "        vertical-align: middle;\n",
       "    }\n",
       "\n",
       "    .dataframe tbody tr th {\n",
       "        vertical-align: top;\n",
       "    }\n",
       "\n",
       "    .dataframe thead th {\n",
       "        text-align: right;\n",
       "    }\n",
       "</style>\n",
       "<table border=\"1\" class=\"dataframe\">\n",
       "  <thead>\n",
       "    <tr style=\"text-align: right;\">\n",
       "      <th></th>\n",
       "      <th>music_id</th>\n",
       "      <th>music_genre</th>\n",
       "    </tr>\n",
       "  </thead>\n",
       "  <tbody>\n",
       "    <tr>\n",
       "      <th>0</th>\n",
       "      <td>1</td>\n",
       "      <td>rock</td>\n",
       "    </tr>\n",
       "    <tr>\n",
       "      <th>1</th>\n",
       "      <td>2</td>\n",
       "      <td>disco</td>\n",
       "    </tr>\n",
       "    <tr>\n",
       "      <th>2</th>\n",
       "      <td>3</td>\n",
       "      <td>pop</td>\n",
       "    </tr>\n",
       "    <tr>\n",
       "      <th>3</th>\n",
       "      <td>4</td>\n",
       "      <td>rock</td>\n",
       "    </tr>\n",
       "    <tr>\n",
       "      <th>4</th>\n",
       "      <td>5</td>\n",
       "      <td>pop</td>\n",
       "    </tr>\n",
       "  </tbody>\n",
       "</table>\n",
       "</div>"
      ],
      "text/plain": [
       "   music_id music_genre\n",
       "0         1        rock\n",
       "1         2       disco\n",
       "2         3         pop\n",
       "3         4        rock\n",
       "4         5         pop"
      ]
     },
     "execution_count": 74,
     "metadata": {},
     "output_type": "execute_result"
    }
   ],
   "source": [
    "music_df"
   ]
  },
  {
   "cell_type": "code",
   "execution_count": 79,
   "id": "028e4f6b",
   "metadata": {
    "ExecuteTime": {
     "end_time": "2022-02-19T13:32:09.738325Z",
     "start_time": "2022-02-19T13:32:09.727324Z"
    }
   },
   "outputs": [
    {
     "data": {
      "text/html": [
       "<div>\n",
       "<style scoped>\n",
       "    .dataframe tbody tr th:only-of-type {\n",
       "        vertical-align: middle;\n",
       "    }\n",
       "\n",
       "    .dataframe tbody tr th {\n",
       "        vertical-align: top;\n",
       "    }\n",
       "\n",
       "    .dataframe thead th {\n",
       "        text-align: right;\n",
       "    }\n",
       "</style>\n",
       "<table border=\"1\" class=\"dataframe\">\n",
       "  <thead>\n",
       "    <tr style=\"text-align: right;\">\n",
       "      <th></th>\n",
       "      <th>music_id</th>\n",
       "      <th>music_genre_disco</th>\n",
       "      <th>music_genre_pop</th>\n",
       "      <th>music_genre_rock</th>\n",
       "    </tr>\n",
       "  </thead>\n",
       "  <tbody>\n",
       "    <tr>\n",
       "      <th>0</th>\n",
       "      <td>1</td>\n",
       "      <td>0</td>\n",
       "      <td>0</td>\n",
       "      <td>1</td>\n",
       "    </tr>\n",
       "    <tr>\n",
       "      <th>1</th>\n",
       "      <td>2</td>\n",
       "      <td>1</td>\n",
       "      <td>0</td>\n",
       "      <td>0</td>\n",
       "    </tr>\n",
       "    <tr>\n",
       "      <th>2</th>\n",
       "      <td>3</td>\n",
       "      <td>0</td>\n",
       "      <td>1</td>\n",
       "      <td>0</td>\n",
       "    </tr>\n",
       "    <tr>\n",
       "      <th>3</th>\n",
       "      <td>4</td>\n",
       "      <td>0</td>\n",
       "      <td>0</td>\n",
       "      <td>1</td>\n",
       "    </tr>\n",
       "    <tr>\n",
       "      <th>4</th>\n",
       "      <td>5</td>\n",
       "      <td>0</td>\n",
       "      <td>1</td>\n",
       "      <td>0</td>\n",
       "    </tr>\n",
       "  </tbody>\n",
       "</table>\n",
       "</div>"
      ],
      "text/plain": [
       "   music_id  music_genre_disco  music_genre_pop  music_genre_rock\n",
       "0         1                  0                0                 1\n",
       "1         2                  1                0                 0\n",
       "2         3                  0                1                 0\n",
       "3         4                  0                0                 1\n",
       "4         5                  0                1                 0"
      ]
     },
     "execution_count": 79,
     "metadata": {},
     "output_type": "execute_result"
    }
   ],
   "source": [
    "pd.get_dummies(music_df, prefix=('music_genre'))"
   ]
  },
  {
   "cell_type": "code",
   "execution_count": 85,
   "id": "5d811611",
   "metadata": {
    "ExecuteTime": {
     "end_time": "2022-02-19T13:33:45.335573Z",
     "start_time": "2022-02-19T13:33:45.323609Z"
    }
   },
   "outputs": [
    {
     "data": {
      "text/html": [
       "<div>\n",
       "<style scoped>\n",
       "    .dataframe tbody tr th:only-of-type {\n",
       "        vertical-align: middle;\n",
       "    }\n",
       "\n",
       "    .dataframe tbody tr th {\n",
       "        vertical-align: top;\n",
       "    }\n",
       "\n",
       "    .dataframe thead th {\n",
       "        text-align: right;\n",
       "    }\n",
       "</style>\n",
       "<table border=\"1\" class=\"dataframe\">\n",
       "  <thead>\n",
       "    <tr style=\"text-align: right;\">\n",
       "      <th></th>\n",
       "      <th>music_id</th>\n",
       "      <th>music_genre</th>\n",
       "    </tr>\n",
       "  </thead>\n",
       "  <tbody>\n",
       "    <tr>\n",
       "      <th>0</th>\n",
       "      <td>1</td>\n",
       "      <td>rock|punk rock|heavy metal</td>\n",
       "    </tr>\n",
       "    <tr>\n",
       "      <th>1</th>\n",
       "      <td>2</td>\n",
       "      <td>hip hop|reggae</td>\n",
       "    </tr>\n",
       "    <tr>\n",
       "      <th>2</th>\n",
       "      <td>3</td>\n",
       "      <td>pop|jazz|blues</td>\n",
       "    </tr>\n",
       "    <tr>\n",
       "      <th>3</th>\n",
       "      <td>4</td>\n",
       "      <td>disco|techo</td>\n",
       "    </tr>\n",
       "    <tr>\n",
       "      <th>4</th>\n",
       "      <td>5</td>\n",
       "      <td>rhythm and blues|blues|jazz</td>\n",
       "    </tr>\n",
       "  </tbody>\n",
       "</table>\n",
       "</div>"
      ],
      "text/plain": [
       "   music_id                  music_genre\n",
       "0         1   rock|punk rock|heavy metal\n",
       "1         2               hip hop|reggae\n",
       "2         3               pop|jazz|blues\n",
       "3         4                  disco|techo\n",
       "4         5  rhythm and blues|blues|jazz"
      ]
     },
     "execution_count": 85,
     "metadata": {},
     "output_type": "execute_result"
    }
   ],
   "source": [
    "music_multi_df = pd.DataFrame({'music_id': [1, 2, 3, 4, 5], \n",
    "                          'music_genre': ['rock|punk rock|heavy metal', \n",
    "                           'hip hop|reggae', \n",
    "                           'pop|jazz|blues', \n",
    "                           'disco|techo', \n",
    "                           'rhythm and blues|blues|jazz']}\n",
    "                        , columns = ['music_id', 'music_genre'])\n",
    "music_multi_df\n",
    "\n",
    "\n",
    "# 출처: https://rfriend.tistory.com/381?category=675917 [R, Python 분석과 프로그래밍의 친구 (by R Friend)]"
   ]
  },
  {
   "cell_type": "code",
   "execution_count": 86,
   "id": "b14300f4",
   "metadata": {
    "ExecuteTime": {
     "end_time": "2022-02-19T13:34:13.689343Z",
     "start_time": "2022-02-19T13:34:13.684375Z"
    }
   },
   "outputs": [],
   "source": [
    "music_genre_iter = (set(x.split('|')) for x in music_multi_df.music_genre)\n",
    "music_genre_set = sorted(set.union(*music_genre_iter))"
   ]
  },
  {
   "cell_type": "code",
   "execution_count": 87,
   "id": "a5eb6816",
   "metadata": {
    "ExecuteTime": {
     "end_time": "2022-02-19T13:34:17.090297Z",
     "start_time": "2022-02-19T13:34:17.082269Z"
    }
   },
   "outputs": [
    {
     "data": {
      "text/plain": [
       "['blues',\n",
       " 'disco',\n",
       " 'heavy metal',\n",
       " 'hip hop',\n",
       " 'jazz',\n",
       " 'pop',\n",
       " 'punk rock',\n",
       " 'reggae',\n",
       " 'rhythm and blues',\n",
       " 'rock',\n",
       " 'techo']"
      ]
     },
     "execution_count": 87,
     "metadata": {},
     "output_type": "execute_result"
    }
   ],
   "source": [
    "music_genre_set"
   ]
  },
  {
   "cell_type": "code",
   "execution_count": 90,
   "id": "5da000c0",
   "metadata": {
    "ExecuteTime": {
     "end_time": "2022-02-19T13:34:50.834840Z",
     "start_time": "2022-02-19T13:34:50.814817Z"
    }
   },
   "outputs": [
    {
     "data": {
      "text/html": [
       "<div>\n",
       "<style scoped>\n",
       "    .dataframe tbody tr th:only-of-type {\n",
       "        vertical-align: middle;\n",
       "    }\n",
       "\n",
       "    .dataframe tbody tr th {\n",
       "        vertical-align: top;\n",
       "    }\n",
       "\n",
       "    .dataframe thead th {\n",
       "        text-align: right;\n",
       "    }\n",
       "</style>\n",
       "<table border=\"1\" class=\"dataframe\">\n",
       "  <thead>\n",
       "    <tr style=\"text-align: right;\">\n",
       "      <th></th>\n",
       "      <th>blues</th>\n",
       "      <th>disco</th>\n",
       "      <th>heavy metal</th>\n",
       "      <th>hip hop</th>\n",
       "      <th>jazz</th>\n",
       "      <th>pop</th>\n",
       "      <th>punk rock</th>\n",
       "      <th>reggae</th>\n",
       "      <th>rhythm and blues</th>\n",
       "      <th>rock</th>\n",
       "      <th>techo</th>\n",
       "    </tr>\n",
       "  </thead>\n",
       "  <tbody>\n",
       "    <tr>\n",
       "      <th>0</th>\n",
       "      <td>0.0</td>\n",
       "      <td>0.0</td>\n",
       "      <td>0.0</td>\n",
       "      <td>0.0</td>\n",
       "      <td>0.0</td>\n",
       "      <td>0.0</td>\n",
       "      <td>0.0</td>\n",
       "      <td>0.0</td>\n",
       "      <td>0.0</td>\n",
       "      <td>0.0</td>\n",
       "      <td>0.0</td>\n",
       "    </tr>\n",
       "    <tr>\n",
       "      <th>1</th>\n",
       "      <td>0.0</td>\n",
       "      <td>0.0</td>\n",
       "      <td>0.0</td>\n",
       "      <td>0.0</td>\n",
       "      <td>0.0</td>\n",
       "      <td>0.0</td>\n",
       "      <td>0.0</td>\n",
       "      <td>0.0</td>\n",
       "      <td>0.0</td>\n",
       "      <td>0.0</td>\n",
       "      <td>0.0</td>\n",
       "    </tr>\n",
       "    <tr>\n",
       "      <th>2</th>\n",
       "      <td>0.0</td>\n",
       "      <td>0.0</td>\n",
       "      <td>0.0</td>\n",
       "      <td>0.0</td>\n",
       "      <td>0.0</td>\n",
       "      <td>0.0</td>\n",
       "      <td>0.0</td>\n",
       "      <td>0.0</td>\n",
       "      <td>0.0</td>\n",
       "      <td>0.0</td>\n",
       "      <td>0.0</td>\n",
       "    </tr>\n",
       "    <tr>\n",
       "      <th>3</th>\n",
       "      <td>0.0</td>\n",
       "      <td>0.0</td>\n",
       "      <td>0.0</td>\n",
       "      <td>0.0</td>\n",
       "      <td>0.0</td>\n",
       "      <td>0.0</td>\n",
       "      <td>0.0</td>\n",
       "      <td>0.0</td>\n",
       "      <td>0.0</td>\n",
       "      <td>0.0</td>\n",
       "      <td>0.0</td>\n",
       "    </tr>\n",
       "    <tr>\n",
       "      <th>4</th>\n",
       "      <td>0.0</td>\n",
       "      <td>0.0</td>\n",
       "      <td>0.0</td>\n",
       "      <td>0.0</td>\n",
       "      <td>0.0</td>\n",
       "      <td>0.0</td>\n",
       "      <td>0.0</td>\n",
       "      <td>0.0</td>\n",
       "      <td>0.0</td>\n",
       "      <td>0.0</td>\n",
       "      <td>0.0</td>\n",
       "    </tr>\n",
       "  </tbody>\n",
       "</table>\n",
       "</div>"
      ],
      "text/plain": [
       "   blues  disco  heavy metal  hip hop  jazz  pop  punk rock  reggae  \\\n",
       "0    0.0    0.0          0.0      0.0   0.0  0.0        0.0     0.0   \n",
       "1    0.0    0.0          0.0      0.0   0.0  0.0        0.0     0.0   \n",
       "2    0.0    0.0          0.0      0.0   0.0  0.0        0.0     0.0   \n",
       "3    0.0    0.0          0.0      0.0   0.0  0.0        0.0     0.0   \n",
       "4    0.0    0.0          0.0      0.0   0.0  0.0        0.0     0.0   \n",
       "\n",
       "   rhythm and blues  rock  techo  \n",
       "0               0.0   0.0    0.0  \n",
       "1               0.0   0.0    0.0  \n",
       "2               0.0   0.0    0.0  \n",
       "3               0.0   0.0    0.0  \n",
       "4               0.0   0.0    0.0  "
      ]
     },
     "execution_count": 90,
     "metadata": {},
     "output_type": "execute_result"
    }
   ],
   "source": [
    "indicator_mat = pd.DataFrame(np.zeros((len(music_multi_df), len(music_genre_set))), columns=music_genre_set)\n",
    "indicator_mat"
   ]
  },
  {
   "cell_type": "code",
   "execution_count": 91,
   "id": "cdc861f7",
   "metadata": {
    "ExecuteTime": {
     "end_time": "2022-02-19T13:35:38.390446Z",
     "start_time": "2022-02-19T13:35:38.363415Z"
    }
   },
   "outputs": [
    {
     "data": {
      "text/html": [
       "<div>\n",
       "<style scoped>\n",
       "    .dataframe tbody tr th:only-of-type {\n",
       "        vertical-align: middle;\n",
       "    }\n",
       "\n",
       "    .dataframe tbody tr th {\n",
       "        vertical-align: top;\n",
       "    }\n",
       "\n",
       "    .dataframe thead th {\n",
       "        text-align: right;\n",
       "    }\n",
       "</style>\n",
       "<table border=\"1\" class=\"dataframe\">\n",
       "  <thead>\n",
       "    <tr style=\"text-align: right;\">\n",
       "      <th></th>\n",
       "      <th>blues</th>\n",
       "      <th>disco</th>\n",
       "      <th>heavy metal</th>\n",
       "      <th>hip hop</th>\n",
       "      <th>jazz</th>\n",
       "      <th>pop</th>\n",
       "      <th>punk rock</th>\n",
       "      <th>reggae</th>\n",
       "      <th>rhythm and blues</th>\n",
       "      <th>rock</th>\n",
       "      <th>techo</th>\n",
       "    </tr>\n",
       "  </thead>\n",
       "  <tbody>\n",
       "    <tr>\n",
       "      <th>0</th>\n",
       "      <td>0.0</td>\n",
       "      <td>0.0</td>\n",
       "      <td>1.0</td>\n",
       "      <td>0.0</td>\n",
       "      <td>0.0</td>\n",
       "      <td>0.0</td>\n",
       "      <td>1.0</td>\n",
       "      <td>0.0</td>\n",
       "      <td>0.0</td>\n",
       "      <td>1.0</td>\n",
       "      <td>0.0</td>\n",
       "    </tr>\n",
       "    <tr>\n",
       "      <th>1</th>\n",
       "      <td>0.0</td>\n",
       "      <td>0.0</td>\n",
       "      <td>0.0</td>\n",
       "      <td>1.0</td>\n",
       "      <td>0.0</td>\n",
       "      <td>0.0</td>\n",
       "      <td>0.0</td>\n",
       "      <td>1.0</td>\n",
       "      <td>0.0</td>\n",
       "      <td>0.0</td>\n",
       "      <td>0.0</td>\n",
       "    </tr>\n",
       "    <tr>\n",
       "      <th>2</th>\n",
       "      <td>1.0</td>\n",
       "      <td>0.0</td>\n",
       "      <td>0.0</td>\n",
       "      <td>0.0</td>\n",
       "      <td>1.0</td>\n",
       "      <td>1.0</td>\n",
       "      <td>0.0</td>\n",
       "      <td>0.0</td>\n",
       "      <td>0.0</td>\n",
       "      <td>0.0</td>\n",
       "      <td>0.0</td>\n",
       "    </tr>\n",
       "    <tr>\n",
       "      <th>3</th>\n",
       "      <td>0.0</td>\n",
       "      <td>1.0</td>\n",
       "      <td>0.0</td>\n",
       "      <td>0.0</td>\n",
       "      <td>0.0</td>\n",
       "      <td>0.0</td>\n",
       "      <td>0.0</td>\n",
       "      <td>0.0</td>\n",
       "      <td>0.0</td>\n",
       "      <td>0.0</td>\n",
       "      <td>1.0</td>\n",
       "    </tr>\n",
       "    <tr>\n",
       "      <th>4</th>\n",
       "      <td>1.0</td>\n",
       "      <td>0.0</td>\n",
       "      <td>0.0</td>\n",
       "      <td>0.0</td>\n",
       "      <td>1.0</td>\n",
       "      <td>0.0</td>\n",
       "      <td>0.0</td>\n",
       "      <td>0.0</td>\n",
       "      <td>1.0</td>\n",
       "      <td>0.0</td>\n",
       "      <td>0.0</td>\n",
       "    </tr>\n",
       "  </tbody>\n",
       "</table>\n",
       "</div>"
      ],
      "text/plain": [
       "   blues  disco  heavy metal  hip hop  jazz  pop  punk rock  reggae  \\\n",
       "0    0.0    0.0          1.0      0.0   0.0  0.0        1.0     0.0   \n",
       "1    0.0    0.0          0.0      1.0   0.0  0.0        0.0     1.0   \n",
       "2    1.0    0.0          0.0      0.0   1.0  1.0        0.0     0.0   \n",
       "3    0.0    1.0          0.0      0.0   0.0  0.0        0.0     0.0   \n",
       "4    1.0    0.0          0.0      0.0   1.0  0.0        0.0     0.0   \n",
       "\n",
       "   rhythm and blues  rock  techo  \n",
       "0               0.0   1.0    0.0  \n",
       "1               0.0   0.0    0.0  \n",
       "2               0.0   0.0    0.0  \n",
       "3               0.0   0.0    1.0  \n",
       "4               1.0   0.0    0.0  "
      ]
     },
     "execution_count": 91,
     "metadata": {},
     "output_type": "execute_result"
    }
   ],
   "source": [
    "for i, genre in enumerate(music_multi_df.music_genre):\n",
    "    indicator_mat.loc[i, genre.split('|')] =1\n",
    "indicator_mat"
   ]
  },
  {
   "cell_type": "code",
   "execution_count": 92,
   "id": "d11a5408",
   "metadata": {
    "ExecuteTime": {
     "end_time": "2022-02-19T13:35:53.473148Z",
     "start_time": "2022-02-19T13:35:53.458149Z"
    }
   },
   "outputs": [],
   "source": [
    "music_indicator_mat = music_multi_df.join(indicator_mat.add_prefix('genre_'))"
   ]
  },
  {
   "cell_type": "code",
   "execution_count": 93,
   "id": "7eaa31ec",
   "metadata": {
    "ExecuteTime": {
     "end_time": "2022-02-19T13:35:56.598027Z",
     "start_time": "2022-02-19T13:35:56.579026Z"
    }
   },
   "outputs": [
    {
     "data": {
      "text/html": [
       "<div>\n",
       "<style scoped>\n",
       "    .dataframe tbody tr th:only-of-type {\n",
       "        vertical-align: middle;\n",
       "    }\n",
       "\n",
       "    .dataframe tbody tr th {\n",
       "        vertical-align: top;\n",
       "    }\n",
       "\n",
       "    .dataframe thead th {\n",
       "        text-align: right;\n",
       "    }\n",
       "</style>\n",
       "<table border=\"1\" class=\"dataframe\">\n",
       "  <thead>\n",
       "    <tr style=\"text-align: right;\">\n",
       "      <th></th>\n",
       "      <th>music_id</th>\n",
       "      <th>music_genre</th>\n",
       "      <th>genre_blues</th>\n",
       "      <th>genre_disco</th>\n",
       "      <th>genre_heavy metal</th>\n",
       "      <th>genre_hip hop</th>\n",
       "      <th>genre_jazz</th>\n",
       "      <th>genre_pop</th>\n",
       "      <th>genre_punk rock</th>\n",
       "      <th>genre_reggae</th>\n",
       "      <th>genre_rhythm and blues</th>\n",
       "      <th>genre_rock</th>\n",
       "      <th>genre_techo</th>\n",
       "    </tr>\n",
       "  </thead>\n",
       "  <tbody>\n",
       "    <tr>\n",
       "      <th>0</th>\n",
       "      <td>1</td>\n",
       "      <td>rock|punk rock|heavy metal</td>\n",
       "      <td>0.0</td>\n",
       "      <td>0.0</td>\n",
       "      <td>1.0</td>\n",
       "      <td>0.0</td>\n",
       "      <td>0.0</td>\n",
       "      <td>0.0</td>\n",
       "      <td>1.0</td>\n",
       "      <td>0.0</td>\n",
       "      <td>0.0</td>\n",
       "      <td>1.0</td>\n",
       "      <td>0.0</td>\n",
       "    </tr>\n",
       "    <tr>\n",
       "      <th>1</th>\n",
       "      <td>2</td>\n",
       "      <td>hip hop|reggae</td>\n",
       "      <td>0.0</td>\n",
       "      <td>0.0</td>\n",
       "      <td>0.0</td>\n",
       "      <td>1.0</td>\n",
       "      <td>0.0</td>\n",
       "      <td>0.0</td>\n",
       "      <td>0.0</td>\n",
       "      <td>1.0</td>\n",
       "      <td>0.0</td>\n",
       "      <td>0.0</td>\n",
       "      <td>0.0</td>\n",
       "    </tr>\n",
       "    <tr>\n",
       "      <th>2</th>\n",
       "      <td>3</td>\n",
       "      <td>pop|jazz|blues</td>\n",
       "      <td>1.0</td>\n",
       "      <td>0.0</td>\n",
       "      <td>0.0</td>\n",
       "      <td>0.0</td>\n",
       "      <td>1.0</td>\n",
       "      <td>1.0</td>\n",
       "      <td>0.0</td>\n",
       "      <td>0.0</td>\n",
       "      <td>0.0</td>\n",
       "      <td>0.0</td>\n",
       "      <td>0.0</td>\n",
       "    </tr>\n",
       "    <tr>\n",
       "      <th>3</th>\n",
       "      <td>4</td>\n",
       "      <td>disco|techo</td>\n",
       "      <td>0.0</td>\n",
       "      <td>1.0</td>\n",
       "      <td>0.0</td>\n",
       "      <td>0.0</td>\n",
       "      <td>0.0</td>\n",
       "      <td>0.0</td>\n",
       "      <td>0.0</td>\n",
       "      <td>0.0</td>\n",
       "      <td>0.0</td>\n",
       "      <td>0.0</td>\n",
       "      <td>1.0</td>\n",
       "    </tr>\n",
       "    <tr>\n",
       "      <th>4</th>\n",
       "      <td>5</td>\n",
       "      <td>rhythm and blues|blues|jazz</td>\n",
       "      <td>1.0</td>\n",
       "      <td>0.0</td>\n",
       "      <td>0.0</td>\n",
       "      <td>0.0</td>\n",
       "      <td>1.0</td>\n",
       "      <td>0.0</td>\n",
       "      <td>0.0</td>\n",
       "      <td>0.0</td>\n",
       "      <td>1.0</td>\n",
       "      <td>0.0</td>\n",
       "      <td>0.0</td>\n",
       "    </tr>\n",
       "  </tbody>\n",
       "</table>\n",
       "</div>"
      ],
      "text/plain": [
       "   music_id                  music_genre  genre_blues  genre_disco  \\\n",
       "0         1   rock|punk rock|heavy metal          0.0          0.0   \n",
       "1         2               hip hop|reggae          0.0          0.0   \n",
       "2         3               pop|jazz|blues          1.0          0.0   \n",
       "3         4                  disco|techo          0.0          1.0   \n",
       "4         5  rhythm and blues|blues|jazz          1.0          0.0   \n",
       "\n",
       "   genre_heavy metal  genre_hip hop  genre_jazz  genre_pop  genre_punk rock  \\\n",
       "0                1.0            0.0         0.0        0.0              1.0   \n",
       "1                0.0            1.0         0.0        0.0              0.0   \n",
       "2                0.0            0.0         1.0        1.0              0.0   \n",
       "3                0.0            0.0         0.0        0.0              0.0   \n",
       "4                0.0            0.0         1.0        0.0              0.0   \n",
       "\n",
       "   genre_reggae  genre_rhythm and blues  genre_rock  genre_techo  \n",
       "0           0.0                     0.0         1.0          0.0  \n",
       "1           1.0                     0.0         0.0          0.0  \n",
       "2           0.0                     0.0         0.0          0.0  \n",
       "3           0.0                     0.0         0.0          1.0  \n",
       "4           0.0                     1.0         0.0          0.0  "
      ]
     },
     "execution_count": 93,
     "metadata": {},
     "output_type": "execute_result"
    }
   ],
   "source": [
    "music_indicator_mat"
   ]
  },
  {
   "cell_type": "code",
   "execution_count": null,
   "id": "26ca9106",
   "metadata": {},
   "outputs": [],
   "source": []
  }
 ],
 "metadata": {
  "kernelspec": {
   "display_name": "Python 3 (ipykernel)",
   "language": "python",
   "name": "python3"
  },
  "language_info": {
   "codemirror_mode": {
    "name": "ipython",
    "version": 3
   },
   "file_extension": ".py",
   "mimetype": "text/x-python",
   "name": "python",
   "nbconvert_exporter": "python",
   "pygments_lexer": "ipython3",
   "version": "3.9.7"
  },
  "toc": {
   "base_numbering": 1,
   "nav_menu": {},
   "number_sections": true,
   "sideBar": true,
   "skip_h1_title": false,
   "title_cell": "Table of Contents",
   "title_sidebar": "Contents",
   "toc_cell": false,
   "toc_position": {},
   "toc_section_display": true,
   "toc_window_display": false
  }
 },
 "nbformat": 4,
 "nbformat_minor": 5
}
