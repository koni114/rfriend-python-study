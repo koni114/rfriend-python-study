{
 "cells": [
  {
   "cell_type": "code",
   "execution_count": 1,
   "id": "0f061509",
   "metadata": {
    "ExecuteTime": {
     "end_time": "2022-02-10T12:46:03.827369Z",
     "start_time": "2022-02-10T12:46:02.717267Z"
    }
   },
   "outputs": [],
   "source": [
    "import numpy as np\n",
    "import pandas as pd"
   ]
  },
  {
   "cell_type": "markdown",
   "id": "554f0e76",
   "metadata": {},
   "source": [
    "# DAY 9\n",
    "## 과제 1"
   ]
  },
  {
   "cell_type": "code",
   "execution_count": 2,
   "id": "b14b16d4",
   "metadata": {
    "ExecuteTime": {
     "end_time": "2022-02-10T12:46:19.938836Z",
     "start_time": "2022-02-10T12:46:19.927808Z"
    }
   },
   "outputs": [],
   "source": [
    "arr = np.arange(20).reshape(5, 4)\n",
    "axis_ABC = np.array(['A', 'A', 'B', 'C', 'C'])"
   ]
  },
  {
   "cell_type": "code",
   "execution_count": 3,
   "id": "6dc479e2",
   "metadata": {
    "ExecuteTime": {
     "end_time": "2022-02-10T12:46:25.275579Z",
     "start_time": "2022-02-10T12:46:25.257561Z"
    }
   },
   "outputs": [
    {
     "data": {
      "text/plain": [
       "array([[ 0,  1,  2,  3],\n",
       "       [ 4,  5,  6,  7],\n",
       "       [ 8,  9, 10, 11],\n",
       "       [12, 13, 14, 15],\n",
       "       [16, 17, 18, 19]])"
      ]
     },
     "execution_count": 3,
     "metadata": {},
     "output_type": "execute_result"
    }
   ],
   "source": [
    "arr"
   ]
  },
  {
   "cell_type": "code",
   "execution_count": 4,
   "id": "40d58554",
   "metadata": {
    "ExecuteTime": {
     "end_time": "2022-02-10T12:46:30.854071Z",
     "start_time": "2022-02-10T12:46:30.837072Z"
    }
   },
   "outputs": [
    {
     "data": {
      "text/plain": [
       "array(['A', 'A', 'B', 'C', 'C'], dtype='<U1')"
      ]
     },
     "execution_count": 4,
     "metadata": {},
     "output_type": "execute_result"
    }
   ],
   "source": [
    "axis_ABC"
   ]
  },
  {
   "cell_type": "markdown",
   "id": "95f0354c",
   "metadata": {},
   "source": [
    "https://rfriend.tistory.com/291?category=675917"
   ]
  },
  {
   "cell_type": "code",
   "execution_count": 5,
   "id": "d71b6ae9",
   "metadata": {
    "ExecuteTime": {
     "end_time": "2022-02-10T12:53:16.022554Z",
     "start_time": "2022-02-10T12:53:16.016552Z"
    }
   },
   "outputs": [
    {
     "data": {
      "text/plain": [
       "array([[0, 1, 2, 3],\n",
       "       [4, 5, 6, 7]])"
      ]
     },
     "execution_count": 5,
     "metadata": {},
     "output_type": "execute_result"
    }
   ],
   "source": [
    "arr[axis_ABC == 'A', :]"
   ]
  },
  {
   "cell_type": "code",
   "execution_count": 7,
   "id": "730fe835",
   "metadata": {
    "ExecuteTime": {
     "end_time": "2022-02-10T12:54:02.807195Z",
     "start_time": "2022-02-10T12:54:02.798195Z"
    }
   },
   "outputs": [
    {
     "data": {
      "text/plain": [
       "array([[0, 1],\n",
       "       [4, 5]])"
      ]
     },
     "execution_count": 7,
     "metadata": {},
     "output_type": "execute_result"
    }
   ],
   "source": [
    "arr[axis_ABC == 'A',:2]"
   ]
  },
  {
   "cell_type": "code",
   "execution_count": 8,
   "id": "32954b66",
   "metadata": {
    "ExecuteTime": {
     "end_time": "2022-02-10T12:54:28.563041Z",
     "start_time": "2022-02-10T12:54:28.548042Z"
    }
   },
   "outputs": [
    {
     "data": {
      "text/plain": [
       "array([[ 8,  9, 10, 11],\n",
       "       [12, 13, 14, 15],\n",
       "       [16, 17, 18, 19]])"
      ]
     },
     "execution_count": 8,
     "metadata": {},
     "output_type": "execute_result"
    }
   ],
   "source": [
    "arr[axis_ABC != 'A',]"
   ]
  },
  {
   "cell_type": "code",
   "execution_count": 10,
   "id": "6a0f7150",
   "metadata": {
    "ExecuteTime": {
     "end_time": "2022-02-10T12:55:14.672384Z",
     "start_time": "2022-02-10T12:55:14.664354Z"
    }
   },
   "outputs": [
    {
     "data": {
      "text/plain": [
       "array([[12, 13, 14, 15],\n",
       "       [16, 17, 18, 19]])"
      ]
     },
     "execution_count": 10,
     "metadata": {},
     "output_type": "execute_result"
    }
   ],
   "source": [
    "arr[(axis_ABC != 'A') & (axis_ABC != 'B')]"
   ]
  },
  {
   "cell_type": "code",
   "execution_count": 20,
   "id": "0dbe16f2",
   "metadata": {
    "ExecuteTime": {
     "end_time": "2022-02-10T12:58:30.955739Z",
     "start_time": "2022-02-10T12:58:30.948741Z"
    }
   },
   "outputs": [
    {
     "data": {
      "text/plain": [
       "array([[ 0,  1,  2,  3],\n",
       "       [ 4,  5,  6,  7],\n",
       "       [ 8,  9, 10, 11],\n",
       "       [12, 13, 14, 15],\n",
       "       [16, 17, 18, 19]])"
      ]
     },
     "execution_count": 20,
     "metadata": {},
     "output_type": "execute_result"
    }
   ],
   "source": [
    "arr = np.arange(20).reshape(5, 4)\n",
    "arr"
   ]
  },
  {
   "cell_type": "code",
   "execution_count": 21,
   "id": "20dcf040",
   "metadata": {
    "ExecuteTime": {
     "end_time": "2022-02-10T12:58:33.712674Z",
     "start_time": "2022-02-10T12:58:33.705684Z"
    }
   },
   "outputs": [
    {
     "data": {
      "text/plain": [
       "array([[ 0,  0,  0,  0],\n",
       "       [ 0,  0,  0,  0],\n",
       "       [ 8,  9, 10, 11],\n",
       "       [12, 13, 14, 15],\n",
       "       [16, 17, 18, 19]])"
      ]
     },
     "execution_count": 21,
     "metadata": {},
     "output_type": "execute_result"
    }
   ],
   "source": [
    "arr[(axis_ABC == 'A')] = 0\n",
    "arr"
   ]
  },
  {
   "cell_type": "code",
   "execution_count": 23,
   "id": "78cfca9c",
   "metadata": {
    "ExecuteTime": {
     "end_time": "2022-02-10T12:59:37.611391Z",
     "start_time": "2022-02-10T12:59:37.605388Z"
    }
   },
   "outputs": [
    {
     "data": {
      "text/plain": [
       "array([[ 0,  0,  0,  0],\n",
       "       [ 0,  0,  0,  0],\n",
       "       [10, 10, 10, 10],\n",
       "       [10, 10, 10, 10],\n",
       "       [16, 17, 18, 19]])"
      ]
     },
     "execution_count": 23,
     "metadata": {},
     "output_type": "execute_result"
    }
   ],
   "source": [
    "arr[(arr >= 8) & (arr <= 15)] = 10\n",
    "\n",
    "arr"
   ]
  },
  {
   "cell_type": "markdown",
   "id": "20574121",
   "metadata": {},
   "source": [
    "## 과제 2"
   ]
  },
  {
   "cell_type": "markdown",
   "id": "1687234c",
   "metadata": {},
   "source": [
    "Fancy Indexing 이란 무엇인가요?\n",
    "+ 정수 배열을 인덱서로 사용해서 다채원 배열로 부터 인덱싱 하는 방법"
   ]
  },
  {
   "cell_type": "code",
   "execution_count": 24,
   "id": "9b1da972",
   "metadata": {
    "ExecuteTime": {
     "end_time": "2022-02-10T13:01:29.831941Z",
     "start_time": "2022-02-10T13:01:29.820944Z"
    }
   },
   "outputs": [
    {
     "data": {
      "text/plain": [
       "array([[ 0,  1,  2],\n",
       "       [ 3,  4,  5],\n",
       "       [ 6,  7,  8],\n",
       "       [ 9, 10, 11],\n",
       "       [12, 13, 14]])"
      ]
     },
     "execution_count": 24,
     "metadata": {},
     "output_type": "execute_result"
    }
   ],
   "source": [
    "a = np.arange(15).reshape(5, 3)\n",
    "a"
   ]
  },
  {
   "cell_type": "code",
   "execution_count": 25,
   "id": "7d0d7049",
   "metadata": {
    "ExecuteTime": {
     "end_time": "2022-02-10T13:01:41.180311Z",
     "start_time": "2022-02-10T13:01:41.167283Z"
    }
   },
   "outputs": [
    {
     "data": {
      "text/plain": [
       "array([[3, 4, 5],\n",
       "       [6, 7, 8]])"
      ]
     },
     "execution_count": 25,
     "metadata": {},
     "output_type": "execute_result"
    }
   ],
   "source": [
    "a[[1,2]]"
   ]
  },
  {
   "cell_type": "code",
   "execution_count": 26,
   "id": "c56958fe",
   "metadata": {
    "ExecuteTime": {
     "end_time": "2022-02-10T13:02:00.491731Z",
     "start_time": "2022-02-10T13:02:00.476748Z"
    }
   },
   "outputs": [
    {
     "data": {
      "text/plain": [
       "array([[12, 13, 14],\n",
       "       [ 9, 10, 11]])"
      ]
     },
     "execution_count": 26,
     "metadata": {},
     "output_type": "execute_result"
    }
   ],
   "source": [
    "a[[-1, -2]]"
   ]
  },
  {
   "cell_type": "code",
   "execution_count": 27,
   "id": "b7bcf8aa",
   "metadata": {
    "ExecuteTime": {
     "end_time": "2022-02-10T13:02:11.063279Z",
     "start_time": "2022-02-10T13:02:11.048277Z"
    }
   },
   "outputs": [
    {
     "data": {
      "text/plain": [
       "array([[ 0,  1,  2],\n",
       "       [ 3,  4,  5],\n",
       "       [ 6,  7,  8],\n",
       "       [ 9, 10, 11],\n",
       "       [12, 13, 14]])"
      ]
     },
     "execution_count": 27,
     "metadata": {},
     "output_type": "execute_result"
    }
   ],
   "source": [
    "a = np.arange(15).reshape(5, 3)\n",
    "a"
   ]
  },
  {
   "cell_type": "code",
   "execution_count": 30,
   "id": "d1875607",
   "metadata": {
    "ExecuteTime": {
     "end_time": "2022-02-10T13:02:53.951809Z",
     "start_time": "2022-02-10T13:02:53.941845Z"
    }
   },
   "outputs": [
    {
     "data": {
      "text/plain": [
       "array([[ 0,  2],\n",
       "       [ 6,  8],\n",
       "       [12, 14]])"
      ]
     },
     "execution_count": 30,
     "metadata": {},
     "output_type": "execute_result"
    }
   ],
   "source": [
    "a[[0, 2, 4]][:, [0, 2]]"
   ]
  },
  {
   "cell_type": "code",
   "execution_count": 33,
   "id": "1d9f4cd1",
   "metadata": {
    "ExecuteTime": {
     "end_time": "2022-02-10T13:03:43.978761Z",
     "start_time": "2022-02-10T13:03:43.967737Z"
    }
   },
   "outputs": [
    {
     "data": {
      "text/plain": [
       "array([[ 0,  1,  2],\n",
       "       [ 3,  4,  5],\n",
       "       [ 6,  7,  8],\n",
       "       [ 9, 10, 11],\n",
       "       [12, 13, 14]])"
      ]
     },
     "execution_count": 33,
     "metadata": {},
     "output_type": "execute_result"
    }
   ],
   "source": [
    "a = np.arange(15).reshape(5, 3)\n",
    "a"
   ]
  },
  {
   "cell_type": "code",
   "execution_count": 31,
   "id": "2077ce93",
   "metadata": {
    "ExecuteTime": {
     "end_time": "2022-02-10T13:03:06.779551Z",
     "start_time": "2022-02-10T13:03:06.769522Z"
    }
   },
   "outputs": [
    {
     "name": "stdout",
     "output_type": "stream",
     "text": [
      "[[ 0  1  2]\n",
      " [ 3  4  5]\n",
      " [ 6  7  8]\n",
      " [ 9 10 11]\n",
      " [12 13 14]]\n"
     ]
    }
   ],
   "source": [
    "a_copy = a[[0, 2, 4]][:, [0, 2]]\n",
    "a_copy[0, :] = 100\n",
    "print(a)"
   ]
  },
  {
   "cell_type": "code",
   "execution_count": 34,
   "id": "db8c58af",
   "metadata": {
    "ExecuteTime": {
     "end_time": "2022-02-10T13:04:38.694790Z",
     "start_time": "2022-02-10T13:04:38.686793Z"
    }
   },
   "outputs": [],
   "source": [
    "# 원본 배열에 아무런 영향이 없다. 기존의 인덱싱 &슬라이싱에서는 copy가 아니라 뷰를 생성.."
   ]
  },
  {
   "cell_type": "code",
   "execution_count": 35,
   "id": "ec1324ad",
   "metadata": {
    "ExecuteTime": {
     "end_time": "2022-02-10T13:04:52.169085Z",
     "start_time": "2022-02-10T13:04:52.162116Z"
    }
   },
   "outputs": [
    {
     "data": {
      "text/plain": [
       "array([[100, 100],\n",
       "       [  6,   8],\n",
       "       [ 12,  14]])"
      ]
     },
     "execution_count": 35,
     "metadata": {},
     "output_type": "execute_result"
    }
   ],
   "source": [
    "a_copy"
   ]
  },
  {
   "cell_type": "markdown",
   "id": "e1d6c6ef",
   "metadata": {},
   "source": [
    "## 과제 3"
   ]
  },
  {
   "cell_type": "code",
   "execution_count": 36,
   "id": "3478d40a",
   "metadata": {
    "ExecuteTime": {
     "end_time": "2022-02-10T13:05:24.515215Z",
     "start_time": "2022-02-10T13:05:24.496214Z"
    }
   },
   "outputs": [
    {
     "data": {
      "text/plain": [
       "array([-4.62, -2.19,  0.  ,  1.57,  3.4 ,  4.06])"
      ]
     },
     "execution_count": 36,
     "metadata": {},
     "output_type": "execute_result"
    }
   ],
   "source": [
    "a = np.array([-4.62, -2.19, 0, 1.57, 3.40, 4.06])\n",
    "a"
   ]
  },
  {
   "cell_type": "code",
   "execution_count": 44,
   "id": "67a72654",
   "metadata": {
    "ExecuteTime": {
     "end_time": "2022-02-10T13:07:11.957593Z",
     "start_time": "2022-02-10T13:07:11.940571Z"
    }
   },
   "outputs": [
    {
     "name": "stdout",
     "output_type": "stream",
     "text": [
      "[-5. -2.  0.  2.  3.  4.]\n",
      "[-4.6 -2.2  0.   1.6  3.4  4.1]\n",
      "[-5. -2.  0.  2.  3.  4.]\n",
      "[-4. -2.  0.  1.  3.  4.]\n",
      "[-4. -2.  0.  2.  4.  5.]\n",
      "[-5. -3.  0.  1.  3.  4.]\n",
      "[-4. -2.  0.  1.  3.  4.]\n"
     ]
    }
   ],
   "source": [
    "# 0.5 를 기준으로 올림 또는 내림\n",
    "print(np.around(a))\n",
    "# 소수점 첫 번째 자리수까지 반올림\n",
    "print(np.round_(a,1))\n",
    "# 가장 가까운 정수로 올림 혹은 내림\n",
    "print(np.rint(a))\n",
    "# '0' 방향으로 가장 가까운 정수로 올림 혹은 내림\n",
    "print(np.fix(a))\n",
    "# 각 원소 값보다 크거나 같은 가장 작은 정수 값으로 올림\n",
    "print(np.ceil(a))\n",
    "# 각 원소 값보다 작거나 같은 가장 큰 정수 값 (바닥 값)으로 내림\n",
    "print(np.floor(a))\n",
    "# 각 원소의 소수점 부분은 잘라버리고 정수값만 남김\n",
    "print(np.trunc(a))"
   ]
  },
  {
   "cell_type": "markdown",
   "id": "06c5d6a3",
   "metadata": {},
   "source": [
    "## 과제 4"
   ]
  },
  {
   "cell_type": "code",
   "execution_count": 45,
   "id": "e0a81d07",
   "metadata": {
    "ExecuteTime": {
     "end_time": "2022-02-10T13:07:33.317938Z",
     "start_time": "2022-02-10T13:07:33.310961Z"
    }
   },
   "outputs": [
    {
     "name": "stdout",
     "output_type": "stream",
     "text": [
      "[1 2 3 4]\n",
      "[[1 2]\n",
      " [3 4]]\n"
     ]
    }
   ],
   "source": [
    "b = np.array([1, 2, 3, 4])\n",
    "c = np.array([[1, 2], [3, 4]])\n",
    "\n",
    "print(b)\n",
    "print(c)"
   ]
  },
  {
   "cell_type": "code",
   "execution_count": 46,
   "id": "06193995",
   "metadata": {
    "ExecuteTime": {
     "end_time": "2022-02-10T13:08:01.467578Z",
     "start_time": "2022-02-10T13:08:01.453562Z"
    }
   },
   "outputs": [
    {
     "data": {
      "text/plain": [
       "24"
      ]
     },
     "execution_count": 46,
     "metadata": {},
     "output_type": "execute_result"
    }
   ],
   "source": [
    "#배열 원소 간 곱 범영 함수!!!\n",
    "np.prod(b)"
   ]
  },
  {
   "cell_type": "code",
   "execution_count": 47,
   "id": "80f51c2c",
   "metadata": {
    "ExecuteTime": {
     "end_time": "2022-02-10T13:08:07.944787Z",
     "start_time": "2022-02-10T13:08:07.933786Z"
    }
   },
   "outputs": [
    {
     "data": {
      "text/plain": [
       "24"
      ]
     },
     "execution_count": 47,
     "metadata": {},
     "output_type": "execute_result"
    }
   ],
   "source": [
    "np.prod(c)"
   ]
  },
  {
   "cell_type": "code",
   "execution_count": 48,
   "id": "d2fe0ea5",
   "metadata": {
    "ExecuteTime": {
     "end_time": "2022-02-10T13:08:51.218749Z",
     "start_time": "2022-02-10T13:08:51.209752Z"
    }
   },
   "outputs": [
    {
     "data": {
      "text/plain": [
       "array([3, 8])"
      ]
     },
     "execution_count": 48,
     "metadata": {},
     "output_type": "execute_result"
    }
   ],
   "source": [
    "np.prod(c, axis=0)"
   ]
  },
  {
   "cell_type": "code",
   "execution_count": 49,
   "id": "f261382d",
   "metadata": {
    "ExecuteTime": {
     "end_time": "2022-02-10T13:09:09.932005Z",
     "start_time": "2022-02-10T13:09:09.917004Z"
    }
   },
   "outputs": [
    {
     "data": {
      "text/plain": [
       "array([ 2, 12])"
      ]
     },
     "execution_count": 49,
     "metadata": {},
     "output_type": "execute_result"
    }
   ],
   "source": [
    "np.prod(c, axis=1)"
   ]
  },
  {
   "cell_type": "code",
   "execution_count": 50,
   "id": "a16f7fd3",
   "metadata": {
    "ExecuteTime": {
     "end_time": "2022-02-10T13:09:25.613612Z",
     "start_time": "2022-02-10T13:09:25.600585Z"
    }
   },
   "outputs": [
    {
     "data": {
      "text/plain": [
       "10"
      ]
     },
     "execution_count": 50,
     "metadata": {},
     "output_type": "execute_result"
    }
   ],
   "source": [
    "np.sum(b)"
   ]
  },
  {
   "cell_type": "code",
   "execution_count": 51,
   "id": "1cd9299c",
   "metadata": {
    "ExecuteTime": {
     "end_time": "2022-02-10T13:09:46.649136Z",
     "start_time": "2022-02-10T13:09:46.635135Z"
    }
   },
   "outputs": [
    {
     "data": {
      "text/plain": [
       "array([10])"
      ]
     },
     "execution_count": 51,
     "metadata": {},
     "output_type": "execute_result"
    }
   ],
   "source": [
    "np.sum(b, keepdims=True)"
   ]
  },
  {
   "cell_type": "code",
   "execution_count": 52,
   "id": "0808947b",
   "metadata": {
    "ExecuteTime": {
     "end_time": "2022-02-10T13:09:54.823945Z",
     "start_time": "2022-02-10T13:09:54.808948Z"
    }
   },
   "outputs": [
    {
     "data": {
      "text/plain": [
       "array([[ 1.,  2.],\n",
       "       [ 3., nan]])"
      ]
     },
     "execution_count": 52,
     "metadata": {},
     "output_type": "execute_result"
    }
   ],
   "source": [
    "d = np.array([[1, 2], [3, np.nan]])\n",
    "d"
   ]
  },
  {
   "cell_type": "code",
   "execution_count": 53,
   "id": "03378c1c",
   "metadata": {
    "ExecuteTime": {
     "end_time": "2022-02-10T13:10:20.379853Z",
     "start_time": "2022-02-10T13:10:20.372853Z"
    }
   },
   "outputs": [
    {
     "data": {
      "text/plain": [
       "array([3., 2.])"
      ]
     },
     "execution_count": 53,
     "metadata": {},
     "output_type": "execute_result"
    }
   ],
   "source": [
    "np.nanprod(d, axis =0)"
   ]
  },
  {
   "cell_type": "code",
   "execution_count": 54,
   "id": "960f3e0c",
   "metadata": {
    "ExecuteTime": {
     "end_time": "2022-02-10T13:10:27.737596Z",
     "start_time": "2022-02-10T13:10:27.730595Z"
    }
   },
   "outputs": [
    {
     "data": {
      "text/plain": [
       "array([2., 3.])"
      ]
     },
     "execution_count": 54,
     "metadata": {},
     "output_type": "execute_result"
    }
   ],
   "source": [
    "np.nanprod(d, axis =1)"
   ]
  },
  {
   "cell_type": "code",
   "execution_count": 55,
   "id": "1288b863",
   "metadata": {
    "ExecuteTime": {
     "end_time": "2022-02-10T13:10:56.167463Z",
     "start_time": "2022-02-10T13:10:56.147436Z"
    }
   },
   "outputs": [
    {
     "data": {
      "text/plain": [
       "array([3., 3.])"
      ]
     },
     "execution_count": 55,
     "metadata": {},
     "output_type": "execute_result"
    }
   ],
   "source": [
    "np.nansum(d, axis=1)"
   ]
  },
  {
   "cell_type": "code",
   "execution_count": 56,
   "id": "341ea2d3",
   "metadata": {
    "ExecuteTime": {
     "end_time": "2022-02-10T13:11:07.419753Z",
     "start_time": "2022-02-10T13:11:07.412722Z"
    }
   },
   "outputs": [
    {
     "name": "stdout",
     "output_type": "stream",
     "text": [
      "[1 2 3 4]\n",
      "[[1 2 3]\n",
      " [4 5 6]]\n"
     ]
    }
   ],
   "source": [
    "e = np.array([1, 2, 3, 4])\n",
    "f = np.array([[1, 2, 3], [4, 5, 6]])\n",
    "print(e)\n",
    "print(f)"
   ]
  },
  {
   "cell_type": "code",
   "execution_count": 57,
   "id": "10597acd",
   "metadata": {
    "ExecuteTime": {
     "end_time": "2022-02-10T13:11:48.732222Z",
     "start_time": "2022-02-10T13:11:48.717225Z"
    }
   },
   "outputs": [
    {
     "data": {
      "text/plain": [
       "array([ 1,  2,  6, 24], dtype=int32)"
      ]
     },
     "execution_count": 57,
     "metadata": {},
     "output_type": "execute_result"
    }
   ],
   "source": [
    "# 배열 원소 간 누적 곱하기 범용 함수\n",
    "np.cumprod(e)"
   ]
  },
  {
   "cell_type": "code",
   "execution_count": 59,
   "id": "0dc59e46",
   "metadata": {
    "ExecuteTime": {
     "end_time": "2022-02-10T13:12:14.019983Z",
     "start_time": "2022-02-10T13:12:14.012952Z"
    }
   },
   "outputs": [
    {
     "data": {
      "text/plain": [
       "array([[ 1,  2,  3],\n",
       "       [ 4, 10, 18]], dtype=int32)"
      ]
     },
     "execution_count": 59,
     "metadata": {},
     "output_type": "execute_result"
    }
   ],
   "source": [
    "np.cumprod(f, axis =0)"
   ]
  },
  {
   "cell_type": "code",
   "execution_count": 60,
   "id": "700e7952",
   "metadata": {
    "ExecuteTime": {
     "end_time": "2022-02-10T13:12:24.735937Z",
     "start_time": "2022-02-10T13:12:24.720909Z"
    }
   },
   "outputs": [
    {
     "data": {
      "text/plain": [
       "array([[  1,   2,   6],\n",
       "       [  4,  20, 120]], dtype=int32)"
      ]
     },
     "execution_count": 60,
     "metadata": {},
     "output_type": "execute_result"
    }
   ],
   "source": [
    "np.cumprod(f, axis =1)"
   ]
  },
  {
   "cell_type": "code",
   "execution_count": 61,
   "id": "7b7c4542",
   "metadata": {
    "ExecuteTime": {
     "end_time": "2022-02-10T13:12:53.935087Z",
     "start_time": "2022-02-10T13:12:53.916086Z"
    }
   },
   "outputs": [
    {
     "data": {
      "text/plain": [
       "array([[ 1,  3,  6],\n",
       "       [ 4,  9, 15]], dtype=int32)"
      ]
     },
     "execution_count": 61,
     "metadata": {},
     "output_type": "execute_result"
    }
   ],
   "source": [
    "np.cumsum(f, axis =1)"
   ]
  },
  {
   "cell_type": "code",
   "execution_count": 62,
   "id": "b943b91f",
   "metadata": {
    "ExecuteTime": {
     "end_time": "2022-02-10T13:13:00.511266Z",
     "start_time": "2022-02-10T13:13:00.494237Z"
    }
   },
   "outputs": [
    {
     "data": {
      "text/plain": [
       "array([ 1,  2,  4, 10, 13, 20])"
      ]
     },
     "execution_count": 62,
     "metadata": {},
     "output_type": "execute_result"
    }
   ],
   "source": [
    "g = np.array([1, 2, 4, 10, 13, 20])\n",
    "g"
   ]
  },
  {
   "cell_type": "code",
   "execution_count": 63,
   "id": "8491cd68",
   "metadata": {
    "ExecuteTime": {
     "end_time": "2022-02-10T13:13:23.384468Z",
     "start_time": "2022-02-10T13:13:23.367440Z"
    }
   },
   "outputs": [
    {
     "data": {
      "text/plain": [
       "array([1, 2, 6, 3, 7])"
      ]
     },
     "execution_count": 63,
     "metadata": {},
     "output_type": "execute_result"
    }
   ],
   "source": [
    "np.diff(g)"
   ]
  },
  {
   "cell_type": "code",
   "execution_count": 64,
   "id": "91fe0f0c",
   "metadata": {
    "ExecuteTime": {
     "end_time": "2022-02-10T13:13:34.484819Z",
     "start_time": "2022-02-10T13:13:34.472821Z"
    }
   },
   "outputs": [
    {
     "data": {
      "text/plain": [
       "array([ 1,  4, -3,  4])"
      ]
     },
     "execution_count": 64,
     "metadata": {},
     "output_type": "execute_result"
    }
   ],
   "source": [
    "np.diff(g, n=2)"
   ]
  },
  {
   "cell_type": "code",
   "execution_count": 65,
   "id": "7e561cb9",
   "metadata": {
    "ExecuteTime": {
     "end_time": "2022-02-10T13:13:44.376630Z",
     "start_time": "2022-02-10T13:13:44.362599Z"
    }
   },
   "outputs": [
    {
     "data": {
      "text/plain": [
       "array([[ 1,  2,  4,  8],\n",
       "       [10, 13, 20, 15]])"
      ]
     },
     "execution_count": 65,
     "metadata": {},
     "output_type": "execute_result"
    }
   ],
   "source": [
    "h = np.array([[ 1,  2,  4,  8],\n",
    "             [10, 13, 20, 15]])\n",
    "h"
   ]
  },
  {
   "cell_type": "code",
   "execution_count": 66,
   "id": "ca1d12da",
   "metadata": {
    "ExecuteTime": {
     "end_time": "2022-02-10T13:14:12.808155Z",
     "start_time": "2022-02-10T13:14:12.800167Z"
    }
   },
   "outputs": [
    {
     "data": {
      "text/plain": [
       "array([ 1,  2,  4,  2,  3,  7, -5])"
      ]
     },
     "execution_count": 66,
     "metadata": {},
     "output_type": "execute_result"
    }
   ],
   "source": [
    "np.ediff1d(h)\n",
    "# 차분한 결과를 1차원 배열로 반환해주는 함수"
   ]
  },
  {
   "cell_type": "markdown",
   "id": "4a64f388",
   "metadata": {},
   "source": [
    "## 과제 5"
   ]
  },
  {
   "cell_type": "code",
   "execution_count": 67,
   "id": "f72070ce",
   "metadata": {
    "ExecuteTime": {
     "end_time": "2022-02-10T13:14:42.104789Z",
     "start_time": "2022-02-10T13:14:42.095760Z"
    }
   },
   "outputs": [],
   "source": [
    "x = np.array([0.00001, 1, 2, 4, 10, 100])"
   ]
  },
  {
   "cell_type": "code",
   "execution_count": 68,
   "id": "17d13abb",
   "metadata": {
    "ExecuteTime": {
     "end_time": "2022-02-10T13:14:48.512089Z",
     "start_time": "2022-02-10T13:14:48.505090Z"
    }
   },
   "outputs": [
    {
     "data": {
      "text/plain": [
       "array([1.00001000e+00, 2.71828183e+00, 7.38905610e+00, 5.45981500e+01,\n",
       "       2.20264658e+04, 2.68811714e+43])"
      ]
     },
     "execution_count": 68,
     "metadata": {},
     "output_type": "execute_result"
    }
   ],
   "source": [
    "np.exp(x)"
   ]
  },
  {
   "cell_type": "code",
   "execution_count": 69,
   "id": "52043d9b",
   "metadata": {
    "ExecuteTime": {
     "end_time": "2022-02-10T13:15:12.547510Z",
     "start_time": "2022-02-10T13:15:12.536512Z"
    }
   },
   "outputs": [
    {
     "data": {
      "text/plain": [
       "array([-11.51292546,   0.        ,   0.69314718,   1.38629436,\n",
       "         2.30258509,   4.60517019])"
      ]
     },
     "execution_count": 69,
     "metadata": {},
     "output_type": "execute_result"
    }
   ],
   "source": [
    "np.log(x)"
   ]
  },
  {
   "cell_type": "code",
   "execution_count": 70,
   "id": "06aa8cde",
   "metadata": {
    "ExecuteTime": {
     "end_time": "2022-02-10T13:15:19.755385Z",
     "start_time": "2022-02-10T13:15:19.748390Z"
    }
   },
   "outputs": [
    {
     "data": {
      "text/plain": [
       "array([-5.        ,  0.        ,  0.30103   ,  0.60205999,  1.        ,\n",
       "        2.        ])"
      ]
     },
     "execution_count": 70,
     "metadata": {},
     "output_type": "execute_result"
    }
   ],
   "source": [
    "np.log10(x)"
   ]
  },
  {
   "cell_type": "code",
   "execution_count": 71,
   "id": "8e5e53a1",
   "metadata": {
    "ExecuteTime": {
     "end_time": "2022-02-10T13:15:25.212239Z",
     "start_time": "2022-02-10T13:15:25.206252Z"
    }
   },
   "outputs": [
    {
     "data": {
      "text/plain": [
       "array([-16.60964047,   0.        ,   1.        ,   2.        ,\n",
       "         3.32192809,   6.64385619])"
      ]
     },
     "execution_count": 71,
     "metadata": {},
     "output_type": "execute_result"
    }
   ],
   "source": [
    "np.log2(x)"
   ]
  },
  {
   "cell_type": "code",
   "execution_count": 72,
   "id": "55a1af9b",
   "metadata": {
    "ExecuteTime": {
     "end_time": "2022-02-10T13:15:35.762624Z",
     "start_time": "2022-02-10T13:15:35.745627Z"
    }
   },
   "outputs": [
    {
     "data": {
      "text/plain": [
       "array([9.99995000e-06, 6.93147181e-01, 1.09861229e+00, 1.60943791e+00,\n",
       "       2.39789527e+00, 4.61512052e+00])"
      ]
     },
     "execution_count": 72,
     "metadata": {},
     "output_type": "execute_result"
    }
   ],
   "source": [
    "np.log(x+1)"
   ]
  },
  {
   "cell_type": "code",
   "execution_count": null,
   "id": "a21c31c0",
   "metadata": {},
   "outputs": [],
   "source": []
  }
 ],
 "metadata": {
  "kernelspec": {
   "display_name": "Python 3 (ipykernel)",
   "language": "python",
   "name": "python3"
  },
  "language_info": {
   "codemirror_mode": {
    "name": "ipython",
    "version": 3
   },
   "file_extension": ".py",
   "mimetype": "text/x-python",
   "name": "python",
   "nbconvert_exporter": "python",
   "pygments_lexer": "ipython3",
   "version": "3.9.7"
  },
  "toc": {
   "base_numbering": 1,
   "nav_menu": {},
   "number_sections": true,
   "sideBar": true,
   "skip_h1_title": false,
   "title_cell": "Table of Contents",
   "title_sidebar": "Contents",
   "toc_cell": false,
   "toc_position": {},
   "toc_section_display": true,
   "toc_window_display": false
  }
 },
 "nbformat": 4,
 "nbformat_minor": 5
}
